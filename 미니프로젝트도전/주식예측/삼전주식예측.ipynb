{
 "cells": [
  {
   "cell_type": "code",
   "execution_count": 1,
   "id": "1ed066c8",
   "metadata": {},
   "outputs": [],
   "source": [
    "import pandas as pd\n",
    "import numpy as np\n",
    "import matplotlib.pyplot as plt\n",
    "from tensorflow.keras.models import Sequential\n",
    "from tensorflow.keras.layers import LSTM, Dropout, Dense, Activation\n",
    "import datetime"
   ]
  },
  {
   "cell_type": "markdown",
   "id": "d4a2e96e",
   "metadata": {},
   "source": [
    "### Load Dataset"
   ]
  },
  {
   "cell_type": "code",
   "execution_count": 2,
   "id": "9a2791fd",
   "metadata": {},
   "outputs": [
    {
     "data": {
      "text/html": [
       "<div>\n",
       "<style scoped>\n",
       "    .dataframe tbody tr th:only-of-type {\n",
       "        vertical-align: middle;\n",
       "    }\n",
       "\n",
       "    .dataframe tbody tr th {\n",
       "        vertical-align: top;\n",
       "    }\n",
       "\n",
       "    .dataframe thead th {\n",
       "        text-align: right;\n",
       "    }\n",
       "</style>\n",
       "<table border=\"1\" class=\"dataframe\">\n",
       "  <thead>\n",
       "    <tr style=\"text-align: right;\">\n",
       "      <th></th>\n",
       "      <th>Date</th>\n",
       "      <th>Open</th>\n",
       "      <th>High</th>\n",
       "      <th>Low</th>\n",
       "      <th>Close</th>\n",
       "      <th>Adj Close</th>\n",
       "      <th>Volume</th>\n",
       "    </tr>\n",
       "  </thead>\n",
       "  <tbody>\n",
       "    <tr>\n",
       "      <th>0</th>\n",
       "      <td>2017-05-29</td>\n",
       "      <td>46220.0</td>\n",
       "      <td>46400.0</td>\n",
       "      <td>45380.0</td>\n",
       "      <td>45620.0</td>\n",
       "      <td>39517.730469</td>\n",
       "      <td>8739550</td>\n",
       "    </tr>\n",
       "    <tr>\n",
       "      <th>1</th>\n",
       "      <td>2017-05-30</td>\n",
       "      <td>45520.0</td>\n",
       "      <td>45660.0</td>\n",
       "      <td>44480.0</td>\n",
       "      <td>44640.0</td>\n",
       "      <td>38668.828125</td>\n",
       "      <td>12433600</td>\n",
       "    </tr>\n",
       "    <tr>\n",
       "      <th>2</th>\n",
       "      <td>2017-05-31</td>\n",
       "      <td>44580.0</td>\n",
       "      <td>45020.0</td>\n",
       "      <td>44400.0</td>\n",
       "      <td>44700.0</td>\n",
       "      <td>38720.804688</td>\n",
       "      <td>18669100</td>\n",
       "    </tr>\n",
       "    <tr>\n",
       "      <th>3</th>\n",
       "      <td>2017-06-01</td>\n",
       "      <td>44860.0</td>\n",
       "      <td>44900.0</td>\n",
       "      <td>44400.0</td>\n",
       "      <td>44680.0</td>\n",
       "      <td>38703.468750</td>\n",
       "      <td>9753500</td>\n",
       "    </tr>\n",
       "    <tr>\n",
       "      <th>4</th>\n",
       "      <td>2017-06-02</td>\n",
       "      <td>45060.0</td>\n",
       "      <td>45960.0</td>\n",
       "      <td>45000.0</td>\n",
       "      <td>45960.0</td>\n",
       "      <td>39812.257813</td>\n",
       "      <td>12488750</td>\n",
       "    </tr>\n",
       "  </tbody>\n",
       "</table>\n",
       "</div>"
      ],
      "text/plain": [
       "         Date     Open     High      Low    Close     Adj Close    Volume\n",
       "0  2017-05-29  46220.0  46400.0  45380.0  45620.0  39517.730469   8739550\n",
       "1  2017-05-30  45520.0  45660.0  44480.0  44640.0  38668.828125  12433600\n",
       "2  2017-05-31  44580.0  45020.0  44400.0  44700.0  38720.804688  18669100\n",
       "3  2017-06-01  44860.0  44900.0  44400.0  44680.0  38703.468750   9753500\n",
       "4  2017-06-02  45060.0  45960.0  45000.0  45960.0  39812.257813  12488750"
      ]
     },
     "execution_count": 2,
     "metadata": {},
     "output_type": "execute_result"
    }
   ],
   "source": [
    "data = pd.read_csv('005930.KS.csv')\n",
    "data.head()"
   ]
  },
  {
   "cell_type": "markdown",
   "id": "4b9d1746",
   "metadata": {},
   "source": [
    "### Compute Mid Price"
   ]
  },
  {
   "cell_type": "code",
   "execution_count": 3,
   "id": "42bff47f",
   "metadata": {},
   "outputs": [],
   "source": [
    "high_prices = data['High'].values\n",
    "low_prices = data['Low'].values\n",
    "mid_prices = (high_prices + low_prices)/2"
   ]
  },
  {
   "cell_type": "markdown",
   "id": "768448b2",
   "metadata": {},
   "source": [
    "### Create Windows"
   ]
  },
  {
   "cell_type": "code",
   "execution_count": 4,
   "id": "afc247bc",
   "metadata": {},
   "outputs": [],
   "source": [
    "seq_len = 50 # 윈도우 사이즈 최근 50일보고 한개를 예측한다. 51개씩저장해야한다.\n",
    "sequence_length = seq_len + 1 # 51개 저장.\n",
    "\n",
    "result = []\n",
    "for index in range(len(mid_prices)-sequence_length):\n",
    "    result.append(mid_prices[index:index + sequence_length])"
   ]
  },
  {
   "cell_type": "markdown",
   "id": "41782030",
   "metadata": {},
   "source": [
    "### Normalize Data"
   ]
  },
  {
   "cell_type": "code",
   "execution_count": 5,
   "id": "c6786765",
   "metadata": {},
   "outputs": [
    {
     "data": {
      "text/plain": [
       "((1058, 50, 1), (117, 50, 1))"
      ]
     },
     "execution_count": 5,
     "metadata": {},
     "output_type": "execute_result"
    }
   ],
   "source": [
    "normalized_data = []\n",
    "for window in result:\n",
    "    normalized_window = [((float(p)/float(window[0]))-1)for p in window]\n",
    "    normalized_data.append(normalized_window)\n",
    "    \n",
    "result = np.array(normalized_data)\n",
    "\n",
    "# split train and test data\n",
    "row = int(round(result.shape[0]*0.9)) # 90퍼센트 트레이닝셋.\n",
    "train = result[:row,:]\n",
    "np.random.shuffle(train) # 트레이닝셋 순서 랜덤으로 셔플\n",
    "\n",
    "x_train = train[:, :-1]\n",
    "x_train = np.reshape(x_train,(x_train.shape[0],x_train.shape[1],1))\n",
    "y_train = train[:, -1]\n",
    "\n",
    "x_test = result[row:, :-1]\n",
    "x_test = np.reshape(x_test,(x_test.shape[0],x_test.shape[1],1))\n",
    "y_test = result[row:, -1]\n",
    "\n",
    "x_train.shape, x_test.shape "
   ]
  },
  {
   "cell_type": "markdown",
   "id": "3217e6fc",
   "metadata": {},
   "source": [
    "### Build a Model"
   ]
  },
  {
   "cell_type": "code",
   "execution_count": 6,
   "id": "79c39f6a",
   "metadata": {},
   "outputs": [
    {
     "name": "stdout",
     "output_type": "stream",
     "text": [
      "Model: \"sequential\"\n",
      "_________________________________________________________________\n",
      "Layer (type)                 Output Shape              Param #   \n",
      "=================================================================\n",
      "lstm (LSTM)                  (None, 50, 50)            10400     \n",
      "_________________________________________________________________\n",
      "lstm_1 (LSTM)                (None, 64)                29440     \n",
      "_________________________________________________________________\n",
      "dense (Dense)                (None, 1)                 65        \n",
      "=================================================================\n",
      "Total params: 39,905\n",
      "Trainable params: 39,905\n",
      "Non-trainable params: 0\n",
      "_________________________________________________________________\n"
     ]
    }
   ],
   "source": [
    "m = Sequential()\n",
    "m.add(LSTM(50,return_sequences=True,input_shape=(50,1)))\n",
    "m.add(LSTM(64,return_sequences=False))\n",
    "m.add(Dense(1,activation='linear'))\n",
    "m.compile(loss='mse',optimizer='rmsprop')\n",
    "m.summary()"
   ]
  },
  {
   "cell_type": "markdown",
   "id": "2487982a",
   "metadata": {},
   "source": [
    "### Training"
   ]
  },
  {
   "cell_type": "code",
   "execution_count": 7,
   "id": "9ac680f6",
   "metadata": {},
   "outputs": [
    {
     "name": "stdout",
     "output_type": "stream",
     "text": [
      "Epoch 1/20\n",
      "106/106 [==============================] - 5s 27ms/step - loss: 0.0020 - val_loss: 4.3819e-04\n",
      "Epoch 2/20\n",
      "106/106 [==============================] - 2s 22ms/step - loss: 9.8563e-04 - val_loss: 6.0325e-04\n",
      "Epoch 3/20\n",
      "106/106 [==============================] - 2s 22ms/step - loss: 6.7368e-04 - val_loss: 2.1447e-04\n",
      "Epoch 4/20\n",
      "106/106 [==============================] - 2s 23ms/step - loss: 5.7348e-04 - val_loss: 3.5657e-04\n",
      "Epoch 5/20\n",
      "106/106 [==============================] - 3s 24ms/step - loss: 4.5772e-04 - val_loss: 2.4358e-04\n",
      "Epoch 6/20\n",
      "106/106 [==============================] - 3s 24ms/step - loss: 4.0500e-04 - val_loss: 1.5265e-04\n",
      "Epoch 7/20\n",
      "106/106 [==============================] - 2s 23ms/step - loss: 3.6322e-04 - val_loss: 1.2056e-04\n",
      "Epoch 8/20\n",
      "106/106 [==============================] - 2s 23ms/step - loss: 2.9320e-04 - val_loss: 2.7162e-04\n",
      "Epoch 9/20\n",
      "106/106 [==============================] - 2s 23ms/step - loss: 3.1165e-04 - val_loss: 2.7973e-04\n",
      "Epoch 10/20\n",
      "106/106 [==============================] - 3s 24ms/step - loss: 2.9281e-04 - val_loss: 1.3581e-04\n",
      "Epoch 11/20\n",
      "106/106 [==============================] - 2s 22ms/step - loss: 3.0171e-04 - val_loss: 2.5958e-04\n",
      "Epoch 12/20\n",
      "106/106 [==============================] - 3s 24ms/step - loss: 2.9455e-04 - val_loss: 1.4152e-04\n",
      "Epoch 13/20\n",
      "106/106 [==============================] - 2s 23ms/step - loss: 2.9109e-04 - val_loss: 1.5240e-04\n",
      "Epoch 14/20\n",
      "106/106 [==============================] - 2s 23ms/step - loss: 2.8758e-04 - val_loss: 1.2673e-04\n",
      "Epoch 15/20\n",
      "106/106 [==============================] - 2s 22ms/step - loss: 2.9705e-04 - val_loss: 1.2337e-04\n",
      "Epoch 16/20\n",
      "106/106 [==============================] - 2s 23ms/step - loss: 2.9511e-04 - val_loss: 1.1585e-04\n",
      "Epoch 17/20\n",
      "106/106 [==============================] - 2s 22ms/step - loss: 2.8099e-04 - val_loss: 1.7659e-04\n",
      "Epoch 18/20\n",
      "106/106 [==============================] - 2s 22ms/step - loss: 2.7622e-04 - val_loss: 1.6778e-04\n",
      "Epoch 19/20\n",
      "106/106 [==============================] - 2s 22ms/step - loss: 2.7284e-04 - val_loss: 1.2263e-04\n",
      "Epoch 20/20\n",
      "106/106 [==============================] - 2s 23ms/step - loss: 2.8752e-04 - val_loss: 1.2536e-04\n"
     ]
    },
    {
     "data": {
      "text/plain": [
       "<tensorflow.python.keras.callbacks.History at 0x2bc95f34b50>"
      ]
     },
     "execution_count": 7,
     "metadata": {},
     "output_type": "execute_result"
    }
   ],
   "source": [
    "m.fit(x_train, y_train, validation_data=(x_test, y_test), batch_size=10, epochs=20)"
   ]
  },
  {
   "cell_type": "markdown",
   "id": "d2a36016",
   "metadata": {},
   "source": [
    "### Prediction"
   ]
  },
  {
   "cell_type": "code",
   "execution_count": 8,
   "id": "9b6b5ae8",
   "metadata": {},
   "outputs": [
    {
     "data": {
      "image/png": "[encoded data removed]",
      "text/plain": [
       "<Figure size 432x288 with 1 Axes>"
      ]
     },
     "metadata": {},
     "output_type": "display_data"
    }
   ],
   "source": [
    "pred = m.predict(x_test)\n",
    "fig = plt.figure(facecolor='white')\n",
    "ax = fig.add_subplot(111)\n",
    "ax.plot(y_test, label='True')\n",
    "ax.plot(pred, label='Prediction')\n",
    "ax.legend()\n",
    "plt.show()\n",
    "# 파랑색 - 실제데이터\n",
    "# 주황색 - 예측데이터"
   ]
  }
 ],
 "metadata": {
  "kernelspec": {
   "display_name": "Python 3",
   "language": "python",
   "name": "python3"
  },
  "language_info": {
   "codemirror_mode": {
    "name": "ipython",
    "version": 3
   },
   "file_extension": ".py",
   "mimetype": "text/x-python",
   "name": "python",
   "nbconvert_exporter": "python",
   "pygments_lexer": "ipython3",
   "version": "3.9.7"
  }
 },
 "nbformat": 4,
 "nbformat_minor": 5
}
