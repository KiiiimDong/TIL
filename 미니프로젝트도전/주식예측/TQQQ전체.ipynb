{
 "cells": [
  {
   "cell_type": "code",
   "execution_count": 1,
   "id": "020ffc56",
   "metadata": {},
   "outputs": [],
   "source": [
    "#!pip install pandasdatareader"
   ]
  },
  {
   "cell_type": "code",
   "execution_count": 2,
   "id": "45ccaf68",
   "metadata": {},
   "outputs": [],
   "source": [
    "#!pip install yfinance"
   ]
  },
  {
   "cell_type": "code",
   "execution_count": 3,
   "id": "d0ca9fa1",
   "metadata": {},
   "outputs": [],
   "source": [
    "#!pip install numpy==1.19.5"
   ]
  },
  {
   "cell_type": "code",
   "execution_count": 4,
   "id": "bec73f1b",
   "metadata": {},
   "outputs": [],
   "source": [
    "#!conda install numpy=1.19.5 -c conda-forge"
   ]
  },
  {
   "cell_type": "markdown",
   "id": "46106446",
   "metadata": {},
   "source": [
    "# 모듈로드"
   ]
  },
  {
   "cell_type": "code",
   "execution_count": 5,
   "id": "79dbd7fd",
   "metadata": {
    "scrolled": true
   },
   "outputs": [],
   "source": [
    "import pandas as pd\n",
    "import numpy as np\n",
    "import matplotlib.pyplot as plt\n",
    "from tensorflow.keras.models import Sequential\n",
    "from tensorflow.keras.layers import LSTM, Dropout, Dense, Activation\n",
    "import datetime\n",
    "import yfinance as yf"
   ]
  },
  {
   "cell_type": "markdown",
   "id": "0f368cc3",
   "metadata": {},
   "source": [
    "# 데이터 로드"
   ]
  },
  {
   "cell_type": "code",
   "execution_count": 6,
   "id": "f26011eb",
   "metadata": {},
   "outputs": [
    {
     "name": "stdout",
     "output_type": "stream",
     "text": [
      "[*********************100%***********************]  1 of 1 completed\n"
     ]
    },
    {
     "data": {
      "text/html": [
       "<div>\n",
       "<style scoped>\n",
       "    .dataframe tbody tr th:only-of-type {\n",
       "        vertical-align: middle;\n",
       "    }\n",
       "\n",
       "    .dataframe tbody tr th {\n",
       "        vertical-align: top;\n",
       "    }\n",
       "\n",
       "    .dataframe thead th {\n",
       "        text-align: right;\n",
       "    }\n",
       "</style>\n",
       "<table border=\"1\" class=\"dataframe\">\n",
       "  <thead>\n",
       "    <tr style=\"text-align: right;\">\n",
       "      <th></th>\n",
       "      <th>Open</th>\n",
       "      <th>High</th>\n",
       "      <th>Low</th>\n",
       "      <th>Close</th>\n",
       "      <th>Adj Close</th>\n",
       "      <th>Volume</th>\n",
       "    </tr>\n",
       "    <tr>\n",
       "      <th>Date</th>\n",
       "      <th></th>\n",
       "      <th></th>\n",
       "      <th></th>\n",
       "      <th></th>\n",
       "      <th></th>\n",
       "      <th></th>\n",
       "    </tr>\n",
       "  </thead>\n",
       "  <tbody>\n",
       "    <tr>\n",
       "      <th>2010-02-11</th>\n",
       "      <td>0.406875</td>\n",
       "      <td>0.434896</td>\n",
       "      <td>0.405573</td>\n",
       "      <td>0.432552</td>\n",
       "      <td>0.431471</td>\n",
       "      <td>3456000</td>\n",
       "    </tr>\n",
       "    <tr>\n",
       "      <th>2010-02-12</th>\n",
       "      <td>0.420781</td>\n",
       "      <td>0.438073</td>\n",
       "      <td>0.418333</td>\n",
       "      <td>0.434323</td>\n",
       "      <td>0.433238</td>\n",
       "      <td>8601600</td>\n",
       "    </tr>\n",
       "    <tr>\n",
       "      <th>2010-02-16</th>\n",
       "      <td>0.444531</td>\n",
       "      <td>0.452188</td>\n",
       "      <td>0.437552</td>\n",
       "      <td>0.451146</td>\n",
       "      <td>0.450019</td>\n",
       "      <td>9619200</td>\n",
       "    </tr>\n",
       "    <tr>\n",
       "      <th>2010-02-17</th>\n",
       "      <td>0.457188</td>\n",
       "      <td>0.458906</td>\n",
       "      <td>0.450313</td>\n",
       "      <td>0.458802</td>\n",
       "      <td>0.457656</td>\n",
       "      <td>19180800</td>\n",
       "    </tr>\n",
       "    <tr>\n",
       "      <th>2010-02-18</th>\n",
       "      <td>0.458333</td>\n",
       "      <td>0.470260</td>\n",
       "      <td>0.455573</td>\n",
       "      <td>0.467500</td>\n",
       "      <td>0.466332</td>\n",
       "      <td>38860800</td>\n",
       "    </tr>\n",
       "    <tr>\n",
       "      <th>...</th>\n",
       "      <td>...</td>\n",
       "      <td>...</td>\n",
       "      <td>...</td>\n",
       "      <td>...</td>\n",
       "      <td>...</td>\n",
       "      <td>...</td>\n",
       "    </tr>\n",
       "    <tr>\n",
       "      <th>2022-06-14</th>\n",
       "      <td>23.639999</td>\n",
       "      <td>23.870001</td>\n",
       "      <td>22.520000</td>\n",
       "      <td>23.230000</td>\n",
       "      <td>23.230000</td>\n",
       "      <td>196600500</td>\n",
       "    </tr>\n",
       "    <tr>\n",
       "      <th>2022-06-15</th>\n",
       "      <td>24.059999</td>\n",
       "      <td>25.920000</td>\n",
       "      <td>23.340000</td>\n",
       "      <td>24.900000</td>\n",
       "      <td>24.900000</td>\n",
       "      <td>274911500</td>\n",
       "    </tr>\n",
       "    <tr>\n",
       "      <th>2022-06-16</th>\n",
       "      <td>22.990000</td>\n",
       "      <td>23.120001</td>\n",
       "      <td>21.320000</td>\n",
       "      <td>21.860001</td>\n",
       "      <td>21.860001</td>\n",
       "      <td>212142200</td>\n",
       "    </tr>\n",
       "    <tr>\n",
       "      <th>2022-06-17</th>\n",
       "      <td>22.070000</td>\n",
       "      <td>23.280001</td>\n",
       "      <td>21.650000</td>\n",
       "      <td>22.670000</td>\n",
       "      <td>22.670000</td>\n",
       "      <td>220134700</td>\n",
       "    </tr>\n",
       "    <tr>\n",
       "      <th>2022-06-21</th>\n",
       "      <td>23.815001</td>\n",
       "      <td>24.974199</td>\n",
       "      <td>23.780001</td>\n",
       "      <td>24.844999</td>\n",
       "      <td>24.844999</td>\n",
       "      <td>74892970</td>\n",
       "    </tr>\n",
       "  </tbody>\n",
       "</table>\n",
       "<p>3111 rows × 6 columns</p>\n",
       "</div>"
      ],
      "text/plain": [
       "                 Open       High        Low      Close  Adj Close     Volume\n",
       "Date                                                                        \n",
       "2010-02-11   0.406875   0.434896   0.405573   0.432552   0.431471    3456000\n",
       "2010-02-12   0.420781   0.438073   0.418333   0.434323   0.433238    8601600\n",
       "2010-02-16   0.444531   0.452188   0.437552   0.451146   0.450019    9619200\n",
       "2010-02-17   0.457188   0.458906   0.450313   0.458802   0.457656   19180800\n",
       "2010-02-18   0.458333   0.470260   0.455573   0.467500   0.466332   38860800\n",
       "...               ...        ...        ...        ...        ...        ...\n",
       "2022-06-14  23.639999  23.870001  22.520000  23.230000  23.230000  196600500\n",
       "2022-06-15  24.059999  25.920000  23.340000  24.900000  24.900000  274911500\n",
       "2022-06-16  22.990000  23.120001  21.320000  21.860001  21.860001  212142200\n",
       "2022-06-17  22.070000  23.280001  21.650000  22.670000  22.670000  220134700\n",
       "2022-06-21  23.815001  24.974199  23.780001  24.844999  24.844999   74892970\n",
       "\n",
       "[3111 rows x 6 columns]"
      ]
     },
     "execution_count": 6,
     "metadata": {},
     "output_type": "execute_result"
    }
   ],
   "source": [
    "data = yf.download('TQQQ') # , start = '2020-01-01', end = '2021-01-01'\n",
    "data"
   ]
  },
  {
   "cell_type": "markdown",
   "id": "f616b863",
   "metadata": {},
   "source": [
    "# Close값 받아주기"
   ]
  },
  {
   "cell_type": "code",
   "execution_count": 7,
   "id": "dc4bbe78",
   "metadata": {},
   "outputs": [],
   "source": [
    "#high_prices = data['High'].values\n",
    "#low_prices = data['Low'].values\n",
    "mid_prices = data['Close'].values"
   ]
  },
  {
   "cell_type": "markdown",
   "id": "11f0aabf",
   "metadata": {},
   "source": [
    "# Create Windows(51개씩 데이터 끊어서 50개를 보고 1개예측)"
   ]
  },
  {
   "cell_type": "code",
   "execution_count": 8,
   "id": "efe628e4",
   "metadata": {},
   "outputs": [],
   "source": [
    "seq_len = 50 # 윈도우 사이즈 최근 50일보고 한개를 예측한다. 51개씩저장해야한다.\n",
    "sequence_length = seq_len + 1 # 51개 저장.\n",
    "\n",
    "result = []\n",
    "for index in range(len(mid_prices)-sequence_length):\n",
    "    result.append(mid_prices[index:index + sequence_length])"
   ]
  },
  {
   "cell_type": "markdown",
   "id": "dd0b9fa1",
   "metadata": {},
   "source": [
    "# Normalize Data"
   ]
  },
  {
   "cell_type": "code",
   "execution_count": 9,
   "id": "6b129052",
   "metadata": {},
   "outputs": [
    {
     "data": {
      "text/plain": [
       "((2754, 50, 1), (306, 50, 1))"
      ]
     },
     "execution_count": 9,
     "metadata": {},
     "output_type": "execute_result"
    }
   ],
   "source": [
    "normalized_data = []\n",
    "for window in result:\n",
    "    normalized_window = [((float(p)/float(window[0]))-1)for p in window]\n",
    "    normalized_data.append(normalized_window)\n",
    "    \n",
    "result = np.array(normalized_data)\n",
    "\n",
    "# split train and test data\n",
    "row = int(round(result.shape[0]*0.9)) # 90퍼센트 트레이닝셋.\n",
    "train = result[:row,:]\n",
    "np.random.shuffle(train) # 트레이닝셋 순서 랜덤으로 셔플\n",
    "\n",
    "x_train = train[:, :-1]\n",
    "x_train = np.reshape(x_train,(x_train.shape[0],x_train.shape[1],1))\n",
    "y_train = train[:, -1]\n",
    "\n",
    "x_test = result[row:, :-1]\n",
    "x_test = np.reshape(x_test,(x_test.shape[0],x_test.shape[1],1))\n",
    "y_test = result[row:, -1]\n",
    "\n",
    "x_train.shape, x_test.shape "
   ]
  },
  {
   "cell_type": "markdown",
   "id": "3f0a2453",
   "metadata": {},
   "source": [
    "# Build a Model"
   ]
  },
  {
   "cell_type": "code",
   "execution_count": 10,
   "id": "b7638c2f",
   "metadata": {},
   "outputs": [
    {
     "name": "stdout",
     "output_type": "stream",
     "text": [
      "Model: \"sequential\"\n",
      "_________________________________________________________________\n",
      "Layer (type)                 Output Shape              Param #   \n",
      "=================================================================\n",
      "lstm (LSTM)                  (None, 50, 50)            10400     \n",
      "_________________________________________________________________\n",
      "lstm_1 (LSTM)                (None, 64)                29440     \n",
      "_________________________________________________________________\n",
      "dense (Dense)                (None, 1)                 65        \n",
      "=================================================================\n",
      "Total params: 39,905\n",
      "Trainable params: 39,905\n",
      "Non-trainable params: 0\n",
      "_________________________________________________________________\n"
     ]
    }
   ],
   "source": [
    "m = Sequential()\n",
    "m.add(LSTM(50,return_sequences=True,input_shape=(50,1)))\n",
    "m.add(LSTM(64,return_sequences=False))\n",
    "m.add(Dense(1,activation='linear'))\n",
    "m.compile(loss='mse',optimizer='rmsprop')\n",
    "m.summary()"
   ]
  },
  {
   "cell_type": "markdown",
   "id": "60b6dd9d",
   "metadata": {},
   "source": [
    "# Training"
   ]
  },
  {
   "cell_type": "code",
   "execution_count": 11,
   "id": "1f03ce3b",
   "metadata": {},
   "outputs": [
    {
     "name": "stdout",
     "output_type": "stream",
     "text": [
      "Epoch 1/20\n",
      "276/276 [==============================] - 8s 22ms/step - loss: 0.0052 - val_loss: 0.0031\n",
      "Epoch 2/20\n",
      "276/276 [==============================] - 6s 20ms/step - loss: 0.0024 - val_loss: 0.0020\n",
      "Epoch 3/20\n",
      "276/276 [==============================] - 6s 21ms/step - loss: 0.0018 - val_loss: 0.0018\n",
      "Epoch 4/20\n",
      "276/276 [==============================] - 6s 20ms/step - loss: 0.0016 - val_loss: 0.0019\n",
      "Epoch 5/20\n",
      "276/276 [==============================] - 6s 20ms/step - loss: 0.0016 - val_loss: 0.0015\n",
      "Epoch 6/20\n",
      "276/276 [==============================] - 6s 21ms/step - loss: 0.0016 - val_loss: 0.0026\n",
      "Epoch 7/20\n",
      "276/276 [==============================] - 6s 22ms/step - loss: 0.0016 - val_loss: 0.0026\n",
      "Epoch 8/20\n",
      "276/276 [==============================] - 6s 21ms/step - loss: 0.0016 - val_loss: 0.0018\n",
      "Epoch 9/20\n",
      "276/276 [==============================] - 6s 21ms/step - loss: 0.0015 - val_loss: 0.0022\n",
      "Epoch 10/20\n",
      "276/276 [==============================] - 6s 20ms/step - loss: 0.0015 - val_loss: 0.0019\n",
      "Epoch 11/20\n",
      "276/276 [==============================] - 6s 21ms/step - loss: 0.0016 - val_loss: 0.0019\n",
      "Epoch 12/20\n",
      "276/276 [==============================] - 6s 21ms/step - loss: 0.0015 - val_loss: 0.0023\n",
      "Epoch 13/20\n",
      "276/276 [==============================] - 6s 21ms/step - loss: 0.0016 - val_loss: 0.0019\n",
      "Epoch 14/20\n",
      "276/276 [==============================] - 6s 22ms/step - loss: 0.0015 - val_loss: 0.0019\n",
      "Epoch 15/20\n",
      "276/276 [==============================] - 6s 21ms/step - loss: 0.0015 - val_loss: 0.0015\n",
      "Epoch 16/20\n",
      "276/276 [==============================] - 6s 21ms/step - loss: 0.0015 - val_loss: 0.0023\n",
      "Epoch 17/20\n",
      "276/276 [==============================] - 6s 21ms/step - loss: 0.0015 - val_loss: 0.0016\n",
      "Epoch 18/20\n",
      "276/276 [==============================] - 6s 20ms/step - loss: 0.0015 - val_loss: 0.0016\n",
      "Epoch 19/20\n",
      "276/276 [==============================] - 6s 21ms/step - loss: 0.0015 - val_loss: 0.0019\n",
      "Epoch 20/20\n",
      "276/276 [==============================] - 6s 21ms/step - loss: 0.0015 - val_loss: 0.0017\n"
     ]
    },
    {
     "data": {
      "text/plain": [
       "<tensorflow.python.keras.callbacks.History at 0x1d395491be0>"
      ]
     },
     "execution_count": 11,
     "metadata": {},
     "output_type": "execute_result"
    }
   ],
   "source": [
    "m.fit(x_train, y_train, validation_data=(x_test, y_test), batch_size=10, epochs=20)"
   ]
  },
  {
   "cell_type": "markdown",
   "id": "0f1c898b",
   "metadata": {},
   "source": [
    "# Prediction"
   ]
  },
  {
   "cell_type": "code",
   "execution_count": 12,
   "id": "2d5a2132",
   "metadata": {},
   "outputs": [
    {
     "data": {
      "image/png": "[encoded data removed]",
      "text/plain": [
       "<Figure size 432x288 with 1 Axes>"
      ]
     },
     "metadata": {},
     "output_type": "display_data"
    }
   ],
   "source": [
    "pred = m.predict(x_test)\n",
    "fig = plt.figure(facecolor='white')\n",
    "ax = fig.add_subplot(111)\n",
    "ax.plot(y_test, label='True')\n",
    "ax.plot(pred, label='Prediction')\n",
    "ax.legend()\n",
    "plt.show()\n",
    "# 파랑색 - 실제데이터\n",
    "# 주황색 - 예측데이터"
   ]
  }
 ],
 "metadata": {
  "kernelspec": {
   "display_name": "Python 3",
   "language": "python",
   "name": "python3"
  },
  "language_info": {
   "codemirror_mode": {
    "name": "ipython",
    "version": 3
   },
   "file_extension": ".py",
   "mimetype": "text/x-python",
   "name": "python",
   "nbconvert_exporter": "python",
   "pygments_lexer": "ipython3",
   "version": "3.9.7"
  }
 },
 "nbformat": 4,
 "nbformat_minor": 5
}
