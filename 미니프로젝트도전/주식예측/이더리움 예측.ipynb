{
 "cells": [
  {
   "cell_type": "code",
   "execution_count": 1,
   "id": "7133cbe8",
   "metadata": {},
   "outputs": [],
   "source": [
    "import pandas as pd\n",
    "import numpy as np\n",
    "import matplotlib.pyplot as plt\n",
    "from tensorflow.keras.models import Sequential\n",
    "from tensorflow.keras.layers import LSTM, Dropout, Dense, Activation\n",
    "import datetime"
   ]
  },
  {
   "cell_type": "markdown",
   "id": "727c9123",
   "metadata": {},
   "source": [
    "### Load Dataset"
   ]
  },
  {
   "cell_type": "code",
   "execution_count": 2,
   "id": "4e3167bb",
   "metadata": {},
   "outputs": [
    {
     "data": {
      "text/html": [
       "<div>\n",
       "<style scoped>\n",
       "    .dataframe tbody tr th:only-of-type {\n",
       "        vertical-align: middle;\n",
       "    }\n",
       "\n",
       "    .dataframe tbody tr th {\n",
       "        vertical-align: top;\n",
       "    }\n",
       "\n",
       "    .dataframe thead th {\n",
       "        text-align: right;\n",
       "    }\n",
       "</style>\n",
       "<table border=\"1\" class=\"dataframe\">\n",
       "  <thead>\n",
       "    <tr style=\"text-align: right;\">\n",
       "      <th></th>\n",
       "      <th>Date</th>\n",
       "      <th>Open</th>\n",
       "      <th>High</th>\n",
       "      <th>Low</th>\n",
       "      <th>Close</th>\n",
       "      <th>Volume</th>\n",
       "      <th>Market Cap</th>\n",
       "    </tr>\n",
       "  </thead>\n",
       "  <tbody>\n",
       "    <tr>\n",
       "      <th>0</th>\n",
       "      <td>26-May-21</td>\n",
       "      <td>$2,707.05</td>\n",
       "      <td>$2,911.74</td>\n",
       "      <td>$2,652.09</td>\n",
       "      <td>$2,888.70</td>\n",
       "      <td>$42,499,766,020</td>\n",
       "      <td>$335,196,485,646</td>\n",
       "    </tr>\n",
       "    <tr>\n",
       "      <th>1</th>\n",
       "      <td>27-May-21</td>\n",
       "      <td>$2,888.75</td>\n",
       "      <td>$2,888.75</td>\n",
       "      <td>$2,642.61</td>\n",
       "      <td>$2,736.49</td>\n",
       "      <td>$33,373,635,283</td>\n",
       "      <td>$317,571,010,585</td>\n",
       "    </tr>\n",
       "    <tr>\n",
       "      <th>2</th>\n",
       "      <td>28-May-21</td>\n",
       "      <td>$2,742.47</td>\n",
       "      <td>$2,761.36</td>\n",
       "      <td>$2,336.36</td>\n",
       "      <td>$2,419.91</td>\n",
       "      <td>$39,999,114,805</td>\n",
       "      <td>$280,864,129,343</td>\n",
       "    </tr>\n",
       "    <tr>\n",
       "      <th>3</th>\n",
       "      <td>29-May-21</td>\n",
       "      <td>$2,414.07</td>\n",
       "      <td>$2,566.94</td>\n",
       "      <td>$2,208.49</td>\n",
       "      <td>$2,279.51</td>\n",
       "      <td>$33,773,720,220</td>\n",
       "      <td>$264,600,384,052</td>\n",
       "    </tr>\n",
       "    <tr>\n",
       "      <th>4</th>\n",
       "      <td>30-May-21</td>\n",
       "      <td>$2,278.29</td>\n",
       "      <td>$2,472.19</td>\n",
       "      <td>$2,188.83</td>\n",
       "      <td>$2,390.31</td>\n",
       "      <td>$25,876,619,428</td>\n",
       "      <td>$277,492,990,927</td>\n",
       "    </tr>\n",
       "  </tbody>\n",
       "</table>\n",
       "</div>"
      ],
      "text/plain": [
       "        Date        Open        High         Low       Close  \\\n",
       "0  26-May-21  $2,707.05   $2,911.74   $2,652.09   $2,888.70    \n",
       "1  27-May-21  $2,888.75   $2,888.75   $2,642.61   $2,736.49    \n",
       "2  28-May-21  $2,742.47   $2,761.36   $2,336.36   $2,419.91    \n",
       "3  29-May-21  $2,414.07   $2,566.94   $2,208.49   $2,279.51    \n",
       "4  30-May-21  $2,278.29   $2,472.19   $2,188.83   $2,390.31    \n",
       "\n",
       "             Volume         Market Cap  \n",
       "0  $42,499,766,020   $335,196,485,646   \n",
       "1  $33,373,635,283   $317,571,010,585   \n",
       "2  $39,999,114,805   $280,864,129,343   \n",
       "3  $33,773,720,220   $264,600,384,052   \n",
       "4  $25,876,619,428   $277,492,990,927   "
      ]
     },
     "execution_count": 2,
     "metadata": {},
     "output_type": "execute_result"
    }
   ],
   "source": [
    "data = pd.read_csv('이더리움.csv')\n",
    "data.head()"
   ]
  },
  {
   "cell_type": "markdown",
   "id": "93fff7cb",
   "metadata": {},
   "source": [
    "### Compute Mid Price"
   ]
  },
  {
   "cell_type": "code",
   "execution_count": 3,
   "id": "5b82a83d",
   "metadata": {},
   "outputs": [],
   "source": [
    "high_prices = data['High'].values\n",
    "low_prices = data['Low'].values\n",
    "#mid_prices = (high_prices + low_prices)/2\n",
    "\n",
    "high_price_list = []\n",
    "low_price_list = []\n",
    "\n",
    "for i in high_prices:\n",
    "    i = i.replace(',','')\n",
    "    i = float(i.replace('$',''))\n",
    "    high_price_list.append(i)\n",
    "high_prices = np.array(high_price_list)\n",
    "\n",
    "for i in low_prices:\n",
    "    i = i.replace(',','')\n",
    "    i = float(i.replace('$',''))\n",
    "    low_price_list.append(i)\n",
    "low_prices = np.array(low_price_list)\n",
    "\n",
    "mid_prices = (high_prices + low_prices)/2"
   ]
  },
  {
   "cell_type": "markdown",
   "id": "d5d6909b",
   "metadata": {},
   "source": [
    "### Create Windows"
   ]
  },
  {
   "cell_type": "code",
   "execution_count": 4,
   "id": "22c121ea",
   "metadata": {},
   "outputs": [],
   "source": [
    "seq_len = 50 # 윈도우 사이즈 최근 50일보고 한개를 예측한다. 51개씩저장해야한다.\n",
    "sequence_length = seq_len + 1 # 51개 저장.\n",
    "\n",
    "result = []\n",
    "for index in range(len(mid_prices)-sequence_length):\n",
    "    result.append(mid_prices[index:index + sequence_length])"
   ]
  },
  {
   "cell_type": "markdown",
   "id": "6e780afc",
   "metadata": {},
   "source": [
    "### Normalize Data"
   ]
  },
  {
   "cell_type": "code",
   "execution_count": 5,
   "id": "3ed4d533",
   "metadata": {},
   "outputs": [
    {
     "data": {
      "text/plain": [
       "((284, 50, 1), (31, 50, 1))"
      ]
     },
     "execution_count": 5,
     "metadata": {},
     "output_type": "execute_result"
    }
   ],
   "source": [
    "normalized_data = []\n",
    "for window in result:\n",
    "    normalized_window = [((float(p)/float(window[0]))-1)for p in window]\n",
    "    normalized_data.append(normalized_window)\n",
    "    \n",
    "result = np.array(normalized_data)\n",
    "\n",
    "# split train and test data\n",
    "row = int(round(result.shape[0]*0.9)) # 90퍼센트 트레이닝셋.\n",
    "train = result[:row,:]\n",
    "np.random.shuffle(train) # 트레이닝셋 순서 랜덤으로 셔플\n",
    "\n",
    "x_train = train[:, :-1]\n",
    "x_train = np.reshape(x_train,(x_train.shape[0],x_train.shape[1],1))\n",
    "y_train = train[:, -1]\n",
    "\n",
    "x_test = result[row:, :-1]\n",
    "x_test = np.reshape(x_test,(x_test.shape[0],x_test.shape[1],1))\n",
    "y_test = result[row:, -1]\n",
    "\n",
    "x_train.shape, x_test.shape # 1057개?"
   ]
  },
  {
   "cell_type": "markdown",
   "id": "35d9a129",
   "metadata": {},
   "source": [
    "### Build a Model"
   ]
  },
  {
   "cell_type": "code",
   "execution_count": 6,
   "id": "519b51bd",
   "metadata": {},
   "outputs": [
    {
     "name": "stdout",
     "output_type": "stream",
     "text": [
      "Model: \"sequential\"\n",
      "_________________________________________________________________\n",
      "Layer (type)                 Output Shape              Param #   \n",
      "=================================================================\n",
      "lstm (LSTM)                  (None, 50, 50)            10400     \n",
      "_________________________________________________________________\n",
      "lstm_1 (LSTM)                (None, 64)                29440     \n",
      "_________________________________________________________________\n",
      "dense (Dense)                (None, 1)                 65        \n",
      "=================================================================\n",
      "Total params: 39,905\n",
      "Trainable params: 39,905\n",
      "Non-trainable params: 0\n",
      "_________________________________________________________________\n"
     ]
    }
   ],
   "source": [
    "m = Sequential()\n",
    "m.add(LSTM(50,return_sequences=True,input_shape=(50,1)))\n",
    "m.add(LSTM(64,return_sequences=False))\n",
    "m.add(Dense(1,activation='linear'))\n",
    "m.compile(loss='mse',optimizer='rmsprop')\n",
    "m.summary()"
   ]
  },
  {
   "cell_type": "markdown",
   "id": "ad82d2b1",
   "metadata": {},
   "source": [
    "### Training"
   ]
  },
  {
   "cell_type": "code",
   "execution_count": 7,
   "id": "3302d59c",
   "metadata": {},
   "outputs": [
    {
     "name": "stdout",
     "output_type": "stream",
     "text": [
      "Epoch 1/20\n",
      "29/29 [==============================] - 3s 41ms/step - loss: 0.0162 - val_loss: 0.0095\n",
      "Epoch 2/20\n",
      "29/29 [==============================] - 1s 22ms/step - loss: 0.0094 - val_loss: 0.0072\n",
      "Epoch 3/20\n",
      "29/29 [==============================] - 1s 23ms/step - loss: 0.0082 - val_loss: 0.0054\n",
      "Epoch 4/20\n",
      "29/29 [==============================] - 1s 23ms/step - loss: 0.0066 - val_loss: 0.0078\n",
      "Epoch 5/20\n",
      "29/29 [==============================] - 1s 22ms/step - loss: 0.0061 - val_loss: 0.0046\n",
      "Epoch 6/20\n",
      "29/29 [==============================] - 1s 22ms/step - loss: 0.0061 - val_loss: 0.0029\n",
      "Epoch 7/20\n",
      "29/29 [==============================] - 1s 22ms/step - loss: 0.0051 - val_loss: 0.0065\n",
      "Epoch 8/20\n",
      "29/29 [==============================] - 1s 22ms/step - loss: 0.0048 - val_loss: 0.0023\n",
      "Epoch 9/20\n",
      "29/29 [==============================] - 1s 23ms/step - loss: 0.0049 - val_loss: 0.0020\n",
      "Epoch 10/20\n",
      "29/29 [==============================] - 1s 22ms/step - loss: 0.0038 - val_loss: 0.0023\n",
      "Epoch 11/20\n",
      "29/29 [==============================] - 1s 23ms/step - loss: 0.0040 - val_loss: 0.0024\n",
      "Epoch 12/20\n",
      "29/29 [==============================] - 1s 22ms/step - loss: 0.0036 - val_loss: 0.0019\n",
      "Epoch 13/20\n",
      "29/29 [==============================] - 1s 24ms/step - loss: 0.0033 - val_loss: 0.0013\n",
      "Epoch 14/20\n",
      "29/29 [==============================] - 1s 25ms/step - loss: 0.0029 - val_loss: 0.0025\n",
      "Epoch 15/20\n",
      "29/29 [==============================] - 1s 24ms/step - loss: 0.0027 - val_loss: 0.0018\n",
      "Epoch 16/20\n",
      "29/29 [==============================] - 1s 23ms/step - loss: 0.0024 - val_loss: 9.6535e-04\n",
      "Epoch 17/20\n",
      "29/29 [==============================] - 1s 24ms/step - loss: 0.0027 - val_loss: 8.6464e-04\n",
      "Epoch 18/20\n",
      "29/29 [==============================] - 1s 23ms/step - loss: 0.0029 - val_loss: 8.9950e-04\n",
      "Epoch 19/20\n",
      "29/29 [==============================] - 1s 22ms/step - loss: 0.0023 - val_loss: 0.0017\n",
      "Epoch 20/20\n",
      "29/29 [==============================] - 1s 23ms/step - loss: 0.0023 - val_loss: 0.0012\n"
     ]
    },
    {
     "data": {
      "text/plain": [
       "<tensorflow.python.keras.callbacks.History at 0x24010a49340>"
      ]
     },
     "execution_count": 7,
     "metadata": {},
     "output_type": "execute_result"
    }
   ],
   "source": [
    "m.fit(x_train, y_train, validation_data=(x_test, y_test), batch_size=10, epochs=20)"
   ]
  },
  {
   "cell_type": "markdown",
   "id": "df3e0fe5",
   "metadata": {},
   "source": [
    "### Prediction"
   ]
  },
  {
   "cell_type": "code",
   "execution_count": 8,
   "id": "365599e3",
   "metadata": {},
   "outputs": [
    {
     "data": {
      "image/png": "[encoded data removed]",
      "text/plain": [
       "<Figure size 432x288 with 1 Axes>"
      ]
     },
     "metadata": {},
     "output_type": "display_data"
    }
   ],
   "source": [
    "pred = m.predict(x_test)\n",
    "fig = plt.figure(facecolor='white')\n",
    "ax = fig.add_subplot(111)\n",
    "ax.plot(y_test, label='True')\n",
    "ax.plot(pred, label='Prediction')\n",
    "ax.legend()\n",
    "plt.show()\n",
    "# 파랑색 - 실제데이터\n",
    "# 주황색 - 예측데이터"
   ]
  }
 ],
 "metadata": {
  "kernelspec": {
   "display_name": "Python 3 (ipykernel)",
   "language": "python",
   "name": "python3"
  },
  "language_info": {
   "codemirror_mode": {
    "name": "ipython",
    "version": 3
   },
   "file_extension": ".py",
   "mimetype": "text/x-python",
   "name": "python",
   "nbconvert_exporter": "python",
   "pygments_lexer": "ipython3",
   "version": "3.9.7"
  }
 },
 "nbformat": 4,
 "nbformat_minor": 5
}
