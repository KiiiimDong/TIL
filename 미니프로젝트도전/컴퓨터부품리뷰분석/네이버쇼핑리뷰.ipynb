{
 "cells": [
  {
   "cell_type": "code",
   "execution_count": 1,
   "id": "a9a0e055",
   "metadata": {},
   "outputs": [],
   "source": [
    "#Step 0. 필요한 모듈과 라이브러리를 로딩합니다.\n",
    "import sys # 시스템\n",
    "import os  # 시스템\n",
    "\n",
    "import pandas as pd  # 판다스 : 데이터분석 라이브러리\n",
    "import numpy as np   # 넘파이 : 숫자, 행렬 데이터 라이브러리\n",
    "from datetime import datetime\n",
    "from bs4 import BeautifulSoup    # html 데이터를 전처리\n",
    "from selenium import webdriver   # 웹 브라우저 자동화\n",
    "from selenium.webdriver.common.keys import Keys\n",
    "import chromedriver_autoinstaller\n",
    "\n",
    "import time    # 서버와 통신할 때 중간중간 시간 지연. 보통은 1초\n",
    "from tqdm import tqdm_notebook   # for문 돌릴 때 진행상황을 %게이지로 알려준다.\n",
    "\n",
    "# 워닝 무시\n",
    "import warnings\n",
    "warnings.filterwarnings('ignore')"
   ]
  },
  {
   "cell_type": "code",
   "execution_count": 2,
   "id": "59430b20",
   "metadata": {},
   "outputs": [],
   "source": [
    "# 크롬 웹브라우저 실행\n",
    "chrome_path = chromedriver_autoinstaller.install()\n",
    "driver = webdriver.Chrome(chrome_path)\n",
    "# 페이지 접속\n",
    "driver.get('https://search.shopping.naver.com/catalog/27314328526?query=%EA%B7%B8%EB%9E%98%ED%94%BD%EC%B9%B4%EB%93%9C&NaPm=ct%3Dl4gjyx1c%7Cci%3D2ca40fbca83c245e81828d7804653e9e7c3f5a05%7Ctr%3Dslsl%7Csn%3D95694%7Chk%3D23ff1194ac5e68acd60ad298313649ea2618f6c7')\n",
    "time.sleep(2)  # 2초간 정지"
   ]
  },
  {
   "cell_type": "code",
   "execution_count": 3,
   "id": "96f4cb50",
   "metadata": {},
   "outputs": [],
   "source": [
    "from selenium.webdriver import ActionChains\n",
    "# id가 something 인 element 를 찾음\n",
    "some_tag = driver.find_element_by_css_selector('#section_review > ul > li:nth-child(1) > div.reviewItems_btn_area__2St26 > a')\n",
    "\n",
    "# somthing element 까지 스크롤\n",
    "action = ActionChains(driver)\n",
    "action.move_to_element(some_tag).perform()\n",
    "time.sleep(2)"
   ]
  },
  {
   "cell_type": "code",
   "execution_count": 4,
   "id": "adc19536",
   "metadata": {},
   "outputs": [],
   "source": [
    "os.makedirs('result', exist_ok=True)"
   ]
  },
  {
   "cell_type": "raw",
   "id": "2e45e31d",
   "metadata": {},
   "source": [
    "some_tag2 = driver.find_element_by_css_selector('.pagination_next__3ycRH')\n",
    "\n",
    "# somthing element 까지 스크롤\n",
    "action = ActionChains(driver)\n",
    "action.move_to_element(some_tag2).perform()\n",
    "time.sleep(2)\n",
    "\n",
    "page10 = driver.find_element_by_css_selector('.pagination_next__3ycRH').click()"
   ]
  },
  {
   "cell_type": "raw",
   "id": "97f2ec80",
   "metadata": {},
   "source": [
    "\n",
    "title = driver.find_elements_by_css_selector('.reviewItems_title__39Z8H')\n",
    "        for i in range(len(title)):\n",
    "            title[i] = title[i].text\n",
    "\n",
    "        # 리뷰내용 추출\n",
    "        comment = driver.find_elements_by_css_selector('.reviewItems_text__XIsTc')\n",
    "        for i in range(len(comment)):\n",
    "            comment[i] = comment[i].text.replace('\\n','')\n",
    "\n",
    "        # 평점 추출    \n",
    "        rate = driver.find_elements_by_css_selector('.reviewItems_average__16Ya-')\n",
    "        for i in range(len(rate)):\n",
    "            rate[i] = rate[i].text.replace('평점','') "
   ]
  },
  {
   "cell_type": "code",
   "execution_count": 5,
   "id": "abb536a9",
   "metadata": {},
   "outputs": [
    {
     "name": "stdout",
     "output_type": "stream",
     "text": [
      "1페이지  크롤링중\n",
      "2페이지  크롤링중\n",
      "3페이지  크롤링중\n",
      "4페이지  크롤링중\n",
      "5페이지  크롤링중\n",
      "6페이지  크롤링중\n",
      "7페이지  크롤링중\n",
      "8페이지  크롤링중\n",
      "9페이지  크롤링중\n",
      "10페이지  크롤링중\n",
      "Done!\n"
     ]
    }
   ],
   "source": [
    "# create empty dataframe to store data\n",
    "df = pd.DataFrame(columns=['title','comment','rate'])\n",
    "\n",
    "\n",
    "# click 횟수\n",
    "click_number = 10\n",
    "\n",
    "for i in range(click_number):\n",
    "    try :\n",
    "        # 제목추출\n",
    "        title = driver.find_elements_by_css_selector('.reviewItems_title__39Z8H')\n",
    "\n",
    "\n",
    "        # 리뷰내용 추출\n",
    "        comment = driver.find_elements_by_css_selector('.reviewItems_text__XIsTc')\n",
    "\n",
    "        # 평점 추출    \n",
    "        rate = driver.find_elements_by_css_selector('.reviewItems_average__16Ya-')  \n",
    "\n",
    "        time.sleep(2)\n",
    "        # append to dataframe\n",
    "        for m in range(len(rate)):\n",
    "            df = df.append({'rate': rate[m].text.replace('평점','') ,'comment': comment[m].text.replace('\\n',''),'title':title[m].text}, ignore_index=True)\n",
    "        print(f'{i+1}페이지  크롤링중')\n",
    "        page = driver.find_element_by_css_selector(f'#section_review > div.pagination_pagination__2M9a4 > a:nth-child({i+2})').click()\n",
    "        time.sleep(2)\n",
    "        #page10 = driver.find_element_by_css_selector('.pagination_next__3ycRH').click()\n",
    "        #time.sleep(2)              \n",
    "    except:\n",
    "        print('error')\n",
    "\n",
    "# finally save the dataframe into csv file\n",
    "filename = datetime.now().strftime('result/%Y-%m-%d_%H-%M-%S.csv')\n",
    "df.to_csv(filename, encoding='utf-8-sig', index=False)\n",
    "driver.stop_client()\n",
    "driver.close()\n",
    "\n",
    "print('Done!')"
   ]
  },
  {
   "cell_type": "code",
   "execution_count": null,
   "id": "ddffa9d7",
   "metadata": {},
   "outputs": [],
   "source": []
  },
  {
   "cell_type": "code",
   "execution_count": null,
   "id": "47d2720e",
   "metadata": {},
   "outputs": [],
   "source": []
  },
  {
   "cell_type": "code",
   "execution_count": null,
   "id": "a188b535",
   "metadata": {},
   "outputs": [],
   "source": []
  },
  {
   "cell_type": "code",
   "execution_count": null,
   "id": "90e78723",
   "metadata": {},
   "outputs": [],
   "source": []
  }
 ],
 "metadata": {
  "kernelspec": {
   "display_name": "Python 3 (ipykernel)",
   "language": "python",
   "name": "python3"
  },
  "language_info": {
   "codemirror_mode": {
    "name": "ipython",
    "version": 3
   },
   "file_extension": ".py",
   "mimetype": "text/x-python",
   "name": "python",
   "nbconvert_exporter": "python",
   "pygments_lexer": "ipython3",
   "version": "3.9.7"
  }
 },
 "nbformat": 4,
 "nbformat_minor": 5
}
