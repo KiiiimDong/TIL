{
 "cells": [
  {
   "cell_type": "code",
   "execution_count": 33,
   "id": "b7b73edd",
   "metadata": {},
   "outputs": [],
   "source": [
    "#Step 0. 필요한 모듈과 라이브러리를 로딩합니다.\n",
    "import sys # 시스템\n",
    "import os  # 시스템\n",
    "from time import sleep\n",
    "import pandas as pd  # 판다스 : 데이터분석 라이브러리\n",
    "import numpy as np   # 넘파이 : 숫자, 행렬 데이터 라이브러리\n",
    "from datetime import datetime\n",
    "from bs4 import BeautifulSoup    # html 데이터를 전처리\n",
    "from selenium import webdriver   # 웹 브라우저 자동화\n",
    "from selenium.webdriver.common.keys import Keys\n",
    "import chromedriver_autoinstaller\n",
    "from selenium.webdriver import ActionChains\n",
    "import time    # 서버와 통신할 때 중간중간 시간 지연. 보통은 1초\n",
    "from tqdm import tqdm_notebook   # for문 돌릴 때 진행상황을 %게이지로 알려준다.\n",
    "\n",
    "# 워닝 무시\n",
    "import warnings\n",
    "warnings.filterwarnings('ignore')"
   ]
  },
  {
   "cell_type": "code",
   "execution_count": 34,
   "id": "3e356383",
   "metadata": {},
   "outputs": [],
   "source": [
    "# 크롬 웹브라우저 실행\n",
    "chrome_path = chromedriver_autoinstaller.install()\n",
    "driver = webdriver.Chrome(chrome_path)\n",
    "# 페이지 접속\n",
    "driver.get('http://www.yes24.com/Product/Goods/64431016')\n",
    "time.sleep(2)  # 2초간 정지"
   ]
  },
  {
   "cell_type": "code",
   "execution_count": 35,
   "id": "6702576e",
   "metadata": {},
   "outputs": [],
   "source": [
    "for i in range(1,30):\n",
    "            driver.execute_script(\"window.scrollTo(0, \"+str(i*500)+\")\")\n",
    "            sleep(0.5)"
   ]
  },
  {
   "cell_type": "code",
   "execution_count": 36,
   "id": "a80cc155",
   "metadata": {},
   "outputs": [],
   "source": [
    "os.makedirs('result', exist_ok=True)"
   ]
  },
  {
   "cell_type": "code",
   "execution_count": 37,
   "id": "8f23f831",
   "metadata": {},
   "outputs": [
    {
     "name": "stdout",
     "output_type": "stream",
     "text": [
      "Done!\n"
     ]
    }
   ],
   "source": [
    "# create empty dataframe to store data\n",
    "df = pd.DataFrame(columns=['comment'])\n",
    "\n",
    "comment = driver.find_elements_by_css_selector('#infoset_inBook > div.infoSetCont_wrap > div.infoWrap_txt > div.infoWrap_txtInner')\n",
    "comment_list= []\n",
    "for m in range(len(comment)):\n",
    "    comment_list.append(comment[m].text) \n",
    "\n",
    "df = df.append({'comment': comment_list}, ignore_index=True)\n",
    "\n",
    "# finally save the dataframe into csv file\n",
    "filename = datetime.now().strftime('result/%Y-%m-%d_%H-%M-%S.csv')\n",
    "df.to_csv(filename, encoding='utf-8-sig', index=False)\n",
    "driver.stop_client()\n",
    "driver.close()\n",
    "\n",
    "print('Done!')"
   ]
  },
  {
   "cell_type": "code",
   "execution_count": null,
   "id": "db72b1f5",
   "metadata": {},
   "outputs": [],
   "source": []
  },
  {
   "cell_type": "code",
   "execution_count": null,
   "id": "4b21bfc4",
   "metadata": {},
   "outputs": [],
   "source": []
  }
 ],
 "metadata": {
  "kernelspec": {
   "display_name": "Python 3",
   "language": "python",
   "name": "python3"
  },
  "language_info": {
   "codemirror_mode": {
    "name": "ipython",
    "version": 3
   },
   "file_extension": ".py",
   "mimetype": "text/x-python",
   "name": "python",
   "nbconvert_exporter": "python",
   "pygments_lexer": "ipython3",
   "version": "3.9.7"
  }
 },
 "nbformat": 4,
 "nbformat_minor": 5
}
