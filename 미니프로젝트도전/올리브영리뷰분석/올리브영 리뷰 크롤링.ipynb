{
 "cells": [
  {
   "cell_type": "code",
   "execution_count": 1,
   "id": "08d755d0",
   "metadata": {},
   "outputs": [],
   "source": [
    "#Step 0. 필요한 모듈과 라이브러리를 로딩합니다.\n",
    "import sys # 시스템\n",
    "import os  # 시스템\n",
    "\n",
    "import pandas as pd  # 판다스 : 데이터분석 라이브러리\n",
    "import numpy as np   # 넘파이 : 숫자, 행렬 데이터 라이브러리\n",
    "from datetime import datetime\n",
    "from bs4 import BeautifulSoup    # html 데이터를 전처리\n",
    "from selenium import webdriver   # 웹 브라우저 자동화\n",
    "from selenium.webdriver.common.keys import Keys\n",
    "import chromedriver_autoinstaller\n",
    "from selenium.webdriver import ActionChains\n",
    "import time    # 서버와 통신할 때 중간중간 시간 지연. 보통은 1초\n",
    "from tqdm import tqdm_notebook   # for문 돌릴 때 진행상황을 %게이지로 알려준다.\n",
    "\n",
    "# 워닝 무시\n",
    "import warnings\n",
    "warnings.filterwarnings('ignore')"
   ]
  },
  {
   "cell_type": "code",
   "execution_count": 2,
   "id": "aa006490",
   "metadata": {},
   "outputs": [],
   "source": [
    "# 크롬 웹브라우저 실행\n",
    "chrome_path = chromedriver_autoinstaller.install()\n",
    "driver = webdriver.Chrome(chrome_path)\n",
    "# 페이지 접속\n",
    "driver.get('https://www.oliveyoung.co.kr/store/goods/getGoodsDetail.do?goodsNo=A000000158579&dispCatNo=90000010009&trackingCd=Best_Sellingbest')\n",
    "time.sleep(2)  # 2초간 정지"
   ]
  },
  {
   "cell_type": "code",
   "execution_count": null,
   "id": "72d426b0",
   "metadata": {},
   "outputs": [],
   "source": [
    "# id가 something 인 element 를 찾음\n",
    "some_tag = driver.find_element_by_css_selector('.goods_reputation')\n",
    "\n",
    "# somthing element 까지 스크롤\n",
    "action = ActionChains(driver)\n",
    "action.move_to_element(some_tag).perform()\n",
    "time.sleep(2)"
   ]
  },
  {
   "cell_type": "code",
   "execution_count": null,
   "id": "a0de710d",
   "metadata": {},
   "outputs": [],
   "source": [
    "review_click = driver.find_element_by_id('reviewInfo').click()\n",
    "time.sleep(2)"
   ]
  },
  {
   "cell_type": "code",
   "execution_count": null,
   "id": "ac0a3185",
   "metadata": {},
   "outputs": [],
   "source": [
    "os.makedirs('result', exist_ok=True)"
   ]
  },
  {
   "cell_type": "raw",
   "id": "7f1b45b9",
   "metadata": {},
   "source": [
    "rate_list= []\n",
    "rate = driver.find_elements_by_css_selector('.point')\n",
    "for m in range(len(rate)):\n",
    "        rate_list.append(rate[m].text) \n",
    "print(rate_list[1:])\n",
    "print(len(rate_list[1:]))"
   ]
  },
  {
   "cell_type": "raw",
   "id": "0ed1cb8d",
   "metadata": {},
   "source": [
    "comment_list= []\n",
    "comment = driver.find_elements_by_css_selector('.txt_inner')\n",
    "for m in range(len(comment)):\n",
    "        comment_list.append(comment[m].text) \n",
    "print(comment_list)\n",
    "len(comment_list)"
   ]
  },
  {
   "cell_type": "code",
   "execution_count": null,
   "id": "6c815941",
   "metadata": {},
   "outputs": [],
   "source": [
    "# create empty dataframe to store data\n",
    "df = pd.DataFrame(columns=['comment','rate'])\n",
    "\n",
    "\n",
    "# click 횟수\n",
    "click_number = 12\n",
    "\n",
    "for i in range(2,click_number):\n",
    "#try :\n",
    "    # 리뷰내용 추출\n",
    "    comment = driver.find_elements_by_css_selector('.txt_inner')\n",
    "    comment_list= []\n",
    "    comment = driver.find_elements_by_css_selector('.txt_inner')\n",
    "    for m in range(len(comment)):\n",
    "        comment_list.append(comment[m].text) \n",
    "    # 평점 추출    \n",
    "    rate = driver.find_elements_by_css_selector('.point')  \n",
    "    rate_list= []\n",
    "    rate = driver.find_elements_by_css_selector('.point')\n",
    "    for n in range(len(rate)):\n",
    "        rate_list.append(rate[n].text) \n",
    "    time.sleep(2)\n",
    "    # append to dataframe\n",
    "    for j in range(len(comment)):\n",
    "        df = df.append({'rate': rate_list[j+1] ,'comment': comment_list[j]}, ignore_index=True)\n",
    "    print(f'{i-1}페이지  크롤링중')\n",
    "\n",
    "    some_tag = driver.find_element_by_css_selector(f'#gdasContentsArea > div > div.pageing > a:nth-child({i})')\n",
    "    # somthing element 까지 스크롤\n",
    "    action = ActionChains(driver)\n",
    "    action.move_to_element(some_tag).perform()\n",
    "    time.sleep(3)\n",
    "    page = driver.find_element_by_css_selector(f'#gdasContentsArea > div > div.pageing > a:nth-child({i})').click()\n",
    "    time.sleep(2)         \n",
    "#except:\n",
    "    #print('error')\n",
    "\n",
    "# finally save the dataframe into csv file\n",
    "filename = datetime.now().strftime('result/%Y-%m-%d_%H-%M-%S.csv')\n",
    "df.to_csv(filename, encoding='utf-8-sig', index=False)\n",
    "driver.stop_client()\n",
    "driver.close()\n",
    "\n",
    "print('Done!')"
   ]
  },
  {
   "cell_type": "code",
   "execution_count": null,
   "id": "d0823f17",
   "metadata": {},
   "outputs": [],
   "source": []
  }
 ],
 "metadata": {
  "kernelspec": {
   "display_name": "Python 3",
   "language": "python",
   "name": "python3"
  },
  "language_info": {
   "codemirror_mode": {
    "name": "ipython",
    "version": 3
   },
   "file_extension": ".py",
   "mimetype": "text/x-python",
   "name": "python",
   "nbconvert_exporter": "python",
   "pygments_lexer": "ipython3",
   "version": "3.9.7"
  }
 },
 "nbformat": 4,
 "nbformat_minor": 5
}
