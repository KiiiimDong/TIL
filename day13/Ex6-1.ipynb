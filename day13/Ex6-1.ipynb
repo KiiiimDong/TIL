{
 "cells": [
  {
   "cell_type": "code",
   "execution_count": 1,
   "id": "3c6f812b",
   "metadata": {},
   "outputs": [],
   "source": [
    "from pandas import Series,DataFrame\n",
    "import pandas as pd\n",
    "import numpy as np\n",
    "df = pd.read_csv('day5_data2.csv')\n",
    "del df['ID']\n",
    "Y_data = df.pop('Fraud')\n",
    "Y_data = Y_data.values #numpy\n",
    "x_df = pd.get_dummies(df) #one_hot\n",
    "#x_df.head(5).T # 피쳐확인 작업\n",
    "X_data = x_df.values #numpy"
   ]
  },
  {
   "cell_type": "code",
   "execution_count": 2,
   "id": "be68f2b9",
   "metadata": {},
   "outputs": [],
   "source": [
    "P_Y_T = sum(Y_data==True)/len(Y_data)\n",
    "P_Y_F = 1 - P_Y_T"
   ]
  },
  {
   "cell_type": "code",
   "execution_count": 3,
   "id": "f4d69a20",
   "metadata": {},
   "outputs": [],
   "source": [
    "idx_Y_T = np.where(Y_data)\n",
    "idx_Y_F = np.where(Y_data==False)"
   ]
  },
  {
   "cell_type": "code",
   "execution_count": 4,
   "id": "5050162e",
   "metadata": {},
   "outputs": [
    {
     "data": {
      "text/plain": [
       "(array([0.16666667, 0.5       , 0.16666667, 0.16666667, 0.        ,\n",
       "        0.16666667, 0.83333333, 0.        , 0.66666667, 0.33333333]),\n",
       " array([0.42857143, 0.28571429, 0.        , 0.28571429, 0.14285714,\n",
       "        0.        , 0.85714286, 0.07142857, 0.78571429, 0.14285714]))"
      ]
     },
     "execution_count": 4,
     "metadata": {},
     "output_type": "execute_result"
    }
   ],
   "source": [
    "p_x_y_t = (X_data[idx_Y_T].sum(axis=0))/sum(Y_data == True)\n",
    "p_x_y_f = (X_data[idx_Y_F].sum(axis=0))/sum(Y_data == False)\n",
    "p_x_y_t, p_x_y_f"
   ]
  },
  {
   "cell_type": "code",
   "execution_count": 5,
   "id": "8f96dee1",
   "metadata": {},
   "outputs": [
    {
     "data": {
      "text/plain": [
       "(1.6333333333333333, 1.7714285714285714)"
      ]
     },
     "execution_count": 5,
     "metadata": {},
     "output_type": "execute_result"
    }
   ],
   "source": [
    "tt_x = [0,1,0,0,0,1,0,0,1,0]\n",
    "tt_y_t = P_Y_T + p_x_y_t.dot(tt_x)\n",
    "tt_y_f = P_Y_F + p_x_y_f.dot(tt_x)\n",
    "tt_y_t,tt_y_f"
   ]
  }
 ],
 "metadata": {
  "kernelspec": {
   "display_name": "Python 3 (ipykernel)",
   "language": "python",
   "name": "python3"
  },
  "language_info": {
   "codemirror_mode": {
    "name": "ipython",
    "version": 3
   },
   "file_extension": ".py",
   "mimetype": "text/x-python",
   "name": "python",
   "nbconvert_exporter": "python",
   "pygments_lexer": "ipython3",
   "version": "3.9.7"
  }
 },
 "nbformat": 4,
 "nbformat_minor": 5
}
