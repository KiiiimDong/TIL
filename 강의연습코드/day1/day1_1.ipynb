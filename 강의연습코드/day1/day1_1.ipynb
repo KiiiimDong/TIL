{
 "cells": [
  {
   "cell_type": "markdown",
   "id": "e1d40828",
   "metadata": {},
   "source": [
    "### 2. Numpy 연산\n",
    "연산을 통한 결과"
   ]
  },
  {
   "cell_type": "code",
   "execution_count": 2,
   "id": "6531f26d",
   "metadata": {
    "scrolled": true
   },
   "outputs": [
    {
     "data": {
      "text/plain": [
       "55"
      ]
     },
     "execution_count": 2,
     "metadata": {},
     "output_type": "execute_result"
    }
   ],
   "source": [
    "import numpy as np\n",
    "t_a=np.arange(1,11)\n",
    "t_a.sum()"
   ]
  },
  {
   "cell_type": "code",
   "execution_count": 4,
   "id": "7fe9af28",
   "metadata": {},
   "outputs": [
    {
     "data": {
      "text/plain": [
       "array([[ 1,  2,  3,  4],\n",
       "       [ 5,  6,  7,  8],\n",
       "       [ 9, 10, 11, 12]])"
      ]
     },
     "execution_count": 4,
     "metadata": {},
     "output_type": "execute_result"
    }
   ],
   "source": [
    "t_a=np.arange(1,13).reshape(3,4)\n",
    "t_a"
   ]
  },
  {
   "cell_type": "code",
   "execution_count": 5,
   "id": "1f2d02a9",
   "metadata": {},
   "outputs": [
    {
     "data": {
      "text/plain": [
       "array([15, 18, 21, 24])"
      ]
     },
     "execution_count": 5,
     "metadata": {},
     "output_type": "execute_result"
    }
   ],
   "source": [
    "t_a.sum(axis=0)#제일 고차원의 축!"
   ]
  },
  {
   "cell_type": "code",
   "execution_count": 6,
   "id": "b97499c5",
   "metadata": {},
   "outputs": [
    {
     "data": {
      "text/plain": [
       "array([10, 26, 42])"
      ]
     },
     "execution_count": 6,
     "metadata": {},
     "output_type": "execute_result"
    }
   ],
   "source": [
    "t_a.sum(axis=1)"
   ]
  },
  {
   "cell_type": "code",
   "execution_count": 7,
   "id": "ae66f70c",
   "metadata": {},
   "outputs": [],
   "source": [
    "t_a_2=np.array([t_a,t_a,t_a])"
   ]
  },
  {
   "cell_type": "code",
   "execution_count": 8,
   "id": "8a370c4d",
   "metadata": {},
   "outputs": [
    {
     "data": {
      "text/plain": [
       "array([[[ 1,  2,  3,  4],\n",
       "        [ 5,  6,  7,  8],\n",
       "        [ 9, 10, 11, 12]],\n",
       "\n",
       "       [[ 1,  2,  3,  4],\n",
       "        [ 5,  6,  7,  8],\n",
       "        [ 9, 10, 11, 12]],\n",
       "\n",
       "       [[ 1,  2,  3,  4],\n",
       "        [ 5,  6,  7,  8],\n",
       "        [ 9, 10, 11, 12]]])"
      ]
     },
     "execution_count": 8,
     "metadata": {},
     "output_type": "execute_result"
    }
   ],
   "source": [
    "t_a_2"
   ]
  },
  {
   "cell_type": "code",
   "execution_count": 9,
   "id": "bdcce2bd",
   "metadata": {},
   "outputs": [
    {
     "data": {
      "text/plain": [
       "(3, 3, 4)"
      ]
     },
     "execution_count": 9,
     "metadata": {},
     "output_type": "execute_result"
    }
   ],
   "source": [
    "t_a_2.shape"
   ]
  },
  {
   "cell_type": "code",
   "execution_count": 11,
   "id": "d0512f6f",
   "metadata": {},
   "outputs": [
    {
     "data": {
      "text/plain": [
       "array([[10, 26, 42],\n",
       "       [10, 26, 42],\n",
       "       [10, 26, 42]])"
      ]
     },
     "execution_count": 11,
     "metadata": {},
     "output_type": "execute_result"
    }
   ],
   "source": [
    "t_a_2.sum(axis=0)#3\n",
    "t_a_2.sum(axis=1)#2\n",
    "t_a_2.sum(axis=2)#1"
   ]
  },
  {
   "cell_type": "code",
   "execution_count": 18,
   "id": "9c089a99",
   "metadata": {},
   "outputs": [
    {
     "data": {
      "text/plain": [
       "array([[1, 2, 3],\n",
       "       [1, 2, 3],\n",
       "       [4, 5, 6]])"
      ]
     },
     "execution_count": 18,
     "metadata": {},
     "output_type": "execute_result"
    }
   ],
   "source": [
    "v_a=np.array([[1,2,3],[1,2,3,]])\n",
    "v_a_1=np.array([4,5,6])\n",
    "np.vstack((v_a,v_a_1))#한번더 묶어야한다.#결합하는 차원원소의 개수가 동일해야한다."
   ]
  },
  {
   "cell_type": "code",
   "execution_count": 19,
   "id": "7ceaf6bb",
   "metadata": {},
   "outputs": [
    {
     "data": {
      "text/plain": [
       "array([[1, 4],\n",
       "       [2, 5],\n",
       "       [3, 6]])"
      ]
     },
     "execution_count": 19,
     "metadata": {},
     "output_type": "execute_result"
    }
   ],
   "source": [
    "v_a=np.array([1,2,3])\n",
    "v_a_1=np.array([4,5,6])\n",
    "np.vstack((v_a,v_a_1)).T"
   ]
  },
  {
   "cell_type": "code",
   "execution_count": 21,
   "id": "04cd5975",
   "metadata": {},
   "outputs": [
    {
     "data": {
      "text/plain": [
       "array([[1, 4],\n",
       "       [2, 5],\n",
       "       [3, 6]])"
      ]
     },
     "execution_count": 21,
     "metadata": {},
     "output_type": "execute_result"
    }
   ],
   "source": [
    "h_1=v_a.reshape(-1,1)\n",
    "h_2=v_a_1.reshape(-1,1)\n",
    "np.hstack((h_1,h_2))"
   ]
  },
  {
   "cell_type": "code",
   "execution_count": 22,
   "id": "d3a8aa3d",
   "metadata": {},
   "outputs": [
    {
     "data": {
      "text/plain": [
       "array([[1, 2, 3],\n",
       "       [4, 5, 6]])"
      ]
     },
     "execution_count": 22,
     "metadata": {},
     "output_type": "execute_result"
    }
   ],
   "source": [
    "x=np.arange(1,7).reshape(2,3)\n",
    "x"
   ]
  },
  {
   "cell_type": "code",
   "execution_count": 23,
   "id": "e9ab43bb",
   "metadata": {},
   "outputs": [
    {
     "data": {
      "text/plain": [
       "array([[ 2,  4,  6],\n",
       "       [ 8, 10, 12]])"
      ]
     },
     "execution_count": 23,
     "metadata": {},
     "output_type": "execute_result"
    }
   ],
   "source": [
    "x+x"
   ]
  },
  {
   "cell_type": "code",
   "execution_count": 24,
   "id": "05129fb2",
   "metadata": {},
   "outputs": [
    {
     "data": {
      "text/plain": [
       "array([[0, 0, 0],\n",
       "       [0, 0, 0]])"
      ]
     },
     "execution_count": 24,
     "metadata": {},
     "output_type": "execute_result"
    }
   ],
   "source": [
    "x-x"
   ]
  },
  {
   "cell_type": "code",
   "execution_count": 25,
   "id": "aba8d987",
   "metadata": {},
   "outputs": [
    {
     "data": {
      "text/plain": [
       "array([[1., 1., 1.],\n",
       "       [1., 1., 1.]])"
      ]
     },
     "execution_count": 25,
     "metadata": {},
     "output_type": "execute_result"
    }
   ],
   "source": [
    "x/x"
   ]
  },
  {
   "cell_type": "code",
   "execution_count": 26,
   "id": "26639371",
   "metadata": {},
   "outputs": [
    {
     "data": {
      "text/plain": [
       "array([[0, 0, 0],\n",
       "       [0, 0, 0]], dtype=int32)"
      ]
     },
     "execution_count": 26,
     "metadata": {},
     "output_type": "execute_result"
    }
   ],
   "source": [
    "x%x"
   ]
  },
  {
   "cell_type": "code",
   "execution_count": 27,
   "id": "00af6123",
   "metadata": {},
   "outputs": [
    {
     "data": {
      "text/plain": [
       "array([[ 1,  4,  9],\n",
       "       [16, 25, 36]])"
      ]
     },
     "execution_count": 27,
     "metadata": {},
     "output_type": "execute_result"
    }
   ],
   "source": [
    "x*x"
   ]
  },
  {
   "cell_type": "code",
   "execution_count": 28,
   "id": "37f7e95d",
   "metadata": {},
   "outputs": [
    {
     "data": {
      "text/plain": [
       "array([[    1,     4,    27],\n",
       "       [  256,  3125, 46656]], dtype=int32)"
      ]
     },
     "execution_count": 28,
     "metadata": {},
     "output_type": "execute_result"
    }
   ],
   "source": [
    "x**x"
   ]
  },
  {
   "cell_type": "code",
   "execution_count": 29,
   "id": "508ea6b9",
   "metadata": {},
   "outputs": [
    {
     "data": {
      "text/plain": [
       "array([[ True,  True,  True],\n",
       "       [ True,  True,  True]])"
      ]
     },
     "execution_count": 29,
     "metadata": {},
     "output_type": "execute_result"
    }
   ],
   "source": [
    "x==x"
   ]
  },
  {
   "cell_type": "code",
   "execution_count": 31,
   "id": "ee50da47",
   "metadata": {},
   "outputs": [
    {
     "data": {
      "text/plain": [
       "array([25.68007405, 23.88946281, 20.65754   , 27.45982194, 25.53544639,\n",
       "       22.72043837])"
      ]
     },
     "execution_count": 31,
     "metadata": {},
     "output_type": "execute_result"
    }
   ],
   "source": [
    "heights=np.array([1.83,1.76,1.69,1.86,1.77,1.73])\n",
    "weights=np.array([86,74,59,95,80,68])\n",
    "BMI=weights/(heights**2)\n",
    "BMI"
   ]
  },
  {
   "cell_type": "code",
   "execution_count": 32,
   "id": "8bd75a2a",
   "metadata": {},
   "outputs": [
    {
     "data": {
      "text/plain": [
       "array([[22, 28],\n",
       "       [49, 64]])"
      ]
     },
     "execution_count": 32,
     "metadata": {},
     "output_type": "execute_result"
    }
   ],
   "source": [
    "x=np.arange(1,7).reshape(2,3)\n",
    "y=np.arange(1,7).reshape(3,2)\n",
    "np.dot(x,y)"
   ]
  },
  {
   "cell_type": "code",
   "execution_count": 33,
   "id": "37dacd67",
   "metadata": {},
   "outputs": [
    {
     "data": {
      "text/plain": [
       "array([[22, 28],\n",
       "       [49, 64]])"
      ]
     },
     "execution_count": 33,
     "metadata": {},
     "output_type": "execute_result"
    }
   ],
   "source": [
    "x.dot(y) #내적 매우 중요."
   ]
  },
  {
   "cell_type": "code",
   "execution_count": 34,
   "id": "11edbf8d",
   "metadata": {},
   "outputs": [
    {
     "data": {
      "text/plain": [
       "array([[2, 3, 4],\n",
       "       [5, 6, 7]])"
      ]
     },
     "execution_count": 34,
     "metadata": {},
     "output_type": "execute_result"
    }
   ],
   "source": [
    "x+1#각각자리수연산= 브로드캐스팅 연산!!"
   ]
  },
  {
   "cell_type": "code",
   "execution_count": 35,
   "id": "e675a888",
   "metadata": {},
   "outputs": [
    {
     "data": {
      "text/plain": [
       "array([[ 1,  2,  3],\n",
       "       [ 4,  5,  6],\n",
       "       [ 7,  8,  9],\n",
       "       [10, 11, 12]])"
      ]
     },
     "execution_count": 35,
     "metadata": {},
     "output_type": "execute_result"
    }
   ],
   "source": [
    "x=np.arange(1,13).reshape(4,3)\n",
    "x"
   ]
  },
  {
   "cell_type": "code",
   "execution_count": 36,
   "id": "8544b0a8",
   "metadata": {},
   "outputs": [
    {
     "data": {
      "text/plain": [
       "array([10, 20, 30])"
      ]
     },
     "execution_count": 36,
     "metadata": {},
     "output_type": "execute_result"
    }
   ],
   "source": [
    "v=np.array([10,20,30])\n",
    "v"
   ]
  },
  {
   "cell_type": "code",
   "execution_count": 37,
   "id": "9225e76a",
   "metadata": {},
   "outputs": [
    {
     "data": {
      "text/plain": [
       "array([[11, 22, 33],\n",
       "       [14, 25, 36],\n",
       "       [17, 28, 39],\n",
       "       [20, 31, 42]])"
      ]
     },
     "execution_count": 37,
     "metadata": {},
     "output_type": "execute_result"
    }
   ],
   "source": [
    "x+v"
   ]
  },
  {
   "cell_type": "code",
   "execution_count": 38,
   "id": "8218f3cf",
   "metadata": {},
   "outputs": [
    {
     "data": {
      "text/plain": [
       "array([[1],\n",
       "       [2],\n",
       "       [3],\n",
       "       [4]])"
      ]
     },
     "execution_count": 38,
     "metadata": {},
     "output_type": "execute_result"
    }
   ],
   "source": [
    "v2=np.array([1,2,3,4]).reshape(-1,1)\n",
    "v2"
   ]
  },
  {
   "cell_type": "code",
   "execution_count": 39,
   "id": "6287cfcb",
   "metadata": {},
   "outputs": [
    {
     "data": {
      "text/plain": [
       "array([[ 2,  3,  4],\n",
       "       [ 6,  7,  8],\n",
       "       [10, 11, 12],\n",
       "       [14, 15, 16]])"
      ]
     },
     "execution_count": 39,
     "metadata": {},
     "output_type": "execute_result"
    }
   ],
   "source": [
    "x+v2"
   ]
  },
  {
   "cell_type": "code",
   "execution_count": 40,
   "id": "8687d9cf",
   "metadata": {},
   "outputs": [
    {
     "data": {
      "text/plain": [
       "array([[11, 21, 31],\n",
       "       [12, 22, 32],\n",
       "       [13, 23, 33],\n",
       "       [14, 24, 34]])"
      ]
     },
     "execution_count": 40,
     "metadata": {},
     "output_type": "execute_result"
    }
   ],
   "source": [
    "v+v2 #브로드캐스팅(자연스럽게 확장된다.)"
   ]
  },
  {
   "cell_type": "code",
   "execution_count": 41,
   "id": "cf14c666",
   "metadata": {},
   "outputs": [
    {
     "data": {
      "text/plain": [
       "array([3, 4, 5, 6, 7, 8, 9])"
      ]
     },
     "execution_count": 41,
     "metadata": {},
     "output_type": "execute_result"
    }
   ],
   "source": [
    "x=np.arange(3,10)\n",
    "x"
   ]
  },
  {
   "cell_type": "code",
   "execution_count": 42,
   "id": "92f07d95",
   "metadata": {},
   "outputs": [
    {
     "data": {
      "text/plain": [
       "array([False, False, False,  True,  True,  True,  True])"
      ]
     },
     "execution_count": 42,
     "metadata": {},
     "output_type": "execute_result"
    }
   ],
   "source": [
    "(x>5)"
   ]
  },
  {
   "cell_type": "code",
   "execution_count": 43,
   "id": "204d9f6b",
   "metadata": {},
   "outputs": [
    {
     "data": {
      "text/plain": [
       "False"
      ]
     },
     "execution_count": 43,
     "metadata": {},
     "output_type": "execute_result"
    }
   ],
   "source": [
    "(x>5).all()"
   ]
  },
  {
   "cell_type": "code",
   "execution_count": 44,
   "id": "bba6a2be",
   "metadata": {},
   "outputs": [
    {
     "data": {
      "text/plain": [
       "True"
      ]
     },
     "execution_count": 44,
     "metadata": {},
     "output_type": "execute_result"
    }
   ],
   "source": [
    "(x>5).any()"
   ]
  },
  {
   "cell_type": "code",
   "execution_count": 45,
   "id": "f7b1a04f",
   "metadata": {},
   "outputs": [
    {
     "data": {
      "text/plain": [
       "False"
      ]
     },
     "execution_count": 45,
     "metadata": {},
     "output_type": "execute_result"
    }
   ],
   "source": [
    "(x<1).all()"
   ]
  },
  {
   "cell_type": "code",
   "execution_count": 46,
   "id": "421918e9",
   "metadata": {},
   "outputs": [
    {
     "data": {
      "text/plain": [
       "False"
      ]
     },
     "execution_count": 46,
     "metadata": {},
     "output_type": "execute_result"
    }
   ],
   "source": [
    "(x<1).any()"
   ]
  },
  {
   "cell_type": "code",
   "execution_count": 47,
   "id": "c4e6144a",
   "metadata": {},
   "outputs": [
    {
     "data": {
      "text/plain": [
       "True"
      ]
     },
     "execution_count": 47,
     "metadata": {},
     "output_type": "execute_result"
    }
   ],
   "source": [
    "(x>2).all()"
   ]
  },
  {
   "cell_type": "code",
   "execution_count": 48,
   "id": "98abc2c5",
   "metadata": {},
   "outputs": [
    {
     "data": {
      "text/plain": [
       "True"
      ]
     },
     "execution_count": 48,
     "metadata": {},
     "output_type": "execute_result"
    }
   ],
   "source": [
    "(x>2).any()"
   ]
  },
  {
   "cell_type": "code",
   "execution_count": 49,
   "id": "6fbf7bc9",
   "metadata": {},
   "outputs": [],
   "source": [
    "x=np.random.randint(1,100,100)"
   ]
  },
  {
   "cell_type": "code",
   "execution_count": 50,
   "id": "bdde4045",
   "metadata": {},
   "outputs": [
    {
     "data": {
      "text/plain": [
       "array([18, 69, 85, 11,  2, 64, 59, 78, 36, 19, 51, 83, 10, 61, 18,  3, 51,\n",
       "       44, 59, 21, 13, 30, 20, 51, 86, 58, 52, 77, 95, 49, 57, 15,  5, 87,\n",
       "       40, 16, 88, 77, 60, 30,  3, 51, 41, 18, 20, 17, 24, 79, 88, 82, 46,\n",
       "       91,  7, 50, 12, 60, 10, 55, 54, 70, 29, 11, 97, 20,  3, 11, 83, 88,\n",
       "       15, 15, 79, 42, 38,  3, 43, 10, 29, 46, 52, 91, 29,  8, 96, 88, 55,\n",
       "       96, 59, 48, 96, 72, 86, 36, 96, 74, 34, 86,  2, 86, 17, 35])"
      ]
     },
     "execution_count": 50,
     "metadata": {},
     "output_type": "execute_result"
    }
   ],
   "source": [
    "x"
   ]
  },
  {
   "cell_type": "code",
   "execution_count": 52,
   "id": "bc4b9487",
   "metadata": {},
   "outputs": [
    {
     "name": "stdout",
     "output_type": "stream",
     "text": [
      "전원통과\n"
     ]
    }
   ],
   "source": [
    "x=np.random.randint(0,100,100)\n",
    "if np.mean(x)>=50:\n",
    "    print(\"전원통과\")\n",
    "if (x>=50).all():\n",
    "    print(\"학년1등\")\n",
    "if (x==100).any():\n",
    "    print(\"전교1등반\")"
   ]
  },
  {
   "cell_type": "code",
   "execution_count": 55,
   "id": "36ad2a30",
   "metadata": {},
   "outputs": [
    {
     "data": {
      "text/plain": [
       "array([10, 20, 20, 20, 20, 10])"
      ]
     },
     "execution_count": 55,
     "metadata": {},
     "output_type": "execute_result"
    }
   ],
   "source": [
    "x=np.array([1,2,3,4,5,1])\n",
    "np.where(x==1,10,20)#참일때 10, 거짓일때 20#'10','20'도 가능."
   ]
  },
  {
   "cell_type": "code",
   "execution_count": 56,
   "id": "606734af",
   "metadata": {},
   "outputs": [
    {
     "data": {
      "text/plain": [
       "array([0, 4, 2, 6, 1, 3, 5], dtype=int64)"
      ]
     },
     "execution_count": 56,
     "metadata": {},
     "output_type": "execute_result"
    }
   ],
   "source": [
    "d=np.array([1,5,3,7,2,8,4])\n",
    "np.argsort(d) #어떤게 작은지 순서대로."
   ]
  },
  {
   "cell_type": "code",
   "execution_count": 57,
   "id": "870133e6",
   "metadata": {},
   "outputs": [
    {
     "data": {
      "text/plain": [
       "5"
      ]
     },
     "execution_count": 57,
     "metadata": {},
     "output_type": "execute_result"
    }
   ],
   "source": [
    "np.argmax(d)#가장큰 데이터가 어디 위치하는지"
   ]
  },
  {
   "cell_type": "code",
   "execution_count": 58,
   "id": "5761aaa8",
   "metadata": {},
   "outputs": [
    {
     "data": {
      "text/plain": [
       "0"
      ]
     },
     "execution_count": 58,
     "metadata": {},
     "output_type": "execute_result"
    }
   ],
   "source": [
    "np.argmin(d)#가장 작은 값이 어디 위치하는지."
   ]
  },
  {
   "cell_type": "code",
   "execution_count": 59,
   "id": "ead4f261",
   "metadata": {},
   "outputs": [
    {
     "data": {
      "text/plain": [
       "array([False,  True, False,  True, False,  True, False])"
      ]
     },
     "execution_count": 59,
     "metadata": {},
     "output_type": "execute_result"
    }
   ],
   "source": [
    "d>=5"
   ]
  },
  {
   "cell_type": "code",
   "execution_count": 60,
   "id": "2df2787c",
   "metadata": {},
   "outputs": [
    {
     "data": {
      "text/plain": [
       "array([5, 7, 8])"
      ]
     },
     "execution_count": 60,
     "metadata": {},
     "output_type": "execute_result"
    }
   ],
   "source": [
    "d[d>=5]"
   ]
  },
  {
   "cell_type": "code",
   "execution_count": 61,
   "id": "05326eca",
   "metadata": {},
   "outputs": [
    {
     "data": {
      "text/plain": [
       "(7,)"
      ]
     },
     "execution_count": 61,
     "metadata": {},
     "output_type": "execute_result"
    }
   ],
   "source": [
    "(d>=5).shape"
   ]
  },
  {
   "cell_type": "code",
   "execution_count": 62,
   "id": "c66200e9",
   "metadata": {},
   "outputs": [
    {
     "data": {
      "text/plain": [
       "(7,)"
      ]
     },
     "execution_count": 62,
     "metadata": {},
     "output_type": "execute_result"
    }
   ],
   "source": [
    "d.shape #동일한 크기여야 연산가능."
   ]
  },
  {
   "cell_type": "code",
   "execution_count": 63,
   "id": "631eb86d",
   "metadata": {},
   "outputs": [
    {
     "data": {
      "text/plain": [
       "array([ 1,  2,  3,  4,  5,  6,  7,  8,  9, 10])"
      ]
     },
     "execution_count": 63,
     "metadata": {},
     "output_type": "execute_result"
    }
   ],
   "source": [
    "x=np.arange(1,11)\n",
    "x"
   ]
  },
  {
   "cell_type": "code",
   "execution_count": 65,
   "id": "a6c3773a",
   "metadata": {},
   "outputs": [
    {
     "data": {
      "text/plain": [
       "array([ 1,  6, 10,  1,  1,  1])"
      ]
     },
     "execution_count": 65,
     "metadata": {},
     "output_type": "execute_result"
    }
   ],
   "source": [
    "l=np.array([0,5,9,0,0,0])\n",
    "x[l]"
   ]
  },
  {
   "cell_type": "code",
   "execution_count": 69,
   "id": "0833cf17",
   "metadata": {},
   "outputs": [
    {
     "name": "stdout",
     "output_type": "stream",
     "text": [
      "[[ 1  2  3  4  5]\n",
      " [ 6  7  8  9 10]]\n"
     ]
    },
    {
     "data": {
      "text/plain": [
       "array([6, 2])"
      ]
     },
     "execution_count": 69,
     "metadata": {},
     "output_type": "execute_result"
    }
   ],
   "source": [
    "x=x.reshape(2,-1)\n",
    "i_1=np.array([0,1])\n",
    "i_0=np.array([1,0])\n",
    "print(x)\n",
    "x[i_0,i_1] # 팬시 인덱스 #넘파이 끝.!"
   ]
  },
  {
   "cell_type": "code",
   "execution_count": 70,
   "id": "3cc230e1",
   "metadata": {},
   "outputs": [],
   "source": [
    "#데이터=배열형태,동일한사이즈 필요.\n",
    "#연산,인덱스(똑같은사이즈) 대괄호가 차원을 구분할 수 있다.(콤마도가능)\n",
    "#콤마로 차원을 구분할 수 있다. 스칼라~브로드캐스트 연산 등 가능. for 없이 연산가능\n",
    "x_l=np.array([x,x,x])"
   ]
  },
  {
   "cell_type": "code",
   "execution_count": 71,
   "id": "478aa063",
   "metadata": {},
   "outputs": [
    {
     "data": {
      "text/plain": [
       "array([[[ 1,  2,  3,  4,  5],\n",
       "        [ 6,  7,  8,  9, 10]],\n",
       "\n",
       "       [[ 1,  2,  3,  4,  5],\n",
       "        [ 6,  7,  8,  9, 10]],\n",
       "\n",
       "       [[ 1,  2,  3,  4,  5],\n",
       "        [ 6,  7,  8,  9, 10]]])"
      ]
     },
     "execution_count": 71,
     "metadata": {},
     "output_type": "execute_result"
    }
   ],
   "source": [
    "x_l=np.array([x,x,x])\n",
    "x_l"
   ]
  },
  {
   "cell_type": "code",
   "execution_count": 72,
   "id": "e0506bba",
   "metadata": {},
   "outputs": [
    {
     "data": {
      "text/plain": [
       "array([[[1, 2, 3, 4],\n",
       "        [6, 7, 8, 9]],\n",
       "\n",
       "       [[1, 2, 3, 4],\n",
       "        [6, 7, 8, 9]],\n",
       "\n",
       "       [[1, 2, 3, 4],\n",
       "        [6, 7, 8, 9]]])"
      ]
     },
     "execution_count": 72,
     "metadata": {},
     "output_type": "execute_result"
    }
   ],
   "source": [
    "x_l[:,:,:4]"
   ]
  },
  {
   "cell_type": "code",
   "execution_count": null,
   "id": "cb00f92c",
   "metadata": {},
   "outputs": [],
   "source": []
  }
 ],
 "metadata": {
  "kernelspec": {
   "display_name": "Python 3 (ipykernel)",
   "language": "python",
   "name": "python3"
  },
  "language_info": {
   "codemirror_mode": {
    "name": "ipython",
    "version": 3
   },
   "file_extension": ".py",
   "mimetype": "text/x-python",
   "name": "python",
   "nbconvert_exporter": "python",
   "pygments_lexer": "ipython3",
   "version": "3.9.7"
  }
 },
 "nbformat": 4,
 "nbformat_minor": 5
}
