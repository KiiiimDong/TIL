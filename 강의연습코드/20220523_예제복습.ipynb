{
 "cells": [
  {
   "cell_type": "markdown",
   "id": "666ca80f",
   "metadata": {},
   "source": [
    "이름 : 김동현<br>\n",
    "MBTI : ISFP<br>\n",
    "저도 찍먹하려고 시작했는데, \n",
    "관심사 : 농구,야구, 드라마보기<br>\n",
    "관심프로젝트는 없고, 다뤘던 예제에서 긍정리뷰 부정리뷰 \n"
   ]
  },
  {
   "cell_type": "markdown",
   "id": "85955b83",
   "metadata": {},
   "source": [
    "### 데이터 수집"
   ]
  },
  {
   "cell_type": "code",
   "execution_count": 1,
   "id": "e02013ea",
   "metadata": {},
   "outputs": [
    {
     "data": {
      "text/html": [
       "<div>\n",
       "<style scoped>\n",
       "    .dataframe tbody tr th:only-of-type {\n",
       "        vertical-align: middle;\n",
       "    }\n",
       "\n",
       "    .dataframe tbody tr th {\n",
       "        vertical-align: top;\n",
       "    }\n",
       "\n",
       "    .dataframe thead th {\n",
       "        text-align: right;\n",
       "    }\n",
       "</style>\n",
       "<table border=\"1\" class=\"dataframe\">\n",
       "  <thead>\n",
       "    <tr style=\"text-align: right;\">\n",
       "      <th></th>\n",
       "      <th>label</th>\n",
       "      <th>reviews</th>\n",
       "    </tr>\n",
       "  </thead>\n",
       "  <tbody>\n",
       "    <tr>\n",
       "      <th>0</th>\n",
       "      <td>0</td>\n",
       "      <td>노래가 너무 적음</td>\n",
       "    </tr>\n",
       "    <tr>\n",
       "      <th>1</th>\n",
       "      <td>0</td>\n",
       "      <td>돌겠네 진짜. 황숙아, 어크 공장 그만 돌려라. 죽는다.</td>\n",
       "    </tr>\n",
       "    <tr>\n",
       "      <th>2</th>\n",
       "      <td>1</td>\n",
       "      <td>막노동 체험판 막노동 하는사람인데 장비를 내가 사야돼 뭐지</td>\n",
       "    </tr>\n",
       "    <tr>\n",
       "      <th>3</th>\n",
       "      <td>1</td>\n",
       "      <td>차악!차악!!차악!!! 정말 이래서 왕국을 되찾을 수 있는거야??</td>\n",
       "    </tr>\n",
       "    <tr>\n",
       "      <th>4</th>\n",
       "      <td>1</td>\n",
       "      <td>시간 때우기에 좋음.. 도전과제는 50시간이면 다 깰 수 있어요</td>\n",
       "    </tr>\n",
       "    <tr>\n",
       "      <th>...</th>\n",
       "      <td>...</td>\n",
       "      <td>...</td>\n",
       "    </tr>\n",
       "    <tr>\n",
       "      <th>99995</th>\n",
       "      <td>0</td>\n",
       "      <td>한글화해주면 10개산다</td>\n",
       "    </tr>\n",
       "    <tr>\n",
       "      <th>99996</th>\n",
       "      <td>0</td>\n",
       "      <td>개쌉노잼 ㅋㅋ</td>\n",
       "    </tr>\n",
       "    <tr>\n",
       "      <th>99997</th>\n",
       "      <td>0</td>\n",
       "      <td>노잼이네요... 30분하고 지웠어요...</td>\n",
       "    </tr>\n",
       "    <tr>\n",
       "      <th>99998</th>\n",
       "      <td>1</td>\n",
       "      <td>야생을 사랑하는 사람들을 위한 짧지만 여운이 남는 이야기. 영어는 그리 어렵지 않습니다.</td>\n",
       "    </tr>\n",
       "    <tr>\n",
       "      <th>99999</th>\n",
       "      <td>1</td>\n",
       "      <td>한국의 메탈레이지를 떠오르게한다 진짜 손맛으로 하는게임</td>\n",
       "    </tr>\n",
       "  </tbody>\n",
       "</table>\n",
       "<p>100000 rows × 2 columns</p>\n",
       "</div>"
      ],
      "text/plain": [
       "       label                                            reviews\n",
       "0          0                                          노래가 너무 적음\n",
       "1          0                    돌겠네 진짜. 황숙아, 어크 공장 그만 돌려라. 죽는다.\n",
       "2          1                   막노동 체험판 막노동 하는사람인데 장비를 내가 사야돼 뭐지\n",
       "3          1               차악!차악!!차악!!! 정말 이래서 왕국을 되찾을 수 있는거야??\n",
       "4          1                시간 때우기에 좋음.. 도전과제는 50시간이면 다 깰 수 있어요\n",
       "...      ...                                                ...\n",
       "99995      0                                       한글화해주면 10개산다\n",
       "99996      0                                            개쌉노잼 ㅋㅋ\n",
       "99997      0                             노잼이네요... 30분하고 지웠어요...\n",
       "99998      1  야생을 사랑하는 사람들을 위한 짧지만 여운이 남는 이야기. 영어는 그리 어렵지 않습니다.\n",
       "99999      1                     한국의 메탈레이지를 떠오르게한다 진짜 손맛으로 하는게임\n",
       "\n",
       "[100000 rows x 2 columns]"
      ]
     },
     "execution_count": 1,
     "metadata": {},
     "output_type": "execute_result"
    }
   ],
   "source": [
    "import pandas as pd\n",
    "data = pd.read_table('ck_data.txt', names = ['label','reviews'])\n",
    "data"
   ]
  },
  {
   "cell_type": "markdown",
   "id": "7a6f1b2a",
   "metadata": {},
   "source": [
    "### 전처리"
   ]
  },
  {
   "cell_type": "code",
   "execution_count": 2,
   "id": "f1b11a0c",
   "metadata": {},
   "outputs": [
    {
     "data": {
      "text/plain": [
       "False"
      ]
     },
     "execution_count": 2,
     "metadata": {},
     "output_type": "execute_result"
    }
   ],
   "source": [
    "data.isnull().values.any()"
   ]
  },
  {
   "cell_type": "code",
   "execution_count": 3,
   "id": "fd477611",
   "metadata": {},
   "outputs": [
    {
     "data": {
      "text/plain": [
       "(2, 99892)"
      ]
     },
     "execution_count": 3,
     "metadata": {},
     "output_type": "execute_result"
    }
   ],
   "source": [
    "data['label'].nunique(), data['reviews'].nunique()"
   ]
  },
  {
   "cell_type": "code",
   "execution_count": 4,
   "id": "27178ab3",
   "metadata": {},
   "outputs": [],
   "source": [
    "t_l_0 = data[data.label==0]"
   ]
  },
  {
   "cell_type": "code",
   "execution_count": 5,
   "id": "c1497039",
   "metadata": {},
   "outputs": [],
   "source": [
    "data=data.rename(columns = {'label':'y', 'reviews' : 'X'})"
   ]
  },
  {
   "cell_type": "code",
   "execution_count": 6,
   "id": "5fdbebb3",
   "metadata": {},
   "outputs": [
    {
     "name": "stderr",
     "output_type": "stream",
     "text": [
      "C:\\Users\\82105\\AppData\\Local\\Temp/ipykernel_11988/3868267648.py:4: FutureWarning: The default value of regex will change from True to False in a future version.\n",
      "  data['clean_X']=data.X.str.replace('[^ㄱ-ㅎㅏ-ㅣ가-힣 ]','')#한글외 정리\n",
      "C:\\Users\\82105\\AppData\\Local\\Temp/ipykernel_11988/3868267648.py:5: FutureWarning: The default value of regex will change from True to False in a future version.\n",
      "  data['clean_X']=data.clean_X.str.replace('^ +','')#공백 시작문자 정리\n"
     ]
    }
   ],
   "source": [
    "import numpy as np\n",
    "s_w=set(['은','는','이','가','를','들','에게','의','을','도','으로','만','라서','하다'])\n",
    "data= data.drop_duplicates(subset=['X'])#중복제거\n",
    "data['clean_X']=data.X.str.replace('[^ㄱ-ㅎㅏ-ㅣ가-힣 ]','') \n",
    "data['clean_X']=data.clean_X.str.replace('^ +','')\n",
    "data['clean_X']=data.clean_X.replace('',np.nan) \n",
    "data=data.dropna(how='any') "
   ]
  },
  {
   "cell_type": "code",
   "execution_count": 7,
   "id": "5ab6284e",
   "metadata": {},
   "outputs": [
    {
     "name": "stderr",
     "output_type": "stream",
     "text": [
      "100%|████████████████████████████████████████████████████████████████████████████████████████████████████████████████████████████████████| 99892/99892 [02:31<00:00, 657.56it/s]\n"
     ]
    }
   ],
   "source": [
    "from konlpy.tag import Okt\n",
    "okt=Okt()\n",
    "from tqdm import tqdm \n",
    "X_data=[] \n",
    "for i in tqdm(data['clean_X']): \n",
    "    tk_d=okt.morphs(i) \n",
    "    end_d=[w for w in tk_d if not w in s_w] \n",
    "    X_data.append(' '.join(end_d))"
   ]
  },
  {
   "cell_type": "code",
   "execution_count": 8,
   "id": "6e27ddf3",
   "metadata": {},
   "outputs": [],
   "source": [
    "from sklearn.model_selection import train_test_split\n",
    "from tensorflow.keras.utils import to_categorical\n",
    "from sklearn.preprocessing import LabelEncoder\n",
    "\n",
    "data['y_name']=data['y']\n",
    "data['encoder_y']=LabelEncoder().fit_transform(data['y'])\n",
    "data['categorical_y']=list(to_categorical(data['encoder_y']))\n",
    "Y=np.array(data['encoder_y'])\n",
    "X=np.array(X_data)\n",
    "x_data,test_x,y_data,test_y = train_test_split(X,Y,test_size=0.3,random_state=0)\n",
    "train_x,val_x,train_y,val_y = train_test_split(x_data,y_data,test_size=0.2,random_state=0)"
   ]
  },
  {
   "cell_type": "code",
   "execution_count": 9,
   "id": "607d35a4",
   "metadata": {},
   "outputs": [
    {
     "data": {
      "text/plain": [
       "(((55939,), (55939,)), ((29968,), (29968,)), ((13985,), (13985,)))"
      ]
     },
     "execution_count": 9,
     "metadata": {},
     "output_type": "execute_result"
    }
   ],
   "source": [
    "(train_x.shape,train_y.shape),(test_x.shape,test_y.shape),(val_x.shape,val_y.shape)"
   ]
  },
  {
   "cell_type": "code",
   "execution_count": 10,
   "id": "1ce05daf",
   "metadata": {},
   "outputs": [
    {
     "name": "stderr",
     "output_type": "stream",
     "text": [
      "C:\\ProgramData\\Anaconda3\\lib\\site-packages\\numpy\\core\\_asarray.py:83: VisibleDeprecationWarning: Creating an ndarray from ragged nested sequences (which is a list-or-tuple of lists-or-tuples-or ndarrays with different lengths or shapes) is deprecated. If you meant to do this, you must specify 'dtype=object' when creating the ndarray\n",
      "  return array(a, dtype, copy=False, order=order)\n"
     ]
    }
   ],
   "source": [
    "from tensorflow.keras.preprocessing.text import Tokenizer\n",
    "tk = Tokenizer()\n",
    "tk.fit_on_texts(train_x)\n",
    "n=len([d for d in sorted(list(tk.word_counts.items()),key=lambda x:x[1]) if d[1]>4])+1\n",
    "token=Tokenizer(n)\n",
    "token.fit_on_texts(train_x)\n",
    "token_train_x=token.texts_to_sequences(train_x)\n",
    "token_test_x=token.texts_to_sequences(test_x)\n",
    "token_val_x=token.texts_to_sequences(val_x)\n",
    "drop_train = [index for index, sentence in enumerate(token_train_x) if len(sentence) < 1]\n",
    "drop_test = [index for index, sentence in enumerate(token_test_x) if len(sentence) < 1] \n",
    "drop_val = [index for index, sentence in enumerate(token_val_x) if len(sentence) < 1] \n",
    "token_train_x = np.delete(token_train_x, drop_train, axis=0)\n",
    "train_y = np.delete(train_y, drop_train, axis=0)\n",
    "token_test_x = np.delete(token_test_x, drop_test, axis=0)\n",
    "test_y = np.delete(test_y, drop_test, axis=0)\n",
    "token_val_x = np.delete(token_val_x, drop_val, axis=0)\n",
    "val_y = np.delete(val_y, drop_val, axis=0)"
   ]
  },
  {
   "cell_type": "code",
   "execution_count": 11,
   "id": "871f8a5d",
   "metadata": {},
   "outputs": [],
   "source": [
    "from tensorflow.keras.preprocessing.sequence import pad_sequences\n",
    "w_l=len(pad_sequences(token_train_x)[0])\n",
    "train_inputs = pad_sequences(token_train_x,maxlen=w_l)\n",
    "test_inputs = pad_sequences(token_test_x,maxlen=w_l)\n",
    "val_inputs = pad_sequences(token_val_x,maxlen=w_l)"
   ]
  },
  {
   "cell_type": "code",
   "execution_count": 12,
   "id": "f5f61eec",
   "metadata": {},
   "outputs": [],
   "source": [
    "train_outputs=train_y\n",
    "test_outputs=test_y\n",
    "val_outputs=val_y"
   ]
  },
  {
   "cell_type": "code",
   "execution_count": 13,
   "id": "d09cbfb8",
   "metadata": {},
   "outputs": [
    {
     "data": {
      "text/plain": [
       "(((55568, 53), (55568,)), ((29741, 53), (29741,)), ((13870, 53), (13870,)))"
      ]
     },
     "execution_count": 13,
     "metadata": {},
     "output_type": "execute_result"
    }
   ],
   "source": [
    "(train_inputs.shape,train_outputs.shape),(test_inputs.shape,test_outputs.shape),(val_inputs.shape,val_outputs.shape)"
   ]
  },
  {
   "cell_type": "code",
   "execution_count": 14,
   "id": "1606c7fa",
   "metadata": {},
   "outputs": [],
   "source": [
    "전처리된데이터={}\n",
    "전처리된데이터['학습데이터'] = train_inputs\n",
    "전처리된데이터['학습결과'] = train_outputs\n",
    "전처리된데이터['테스트데이터'] = test_inputs\n",
    "전처리된데이터['테스트결과'] = test_outputs\n",
    "전처리된데이터['검증데이터'] = val_inputs\n",
    "전처리된데이터['검증결과'] = val_outputs\n",
    "전처리된데이터['토큰'] = token\n",
    "전처리된데이터['단어수'] = n\n",
    "전처리된데이터['불용어'] = s_w\n",
    "전처리된데이터['입력길이'] = w_l"
   ]
  },
  {
   "cell_type": "code",
   "execution_count": 15,
   "id": "2072f47a",
   "metadata": {},
   "outputs": [
    {
     "data": {
      "text/plain": [
       "dict_keys(['학습데이터', '학습결과', '테스트데이터', '테스트결과', '검증데이터', '검증결과', '토큰', '단어수', '불용어', '입력길이'])"
      ]
     },
     "execution_count": 15,
     "metadata": {},
     "output_type": "execute_result"
    }
   ],
   "source": [
    "전처리된데이터.keys()"
   ]
  },
  {
   "cell_type": "code",
   "execution_count": 16,
   "id": "cf4f3b1a",
   "metadata": {},
   "outputs": [],
   "source": [
    "import pickle\n",
    "with open(\"data.pickle\", 'wb') as fw:\n",
    "    pickle.dump(전처리된데이터, fw)"
   ]
  },
  {
   "cell_type": "markdown",
   "id": "37a968c1",
   "metadata": {},
   "source": [
    "### 모델학습"
   ]
  },
  {
   "cell_type": "code",
   "execution_count": 17,
   "id": "1f0e10d6",
   "metadata": {},
   "outputs": [],
   "source": [
    "from tensorflow.keras.models import Sequential\n",
    "from tensorflow.keras.layers import Dense, Dropout,Embedding, Dense, LSTM,BatchNormalization, Bidirectional\n",
    "from tensorflow.keras.models import load_model\n",
    "from tensorflow.keras.callbacks import EarlyStopping, ModelCheckpoint\n",
    "\n",
    "es = EarlyStopping(monitor='val_loss', mode='min', verbose=1, patience=4)\n",
    "mc = ModelCheckpoint('best_modelQ1.h5', monitor='val_acc', mode='max', verbose=1, save_best_only=True)"
   ]
  },
  {
   "cell_type": "code",
   "execution_count": 18,
   "id": "b9b92251",
   "metadata": {},
   "outputs": [],
   "source": [
    "model = Sequential()\n",
    "model.add(Embedding(n, 128))\n",
    "model.add(Bidirectional(LSTM(128,return_sequences=True)))\n",
    "model.add(Dropout(0.5))\n",
    "model.add(Bidirectional(LSTM(64)))\n",
    "model.add(Dropout(0.5))\n",
    "model.add(Dense(1, activation='sigmoid'))"
   ]
  },
  {
   "cell_type": "code",
   "execution_count": 19,
   "id": "ad644727",
   "metadata": {},
   "outputs": [
    {
     "name": "stdout",
     "output_type": "stream",
     "text": [
      "Epoch 1/10\n",
      "1737/1737 [==============================] - 209s 117ms/step - loss: 0.5071 - acc: 0.7516 - val_loss: 0.4625 - val_acc: 0.7789\n",
      "\n",
      "Epoch 00001: val_acc improved from -inf to 0.77895, saving model to best_modelQ1.h5\n",
      "Epoch 2/10\n",
      "1737/1737 [==============================] - 206s 119ms/step - loss: 0.3991 - acc: 0.8213 - val_loss: 0.4777 - val_acc: 0.7813\n",
      "\n",
      "Epoch 00002: val_acc improved from 0.77895 to 0.78125, saving model to best_modelQ1.h5\n",
      "Epoch 3/10\n",
      "1737/1737 [==============================] - 209s 120ms/step - loss: 0.3300 - acc: 0.8561 - val_loss: 0.4910 - val_acc: 0.7792\n",
      "\n",
      "Epoch 00003: val_acc did not improve from 0.78125\n",
      "Epoch 4/10\n",
      "1737/1737 [==============================] - 196s 113ms/step - loss: 0.2693 - acc: 0.8837 - val_loss: 0.5589 - val_acc: 0.7685\n",
      "\n",
      "Epoch 00004: val_acc did not improve from 0.78125\n",
      "Epoch 5/10\n",
      "1737/1737 [==============================] - 196s 113ms/step - loss: 0.2177 - acc: 0.9097 - val_loss: 0.6940 - val_acc: 0.7627\n",
      "\n",
      "Epoch 00005: val_acc did not improve from 0.78125\n",
      "Epoch 00005: early stopping\n"
     ]
    }
   ],
   "source": [
    "model.compile(optimizer='adam', loss='binary_crossentropy', metrics=['acc'])\n",
    "history = model.fit(train_inputs, train_outputs, epochs=10, callbacks=[es, mc], batch_size=32,validation_data=(val_inputs,val_outputs))"
   ]
  },
  {
   "cell_type": "code",
   "execution_count": 20,
   "id": "1661b2c4",
   "metadata": {},
   "outputs": [
    {
     "data": {
      "image/png": "[encoded data removed]",
      "text/plain": [
       "<Figure size 432x288 with 1 Axes>"
      ]
     },
     "metadata": {
      "needs_background": "light"
     },
     "output_type": "display_data"
    }
   ],
   "source": [
    "import matplotlib.pyplot as plt\n",
    "epochs = range(1, len(history.history['acc']) + 1)\n",
    "plt.plot(epochs, history.history['loss'])\n",
    "plt.plot(epochs, history.history['val_loss'])\n",
    "plt.title('m1 loss')\n",
    "plt.ylabel('loss')\n",
    "plt.xlabel('epoch')\n",
    "plt.legend(['train', 'test'], loc='upper left')\n",
    "plt.show()"
   ]
  },
  {
   "cell_type": "code",
   "execution_count": 22,
   "id": "f5666441",
   "metadata": {},
   "outputs": [
    {
     "name": "stdout",
     "output_type": "stream",
     "text": [
      "930/930 [==============================] - 28s 29ms/step - loss: 0.4762 - acc: 0.7826\n"
     ]
    },
    {
     "data": {
      "text/plain": [
       "0.7825560569763184"
      ]
     },
     "execution_count": 22,
     "metadata": {},
     "output_type": "execute_result"
    }
   ],
   "source": [
    "loaded_model = load_model('best_modelQ1.h5')\n",
    "loaded_model.evaluate(test_inputs,test_outputs)[1]"
   ]
  },
  {
   "cell_type": "code",
   "execution_count": 23,
   "id": "672accb1",
   "metadata": {},
   "outputs": [],
   "source": [
    "import re\n",
    "def 문장_전처리(문장):\n",
    "    문장 = re.sub(r'[^ㄱ-ㅎㅏ-ㅣ가-힣 ]','', 문장)\n",
    "    문장 = okt.morphs(문장, stem=True)\n",
    "    문장 = [w for w in 문장 if not w in s_w] \n",
    "    encoded = token.texts_to_sequences([문장])\n",
    "    pad_new = pad_sequences(encoded, maxlen = w_l) \n",
    "    score = float(loaded_model.predict(pad_new))\n",
    "    if(score > 0.5):\n",
    "        print(f\"{score * 100:.2f}% 확률로 긍정 리뷰입니다.\\n\")\n",
    "    else:\n",
    "        print(f\"{(1 - score) * 100:.2f}% 확률로 부정 리뷰입니다.\\n\")"
   ]
  },
  {
   "cell_type": "code",
   "execution_count": 24,
   "id": "4627df87",
   "metadata": {},
   "outputs": [
    {
     "name": "stdout",
     "output_type": "stream",
     "text": [
      "93.87% 확률로 부정 리뷰입니다.\n",
      "\n"
     ]
    }
   ],
   "source": [
    "문장_전처리('쓰레기 같은 게임')"
   ]
  },
  {
   "cell_type": "code",
   "execution_count": 25,
   "id": "05c18d60",
   "metadata": {},
   "outputs": [
    {
     "name": "stdout",
     "output_type": "stream",
     "text": [
      "95.26% 확률로 긍정 리뷰입니다.\n",
      "\n"
     ]
    }
   ],
   "source": [
    "문장_전처리('재밌게 플레이 했습니다')"
   ]
  },
  {
   "cell_type": "markdown",
   "id": "9a128d32",
   "metadata": {},
   "source": [
    "### 보충했으면 하는 부분"
   ]
  },
  {
   "cell_type": "markdown",
   "id": "95d07acc",
   "metadata": {},
   "source": [
    "크롤링,"
   ]
  }
 ],
 "metadata": {
  "kernelspec": {
   "display_name": "Python 3 (ipykernel)",
   "language": "python",
   "name": "python3"
  },
  "language_info": {
   "codemirror_mode": {
    "name": "ipython",
    "version": 3
   },
   "file_extension": ".py",
   "mimetype": "text/x-python",
   "name": "python",
   "nbconvert_exporter": "python",
   "pygments_lexer": "ipython3",
   "version": "3.9.7"
  }
 },
 "nbformat": 4,
 "nbformat_minor": 5
}
