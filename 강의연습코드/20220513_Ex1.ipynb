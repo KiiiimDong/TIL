{
 "cells": [
  {
   "cell_type": "code",
   "execution_count": 1,
   "id": "ceeaf86d",
   "metadata": {},
   "outputs": [],
   "source": [
    "import pandas as pd"
   ]
  },
  {
   "cell_type": "code",
   "execution_count": 2,
   "id": "1c1098e1",
   "metadata": {},
   "outputs": [],
   "source": [
    "X_data = pd.read_csv('X_data.csv')"
   ]
  },
  {
   "cell_type": "code",
   "execution_count": 3,
   "id": "7d05ce2a",
   "metadata": {},
   "outputs": [],
   "source": [
    "y_data = pd.read_csv('Y_data.csv')"
   ]
  },
  {
   "cell_type": "code",
   "execution_count": 4,
   "id": "5b45948e",
   "metadata": {},
   "outputs": [
    {
     "data": {
      "text/plain": [
       "(10000, 10000)"
      ]
     },
     "execution_count": 4,
     "metadata": {},
     "output_type": "execute_result"
    }
   ],
   "source": [
    "X_data.shape"
   ]
  },
  {
   "cell_type": "code",
   "execution_count": 5,
   "id": "68e76f40",
   "metadata": {},
   "outputs": [
    {
     "data": {
      "text/plain": [
       "(10000, 103)"
      ]
     },
     "execution_count": 5,
     "metadata": {},
     "output_type": "execute_result"
    }
   ],
   "source": [
    "y_data.shape"
   ]
  },
  {
   "cell_type": "code",
   "execution_count": 6,
   "id": "ecfb646b",
   "metadata": {},
   "outputs": [],
   "source": [
    "import pandas as pd\n",
    "from tensorflow.keras.preprocessing.text import Tokenizer # 토큰\n",
    "#from tensorflow.keras.utils import to_categorical # 원핫인코딩 (정수형 범주를 입력해야한다.)\n",
    "from sklearn.model_selection import train_test_split\n",
    "import matplotlib.pyplot as plt\n",
    "from tensorflow.keras.models import Sequential\n",
    "from tensorflow.keras.layers import Dense, Dropout"
   ]
  },
  {
   "cell_type": "code",
   "execution_count": 9,
   "id": "380c39c2",
   "metadata": {},
   "outputs": [],
   "source": [
    "t_x,tt_x,t_y,tt_y=train_test_split(X_data,y_data)"
   ]
  },
  {
   "cell_type": "code",
   "execution_count": 10,
   "id": "afb3ee0a",
   "metadata": {},
   "outputs": [
    {
     "name": "stdout",
     "output_type": "stream",
     "text": [
      "Epoch 1/10\n",
      "235/235 [==============================] - 6s 18ms/step - loss: 151.4202 - accuracy: 0.0452 - val_loss: 562.8328 - val_accuracy: 0.0032\n",
      "Epoch 2/10\n",
      "235/235 [==============================] - 4s 15ms/step - loss: 2286.9749 - accuracy: 0.0561 - val_loss: 4429.4751 - val_accuracy: 0.0032\n",
      "Epoch 3/10\n",
      "235/235 [==============================] - 3s 15ms/step - loss: 8706.4932 - accuracy: 0.0481 - val_loss: 13599.4541 - val_accuracy: 0.0032\n",
      "Epoch 4/10\n",
      "235/235 [==============================] - 3s 14ms/step - loss: 20854.5664 - accuracy: 0.0533 - val_loss: 27996.3945 - val_accuracy: 0.0032\n",
      "Epoch 5/10\n",
      "235/235 [==============================] - 3s 14ms/step - loss: 38833.6523 - accuracy: 0.0500 - val_loss: 48332.7734 - val_accuracy: 0.2064\n",
      "Epoch 6/10\n",
      "235/235 [==============================] - 3s 15ms/step - loss: 62979.2812 - accuracy: 0.0492 - val_loss: 75644.5078 - val_accuracy: 0.0032\n",
      "Epoch 7/10\n",
      "235/235 [==============================] - 3s 14ms/step - loss: 94643.4609 - accuracy: 0.0493 - val_loss: 109958.6953 - val_accuracy: 0.0032\n",
      "Epoch 8/10\n",
      "235/235 [==============================] - 3s 14ms/step - loss: 133309.9062 - accuracy: 0.0500 - val_loss: 152279.4688 - val_accuracy: 0.0032\n",
      "Epoch 9/10\n",
      "235/235 [==============================] - 3s 14ms/step - loss: 182201.0000 - accuracy: 0.0507 - val_loss: 203715.7188 - val_accuracy: 0.0000e+00\n",
      "Epoch 10/10\n",
      "235/235 [==============================] - 3s 14ms/step - loss: 236066.3594 - accuracy: 0.0477 - val_loss: 260700.9062 - val_accuracy: 0.0032\n"
     ]
    }
   ],
   "source": [
    "m = Sequential()\n",
    "m.add(Dense(256,input_shape=(10000,),activation='relu'))\n",
    "m.add(Dropout(0.5))\n",
    "m.add(Dense(128,activation='relu'))\n",
    "m.add(Dropout(0.5))\n",
    "m.add(Dense(103,activation='softmax'))\n",
    "m.compile(optimizer='adam',loss='categorical_crossentropy',metrics=['accuracy'])\n",
    "hy = m.fit(t_x,t_y,epochs=10,validation_data=(tt_x,tt_y))"
   ]
  },
  {
   "cell_type": "code",
   "execution_count": 11,
   "id": "33f5a985",
   "metadata": {},
   "outputs": [
    {
     "data": {
      "text/plain": [
       "[<matplotlib.lines.Line2D at 0x1799a4ebe80>]"
      ]
     },
     "execution_count": 11,
     "metadata": {},
     "output_type": "execute_result"
    },
    {
     "data": {
      "image/png": "[encoded data removed]",
      "text/plain": [
       "<Figure size 432x288 with 1 Axes>"
      ]
     },
     "metadata": {
      "needs_background": "light"
     },
     "output_type": "display_data"
    }
   ],
   "source": [
    "ec = range(1,len(hy.history['accuracy'])+1)\n",
    "plt.plot(ec,hy.history['loss'])\n",
    "plt.plot(ec,hy.history['val_loss'])"
   ]
  },
  {
   "cell_type": "markdown",
   "id": "18a6672d",
   "metadata": {},
   "source": [
    "FNNLM"
   ]
  }
 ],
 "metadata": {
  "kernelspec": {
   "display_name": "Python 3 (ipykernel)",
   "language": "python",
   "name": "python3"
  },
  "language_info": {
   "codemirror_mode": {
    "name": "ipython",
    "version": 3
   },
   "file_extension": ".py",
   "mimetype": "text/x-python",
   "name": "python",
   "nbconvert_exporter": "python",
   "pygments_lexer": "ipython3",
   "version": "3.9.7"
  }
 },
 "nbformat": 4,
 "nbformat_minor": 5
}
