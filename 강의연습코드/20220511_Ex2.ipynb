{
 "cells": [
  {
   "cell_type": "code",
   "execution_count": 1,
   "id": "e2bf70fd",
   "metadata": {},
   "outputs": [
    {
     "data": {
      "text/plain": [
       "{1, 2, 3, 4, 5, 6, 7}"
      ]
     },
     "execution_count": 1,
     "metadata": {},
     "output_type": "execute_result"
    }
   ],
   "source": [
    "A = set([1,2,3,4,5])\n",
    "B = set([4,5,6,7])\n",
    "A | B # 합집합"
   ]
  },
  {
   "cell_type": "code",
   "execution_count": 2,
   "id": "e1a75c4e",
   "metadata": {},
   "outputs": [
    {
     "data": {
      "text/plain": [
       "{4, 5}"
      ]
     },
     "execution_count": 2,
     "metadata": {},
     "output_type": "execute_result"
    }
   ],
   "source": [
    "A & B # 교집합"
   ]
  },
  {
   "cell_type": "code",
   "execution_count": 3,
   "id": "db1e9108",
   "metadata": {},
   "outputs": [
    {
     "data": {
      "text/plain": [
       "['안녕', '나는', '오늘', '힘들어']"
      ]
     },
     "execution_count": 3,
     "metadata": {},
     "output_type": "execute_result"
    }
   ],
   "source": [
    "data1 = '안녕 나는 오늘 힘들어'.split()\n",
    "data2 = '안녕 못해 나는 지금 너무 힘들어'.split()\n",
    "data1"
   ]
  },
  {
   "cell_type": "code",
   "execution_count": 4,
   "id": "99791464",
   "metadata": {},
   "outputs": [
    {
     "data": {
      "text/plain": [
       "{'나는', '너무', '못해', '안녕', '오늘', '지금', '힘들어'}"
      ]
     },
     "execution_count": 4,
     "metadata": {},
     "output_type": "execute_result"
    }
   ],
   "source": [
    "un = set(data1) | set(data2)\n",
    "un"
   ]
  },
  {
   "cell_type": "code",
   "execution_count": 5,
   "id": "53e2b10a",
   "metadata": {},
   "outputs": [
    {
     "data": {
      "text/plain": [
       "{'나는', '안녕', '힘들어'}"
      ]
     },
     "execution_count": 5,
     "metadata": {},
     "output_type": "execute_result"
    }
   ],
   "source": [
    "intd = set(data1) & set(data2)\n",
    "intd"
   ]
  },
  {
   "cell_type": "code",
   "execution_count": 6,
   "id": "2c9f5d35",
   "metadata": {},
   "outputs": [
    {
     "data": {
      "text/plain": [
       "0.42857142857142855"
      ]
     },
     "execution_count": 6,
     "metadata": {},
     "output_type": "execute_result"
    }
   ],
   "source": [
    "len(intd)/len(un)"
   ]
  },
  {
   "cell_type": "code",
   "execution_count": 7,
   "id": "347d1394",
   "metadata": {},
   "outputs": [],
   "source": [
    "data1 = '안녕 나는 오늘 힘들어.'\n",
    "data2 = '안녕 못해 나는 지금 너무 힘들어'"
   ]
  },
  {
   "cell_type": "code",
   "execution_count": 8,
   "id": "12a8d71b",
   "metadata": {},
   "outputs": [
    {
     "data": {
      "text/plain": [
       "array([[0.44832087, 0.        , 0.        , 0.44832087, 0.63009934,\n",
       "        0.        , 0.44832087],\n",
       "       [0.33471228, 0.47042643, 0.47042643, 0.33471228, 0.        ,\n",
       "        0.47042643, 0.33471228]])"
      ]
     },
     "execution_count": 8,
     "metadata": {},
     "output_type": "execute_result"
    }
   ],
   "source": [
    "from sklearn.feature_extraction.text import TfidfVectorizer\n",
    "t_v = TfidfVectorizer()\n",
    "m_data = t_v.fit_transform([data1,data2])\n",
    "m_data.toarray()"
   ]
  },
  {
   "cell_type": "code",
   "execution_count": 9,
   "id": "c66d583e",
   "metadata": {},
   "outputs": [
    {
     "data": {
      "text/plain": [
       "<2x7 sparse matrix of type '<class 'numpy.float64'>'\n",
       "\twith 10 stored elements in Compressed Sparse Row format>"
      ]
     },
     "execution_count": 9,
     "metadata": {},
     "output_type": "execute_result"
    }
   ],
   "source": [
    "m_data"
   ]
  },
  {
   "cell_type": "code",
   "execution_count": 10,
   "id": "680c1008",
   "metadata": {},
   "outputs": [
    {
     "data": {
      "text/plain": [
       "{'안녕': 3, '나는': 0, '오늘': 4, '힘들어': 6, '못해': 2, '지금': 5, '너무': 1}"
      ]
     },
     "execution_count": 10,
     "metadata": {},
     "output_type": "execute_result"
    }
   ],
   "source": [
    "t_v.vocabulary_"
   ]
  },
  {
   "cell_type": "code",
   "execution_count": 11,
   "id": "2c726e4d",
   "metadata": {},
   "outputs": [
    {
     "data": {
      "text/plain": [
       "array([1.        , 1.40546511, 1.40546511, 1.        , 1.40546511,\n",
       "       1.40546511, 1.        ])"
      ]
     },
     "execution_count": 11,
     "metadata": {},
     "output_type": "execute_result"
    }
   ],
   "source": [
    "idf = t_v.idf_\n",
    "idf"
   ]
  },
  {
   "cell_type": "code",
   "execution_count": 12,
   "id": "03852384",
   "metadata": {},
   "outputs": [
    {
     "data": {
      "text/plain": [
       "array([[0.44832087, 0.        , 0.        , 0.44832087, 0.63009934,\n",
       "        0.        , 0.44832087]])"
      ]
     },
     "execution_count": 12,
     "metadata": {},
     "output_type": "execute_result"
    }
   ],
   "source": [
    "m_data[0:1].toarray()"
   ]
  },
  {
   "cell_type": "code",
   "execution_count": 13,
   "id": "614f632e",
   "metadata": {},
   "outputs": [
    {
     "data": {
      "text/plain": [
       "array([0.33333333, 0.5       , 0.        ])"
      ]
     },
     "execution_count": 13,
     "metadata": {},
     "output_type": "execute_result"
    }
   ],
   "source": [
    "from sklearn.metrics import jaccard_score\n",
    "import numpy as np\n",
    "#jaccard_score(m_data[0:1],m_data[1:2])\n",
    "jaccard_score(np.array([0,1,0,0]),np.array([0,1,1,2]), average=None)"
   ]
  },
  {
   "cell_type": "markdown",
   "id": "45c8c900",
   "metadata": {},
   "source": [
    "유클리드 유사도"
   ]
  },
  {
   "cell_type": "code",
   "execution_count": 14,
   "id": "a1a3d4fe",
   "metadata": {},
   "outputs": [],
   "source": [
    "def f(A,B):\n",
    "    return np.sqrt(np.sum((A-B)**2))"
   ]
  },
  {
   "cell_type": "code",
   "execution_count": 15,
   "id": "93e25565",
   "metadata": {},
   "outputs": [
    {
     "data": {
      "text/plain": [
       "2.23606797749979"
      ]
     },
     "execution_count": 15,
     "metadata": {},
     "output_type": "execute_result"
    }
   ],
   "source": [
    "A = np.array([0,1,2,3,4])\n",
    "B = np.array([1,0,1,2,3])\n",
    "f(A,B)"
   ]
  },
  {
   "cell_type": "code",
   "execution_count": 16,
   "id": "22f1d31a",
   "metadata": {},
   "outputs": [
    {
     "data": {
      "text/plain": [
       "array([[1.0486415]])"
      ]
     },
     "execution_count": 16,
     "metadata": {},
     "output_type": "execute_result"
    }
   ],
   "source": [
    "from sklearn.metrics import euclidean_distances\n",
    "euclidean_distances(m_data[0:1],m_data[1:2])"
   ]
  },
  {
   "cell_type": "code",
   "execution_count": 17,
   "id": "8b789b3b",
   "metadata": {},
   "outputs": [
    {
     "data": {
      "text/plain": [
       "array([[0.44832087, 0.        , 0.        , 0.44832087, 0.63009934,\n",
       "        0.        , 0.44832087],\n",
       "       [0.33471228, 0.47042643, 0.47042643, 0.33471228, 0.        ,\n",
       "        0.47042643, 0.33471228]])"
      ]
     },
     "execution_count": 17,
     "metadata": {},
     "output_type": "execute_result"
    }
   ],
   "source": [
    "m_data.toarray()"
   ]
  },
  {
   "cell_type": "code",
   "execution_count": 18,
   "id": "5f3f247a",
   "metadata": {},
   "outputs": [],
   "source": [
    "# 정규화\n",
    "def e_f(m):\n",
    "    return m/np.sum(m)"
   ]
  },
  {
   "cell_type": "code",
   "execution_count": 19,
   "id": "bfff365a",
   "metadata": {},
   "outputs": [],
   "source": [
    "e_data = e_f(m_data)"
   ]
  },
  {
   "cell_type": "code",
   "execution_count": 20,
   "id": "b246dd84",
   "metadata": {},
   "outputs": [
    {
     "data": {
      "text/plain": [
       "array([[0.23884449]])"
      ]
     },
     "execution_count": 20,
     "metadata": {},
     "output_type": "execute_result"
    }
   ],
   "source": [
    "euclidean_distances(e_data[0:1],e_data[1:2])"
   ]
  },
  {
   "cell_type": "markdown",
   "id": "d327b8a8",
   "metadata": {},
   "source": [
    "멘하탄 유사도, 멘하탄 거리"
   ]
  },
  {
   "cell_type": "code",
   "execution_count": 21,
   "id": "f690e694",
   "metadata": {},
   "outputs": [
    {
     "data": {
      "text/plain": [
       "1"
      ]
     },
     "execution_count": 21,
     "metadata": {},
     "output_type": "execute_result"
    }
   ],
   "source": [
    "a = np.array([-1,2,3])\n",
    "b = np.array([1,3,-4])\n",
    "abs(-1) # abs 절대값연산 함수"
   ]
  },
  {
   "cell_type": "code",
   "execution_count": 22,
   "id": "5f138711",
   "metadata": {},
   "outputs": [
    {
     "data": {
      "text/plain": [
       "10"
      ]
     },
     "execution_count": 22,
     "metadata": {},
     "output_type": "execute_result"
    }
   ],
   "source": [
    "np.sum(abs(a-b))"
   ]
  },
  {
   "cell_type": "code",
   "execution_count": 23,
   "id": "8efcc65c",
   "metadata": {},
   "outputs": [],
   "source": [
    "def f(A,B):\n",
    "    return np.sum(abs((A-B)))"
   ]
  },
  {
   "cell_type": "code",
   "execution_count": 24,
   "id": "b22c17f2",
   "metadata": {},
   "outputs": [
    {
     "data": {
      "text/plain": [
       "5"
      ]
     },
     "execution_count": 24,
     "metadata": {},
     "output_type": "execute_result"
    }
   ],
   "source": [
    "A = np.array([0,1,2,3,4])\n",
    "B = np.array([1,0,1,2,3])\n",
    "f(A,B)\n",
    "# 거리는 수치 값이 낮은게 좋은거다."
   ]
  },
  {
   "cell_type": "markdown",
   "id": "000a5183",
   "metadata": {},
   "source": [
    "유클리드 거리, 맨하탄 거리 유사도 확인"
   ]
  },
  {
   "cell_type": "code",
   "execution_count": 25,
   "id": "d99f9e73",
   "metadata": {},
   "outputs": [
    {
     "data": {
      "text/plain": [
       "array([[1.0486415]])"
      ]
     },
     "execution_count": 25,
     "metadata": {},
     "output_type": "execute_result"
    }
   ],
   "source": [
    "euclidean_distances(m_data[0:1],m_data[1:2])"
   ]
  },
  {
   "cell_type": "code",
   "execution_count": 26,
   "id": "44900fb2",
   "metadata": {},
   "outputs": [
    {
     "data": {
      "text/plain": [
       "array([[2.38220441]])"
      ]
     },
     "execution_count": 26,
     "metadata": {},
     "output_type": "execute_result"
    }
   ],
   "source": [
    "from sklearn.metrics.pairwise import manhattan_distances\n",
    "manhattan_distances(m_data[0:1],m_data[1:2])"
   ]
  },
  {
   "cell_type": "markdown",
   "id": "910aa0d2",
   "metadata": {},
   "source": [
    "정규화된 data 유클리드거리와 맨하탄 거리 유사도 확인"
   ]
  },
  {
   "cell_type": "code",
   "execution_count": 27,
   "id": "3381412c",
   "metadata": {},
   "outputs": [
    {
     "data": {
      "text/plain": [
       "array([[0.23884449]])"
      ]
     },
     "execution_count": 27,
     "metadata": {},
     "output_type": "execute_result"
    }
   ],
   "source": [
    "euclidean_distances(e_data[0:1],e_data[1:2])"
   ]
  },
  {
   "cell_type": "code",
   "execution_count": 28,
   "id": "95dc7260",
   "metadata": {},
   "outputs": [
    {
     "data": {
      "text/plain": [
       "array([[0.54258429]])"
      ]
     },
     "execution_count": 28,
     "metadata": {},
     "output_type": "execute_result"
    }
   ],
   "source": [
    "manhattan_distances(e_data[0:1],e_data[1:2])"
   ]
  },
  {
   "cell_type": "code",
   "execution_count": 29,
   "id": "538ee331",
   "metadata": {},
   "outputs": [],
   "source": [
    "data1 = '안녕 나는 오늘 힘들어.'\n",
    "data2 = '안녕 못해 나는 지금 너무 힘들어'\n",
    "data3 = '나는 너무 즐거워'\n",
    "from sklearn.feature_extraction.text import TfidfVectorizer\n",
    "t_v = TfidfVectorizer()\n",
    "m_data = t_v.fit_transform([data1,data2,data3])"
   ]
  },
  {
   "cell_type": "code",
   "execution_count": 30,
   "id": "ed88fcc5",
   "metadata": {},
   "outputs": [],
   "source": [
    "# 정규화\n",
    "def e_f(m):\n",
    "    return m/np.sum(m)\n",
    "e_data = e_f(m_data)"
   ]
  },
  {
   "cell_type": "markdown",
   "id": "802f17c7",
   "metadata": {},
   "source": [
    "정규화 안한 DATA를 이용한 유클리드 거리 계산"
   ]
  },
  {
   "cell_type": "code",
   "execution_count": 31,
   "id": "9344aeeb",
   "metadata": {},
   "outputs": [
    {
     "data": {
      "text/plain": [
       "(array([[1.02891385]]), array([[1.15714912]]))"
      ]
     },
     "execution_count": 31,
     "metadata": {},
     "output_type": "execute_result"
    }
   ],
   "source": [
    "euclidean_distances(m_data[0:1],m_data[1:2]),euclidean_distances(m_data[1:2],m_data[2:3])"
   ]
  },
  {
   "cell_type": "code",
   "execution_count": 32,
   "id": "2d9db593",
   "metadata": {},
   "outputs": [
    {
     "data": {
      "text/plain": [
       "array([[-0.15714912]])"
      ]
     },
     "execution_count": 32,
     "metadata": {},
     "output_type": "execute_result"
    }
   ],
   "source": [
    "ck1 = euclidean_distances(m_data[0:1],m_data[1:2])\n",
    "ck2 = euclidean_distances(m_data[1:2],m_data[2:3])\n",
    "ck1 = ck1/ck1\n",
    "ck2 = ck2/ck1\n",
    "ck1-ck2"
   ]
  },
  {
   "cell_type": "code",
   "execution_count": 33,
   "id": "0f8d56b9",
   "metadata": {},
   "outputs": [
    {
     "data": {
      "text/plain": [
       "(array([[1.]]), array([[1.15714912]]))"
      ]
     },
     "execution_count": 33,
     "metadata": {},
     "output_type": "execute_result"
    }
   ],
   "source": [
    "ck1,ck2"
   ]
  },
  {
   "cell_type": "markdown",
   "id": "6292966a",
   "metadata": {},
   "source": [
    "정규화 한 DATA를 이용한 유클리드 거리 계산"
   ]
  },
  {
   "cell_type": "code",
   "execution_count": 34,
   "id": "115632e6",
   "metadata": {},
   "outputs": [
    {
     "data": {
      "text/plain": [
       "(array([[0.16949987]]), array([[0.19062493]]))"
      ]
     },
     "execution_count": 34,
     "metadata": {},
     "output_type": "execute_result"
    }
   ],
   "source": [
    "euclidean_distances(e_data[0:1],e_data[1:2]),euclidean_distances(e_data[1:2],e_data[2:3])"
   ]
  },
  {
   "cell_type": "code",
   "execution_count": 35,
   "id": "04cb4318",
   "metadata": {},
   "outputs": [
    {
     "data": {
      "text/plain": [
       "array([[-0.02112506]])"
      ]
     },
     "execution_count": 35,
     "metadata": {},
     "output_type": "execute_result"
    }
   ],
   "source": [
    "euclidean_distances(e_data[0:1],e_data[1:2])-euclidean_distances(e_data[1:2],e_data[2:3])"
   ]
  },
  {
   "cell_type": "code",
   "execution_count": 36,
   "id": "e3b6dda5",
   "metadata": {},
   "outputs": [
    {
     "data": {
      "text/plain": [
       "array([[0.80937507]])"
      ]
     },
     "execution_count": 36,
     "metadata": {},
     "output_type": "execute_result"
    }
   ],
   "source": [
    "e_ck1 = euclidean_distances(e_data[0:1],e_data[1:2])\n",
    "e_ck2 = euclidean_distances(e_data[1:2],e_data[2:3])\n",
    "e_ck1 = e_ck1/e_ck1\n",
    "e_ck2 = e_ck2/e_ck1\n",
    "e_ck1-e_ck2"
   ]
  },
  {
   "cell_type": "code",
   "execution_count": 37,
   "id": "54f4eb28",
   "metadata": {},
   "outputs": [
    {
     "data": {
      "text/plain": [
       "(array([[0.15714912]]), array([[0.80937507]]))"
      ]
     },
     "execution_count": 37,
     "metadata": {},
     "output_type": "execute_result"
    }
   ],
   "source": [
    "abs(ck1-ck2),abs(e_ck1-e_ck2)\n",
    "# 거리로 유사도를 판명할 때는 항상 정규화 해야한다.유사성 판명을 더 명확하게 할 수 있다."
   ]
  },
  {
   "cell_type": "markdown",
   "id": "1ca7a31f",
   "metadata": {},
   "source": [
    "정규화 안한 DATA를 이용한 맨하탄 거리 계산"
   ]
  },
  {
   "cell_type": "code",
   "execution_count": 38,
   "id": "ceb2fcb0",
   "metadata": {},
   "outputs": [
    {
     "data": {
      "text/plain": [
       "(array([[2.28685493]]), array([[2.76734191]]))"
      ]
     },
     "execution_count": 38,
     "metadata": {},
     "output_type": "execute_result"
    }
   ],
   "source": [
    "manhattan_distances(m_data[0:1],m_data[1:2]),manhattan_distances(m_data[1:2],m_data[2:3])"
   ]
  },
  {
   "cell_type": "code",
   "execution_count": 39,
   "id": "39d66c36",
   "metadata": {},
   "outputs": [
    {
     "data": {
      "text/plain": [
       "array([[-0.48048698]])"
      ]
     },
     "execution_count": 39,
     "metadata": {},
     "output_type": "execute_result"
    }
   ],
   "source": [
    "manhattan_distances(m_data[0:1],m_data[1:2])-manhattan_distances(m_data[1:2],m_data[2:3])"
   ]
  },
  {
   "cell_type": "code",
   "execution_count": 40,
   "id": "53adf593",
   "metadata": {},
   "outputs": [
    {
     "data": {
      "text/plain": [
       "(array([[0.37672893]]), array([[0.45588277]]))"
      ]
     },
     "execution_count": 40,
     "metadata": {},
     "output_type": "execute_result"
    }
   ],
   "source": [
    "manhattan_distances(e_data[0:1],e_data[1:2]),manhattan_distances(e_data[1:2],e_data[2:3])"
   ]
  },
  {
   "cell_type": "code",
   "execution_count": 41,
   "id": "a64d20bb",
   "metadata": {},
   "outputs": [
    {
     "data": {
      "text/plain": [
       "array([[-0.07915384]])"
      ]
     },
     "execution_count": 41,
     "metadata": {},
     "output_type": "execute_result"
    }
   ],
   "source": [
    "manhattan_distances(e_data[0:1],e_data[1:2])-manhattan_distances(e_data[1:2],e_data[2:3])"
   ]
  },
  {
   "cell_type": "code",
   "execution_count": 42,
   "id": "9142566e",
   "metadata": {},
   "outputs": [
    {
     "name": "stdout",
     "output_type": "stream",
     "text": [
      "유클리드 거리를 이용한 거리 계산\n",
      "정규화 전 data이용 거리 계산 [[0.15714912]]\n",
      "정규화 후 data이용 거리 계산 [[0.80937507]]\n"
     ]
    }
   ],
   "source": [
    "ck1 = euclidean_distances(m_data[0:1],m_data[1:2])\n",
    "ck2 = euclidean_distances(m_data[1:2],m_data[2:3])\n",
    "ck1 = ck1/ck1\n",
    "ck2 = ck2/ck1\n",
    "ck1-ck2\n",
    "e_ck1 = euclidean_distances(e_data[0:1],e_data[1:2])\n",
    "e_ck2 = euclidean_distances(e_data[1:2],e_data[2:3])\n",
    "e_ck1 = e_ck1/e_ck1\n",
    "e_ck2 = e_ck2/e_ck1\n",
    "e_ck1-e_ck2\n",
    "print(\"유클리드 거리를 이용한 거리 계산\")\n",
    "print(f'정규화 전 data이용 거리 계산 {abs(ck1-ck2)}')\n",
    "print(f'정규화 후 data이용 거리 계산 {abs(e_ck1-e_ck2)}')"
   ]
  },
  {
   "cell_type": "code",
   "execution_count": 43,
   "id": "237774cb",
   "metadata": {},
   "outputs": [
    {
     "name": "stdout",
     "output_type": "stream",
     "text": [
      "맨하탄 거리를 이용한 거리 계산\n",
      "정규화 전 data이용 거리 계산 [[1.76734191]]\n",
      "정규화 후 data이용 거리 계산 [[0.54411723]]\n"
     ]
    }
   ],
   "source": [
    "ck1 = manhattan_distances(m_data[0:1],m_data[1:2])\n",
    "ck2 = manhattan_distances(m_data[1:2],m_data[2:3])\n",
    "ck1 = ck1/ck1\n",
    "ck2 = ck2/ck1\n",
    "ck1-ck2\n",
    "e_ck1 = manhattan_distances(e_data[0:1],e_data[1:2])\n",
    "e_ck2 = manhattan_distances(e_data[1:2],e_data[2:3])\n",
    "e_ck1 = e_ck1/e_ck1\n",
    "e_ck2 = e_ck2/e_ck1\n",
    "e_ck1-e_ck2\n",
    "print(\"맨하탄 거리를 이용한 거리 계산\")\n",
    "print(f'정규화 전 data이용 거리 계산 {abs(ck1-ck2)}')\n",
    "print(f'정규화 후 data이용 거리 계산 {abs(e_ck1-e_ck2)}')"
   ]
  },
  {
   "cell_type": "code",
   "execution_count": null,
   "id": "46431049",
   "metadata": {},
   "outputs": [],
   "source": []
  }
 ],
 "metadata": {
  "kernelspec": {
   "display_name": "Python 3 (ipykernel)",
   "language": "python",
   "name": "python3"
  },
  "language_info": {
   "codemirror_mode": {
    "name": "ipython",
    "version": 3
   },
   "file_extension": ".py",
   "mimetype": "text/x-python",
   "name": "python",
   "nbconvert_exporter": "python",
   "pygments_lexer": "ipython3",
   "version": "3.9.7"
  }
 },
 "nbformat": 4,
 "nbformat_minor": 5
}
