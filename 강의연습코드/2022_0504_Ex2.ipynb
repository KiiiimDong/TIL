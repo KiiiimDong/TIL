{
 "cells": [
  {
   "cell_type": "code",
   "execution_count": 2,
   "id": "c7ca78fd",
   "metadata": {},
   "outputs": [
    {
     "name": "stderr",
     "output_type": "stream",
     "text": [
      "[nltk_data] Downloading package wordnet to\n",
      "[nltk_data]     C:\\Users\\82105\\AppData\\Roaming\\nltk_data...\n",
      "[nltk_data]   Unzipping corpora\\wordnet.zip.\n",
      "[nltk_data] Downloading package stopwords to\n",
      "[nltk_data]     C:\\Users\\82105\\AppData\\Roaming\\nltk_data...\n",
      "[nltk_data]   Unzipping corpora\\stopwords.zip.\n",
      "[nltk_data] Downloading package punkt to\n",
      "[nltk_data]     C:\\Users\\82105\\AppData\\Roaming\\nltk_data...\n",
      "[nltk_data]   Package punkt is already up-to-date!\n"
     ]
    },
    {
     "data": {
      "text/plain": [
       "True"
      ]
     },
     "execution_count": 2,
     "metadata": {},
     "output_type": "execute_result"
    }
   ],
   "source": [
    "import nltk\n",
    "# nltk.download('wordnet')\n",
    "# nltk.download('stopwords')\n",
    "# nltk.download('punkt')"
   ]
  },
  {
   "cell_type": "code",
   "execution_count": 3,
   "id": "dacfbbec",
   "metadata": {},
   "outputs": [],
   "source": [
    "words = ['policy', 'doing', 'organization', 'have', 'going', 'love', 'lives', 'fly', 'dies', 'watched', 'has', 'starting']"
   ]
  },
  {
   "cell_type": "code",
   "execution_count": 5,
   "id": "d73f4e00",
   "metadata": {},
   "outputs": [
    {
     "data": {
      "text/plain": [
       "['policy',\n",
       " 'doing',\n",
       " 'organization',\n",
       " 'have',\n",
       " 'going',\n",
       " 'love',\n",
       " 'lives',\n",
       " 'fly',\n",
       " 'dies',\n",
       " 'watched',\n",
       " 'has',\n",
       " 'starting']"
      ]
     },
     "execution_count": 5,
     "metadata": {},
     "output_type": "execute_result"
    }
   ],
   "source": [
    "from nltk.stem import WordNetLemmatizer\n",
    "f = WordNetLemmatizer().lemmatize\n",
    "words"
   ]
  },
  {
   "cell_type": "code",
   "execution_count": 6,
   "id": "d90ec1c4",
   "metadata": {},
   "outputs": [
    {
     "data": {
      "text/plain": [
       "['policy',\n",
       " 'doing',\n",
       " 'organization',\n",
       " 'have',\n",
       " 'going',\n",
       " 'love',\n",
       " 'life',\n",
       " 'fly',\n",
       " 'dy',\n",
       " 'watched',\n",
       " 'ha',\n",
       " 'starting']"
      ]
     },
     "execution_count": 6,
     "metadata": {},
     "output_type": "execute_result"
    }
   ],
   "source": [
    "# 표제어 추출(근원)\n",
    "[f(x) for x in words]"
   ]
  },
  {
   "cell_type": "code",
   "execution_count": 7,
   "id": "15ca50a5",
   "metadata": {},
   "outputs": [
    {
     "data": {
      "text/plain": [
       "'have'"
      ]
     },
     "execution_count": 7,
     "metadata": {},
     "output_type": "execute_result"
    }
   ],
   "source": [
    "f('has','v')"
   ]
  },
  {
   "cell_type": "code",
   "execution_count": 8,
   "id": "413071cd",
   "metadata": {},
   "outputs": [
    {
     "data": {
      "text/plain": [
       "'die'"
      ]
     },
     "execution_count": 8,
     "metadata": {},
     "output_type": "execute_result"
    }
   ],
   "source": [
    "f('dies', 'v')"
   ]
  },
  {
   "cell_type": "code",
   "execution_count": 9,
   "id": "9c288864",
   "metadata": {},
   "outputs": [],
   "source": [
    "t1 = \"I am actively looking for Ph.D. students. and you are a Ph.D. student.\""
   ]
  },
  {
   "cell_type": "code",
   "execution_count": 10,
   "id": "fdd2e687",
   "metadata": {},
   "outputs": [
    {
     "data": {
      "text/plain": [
       "['I',\n",
       " 'am',\n",
       " 'actively',\n",
       " 'looking',\n",
       " 'for',\n",
       " 'Ph.D.',\n",
       " 'students',\n",
       " '.',\n",
       " 'and',\n",
       " 'you',\n",
       " 'are',\n",
       " 'a',\n",
       " 'Ph.D.',\n",
       " 'student',\n",
       " '.']"
      ]
     },
     "execution_count": 10,
     "metadata": {},
     "output_type": "execute_result"
    }
   ],
   "source": [
    "from nltk.tokenize import word_tokenize\n",
    "data = word_tokenize(t1)\n",
    "data"
   ]
  },
  {
   "cell_type": "code",
   "execution_count": 12,
   "id": "173c8505",
   "metadata": {},
   "outputs": [
    {
     "data": {
      "text/plain": [
       "['i',\n",
       " 'am',\n",
       " 'activ',\n",
       " 'look',\n",
       " 'for',\n",
       " 'ph.d.',\n",
       " 'student',\n",
       " '.',\n",
       " 'and',\n",
       " 'you',\n",
       " 'are',\n",
       " 'a',\n",
       " 'ph.d.',\n",
       " 'student',\n",
       " '.']"
      ]
     },
     "execution_count": 12,
     "metadata": {},
     "output_type": "execute_result"
    }
   ],
   "source": [
    "from nltk.stem import PorterStemmer\n",
    "f1 = PorterStemmer().stem\n",
    "[f1(x) for x in data]"
   ]
  },
  {
   "cell_type": "code",
   "execution_count": 14,
   "id": "854658e6",
   "metadata": {},
   "outputs": [],
   "source": [
    "from nltk.stem import PorterStemmer\n",
    "from nltk.stem import LancasterStemmer"
   ]
  },
  {
   "cell_type": "code",
   "execution_count": 16,
   "id": "61b66c55",
   "metadata": {},
   "outputs": [],
   "source": [
    "f2 = PorterStemmer().stem # 무난하다.\n",
    "f3 = LancasterStemmer().stem\n",
    "d1 = [f2(x) for x in words]\n",
    "d2 = [f3(x) for x in words]"
   ]
  },
  {
   "cell_type": "code",
   "execution_count": 19,
   "id": "5a9d6228",
   "metadata": {},
   "outputs": [
    {
     "name": "stdout",
     "output_type": "stream",
     "text": [
      "['policy', 'doing', 'organization', 'have', 'going', 'love', 'lives', 'fly', 'dies', 'watched', 'has', 'starting']\n",
      "['polici', 'do', 'organ', 'have', 'go', 'love', 'live', 'fli', 'die', 'watch', 'ha', 'start']\n",
      "['policy', 'doing', 'org', 'hav', 'going', 'lov', 'liv', 'fly', 'die', 'watch', 'has', 'start']\n"
     ]
    }
   ],
   "source": [
    "print(words,d1,d2,sep='\\n') # sep 복습"
   ]
  },
  {
   "cell_type": "markdown",
   "id": "af1fa099",
   "metadata": {},
   "source": [
    "불용어처리(stopword)"
   ]
  },
  {
   "cell_type": "code",
   "execution_count": 20,
   "id": "d76f3d94",
   "metadata": {},
   "outputs": [],
   "source": [
    "from nltk.corpus import stopwords\n",
    "from nltk.tokenize import word_tokenize\n",
    "from konlpy.tag import Okt"
   ]
  },
  {
   "cell_type": "code",
   "execution_count": 23,
   "id": "8db6c753",
   "metadata": {},
   "outputs": [
    {
     "data": {
      "text/plain": [
       "['I',\n",
       " 'am',\n",
       " 'actively',\n",
       " 'looking',\n",
       " 'for',\n",
       " 'Ph.D.',\n",
       " 'students',\n",
       " '.',\n",
       " 'and',\n",
       " 'you',\n",
       " 'are',\n",
       " 'a',\n",
       " 'Ph.D.',\n",
       " 'student',\n",
       " '.']"
      ]
     },
     "execution_count": 23,
     "metadata": {},
     "output_type": "execute_result"
    }
   ],
   "source": [
    "d = word_tokenize(t1)\n",
    "d"
   ]
  },
  {
   "cell_type": "code",
   "execution_count": 25,
   "id": "1b727915",
   "metadata": {},
   "outputs": [
    {
     "data": {
      "text/plain": [
       "['i',\n",
       " 'me',\n",
       " 'my',\n",
       " 'myself',\n",
       " 'we',\n",
       " 'our',\n",
       " 'ours',\n",
       " 'ourselves',\n",
       " 'you',\n",
       " \"you're\",\n",
       " \"you've\",\n",
       " \"you'll\",\n",
       " \"you'd\",\n",
       " 'your',\n",
       " 'yours',\n",
       " 'yourself',\n",
       " 'yourselves',\n",
       " 'he',\n",
       " 'him',\n",
       " 'his',\n",
       " 'himself',\n",
       " 'she',\n",
       " \"she's\",\n",
       " 'her',\n",
       " 'hers',\n",
       " 'herself',\n",
       " 'it',\n",
       " \"it's\",\n",
       " 'its',\n",
       " 'itself',\n",
       " 'they',\n",
       " 'them',\n",
       " 'their',\n",
       " 'theirs',\n",
       " 'themselves',\n",
       " 'what',\n",
       " 'which',\n",
       " 'who',\n",
       " 'whom',\n",
       " 'this',\n",
       " 'that',\n",
       " \"that'll\",\n",
       " 'these',\n",
       " 'those',\n",
       " 'am',\n",
       " 'is',\n",
       " 'are',\n",
       " 'was',\n",
       " 'were',\n",
       " 'be',\n",
       " 'been',\n",
       " 'being',\n",
       " 'have',\n",
       " 'has',\n",
       " 'had',\n",
       " 'having',\n",
       " 'do',\n",
       " 'does',\n",
       " 'did',\n",
       " 'doing',\n",
       " 'a',\n",
       " 'an',\n",
       " 'the',\n",
       " 'and',\n",
       " 'but',\n",
       " 'if',\n",
       " 'or',\n",
       " 'because',\n",
       " 'as',\n",
       " 'until',\n",
       " 'while',\n",
       " 'of',\n",
       " 'at',\n",
       " 'by',\n",
       " 'for',\n",
       " 'with',\n",
       " 'about',\n",
       " 'against',\n",
       " 'between',\n",
       " 'into',\n",
       " 'through',\n",
       " 'during',\n",
       " 'before',\n",
       " 'after',\n",
       " 'above',\n",
       " 'below',\n",
       " 'to',\n",
       " 'from',\n",
       " 'up',\n",
       " 'down',\n",
       " 'in',\n",
       " 'out',\n",
       " 'on',\n",
       " 'off',\n",
       " 'over',\n",
       " 'under',\n",
       " 'again',\n",
       " 'further',\n",
       " 'then',\n",
       " 'once',\n",
       " 'here',\n",
       " 'there',\n",
       " 'when',\n",
       " 'where',\n",
       " 'why',\n",
       " 'how',\n",
       " 'all',\n",
       " 'any',\n",
       " 'both',\n",
       " 'each',\n",
       " 'few',\n",
       " 'more',\n",
       " 'most',\n",
       " 'other',\n",
       " 'some',\n",
       " 'such',\n",
       " 'no',\n",
       " 'nor',\n",
       " 'not',\n",
       " 'only',\n",
       " 'own',\n",
       " 'same',\n",
       " 'so',\n",
       " 'than',\n",
       " 'too',\n",
       " 'very',\n",
       " 's',\n",
       " 't',\n",
       " 'can',\n",
       " 'will',\n",
       " 'just',\n",
       " 'don',\n",
       " \"don't\",\n",
       " 'should',\n",
       " \"should've\",\n",
       " 'now',\n",
       " 'd',\n",
       " 'll',\n",
       " 'm',\n",
       " 'o',\n",
       " 're',\n",
       " 've',\n",
       " 'y',\n",
       " 'ain',\n",
       " 'aren',\n",
       " \"aren't\",\n",
       " 'couldn',\n",
       " \"couldn't\",\n",
       " 'didn',\n",
       " \"didn't\",\n",
       " 'doesn',\n",
       " \"doesn't\",\n",
       " 'hadn',\n",
       " \"hadn't\",\n",
       " 'hasn',\n",
       " \"hasn't\",\n",
       " 'haven',\n",
       " \"haven't\",\n",
       " 'isn',\n",
       " \"isn't\",\n",
       " 'ma',\n",
       " 'mightn',\n",
       " \"mightn't\",\n",
       " 'mustn',\n",
       " \"mustn't\",\n",
       " 'needn',\n",
       " \"needn't\",\n",
       " 'shan',\n",
       " \"shan't\",\n",
       " 'shouldn',\n",
       " \"shouldn't\",\n",
       " 'wasn',\n",
       " \"wasn't\",\n",
       " 'weren',\n",
       " \"weren't\",\n",
       " 'won',\n",
       " \"won't\",\n",
       " 'wouldn',\n",
       " \"wouldn't\"]"
      ]
     },
     "execution_count": 25,
     "metadata": {},
     "output_type": "execute_result"
    }
   ],
   "source": [
    "ck_d = stopwords.words('english')\n",
    "ck_d # 리스트구조."
   ]
  },
  {
   "cell_type": "code",
   "execution_count": 28,
   "id": "fc274bb3",
   "metadata": {},
   "outputs": [
    {
     "name": "stdout",
     "output_type": "stream",
     "text": [
      "['I', 'am', 'actively', 'looking', 'for', 'Ph.D.', 'students', '.', 'and', 'you', 'are', 'a', 'Ph.D.', 'student', '.']\n",
      "['I', 'actively', 'looking', 'Ph.D.', 'students', '.', 'Ph.D.', 'student', '.']\n"
     ]
    }
   ],
   "source": [
    "end_l = []\n",
    "for i in d:\n",
    "    if i not in ck_d:\n",
    "        end_l.append(i)\n",
    "print(d,end_l,sep='\\n')"
   ]
  },
  {
   "cell_type": "code",
   "execution_count": 32,
   "id": "2b45df4a",
   "metadata": {},
   "outputs": [
    {
     "data": {
      "text/plain": [
       "['은', '이', '요', '빠르게', '모르겠어요']"
      ]
     },
     "execution_count": 32,
     "metadata": {},
     "output_type": "execute_result"
    }
   ],
   "source": [
    "t_d = '오늘은 몸이 아파요. 오늘은 강의 내용이 빠르게 진행이 되나요 모르겠어요'\n",
    "stop_t_d = '은 이 요 빠르게 모르겠어요'.split() #split기본이 공백\n",
    "stop_t_d"
   ]
  },
  {
   "cell_type": "code",
   "execution_count": 33,
   "id": "f1f114bd",
   "metadata": {},
   "outputs": [
    {
     "data": {
      "text/plain": [
       "['오늘',\n",
       " '은',\n",
       " '몸',\n",
       " '이',\n",
       " '아파요',\n",
       " '.',\n",
       " '오늘',\n",
       " '은',\n",
       " '강의',\n",
       " '내용',\n",
       " '이',\n",
       " '빠르게',\n",
       " '진행',\n",
       " '이',\n",
       " '되나요',\n",
       " '모르겠어요']"
      ]
     },
     "execution_count": 33,
     "metadata": {},
     "output_type": "execute_result"
    }
   ],
   "source": [
    "# 항상 토큰화가 먼저 일어나야한다.\n",
    "okt = Okt()\n",
    "t_dd = okt.morphs(t_d)\n",
    "t_dd"
   ]
  },
  {
   "cell_type": "code",
   "execution_count": 34,
   "id": "821d347f",
   "metadata": {},
   "outputs": [
    {
     "data": {
      "text/plain": [
       "['오늘', '몸', '아파요', '.', '오늘', '강의', '내용', '진행', '되나요']"
      ]
     },
     "execution_count": 34,
     "metadata": {},
     "output_type": "execute_result"
    }
   ],
   "source": [
    "end_d = [i for i in t_dd if not i in stop_t_d]\n",
    "end_d"
   ]
  },
  {
   "cell_type": "code",
   "execution_count": null,
   "id": "b8d68e43",
   "metadata": {},
   "outputs": [],
   "source": []
  }
 ],
 "metadata": {
  "kernelspec": {
   "display_name": "Python 3 (ipykernel)",
   "language": "python",
   "name": "python3"
  },
  "language_info": {
   "codemirror_mode": {
    "name": "ipython",
    "version": 3
   },
   "file_extension": ".py",
   "mimetype": "text/x-python",
   "name": "python",
   "nbconvert_exporter": "python",
   "pygments_lexer": "ipython3",
   "version": "3.9.7"
  }
 },
 "nbformat": 4,
 "nbformat_minor": 5
}
