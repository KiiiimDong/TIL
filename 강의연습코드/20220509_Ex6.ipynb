{
 "cells": [
  {
   "cell_type": "markdown",
   "id": "c9ba246b",
   "metadata": {},
   "source": [
    "DictVectorizer=> BOW 인코딩 벡터"
   ]
  },
  {
   "cell_type": "code",
   "execution_count": 1,
   "id": "db78ce73",
   "metadata": {},
   "outputs": [],
   "source": [
    "from sklearn.feature_extraction import DictVectorizer"
   ]
  },
  {
   "cell_type": "code",
   "execution_count": 5,
   "id": "45c0efdc",
   "metadata": {},
   "outputs": [
    {
     "data": {
      "text/plain": [
       "array([[1., 2., 0.],\n",
       "       [0., 3., 1.]])"
      ]
     },
     "execution_count": 5,
     "metadata": {},
     "output_type": "execute_result"
    }
   ],
   "source": [
    "v = DictVectorizer(sparse=False) # sparse=False 로 하면 numpy array로 바뀐다.\n",
    "D = [{'A':1,'B':2}, {'B':3,'C':1}] # 3종 -> 'A' -0\n",
    "X = v.fit_transform(D)\n",
    "X"
   ]
  },
  {
   "cell_type": "code",
   "execution_count": 6,
   "id": "ac237a8b",
   "metadata": {},
   "outputs": [
    {
     "data": {
      "text/plain": [
       "['A', 'B', 'C']"
      ]
     },
     "execution_count": 6,
     "metadata": {},
     "output_type": "execute_result"
    }
   ],
   "source": [
    "v.feature_names_ # 특징이 A,B,C"
   ]
  },
  {
   "cell_type": "code",
   "execution_count": 7,
   "id": "7948e7e8",
   "metadata": {},
   "outputs": [],
   "source": [
    "D2 = {'A':5,'B':1,'D':100}"
   ]
  },
  {
   "cell_type": "code",
   "execution_count": 8,
   "id": "0ba07a1a",
   "metadata": {},
   "outputs": [
    {
     "data": {
      "text/plain": [
       "array([[5., 1., 0.]])"
      ]
     },
     "execution_count": 8,
     "metadata": {},
     "output_type": "execute_result"
    }
   ],
   "source": [
    "v.transform(D2) #  학습이 안된 D를 날린채로 나타낸다."
   ]
  },
  {
   "cell_type": "markdown",
   "id": "30b1120c",
   "metadata": {},
   "source": [
    "CountVectorizer => BOW 인코딩 벡터 문서의 집합 -> 단어토큰생성 -> 각 단어의 수를 카운트한다."
   ]
  },
  {
   "cell_type": "code",
   "execution_count": 9,
   "id": "485d7c17",
   "metadata": {},
   "outputs": [],
   "source": [
    "from sklearn.feature_extraction.text import CountVectorizer"
   ]
  },
  {
   "cell_type": "code",
   "execution_count": 10,
   "id": "fe5b59b8",
   "metadata": {},
   "outputs": [],
   "source": [
    "corpus = [\n",
    "    'This is the first document.',\n",
    "    'This is the second second document.',\n",
    "    'And the third one.',\n",
    "    'Is this the first document?',\n",
    "    'The last document?',\n",
    "]"
   ]
  },
  {
   "cell_type": "code",
   "execution_count": 12,
   "id": "a412b444",
   "metadata": {},
   "outputs": [
    {
     "data": {
      "text/plain": [
       "{'this': 9,\n",
       " 'is': 3,\n",
       " 'the': 7,\n",
       " 'first': 2,\n",
       " 'document': 1,\n",
       " 'second': 6,\n",
       " 'and': 0,\n",
       " 'third': 8,\n",
       " 'one': 5,\n",
       " 'last': 4}"
      ]
     },
     "execution_count": 12,
     "metadata": {},
     "output_type": "execute_result"
    }
   ],
   "source": [
    "v1 = CountVectorizer()\n",
    "v1.fit(corpus)\n",
    "v1.vocabulary_"
   ]
  },
  {
   "cell_type": "code",
   "execution_count": 16,
   "id": "a01c5ce7",
   "metadata": {},
   "outputs": [
    {
     "data": {
      "text/plain": [
       "array([[0, 1, 1, 1, 0, 0, 0, 1, 0, 1]], dtype=int64)"
      ]
     },
     "execution_count": 16,
     "metadata": {},
     "output_type": "execute_result"
    }
   ],
   "source": [
    "v1.transform(['This is the first document.']).toarray() # 리스트로 전달해야한다.\n",
    "# 원핫인코딩과 다른 작업이다."
   ]
  },
  {
   "cell_type": "code",
   "execution_count": 17,
   "id": "971f51a7",
   "metadata": {},
   "outputs": [
    {
     "data": {
      "text/plain": [
       "array([[0, 1, 1, 1, 0, 0, 0, 1, 0, 1]], dtype=int64)"
      ]
     },
     "execution_count": 17,
     "metadata": {},
     "output_type": "execute_result"
    }
   ],
   "source": [
    "v1.transform(['This is the first document. data']).toarray() # 학습되어있지 않은 것은 날려버린다."
   ]
  },
  {
   "cell_type": "code",
   "execution_count": null,
   "id": "e2fcfb8e",
   "metadata": {},
   "outputs": [],
   "source": []
  }
 ],
 "metadata": {
  "kernelspec": {
   "display_name": "Python 3 (ipykernel)",
   "language": "python",
   "name": "python3"
  },
  "language_info": {
   "codemirror_mode": {
    "name": "ipython",
    "version": 3
   },
   "file_extension": ".py",
   "mimetype": "text/x-python",
   "name": "python",
   "nbconvert_exporter": "python",
   "pygments_lexer": "ipython3",
   "version": "3.9.7"
  }
 },
 "nbformat": 4,
 "nbformat_minor": 5
}
