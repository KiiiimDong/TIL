{
 "cells": [
  {
   "cell_type": "markdown",
   "id": "b6a67b10",
   "metadata": {},
   "source": [
    "Bag of Words => 단어들의 빈도수(문장 기준)\n",
    "1. 단어들의 집합을 만든다.\n",
    "2. 벡터화"
   ]
  },
  {
   "cell_type": "code",
   "execution_count": 1,
   "id": "cbdba00a",
   "metadata": {},
   "outputs": [],
   "source": [
    "t = \"안녕 나는 강사야 너는 잘 듣고있니?\""
   ]
  },
  {
   "cell_type": "code",
   "execution_count": 2,
   "id": "3992c2bf",
   "metadata": {},
   "outputs": [
    {
     "data": {
      "text/plain": [
       "({'안녕': 0, '나': 1, '는': 2, '강사': 3, '야': 4, '너': 5, '잘': 6, '듣고있니': 7},\n",
       " [1, 1, 2, 1, 1, 1, 1, 1])"
      ]
     },
     "execution_count": 2,
     "metadata": {},
     "output_type": "execute_result"
    }
   ],
   "source": [
    "from konlpy.tag import Okt\n",
    "tk = Okt()\n",
    "\n",
    "def 문장_처리(입력_문장):\n",
    "    입력_문장 = 입력_문장.replace('?','') # 의미 없는 단어 정리(전처리용)\n",
    "    토큰화된_data = tk.morphs(입력_문장)\n",
    "    단어_집합 = {}\n",
    "    단어_빈도수 = []\n",
    "    for 단어 in 토큰화된_data:\n",
    "        if 단어 not in 단어_집합:\n",
    "            단어_집합[단어] = len(단어_집합)\n",
    "            단어_빈도수.insert(len(단어_집합)-1,1)\n",
    "        else:\n",
    "            단어_인덱스 = 단어_집합.get(단어)\n",
    "            단어_빈도수[단어_인덱스]+=1\n",
    "    return 단어_집합, 단어_빈도수\n",
    "문장_처리(t)"
   ]
  },
  {
   "cell_type": "code",
   "execution_count": 3,
   "id": "989fe886",
   "metadata": {},
   "outputs": [
    {
     "data": {
      "text/plain": [
       "array([[1, 1, 1, 1, 1]], dtype=int64)"
      ]
     },
     "execution_count": 3,
     "metadata": {},
     "output_type": "execute_result"
    }
   ],
   "source": [
    "from sklearn.feature_extraction.text import CountVectorizer #BoW\n",
    "tr_t = t.replace('?','')\n",
    "#tr_t = tk.morphs(tr_t)\n",
    "v = CountVectorizer()\n",
    "v.fit_transform([tr_t]).toarray()\n",
    "#v.vocabulary_"
   ]
  },
  {
   "cell_type": "code",
   "execution_count": 4,
   "id": "40b1ba5c",
   "metadata": {},
   "outputs": [
    {
     "data": {
      "text/plain": [
       "'안녕 나는 강사야 너는 잘 듣고있니'"
      ]
     },
     "execution_count": 4,
     "metadata": {},
     "output_type": "execute_result"
    }
   ],
   "source": [
    "tr_t"
   ]
  },
  {
   "cell_type": "code",
   "execution_count": 5,
   "id": "7e7d3ccc",
   "metadata": {},
   "outputs": [],
   "source": [
    "문장_집합 = ['안녕 나는 강사','나는 학생','나는 공부중','나는 노는중','나는 자는중']"
   ]
  },
  {
   "cell_type": "code",
   "execution_count": 7,
   "id": "8966d63f",
   "metadata": {},
   "outputs": [
    {
     "data": {
      "text/plain": [
       "{'안녕': 4, '나는': 1, '강사야': 0, '너는': 2, '듣고있니': 3}"
      ]
     },
     "execution_count": 7,
     "metadata": {},
     "output_type": "execute_result"
    }
   ],
   "source": [
    "v.vocabulary_"
   ]
  },
  {
   "cell_type": "code",
   "execution_count": 6,
   "id": "4c2b892b",
   "metadata": {},
   "outputs": [
    {
     "data": {
      "text/plain": [
       "array([[0, 1, 0, 0, 1],\n",
       "       [0, 1, 0, 0, 0],\n",
       "       [0, 1, 0, 0, 0],\n",
       "       [0, 1, 0, 0, 0],\n",
       "       [0, 1, 0, 0, 0]], dtype=int64)"
      ]
     },
     "execution_count": 6,
     "metadata": {},
     "output_type": "execute_result"
    }
   ],
   "source": [
    "v.transform(문장_집합).toarray()"
   ]
  },
  {
   "cell_type": "code",
   "execution_count": 8,
   "id": "c2af9d43",
   "metadata": {},
   "outputs": [
    {
     "data": {
      "text/plain": [
       "array([[1, 0, 0, 1, 0, 0],\n",
       "       [0, 0, 0, 0, 0, 1],\n",
       "       [0, 1, 0, 0, 0, 0],\n",
       "       [0, 0, 1, 0, 0, 0],\n",
       "       [0, 0, 0, 0, 1, 0]], dtype=int64)"
      ]
     },
     "execution_count": 8,
     "metadata": {},
     "output_type": "execute_result"
    }
   ],
   "source": [
    "v2 = CountVectorizer(stop_words=['나는'])\n",
    "v2.fit_transform(문장_집합).toarray()"
   ]
  },
  {
   "cell_type": "code",
   "execution_count": 9,
   "id": "00d6a17b",
   "metadata": {},
   "outputs": [
    {
     "data": {
      "text/plain": [
       "{'안녕': 3, '강사': 0, '학생': 5, '공부중': 1, '노는중': 2, '자는중': 4}"
      ]
     },
     "execution_count": 9,
     "metadata": {},
     "output_type": "execute_result"
    }
   ],
   "source": [
    "v2.vocabulary_"
   ]
  },
  {
   "cell_type": "code",
   "execution_count": 12,
   "id": "dc951a22",
   "metadata": {},
   "outputs": [
    {
     "data": {
      "text/plain": [
       "['안녕',\n",
       " '나',\n",
       " '는',\n",
       " '강사',\n",
       " '나',\n",
       " '는',\n",
       " '학생',\n",
       " '나',\n",
       " '는',\n",
       " '공부',\n",
       " '중',\n",
       " '나',\n",
       " '는',\n",
       " '노',\n",
       " '는',\n",
       " '중',\n",
       " '나',\n",
       " '는',\n",
       " '자는',\n",
       " '중']"
      ]
     },
     "execution_count": 12,
     "metadata": {},
     "output_type": "execute_result"
    }
   ],
   "source": [
    "t_l = []\n",
    "for i in 문장_집합:\n",
    "    t_l+=tk.morphs(i)\n",
    "t_l"
   ]
  },
  {
   "cell_type": "code",
   "execution_count": 13,
   "id": "cf310fa5",
   "metadata": {},
   "outputs": [
    {
     "data": {
      "text/plain": [
       "CountVectorizer()"
      ]
     },
     "execution_count": 13,
     "metadata": {},
     "output_type": "execute_result"
    }
   ],
   "source": [
    "v3 = CountVectorizer()\n",
    "v3.fit(t_l)"
   ]
  },
  {
   "cell_type": "code",
   "execution_count": 14,
   "id": "40292b21",
   "metadata": {},
   "outputs": [
    {
     "data": {
      "text/plain": [
       "{'안녕': 2, '강사': 0, '학생': 4, '공부': 1, '자는': 3}"
      ]
     },
     "execution_count": 14,
     "metadata": {},
     "output_type": "execute_result"
    }
   ],
   "source": [
    "v3.vocabulary_"
   ]
  },
  {
   "cell_type": "code",
   "execution_count": 15,
   "id": "85038cde",
   "metadata": {},
   "outputs": [],
   "source": [
    "t2 = '나는 강사입니다. 그리고 나는 학생들과 함께 공부를 하고 있습니다. 저기 자는 학생 일어나요!'"
   ]
  },
  {
   "cell_type": "code",
   "execution_count": 17,
   "id": "62293499",
   "metadata": {},
   "outputs": [
    {
     "data": {
      "text/plain": [
       "array([[0, 0, 0, 1, 1]], dtype=int64)"
      ]
     },
     "execution_count": 17,
     "metadata": {},
     "output_type": "execute_result"
    }
   ],
   "source": [
    "v3.transform([t2]).toarray()"
   ]
  },
  {
   "cell_type": "code",
   "execution_count": 18,
   "id": "18e17817",
   "metadata": {},
   "outputs": [
    {
     "data": {
      "text/plain": [
       "array([[1, 0, 1, 0, 0],\n",
       "       [0, 0, 0, 0, 1],\n",
       "       [0, 0, 0, 0, 0],\n",
       "       [0, 0, 0, 0, 0],\n",
       "       [0, 0, 0, 0, 0]], dtype=int64)"
      ]
     },
     "execution_count": 18,
     "metadata": {},
     "output_type": "execute_result"
    }
   ],
   "source": [
    "v3.transform(문장_집합).toarray() # DTM (BoW나열한거)-> 희소표현, 단순 빈도 수 기반 접근등 한계를 갖는다."
   ]
  },
  {
   "cell_type": "code",
   "execution_count": 19,
   "id": "0de24c1d",
   "metadata": {},
   "outputs": [],
   "source": [
    "t = 'the i am a boy a a a a a a'"
   ]
  },
  {
   "cell_type": "markdown",
   "id": "4d27369b",
   "metadata": {},
   "source": [
    "TF-IDF : 입력된 내용들에서 관련성을 이야기해주는것. 기본적으로는 빈도수 표현, 중요 정보에 가중치를 준다.\n",
    "자세한 수식은 ppt, Ex4에서 직접 다룬다."
   ]
  },
  {
   "cell_type": "code",
   "execution_count": null,
   "id": "3a30f08d",
   "metadata": {},
   "outputs": [],
   "source": []
  }
 ],
 "metadata": {
  "kernelspec": {
   "display_name": "Python 3 (ipykernel)",
   "language": "python",
   "name": "python3"
  },
  "language_info": {
   "codemirror_mode": {
    "name": "ipython",
    "version": 3
   },
   "file_extension": ".py",
   "mimetype": "text/x-python",
   "name": "python",
   "nbconvert_exporter": "python",
   "pygments_lexer": "ipython3",
   "version": "3.9.7"
  }
 },
 "nbformat": 4,
 "nbformat_minor": 5
}
