{
 "cells": [
  {
   "cell_type": "code",
   "execution_count": 1,
   "id": "5cf72e48",
   "metadata": {},
   "outputs": [
    {
     "data": {
      "text/plain": [
       "{'안녕': 1, '오늘': 2, '이제': 3, '끝': 4, '빨리': 5, '마무리': 6, '할게요': 7}"
      ]
     },
     "execution_count": 1,
     "metadata": {},
     "output_type": "execute_result"
    }
   ],
   "source": [
    "import numpy as np\n",
    "from tensorflow.keras.preprocessing.text import Tokenizer\n",
    "data = ['안녕 오늘 이제 끝','빨리 마무리 할게요']\n",
    "tk = Tokenizer()\n",
    "tk.fit_on_texts(data) # 차원 내리기 (구조로 전달하면 문자열 단어로 쪼개진다.)\n",
    "#문자열로 전달하면 한글자씩 나온다.\n",
    "tk.word_index"
   ]
  },
  {
   "cell_type": "code",
   "execution_count": 2,
   "id": "d0687251",
   "metadata": {},
   "outputs": [
    {
     "data": {
      "text/plain": [
       "array([[0., 1., 1., 1., 1., 0., 0., 0.],\n",
       "       [0., 0., 0., 0., 0., 1., 1., 1.]])"
      ]
     },
     "execution_count": 2,
     "metadata": {},
     "output_type": "execute_result"
    }
   ],
   "source": [
    "tk.texts_to_matrix(data, mode='count')"
   ]
  },
  {
   "cell_type": "code",
   "execution_count": 3,
   "id": "8eaadcf0",
   "metadata": {},
   "outputs": [
    {
     "data": {
      "text/plain": [
       "array([[0.        , 0.69314718, 0.69314718, 0.69314718, 0.69314718,\n",
       "        0.        , 0.        , 0.        ],\n",
       "       [0.        , 0.        , 0.        , 0.        , 0.        ,\n",
       "        0.69314718, 0.69314718, 0.69314718]])"
      ]
     },
     "execution_count": 3,
     "metadata": {},
     "output_type": "execute_result"
    }
   ],
   "source": [
    "tk.texts_to_matrix(data, mode='tfidf')"
   ]
  },
  {
   "cell_type": "code",
   "execution_count": null,
   "id": "c33c15be",
   "metadata": {},
   "outputs": [],
   "source": []
  }
 ],
 "metadata": {
  "kernelspec": {
   "display_name": "Python 3 (ipykernel)",
   "language": "python",
   "name": "python3"
  },
  "language_info": {
   "codemirror_mode": {
    "name": "ipython",
    "version": 3
   },
   "file_extension": ".py",
   "mimetype": "text/x-python",
   "name": "python",
   "nbconvert_exporter": "python",
   "pygments_lexer": "ipython3",
   "version": "3.9.7"
  }
 },
 "nbformat": 4,
 "nbformat_minor": 5
}
