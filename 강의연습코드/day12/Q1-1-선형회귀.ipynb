{
 "cells": [
  {
   "cell_type": "code",
   "execution_count": 1,
   "id": "7b9446a3",
   "metadata": {},
   "outputs": [],
   "source": [
    "import numpy as np\n",
    "from sklearn.linear_model import LinearRegression \n",
    "import matplotlib.pyplot as plt\n",
    "X = np.array([174,152,138,128,186])\n",
    "Y = np.array([71,55,46,38,88])\n",
    "#from sklearn.model_selection import train_test_split\n",
    "#t_x, tt_x, t_y, tt_y = train_test_split(X, Y, random_state=3)\n",
    "n_t_x = X.reshape(-1, 1)\n",
    "#n_t_X.shape 찍어보면 5,1 나오는데 5는 갯수, 1은 피쳐 갯수.(2차원 리스트로 만들면 똑같다.)\n",
    "#n_tt_x = tt_x.reshape(-1, 1)\n",
    "lr = LinearRegression().fit(n_t_x, Y)"
   ]
  },
  {
   "cell_type": "code",
   "execution_count": 2,
   "id": "5c42dd36",
   "metadata": {},
   "outputs": [
    {
     "data": {
      "text/plain": [
       "array([67.30998637])"
      ]
     },
     "execution_count": 2,
     "metadata": {},
     "output_type": "execute_result"
    }
   ],
   "source": [
    "lr.predict([[165]])"
   ]
  },
  {
   "cell_type": "code",
   "execution_count": 3,
   "id": "39155316",
   "metadata": {},
   "outputs": [
    {
     "data": {
      "text/plain": [
       "[<matplotlib.lines.Line2D at 0x183161fd5b0>]"
      ]
     },
     "execution_count": 3,
     "metadata": {},
     "output_type": "execute_result"
    },
    {
     "data": {
      "image/png": "[encoded data removed]",
      "text/plain": [
       "<Figure size 432x288 with 1 Axes>"
      ]
     },
     "metadata": {
      "needs_background": "light"
     },
     "output_type": "display_data"
    }
   ],
   "source": [
    "plt.scatter(n_t_x, Y)\n",
    "plt.plot([186, 88],[186*lr.coef_+lr.intercept_, 88*lr.coef_+lr.intercept_])"
   ]
  },
  {
   "cell_type": "code",
   "execution_count": null,
   "id": "5749318a",
   "metadata": {},
   "outputs": [],
   "source": []
  }
 ],
 "metadata": {
  "kernelspec": {
   "display_name": "Python 3 (ipykernel)",
   "language": "python",
   "name": "python3"
  },
  "language_info": {
   "codemirror_mode": {
    "name": "ipython",
    "version": 3
   },
   "file_extension": ".py",
   "mimetype": "text/x-python",
   "name": "python",
   "nbconvert_exporter": "python",
   "pygments_lexer": "ipython3",
   "version": "3.9.7"
  }
 },
 "nbformat": 4,
 "nbformat_minor": 5
}
