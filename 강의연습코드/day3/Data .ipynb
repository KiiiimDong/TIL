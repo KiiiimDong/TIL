{
 "cells": [
  {
   "cell_type": "code",
   "execution_count": 1,
   "id": "b4bd4487",
   "metadata": {},
   "outputs": [],
   "source": [
    "import matplotlib.pyplot as plt\n",
    "import matplotlib\n",
    "matplotlib.rcParams['font.family']='Malgun Gothic'\n",
    "matplotlib.rcParams['axes.unicode_minus']=False"
   ]
  },
  {
   "cell_type": "code",
   "execution_count": 2,
   "id": "d9072602",
   "metadata": {},
   "outputs": [
    {
     "data": {
      "text/html": [
       "<div>\n",
       "<style scoped>\n",
       "    .dataframe tbody tr th:only-of-type {\n",
       "        vertical-align: middle;\n",
       "    }\n",
       "\n",
       "    .dataframe tbody tr th {\n",
       "        vertical-align: top;\n",
       "    }\n",
       "\n",
       "    .dataframe thead th {\n",
       "        text-align: right;\n",
       "    }\n",
       "</style>\n",
       "<table border=\"1\" class=\"dataframe\">\n",
       "  <thead>\n",
       "    <tr style=\"text-align: right;\">\n",
       "      <th></th>\n",
       "      <th>연도</th>\n",
       "      <th>발생</th>\n",
       "      <th>사망</th>\n",
       "      <th>부상</th>\n",
       "    </tr>\n",
       "  </thead>\n",
       "  <tbody>\n",
       "    <tr>\n",
       "      <th>0</th>\n",
       "      <td>2020</td>\n",
       "      <td>620</td>\n",
       "      <td>11</td>\n",
       "      <td>1053</td>\n",
       "    </tr>\n",
       "    <tr>\n",
       "      <th>1</th>\n",
       "      <td>2019</td>\n",
       "      <td>493</td>\n",
       "      <td>18</td>\n",
       "      <td>797</td>\n",
       "    </tr>\n",
       "    <tr>\n",
       "      <th>2</th>\n",
       "      <td>2018</td>\n",
       "      <td>680</td>\n",
       "      <td>14</td>\n",
       "      <td>1165</td>\n",
       "    </tr>\n",
       "    <tr>\n",
       "      <th>3</th>\n",
       "      <td>2017</td>\n",
       "      <td>780</td>\n",
       "      <td>18</td>\n",
       "      <td>1338</td>\n",
       "    </tr>\n",
       "    <tr>\n",
       "      <th>4</th>\n",
       "      <td>2016</td>\n",
       "      <td>708</td>\n",
       "      <td>18</td>\n",
       "      <td>1266</td>\n",
       "    </tr>\n",
       "  </tbody>\n",
       "</table>\n",
       "</div>"
      ],
      "text/plain": [
       "     연도   발생  사망    부상\n",
       "0  2020  620  11  1053\n",
       "1  2019  493  18   797\n",
       "2  2018  680  14  1165\n",
       "3  2017  780  18  1338\n",
       "4  2016  708  18  1266"
      ]
     },
     "execution_count": 2,
     "metadata": {},
     "output_type": "execute_result"
    }
   ],
   "source": [
    "import pandas as pd\n",
    "from pandas import DataFrame\n",
    "df=pd.read_csv('경찰청 강원도경찰청_음주교통사고 발생 현황_20201231.csv',encoding='euc-kr')\n",
    "df"
   ]
  },
  {
   "cell_type": "code",
   "execution_count": 3,
   "id": "dc613f09",
   "metadata": {},
   "outputs": [
    {
     "data": {
      "image/png": "[encoded data removed]",
      "text/plain": [
       "<Figure size 432x288 with 1 Axes>"
      ]
     },
     "metadata": {
      "needs_background": "light"
     },
     "output_type": "display_data"
    }
   ],
   "source": [
    "plt.plot(df['연도'],df['발생'],'r*-')\n",
    "plt.plot(df['연도'],df['부상'],'bo-')\n",
    "plt.grid(axis='y',ls='--')"
   ]
  },
  {
   "cell_type": "code",
   "execution_count": 4,
   "id": "09966704",
   "metadata": {},
   "outputs": [
    {
     "data": {
      "text/plain": [
       "<BarContainer object of 5 artists>"
      ]
     },
     "execution_count": 4,
     "metadata": {},
     "output_type": "execute_result"
    },
    {
     "data": {
      "image/png": "[encoded data removed]",
      "text/plain": [
       "<Figure size 432x288 with 1 Axes>"
      ]
     },
     "metadata": {
      "needs_background": "light"
     },
     "output_type": "display_data"
    }
   ],
   "source": [
    "plt.bar(df['연도'],df['사망'])"
   ]
  },
  {
   "cell_type": "code",
   "execution_count": 5,
   "id": "1e82262d",
   "metadata": {},
   "outputs": [
    {
     "data": {
      "image/png": "[encoded data removed]",
      "text/plain": [
       "<Figure size 432x288 with 1 Axes>"
      ]
     },
     "metadata": {
      "needs_background": "light"
     },
     "output_type": "display_data"
    }
   ],
   "source": [
    "x=['사망']\n",
    "a=df['사망']\n",
    "plt.bar(x,a[0])\n",
    "plt.bar(x,a[1],bottom=a[0])\n",
    "plt.bar(x,a[2],bottom=a[1]+a[0])\n",
    "plt.bar(x,a[3],bottom=a[2]+a[1]+a[0])\n",
    "plt.bar(x,a[4],bottom=a[3]+a[2]+a[1]+a[0])\n",
    "plt.show()"
   ]
  },
  {
   "cell_type": "code",
   "execution_count": 6,
   "id": "5a705fda",
   "metadata": {},
   "outputs": [
    {
     "data": {
      "image/png": "[encoded data removed]",
      "text/plain": [
       "<Figure size 432x288 with 1 Axes>"
      ]
     },
     "metadata": {
      "needs_background": "light"
     },
     "output_type": "display_data"
    }
   ],
   "source": [
    "x=['사망','부상인원','발생횟수']\n",
    "a=df['사망']\n",
    "a1=df['부상']\n",
    "a2=df['발생']\n",
    "plt.bar(x[0],a[0])\n",
    "plt.bar(x[0],a[1],bottom=a[0])\n",
    "plt.bar(x[0],a[2],bottom=a[1]+a[0])\n",
    "plt.bar(x[0],a[3],bottom=a[2]+a[1]+a[0])\n",
    "plt.bar(x[0],a[4],bottom=a[3]+a[2]+a[1]+a[0])\n",
    "plt.bar(x[1],a1[0])\n",
    "plt.bar(x[1],a1[1],bottom=a1[0])\n",
    "plt.bar(x[1],a1[2],bottom=a1[1]+a1[0])\n",
    "plt.bar(x[1],a1[3],bottom=a1[2]+a1[1]+a1[0])\n",
    "plt.bar(x[1],a1[4],bottom=a1[3]+a1[2]+a1[1]+a1[0])\n",
    "plt.bar(x[2],a2[0])\n",
    "plt.bar(x[2],a2[1],bottom=a2[0])\n",
    "plt.bar(x[2],a2[2],bottom=a2[1]+a2[0])\n",
    "plt.bar(x[2],a2[3],bottom=a2[2]+a2[1]+a2[0])\n",
    "plt.bar(x[2],a2[4],bottom=a2[3]+a2[2]+a2[1]+a2[0])\n",
    "\n",
    "plt.show()"
   ]
  },
  {
   "cell_type": "code",
   "execution_count": 8,
   "id": "7ed2428b",
   "metadata": {},
   "outputs": [
    {
     "data": {
      "text/html": [
       "<div>\n",
       "<style scoped>\n",
       "    .dataframe tbody tr th:only-of-type {\n",
       "        vertical-align: middle;\n",
       "    }\n",
       "\n",
       "    .dataframe tbody tr th {\n",
       "        vertical-align: top;\n",
       "    }\n",
       "\n",
       "    .dataframe thead th {\n",
       "        text-align: right;\n",
       "    }\n",
       "</style>\n",
       "<table border=\"1\" class=\"dataframe\">\n",
       "  <thead>\n",
       "    <tr style=\"text-align: right;\">\n",
       "      <th></th>\n",
       "      <th>사망</th>\n",
       "      <th>부상</th>\n",
       "      <th>발생</th>\n",
       "    </tr>\n",
       "  </thead>\n",
       "  <tbody>\n",
       "    <tr>\n",
       "      <th>0</th>\n",
       "      <td>11</td>\n",
       "      <td>1053</td>\n",
       "      <td>620</td>\n",
       "    </tr>\n",
       "    <tr>\n",
       "      <th>1</th>\n",
       "      <td>18</td>\n",
       "      <td>797</td>\n",
       "      <td>493</td>\n",
       "    </tr>\n",
       "    <tr>\n",
       "      <th>2</th>\n",
       "      <td>14</td>\n",
       "      <td>1165</td>\n",
       "      <td>680</td>\n",
       "    </tr>\n",
       "    <tr>\n",
       "      <th>3</th>\n",
       "      <td>18</td>\n",
       "      <td>1338</td>\n",
       "      <td>780</td>\n",
       "    </tr>\n",
       "    <tr>\n",
       "      <th>4</th>\n",
       "      <td>18</td>\n",
       "      <td>1266</td>\n",
       "      <td>708</td>\n",
       "    </tr>\n",
       "  </tbody>\n",
       "</table>\n",
       "</div>"
      ],
      "text/plain": [
       "   사망    부상   발생\n",
       "0  11  1053  620\n",
       "1  18   797  493\n",
       "2  14  1165  680\n",
       "3  18  1338  780\n",
       "4  18  1266  708"
      ]
     },
     "execution_count": 8,
     "metadata": {},
     "output_type": "execute_result"
    }
   ],
   "source": [
    "x=['사망인원', '부상인원', '발생횟수']\n",
    "c_df=df.loc[:,['사망', '부상', '발생']]\n",
    "c_df  "
   ]
  },
  {
   "cell_type": "code",
   "execution_count": 11,
   "id": "40c541d5",
   "metadata": {},
   "outputs": [
    {
     "data": {
      "image/png": "[encoded data removed]",
      "text/plain": [
       "<Figure size 432x288 with 1 Axes>"
      ]
     },
     "metadata": {
      "needs_background": "light"
     },
     "output_type": "display_data"
    }
   ],
   "source": [
    "import numpy as np\n",
    "b=np.array([0,0,0]) # sum=0 sum+=1\n",
    "for i in range(len(c_df.values)):\n",
    "    plt.bar(x,c_df.values[i],bottom=b)#누적합\n",
    "    b+=c_df.values[i]\n",
    "plt.show() "
   ]
  }
 ],
 "metadata": {
  "kernelspec": {
   "display_name": "Python 3 (ipykernel)",
   "language": "python",
   "name": "python3"
  },
  "language_info": {
   "codemirror_mode": {
    "name": "ipython",
    "version": 3
   },
   "file_extension": ".py",
   "mimetype": "text/x-python",
   "name": "python",
   "nbconvert_exporter": "python",
   "pygments_lexer": "ipython3",
   "version": "3.9.7"
  }
 },
 "nbformat": 4,
 "nbformat_minor": 5
}
