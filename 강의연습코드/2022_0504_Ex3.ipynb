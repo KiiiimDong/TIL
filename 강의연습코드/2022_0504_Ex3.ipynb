{
 "cells": [
  {
   "cell_type": "code",
   "execution_count": 1,
   "id": "ee2f6d00",
   "metadata": {},
   "outputs": [],
   "source": [
    "import re"
   ]
  },
  {
   "cell_type": "markdown",
   "id": "3fcbb6f1",
   "metadata": {},
   "source": [
    ".기호 : 단어1개"
   ]
  },
  {
   "cell_type": "code",
   "execution_count": 3,
   "id": "304e281b",
   "metadata": {},
   "outputs": [],
   "source": [
    "r = re.compile('d.t')\n",
    "r.search('ggg')"
   ]
  },
  {
   "cell_type": "code",
   "execution_count": 8,
   "id": "7f66351b",
   "metadata": {},
   "outputs": [
    {
     "data": {
      "text/plain": [
       "<re.Match object; span=(1, 4), match='dat'>"
      ]
     },
     "execution_count": 8,
     "metadata": {},
     "output_type": "execute_result"
    }
   ],
   "source": [
    "r.search('adatasdfdatad')"
   ]
  },
  {
   "cell_type": "markdown",
   "id": "1b4539e5",
   "metadata": {},
   "source": [
    "? 기호 : 입력 이후 중간 문자의 유무 상관 없이 끝문자가 나오면 인식된다."
   ]
  },
  {
   "cell_type": "code",
   "execution_count": 28,
   "id": "1c212a2b",
   "metadata": {},
   "outputs": [],
   "source": [
    "r = re.compile('da?t')\n",
    "r.search('ggg')"
   ]
  },
  {
   "cell_type": "code",
   "execution_count": 29,
   "id": "0f43968c",
   "metadata": {},
   "outputs": [
    {
     "data": {
      "text/plain": [
       "<re.Match object; span=(0, 3), match='dat'>"
      ]
     },
     "execution_count": 29,
     "metadata": {},
     "output_type": "execute_result"
    }
   ],
   "source": [
    "r.search('datta')"
   ]
  },
  {
   "cell_type": "code",
   "execution_count": 30,
   "id": "e9ff26e9",
   "metadata": {},
   "outputs": [],
   "source": [
    "r.search('at')"
   ]
  },
  {
   "cell_type": "markdown",
   "id": "87e2e5a1",
   "metadata": {},
   "source": [
    "*기호 (연결된 문자의 중복 갯수 상관없이 인식) 갯수 0부터가능"
   ]
  },
  {
   "cell_type": "code",
   "execution_count": 31,
   "id": "0322f329",
   "metadata": {},
   "outputs": [
    {
     "data": {
      "text/plain": [
       "<re.Match object; span=(0, 3), match='abc'>"
      ]
     },
     "execution_count": 31,
     "metadata": {},
     "output_type": "execute_result"
    }
   ],
   "source": [
    "r = re.compile('ab*c')\n",
    "r.search('abc')"
   ]
  },
  {
   "cell_type": "code",
   "execution_count": 32,
   "id": "f0c3e998",
   "metadata": {},
   "outputs": [
    {
     "data": {
      "text/plain": [
       "<re.Match object; span=(0, 7), match='abbbbbc'>"
      ]
     },
     "execution_count": 32,
     "metadata": {},
     "output_type": "execute_result"
    }
   ],
   "source": [
    "r.search('abbbbbc')"
   ]
  },
  {
   "cell_type": "code",
   "execution_count": 33,
   "id": "05c8ded8",
   "metadata": {},
   "outputs": [],
   "source": [
    "r.search('abfffc')"
   ]
  },
  {
   "cell_type": "markdown",
   "id": "c45758f8",
   "metadata": {},
   "source": [
    "+기호 : 연결된 문자의 중복 갯수 상관없이 인식 갯수1이상만가능"
   ]
  },
  {
   "cell_type": "code",
   "execution_count": 35,
   "id": "05e5c565",
   "metadata": {},
   "outputs": [
    {
     "data": {
      "text/plain": [
       "<re.Match object; span=(0, 3), match='abc'>"
      ]
     },
     "execution_count": 35,
     "metadata": {},
     "output_type": "execute_result"
    }
   ],
   "source": [
    "r = re.compile('ab+c')\n",
    "r.search('abc')"
   ]
  },
  {
   "cell_type": "markdown",
   "id": "c59434e2",
   "metadata": {},
   "source": [
    "^기호 : 기호 이후의 문자열로 시작되는 문자열을 인식한다."
   ]
  },
  {
   "cell_type": "code",
   "execution_count": 36,
   "id": "25246e4d",
   "metadata": {},
   "outputs": [
    {
     "data": {
      "text/plain": [
       "<re.Match object; span=(0, 2), match='ab'>"
      ]
     },
     "execution_count": 36,
     "metadata": {},
     "output_type": "execute_result"
    }
   ],
   "source": [
    "r = re.compile('^ab')\n",
    "r.search('abc')"
   ]
  },
  {
   "cell_type": "code",
   "execution_count": 37,
   "id": "d5a07493",
   "metadata": {},
   "outputs": [],
   "source": [
    "r.search('cdcdaababab')"
   ]
  },
  {
   "cell_type": "markdown",
   "id": "b543749f",
   "metadata": {},
   "source": [
    "{숫자}기호 - 기호 앞에 있는 단어의 갯수가 기호 안의 숫자만큼 있을 때 인식"
   ]
  },
  {
   "cell_type": "code",
   "execution_count": 38,
   "id": "fadb85a5",
   "metadata": {},
   "outputs": [],
   "source": [
    "r = re.compile('ab{2}c')\n",
    "r.search('abc')"
   ]
  },
  {
   "cell_type": "code",
   "execution_count": 40,
   "id": "0db0b20b",
   "metadata": {},
   "outputs": [
    {
     "data": {
      "text/plain": [
       "<re.Match object; span=(0, 4), match='abbc'>"
      ]
     },
     "execution_count": 40,
     "metadata": {},
     "output_type": "execute_result"
    }
   ],
   "source": [
    "r.search('abbc')"
   ]
  },
  {
   "cell_type": "code",
   "execution_count": 41,
   "id": "e31b374e",
   "metadata": {},
   "outputs": [],
   "source": [
    "r.search('abbbc')"
   ]
  },
  {
   "cell_type": "markdown",
   "id": "bc4b1f5a",
   "metadata": {},
   "source": [
    "{숫자,숫자}기호 -기호 앞에 있는 단어의 갯수가 기호 안의 숫자범위만큼 있을 때 인식"
   ]
  },
  {
   "cell_type": "code",
   "execution_count": 43,
   "id": "a43b25a7",
   "metadata": {},
   "outputs": [
    {
     "data": {
      "text/plain": [
       "<re.Match object; span=(0, 7), match='abbbbbc'>"
      ]
     },
     "execution_count": 43,
     "metadata": {},
     "output_type": "execute_result"
    }
   ],
   "source": [
    "r = re.compile('ab{2,5}c')\n",
    "r.search('abbc')\n",
    "r.search('abbbc')\n",
    "r.search('abbbbc')\n",
    "r.search('abbbbbc')"
   ]
  },
  {
   "cell_type": "markdown",
   "id": "880ec7eb",
   "metadata": {},
   "source": [
    "{숫자,}기호 - 슬라이싱 생각하면 된다."
   ]
  },
  {
   "cell_type": "code",
   "execution_count": 44,
   "id": "206d3e87",
   "metadata": {},
   "outputs": [
    {
     "data": {
      "text/plain": [
       "<re.Match object; span=(0, 23), match='abbbbbbbbbbbbbbbbbbbbbc'>"
      ]
     },
     "execution_count": 44,
     "metadata": {},
     "output_type": "execute_result"
    }
   ],
   "source": [
    "r = re.compile('ab{2,}c')\n",
    "r.search('abbbbbbbbbbbbbbbbbbbbbc')"
   ]
  },
  {
   "cell_type": "markdown",
   "id": "2064a2b8",
   "metadata": {},
   "source": [
    "[ ]기호 - 괄호 안에 있는 문자의 유무,[-]"
   ]
  },
  {
   "cell_type": "code",
   "execution_count": 46,
   "id": "29ef3757",
   "metadata": {},
   "outputs": [
    {
     "data": {
      "text/plain": [
       "<re.Match object; span=(0, 1), match='c'>"
      ]
     },
     "execution_count": 46,
     "metadata": {},
     "output_type": "execute_result"
    }
   ],
   "source": [
    "r = re.compile('[abc]')\n",
    "r.search('cba')"
   ]
  },
  {
   "cell_type": "code",
   "execution_count": 47,
   "id": "69ff8ea6",
   "metadata": {},
   "outputs": [
    {
     "data": {
      "text/plain": [
       "<re.Match object; span=(0, 1), match='y'>"
      ]
     },
     "execution_count": 47,
     "metadata": {},
     "output_type": "execute_result"
    }
   ],
   "source": [
    "r = re.compile('[a-z]') # 범위 a부터z까지\n",
    "r.search('y')"
   ]
  },
  {
   "cell_type": "markdown",
   "id": "e7fc5536",
   "metadata": {},
   "source": [
    "[^]기호 - 내부에 없는 data 인식."
   ]
  },
  {
   "cell_type": "code",
   "execution_count": 48,
   "id": "4a2e7948",
   "metadata": {},
   "outputs": [
    {
     "data": {
      "text/plain": [
       "<re.Match object; span=(0, 1), match='y'>"
      ]
     },
     "execution_count": 48,
     "metadata": {},
     "output_type": "execute_result"
    }
   ],
   "source": [
    "r = re.compile('[^abc]')\n",
    "r.search('y') # 반전"
   ]
  },
  {
   "cell_type": "markdown",
   "id": "00aac661",
   "metadata": {},
   "source": [
    "함수"
   ]
  },
  {
   "cell_type": "code",
   "execution_count": 49,
   "id": "efd8eacb",
   "metadata": {},
   "outputs": [
    {
     "data": {
      "text/plain": [
       "<re.Match object; span=(7, 10), match='aac'>"
      ]
     },
     "execution_count": 49,
     "metadata": {},
     "output_type": "execute_result"
    }
   ],
   "source": [
    "r = re.compile('a.c') #조건설정\n",
    "r.search('dataO- aac') # 만족하기만 하면 인식"
   ]
  },
  {
   "cell_type": "code",
   "execution_count": 50,
   "id": "5e028a32",
   "metadata": {},
   "outputs": [],
   "source": [
    "r.match('dataO- aac') # 시작부터 확인 후 인식(^)"
   ]
  },
  {
   "cell_type": "code",
   "execution_count": 51,
   "id": "7a662b55",
   "metadata": {},
   "outputs": [
    {
     "data": {
      "text/plain": [
       "['data1', 'data2', 'data3']"
      ]
     },
     "execution_count": 51,
     "metadata": {},
     "output_type": "execute_result"
    }
   ],
   "source": [
    "data = 'data1 data2 data3'\n",
    "re.split(' ',data) # 자르기 (조건, data)"
   ]
  },
  {
   "cell_type": "code",
   "execution_count": 58,
   "id": "ec63e5ca",
   "metadata": {},
   "outputs": [
    {
     "data": {
      "text/plain": [
       "['data1', 'data2', 'data3']"
      ]
     },
     "execution_count": 58,
     "metadata": {},
     "output_type": "execute_result"
    }
   ],
   "source": [
    "re.findall('\\w+',data)"
   ]
  },
  {
   "cell_type": "code",
   "execution_count": 62,
   "id": "207b1d80",
   "metadata": {},
   "outputs": [
    {
     "data": {
      "text/plain": [
       "'data1수정data2수정data3'"
      ]
     },
     "execution_count": 62,
     "metadata": {},
     "output_type": "execute_result"
    }
   ],
   "source": [
    "re.sub('\\W+','수정',data)"
   ]
  },
  {
   "cell_type": "code",
   "execution_count": 64,
   "id": "7f76f765",
   "metadata": {},
   "outputs": [],
   "source": [
    "t=\"Don't be fooled by the dark sounding name, Mr. Jone's Orphanage is as cheery as cheery goes for a pastry shop.\""
   ]
  },
  {
   "cell_type": "code",
   "execution_count": 65,
   "id": "be66cdd9",
   "metadata": {},
   "outputs": [
    {
     "data": {
      "text/plain": [
       "['Don',\n",
       " 't',\n",
       " 'be',\n",
       " 'fooled',\n",
       " 'by',\n",
       " 'the',\n",
       " 'dark',\n",
       " 'sounding',\n",
       " 'name',\n",
       " 'Mr',\n",
       " 'Jone',\n",
       " 's',\n",
       " 'Orphanage',\n",
       " 'is',\n",
       " 'as',\n",
       " 'cheery',\n",
       " 'as',\n",
       " 'cheery',\n",
       " 'goes',\n",
       " 'for',\n",
       " 'a',\n",
       " 'pastry',\n",
       " 'shop']"
      ]
     },
     "execution_count": 65,
     "metadata": {},
     "output_type": "execute_result"
    }
   ],
   "source": [
    "from nltk.tokenize import RegexpTokenizer\n",
    "ck1 = RegexpTokenizer('[\\w]+')\n",
    "ck1.tokenize(t)"
   ]
  },
  {
   "cell_type": "code",
   "execution_count": 70,
   "id": "6971c0fe",
   "metadata": {},
   "outputs": [
    {
     "data": {
      "text/plain": [
       "[\"Don't\",\n",
       " 'be',\n",
       " 'fooled',\n",
       " 'by',\n",
       " 'the',\n",
       " 'dark',\n",
       " 'sounding',\n",
       " 'name,',\n",
       " 'Mr.',\n",
       " \"Jone's\",\n",
       " 'Orphanage',\n",
       " 'is',\n",
       " 'as',\n",
       " 'cheery',\n",
       " 'as',\n",
       " 'cheery',\n",
       " 'goes',\n",
       " 'for',\n",
       " 'a',\n",
       " 'pastry',\n",
       " 'shop.']"
      ]
     },
     "execution_count": 70,
     "metadata": {},
     "output_type": "execute_result"
    }
   ],
   "source": [
    "ck2 = RegexpTokenizer('\\s+',gaps=True)\n",
    "ck2.tokenize(t)"
   ]
  },
  {
   "cell_type": "code",
   "execution_count": null,
   "id": "4a65350b",
   "metadata": {},
   "outputs": [],
   "source": []
  }
 ],
 "metadata": {
  "kernelspec": {
   "display_name": "Python 3 (ipykernel)",
   "language": "python",
   "name": "python3"
  },
  "language_info": {
   "codemirror_mode": {
    "name": "ipython",
    "version": 3
   },
   "file_extension": ".py",
   "mimetype": "text/x-python",
   "name": "python",
   "nbconvert_exporter": "python",
   "pygments_lexer": "ipython3",
   "version": "3.9.7"
  }
 },
 "nbformat": 4,
 "nbformat_minor": 5
}
