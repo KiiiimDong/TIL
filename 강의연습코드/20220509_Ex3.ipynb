{
 "cells": [
  {
   "cell_type": "code",
   "execution_count": 2,
   "id": "47b39fdc",
   "metadata": {},
   "outputs": [],
   "source": [
    "from konlpy.tag import Okt # 한국어 형태소 분석기 konlpy, Twitter=>Okt로 바뀜\n",
    "from ckonlpy.tag import Twitter # 한국어 분석기를 보조해주는 장치."
   ]
  },
  {
   "cell_type": "code",
   "execution_count": 3,
   "id": "402cdbe6",
   "metadata": {},
   "outputs": [
    {
     "data": {
      "text/plain": [
       "['은', '호가', '교실']"
      ]
     },
     "execution_count": 3,
     "metadata": {},
     "output_type": "execute_result"
    }
   ],
   "source": [
    "t = '은호가 교실로 들어갔다.'\n",
    "tw = Okt()\n",
    "tw.nouns(t)\n",
    "#tw.nouns # 명사 추출\n",
    "#tw.morphs # 형태소 추출\n",
    "#tw.pos # 품사 추출"
   ]
  },
  {
   "cell_type": "code",
   "execution_count": 4,
   "id": "7cf7b9a1",
   "metadata": {},
   "outputs": [
    {
     "data": {
      "text/plain": [
       "['은', '호가', '교실', '로', '들어갔다', '.']"
      ]
     },
     "execution_count": 4,
     "metadata": {},
     "output_type": "execute_result"
    }
   ],
   "source": [
    "tw.morphs(t)"
   ]
  },
  {
   "cell_type": "code",
   "execution_count": 5,
   "id": "cc1ee007",
   "metadata": {},
   "outputs": [
    {
     "data": {
      "text/plain": [
       "[('은', 'Noun'),\n",
       " ('호가', 'Noun'),\n",
       " ('교실', 'Noun'),\n",
       " ('로', 'Josa'),\n",
       " ('들어갔다', 'Verb'),\n",
       " ('.', 'Punctuation')]"
      ]
     },
     "execution_count": 5,
     "metadata": {},
     "output_type": "execute_result"
    }
   ],
   "source": [
    "tw.pos(t)"
   ]
  },
  {
   "cell_type": "code",
   "execution_count": 6,
   "id": "6c012177",
   "metadata": {},
   "outputs": [
    {
     "name": "stderr",
     "output_type": "stream",
     "text": [
      "C:\\ProgramData\\Anaconda3\\lib\\site-packages\\konlpy\\tag\\_okt.py:17: UserWarning: \"Twitter\" has changed to \"Okt\" since KoNLPy v0.4.5.\n",
      "  warn('\"Twitter\" has changed to \"Okt\" since KoNLPy v0.4.5.')\n"
     ]
    },
    {
     "data": {
      "text/plain": [
       "['은', '호가', '교실', '로', '들어갔다', '.']"
      ]
     },
     "execution_count": 6,
     "metadata": {},
     "output_type": "execute_result"
    }
   ],
   "source": [
    "from konlpy.tag import Twitter\n",
    "tw1 = Twitter()\n",
    "tw1.morphs(t)"
   ]
  },
  {
   "cell_type": "code",
   "execution_count": 7,
   "id": "5bb9f6aa",
   "metadata": {},
   "outputs": [
    {
     "name": "stderr",
     "output_type": "stream",
     "text": [
      "C:\\ProgramData\\Anaconda3\\lib\\site-packages\\konlpy\\tag\\_okt.py:17: UserWarning: \"Twitter\" has changed to \"Okt\" since KoNLPy v0.4.5.\n",
      "  warn('\"Twitter\" has changed to \"Okt\" since KoNLPy v0.4.5.')\n"
     ]
    },
    {
     "data": {
      "text/plain": [
       "['은', '호가', '교실', '로', '들어갔다', '.']"
      ]
     },
     "execution_count": 7,
     "metadata": {},
     "output_type": "execute_result"
    }
   ],
   "source": [
    "from ckonlpy.tag import Twitter\n",
    "tw2 = Twitter()\n",
    "tw2.morphs(t)"
   ]
  },
  {
   "cell_type": "code",
   "execution_count": 8,
   "id": "9c5b1a7f",
   "metadata": {},
   "outputs": [],
   "source": [
    "tw2.add_dictionary('은호','Noun')"
   ]
  },
  {
   "cell_type": "code",
   "execution_count": 9,
   "id": "551e71de",
   "metadata": {},
   "outputs": [
    {
     "data": {
      "text/plain": [
       "'은호가 교실로 들어갔다.'"
      ]
     },
     "execution_count": 9,
     "metadata": {},
     "output_type": "execute_result"
    }
   ],
   "source": [
    "t"
   ]
  },
  {
   "cell_type": "code",
   "execution_count": 10,
   "id": "59673638",
   "metadata": {},
   "outputs": [
    {
     "data": {
      "text/plain": [
       "['은호', '가', '교실', '로', '들어갔다', '.']"
      ]
     },
     "execution_count": 10,
     "metadata": {},
     "output_type": "execute_result"
    }
   ],
   "source": [
    "tw2.morphs(t)"
   ]
  },
  {
   "cell_type": "code",
   "execution_count": 11,
   "id": "62ba954b",
   "metadata": {},
   "outputs": [
    {
     "data": {
      "text/plain": [
       "['은호', '교실']"
      ]
     },
     "execution_count": 11,
     "metadata": {},
     "output_type": "execute_result"
    }
   ],
   "source": [
    "tw2.nouns(t)"
   ]
  },
  {
   "cell_type": "code",
   "execution_count": 12,
   "id": "837bd3f5",
   "metadata": {},
   "outputs": [
    {
     "data": {
      "text/plain": [
       "[('은호', 'Noun'),\n",
       " ('가', 'Josa'),\n",
       " ('교실', 'Noun'),\n",
       " ('로', 'Josa'),\n",
       " ('들어갔다', 'Verb'),\n",
       " ('.', 'Punctuation')]"
      ]
     },
     "execution_count": 12,
     "metadata": {},
     "output_type": "execute_result"
    }
   ],
   "source": [
    "tw2.pos(t)"
   ]
  },
  {
   "cell_type": "code",
   "execution_count": 24,
   "id": "36ba129f",
   "metadata": {},
   "outputs": [],
   "source": [
    "t2 = '은호가 교실로 은이가 집으로 들어갔다.'\n",
    "tw1.pos(t2)\n",
    "tw2.add_dictionary('은호','Noun')\n",
    "tw2.add_dictionary('은이','Noun')"
   ]
  },
  {
   "cell_type": "code",
   "execution_count": 25,
   "id": "bb63c3a4",
   "metadata": {},
   "outputs": [
    {
     "data": {
      "text/plain": [
       "[('은호', 'Noun'),\n",
       " ('가', 'Josa'),\n",
       " ('교실', 'Noun'),\n",
       " ('로', 'Josa'),\n",
       " ('은이', 'Noun'),\n",
       " ('가', 'Josa'),\n",
       " ('집', 'Noun'),\n",
       " ('으로', 'Josa'),\n",
       " ('들어갔다', 'Verb'),\n",
       " ('.', 'Punctuation')]"
      ]
     },
     "execution_count": 25,
     "metadata": {},
     "output_type": "execute_result"
    }
   ],
   "source": [
    "tw2.pos(t2)"
   ]
  },
  {
   "cell_type": "code",
   "execution_count": null,
   "id": "d0855f77",
   "metadata": {},
   "outputs": [],
   "source": []
  }
 ],
 "metadata": {
  "kernelspec": {
   "display_name": "Python 3 (ipykernel)",
   "language": "python",
   "name": "python3"
  },
  "language_info": {
   "codemirror_mode": {
    "name": "ipython",
    "version": 3
   },
   "file_extension": ".py",
   "mimetype": "text/x-python",
   "name": "python",
   "nbconvert_exporter": "python",
   "pygments_lexer": "ipython3",
   "version": "3.9.7"
  }
 },
 "nbformat": 4,
 "nbformat_minor": 5
}
