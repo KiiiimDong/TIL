{
 "cells": [
  {
   "cell_type": "markdown",
   "id": "58398ea6",
   "metadata": {},
   "source": [
    "NBC(나이브 베이지안 분류기) - 확률과 표현식"
   ]
  },
  {
   "cell_type": "markdown",
   "id": "5f520119",
   "metadata": {},
   "source": [
    "스팸메일의 분류"
   ]
  },
  {
   "cell_type": "markdown",
   "id": "fb1aaecc",
   "metadata": {},
   "source": [
    "## 베이즈 분류기"
   ]
  },
  {
   "cell_type": "code",
   "execution_count": 1,
   "id": "9a6ab6a3",
   "metadata": {},
   "outputs": [],
   "source": [
    "from pandas import Series,DataFrame\n",
    "import pandas as pd\n",
    "import numpy as np\n",
    "viagra_spam = {\n",
    "    'viagra':[1,0,0,0,0,0,0,0,1,1,1,0,0,1,0,0,0,0,0,1],\n",
    "    'spam':[1,0,0,0,0,0,1,0,1,0,0,0,0,0,0,0,0,1,1,1]\n",
    "}\n",
    "df = pd.DataFrame(viagra_spam, columns = ['viagra','spam'])\n",
    "np_data = df.values"
   ]
  },
  {
   "cell_type": "markdown",
   "id": "523941ca",
   "metadata": {},
   "source": [
    "P(viagra,spam)"
   ]
  },
  {
   "cell_type": "code",
   "execution_count": 2,
   "id": "4c538ac8",
   "metadata": {},
   "outputs": [
    {
     "data": {
      "text/plain": [
       "0.15"
      ]
     },
     "execution_count": 2,
     "metadata": {},
     "output_type": "execute_result"
    }
   ],
   "source": [
    "p_v_cap_s = sum((np_data[:,0] == 1) & (np_data[:,1] == 1))/20\n",
    "p_v_cap_s"
   ]
  },
  {
   "cell_type": "markdown",
   "id": "ee68475b",
   "metadata": {},
   "source": [
    "P(viagra)"
   ]
  },
  {
   "cell_type": "code",
   "execution_count": 3,
   "id": "1b3d8667",
   "metadata": {},
   "outputs": [
    {
     "data": {
      "text/plain": [
       "0.3"
      ]
     },
     "execution_count": 3,
     "metadata": {},
     "output_type": "execute_result"
    }
   ],
   "source": [
    "p_v = sum((np_data[:,0] == 1))/20\n",
    "p_v"
   ]
  },
  {
   "cell_type": "markdown",
   "id": "916113fd",
   "metadata": {},
   "source": [
    "P(spam)"
   ]
  },
  {
   "cell_type": "code",
   "execution_count": 4,
   "id": "4150cfc8",
   "metadata": {},
   "outputs": [
    {
     "data": {
      "text/plain": [
       "0.3"
      ]
     },
     "execution_count": 4,
     "metadata": {},
     "output_type": "execute_result"
    }
   ],
   "source": [
    "p_s = sum((np_data[:,1] == 1))/20\n",
    "p_s"
   ]
  },
  {
   "cell_type": "markdown",
   "id": "5fcb27ec",
   "metadata": {},
   "source": [
    "P(~viagra,spam)"
   ]
  },
  {
   "cell_type": "code",
   "execution_count": 5,
   "id": "1e23aae1",
   "metadata": {},
   "outputs": [
    {
     "data": {
      "text/plain": [
       "0.15"
      ]
     },
     "execution_count": 5,
     "metadata": {},
     "output_type": "execute_result"
    }
   ],
   "source": [
    "p_n_v_cap_s = sum((np_data[:,0] == 0) & (np_data[:,1] == 1))/20\n",
    "p_n_v_cap_s"
   ]
  },
  {
   "cell_type": "markdown",
   "id": "e22554b4",
   "metadata": {},
   "source": [
    "P(spam|viagra)"
   ]
  },
  {
   "cell_type": "code",
   "execution_count": 8,
   "id": "e9a61d1f",
   "metadata": {},
   "outputs": [
    {
     "data": {
      "text/plain": [
       "0.5"
      ]
     },
     "execution_count": 8,
     "metadata": {},
     "output_type": "execute_result"
    }
   ],
   "source": [
    "(p_s)*(p_v_cap_s/p_s)/(p_v)"
   ]
  },
  {
   "cell_type": "markdown",
   "id": "9ca3dadf",
   "metadata": {},
   "source": [
    "P(spam|~viagra)"
   ]
  },
  {
   "cell_type": "code",
   "execution_count": 9,
   "id": "78952a32",
   "metadata": {},
   "outputs": [
    {
     "data": {
      "text/plain": [
       "0.2142857142857143"
      ]
     },
     "execution_count": 9,
     "metadata": {},
     "output_type": "execute_result"
    }
   ],
   "source": [
    "(p_s)*(p_n_v_cap_s/p_s)/(1-p_v)"
   ]
  }
 ],
 "metadata": {
  "kernelspec": {
   "display_name": "Python 3 (ipykernel)",
   "language": "python",
   "name": "python3"
  },
  "language_info": {
   "codemirror_mode": {
    "name": "ipython",
    "version": 3
   },
   "file_extension": ".py",
   "mimetype": "text/x-python",
   "name": "python",
   "nbconvert_exporter": "python",
   "pygments_lexer": "ipython3",
   "version": "3.9.7"
  }
 },
 "nbformat": 4,
 "nbformat_minor": 5
}
