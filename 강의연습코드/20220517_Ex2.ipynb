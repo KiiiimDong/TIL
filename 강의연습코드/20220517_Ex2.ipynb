{
 "cells": [
  {
   "cell_type": "code",
   "execution_count": 13,
   "id": "20297db8",
   "metadata": {},
   "outputs": [],
   "source": [
    "import tensorflow as tf\n",
    "import numpy as np\n",
    "from tensorflow.keras.layers import Dropout, Dense, Embedding, SimpleRNN, LSTM, Bidirectional\n",
    "from tensorflow.keras.models import Sequential\n",
    "from tensorflow.keras.optimizers import Adam\n",
    "from tensorflow.keras.datasets.imdb import load_data\n",
    "tf.random.set_seed(22)\n",
    "np.random.seed(22)\n",
    "from tensorflow.keras import layers"
   ]
  },
  {
   "cell_type": "code",
   "execution_count": 2,
   "id": "5151bccc",
   "metadata": {},
   "outputs": [
    {
     "name": "stderr",
     "output_type": "stream",
     "text": [
      "<__array_function__ internals>:5: VisibleDeprecationWarning: Creating an ndarray from ragged nested sequences (which is a list-or-tuple of lists-or-tuples-or ndarrays with different lengths or shapes) is deprecated. If you meant to do this, you must specify 'dtype=object' when creating the ndarray\n",
      "C:\\ProgramData\\Anaconda3\\lib\\site-packages\\tensorflow\\python\\keras\\datasets\\imdb.py:155: VisibleDeprecationWarning: Creating an ndarray from ragged nested sequences (which is a list-or-tuple of lists-or-tuples-or ndarrays with different lengths or shapes) is deprecated. If you meant to do this, you must specify 'dtype=object' when creating the ndarray\n",
      "  x_train, y_train = np.array(xs[:idx]), np.array(labels[:idx])\n",
      "C:\\ProgramData\\Anaconda3\\lib\\site-packages\\tensorflow\\python\\keras\\datasets\\imdb.py:156: VisibleDeprecationWarning: Creating an ndarray from ragged nested sequences (which is a list-or-tuple of lists-or-tuples-or ndarrays with different lengths or shapes) is deprecated. If you meant to do this, you must specify 'dtype=object' when creating the ndarray\n",
      "  x_test, y_test = np.array(xs[idx:]), np.array(labels[idx:])\n"
     ]
    }
   ],
   "source": [
    "(t_x,t_y),(tt_x,tt_y) = load_data(num_words=10000)\n",
    "t_x = tf.keras.preprocessing.sequence.pad_sequences(t_x,maxlen=80)\n",
    "tt_x = tf.keras.preprocessing.sequence.pad_sequences(tt_x,maxlen=80)"
   ]
  },
  {
   "cell_type": "code",
   "execution_count": 3,
   "id": "863f25c6",
   "metadata": {},
   "outputs": [
    {
     "data": {
      "text/plain": [
       "((25000, 80), (25000,), (25000, 80), (25000,))"
      ]
     },
     "execution_count": 3,
     "metadata": {},
     "output_type": "execute_result"
    }
   ],
   "source": [
    "t_x.shape, t_y.shape, tt_x.shape,  tt_y.shape"
   ]
  },
  {
   "cell_type": "code",
   "execution_count": 4,
   "id": "e5d6d2e0",
   "metadata": {},
   "outputs": [],
   "source": [
    "# Embedding(단어수, 피처차원)\n",
    "#m = Sequential()\n",
    "#m.add(Embedding(10000,100,input_length=80))\n",
    "#m.add(SimpleRNN(64,dropout=0.5,return_sequences=True))\n",
    "#m.add(SimpleRNN(64,dropout=0.5))\n",
    "#m.add(Dense(1))\n",
    "#tf.sigmoid()"
   ]
  },
  {
   "cell_type": "markdown",
   "id": "00000fb1",
   "metadata": {},
   "source": [
    "옵션작성 (하이퍼 파라미터)"
   ]
  },
  {
   "cell_type": "code",
   "execution_count": 5,
   "id": "72c90e77",
   "metadata": {},
   "outputs": [],
   "source": [
    "배치크기 = 128\n",
    "총단어수 = 10000\n",
    "최고문장길이 = 80\n",
    "임베딩길이 = 100\n",
    "뉴런수 = 64\n",
    "d_out = 0.5\n",
    "lr = 0.001\n",
    "ec = 4"
   ]
  },
  {
   "cell_type": "code",
   "execution_count": 6,
   "id": "9b452249",
   "metadata": {},
   "outputs": [
    {
     "name": "stdout",
     "output_type": "stream",
     "text": [
      "Epoch 1/4\n",
      "782/782 [==============================] - 22s 27ms/step - loss: 0.7004 - acc: 0.5211\n",
      "Epoch 2/4\n",
      "782/782 [==============================] - 25s 32ms/step - loss: 0.5362 - acc: 0.7306 - val_loss: 0.4392 - val_acc: 0.7984\n",
      "Epoch 3/4\n",
      "782/782 [==============================] - 21s 27ms/step - loss: 0.3867 - acc: 0.8329\n",
      "Epoch 4/4\n",
      "782/782 [==============================] - 25s 32ms/step - loss: 0.3024 - acc: 0.8772 - val_loss: 0.4476 - val_acc: 0.8239\n"
     ]
    },
    {
     "data": {
      "text/plain": [
       "<tensorflow.python.keras.callbacks.History at 0x2879282e940>"
      ]
     },
     "execution_count": 6,
     "metadata": {},
     "output_type": "execute_result"
    }
   ],
   "source": [
    "m = Sequential()\n",
    "m.add(Embedding(총단어수,임베딩길이,input_length=최고문장길이))\n",
    "m.add(SimpleRNN(뉴런수,dropout=d_out,return_sequences=True))\n",
    "m.add(SimpleRNN(뉴런수,dropout=d_out))\n",
    "m.add(Dense(1,activation='sigmoid'))\n",
    "m.compile(optimizer=Adam(lr), loss=tf.losses.BinaryCrossentropy(), metrics=['acc'])\n",
    "m.fit(t_x,t_y,epochs=ec, validation_data=(tt_x,tt_y), validation_freq=2)"
   ]
  },
  {
   "cell_type": "code",
   "execution_count": 7,
   "id": "983a919c",
   "metadata": {},
   "outputs": [
    {
     "name": "stdout",
     "output_type": "stream",
     "text": [
      "Epoch 1/4\n",
      "782/782 [==============================] - 44s 53ms/step - loss: 0.4354 - acc: 0.7890\n",
      "Epoch 2/4\n",
      "782/782 [==============================] - 52s 66ms/step - loss: 0.2917 - acc: 0.8789 - val_loss: 0.3726 - val_acc: 0.8356\n",
      "Epoch 3/4\n",
      "782/782 [==============================] - 44s 56ms/step - loss: 0.2332 - acc: 0.9061\n",
      "Epoch 4/4\n",
      "782/782 [==============================] - 54s 69ms/step - loss: 0.1877 - acc: 0.9270 - val_loss: 0.4136 - val_acc: 0.8350\n"
     ]
    },
    {
     "data": {
      "text/plain": [
       "<tensorflow.python.keras.callbacks.History at 0x287940f8d90>"
      ]
     },
     "execution_count": 7,
     "metadata": {},
     "output_type": "execute_result"
    }
   ],
   "source": [
    "m = Sequential()\n",
    "m.add(Embedding(총단어수,임베딩길이,input_length=최고문장길이))\n",
    "m.add(LSTM(뉴런수,dropout=d_out,return_sequences=True))\n",
    "m.add(LSTM(뉴런수,dropout=d_out))\n",
    "m.add(Dense(1,activation='sigmoid'))\n",
    "m.compile(optimizer=Adam(lr), loss=tf.losses.BinaryCrossentropy(), metrics=['acc'])\n",
    "m.fit(t_x,t_y,epochs=ec, validation_data=(tt_x,tt_y), validation_freq=2)"
   ]
  },
  {
   "cell_type": "code",
   "execution_count": 11,
   "id": "2f4733b1",
   "metadata": {},
   "outputs": [
    {
     "name": "stdout",
     "output_type": "stream",
     "text": [
      "Epoch 1/4\n",
      "782/782 [==============================] - 40s 49ms/step - loss: 0.4528 - acc: 0.7771\n",
      "Epoch 2/4\n",
      "782/782 [==============================] - 46s 59ms/step - loss: 0.2952 - acc: 0.8778 - val_loss: 0.3604 - val_acc: 0.8394\n",
      "Epoch 3/4\n",
      "782/782 [==============================] - 38s 49ms/step - loss: 0.2313 - acc: 0.9086\n",
      "Epoch 4/4\n",
      "782/782 [==============================] - 44s 57ms/step - loss: 0.1798 - acc: 0.9313 - val_loss: 0.3904 - val_acc: 0.8361\n"
     ]
    },
    {
     "data": {
      "text/plain": [
       "<tensorflow.python.keras.callbacks.History at 0x28798a00580>"
      ]
     },
     "execution_count": 11,
     "metadata": {},
     "output_type": "execute_result"
    }
   ],
   "source": [
    "m = Sequential()\n",
    "m.add(Embedding(총단어수,임베딩길이,input_length=최고문장길이))\n",
    "m.add(layers.GRU(뉴런수,dropout=d_out,return_sequences=True))\n",
    "m.add(layers.GRU(뉴런수,dropout=d_out))\n",
    "m.add(Dense(1,activation='sigmoid'))\n",
    "m.compile(optimizer=Adam(lr), loss=tf.losses.BinaryCrossentropy(), metrics=['acc'])\n",
    "m.fit(t_x,t_y,epochs=ec, validation_data=(tt_x,tt_y), validation_freq=2)"
   ]
  },
  {
   "cell_type": "code",
   "execution_count": 14,
   "id": "53a36bcf",
   "metadata": {},
   "outputs": [
    {
     "name": "stdout",
     "output_type": "stream",
     "text": [
      "Epoch 1/4\n",
      "782/782 [==============================] - 33s 39ms/step - loss: 0.4234 - acc: 0.7992\n",
      "Epoch 2/4\n",
      "782/782 [==============================] - 38s 48ms/step - loss: 0.2764 - acc: 0.8885 - val_loss: 0.3732 - val_acc: 0.8360\n",
      "Epoch 3/4\n",
      "782/782 [==============================] - 31s 40ms/step - loss: 0.1967 - acc: 0.9248\n",
      "Epoch 4/4\n",
      "782/782 [==============================] - 38s 49ms/step - loss: 0.1166 - acc: 0.9582 - val_loss: 0.4784 - val_acc: 0.8212\n"
     ]
    },
    {
     "data": {
      "text/plain": [
       "<tensorflow.python.keras.callbacks.History at 0x287999519d0>"
      ]
     },
     "execution_count": 14,
     "metadata": {},
     "output_type": "execute_result"
    }
   ],
   "source": [
    "m = Sequential()\n",
    "m.add(Embedding(총단어수,임베딩길이,input_length=최고문장길이))\n",
    "m.add(Bidirectional(LSTM(뉴런수)))\n",
    "m.add(Dropout(0.5))\n",
    "m.add(Dense(1,activation='sigmoid'))\n",
    "m.compile(optimizer=Adam(lr), loss=tf.losses.BinaryCrossentropy(), metrics=['acc'])\n",
    "m.fit(t_x,t_y,epochs=ec, validation_data=(tt_x,tt_y), validation_freq=2)"
   ]
  },
  {
   "cell_type": "code",
   "execution_count": 15,
   "id": "5fa7f7ba",
   "metadata": {},
   "outputs": [],
   "source": [
    "ec = 5"
   ]
  },
  {
   "cell_type": "code",
   "execution_count": 16,
   "id": "3b2fdadb",
   "metadata": {},
   "outputs": [
    {
     "name": "stdout",
     "output_type": "stream",
     "text": [
      "Epoch 1/5\n",
      "782/782 [==============================] - 62s 75ms/step - loss: 0.4200 - acc: 0.7992\n",
      "Epoch 2/5\n",
      "782/782 [==============================] - 73s 94ms/step - loss: 0.2618 - acc: 0.8947 - val_loss: 0.3965 - val_acc: 0.8288\n",
      "Epoch 3/5\n",
      "782/782 [==============================] - 59s 75ms/step - loss: 0.1643 - acc: 0.9386\n",
      "Epoch 4/5\n",
      "782/782 [==============================] - 73s 93ms/step - loss: 0.0981 - acc: 0.9643 - val_loss: 0.5699 - val_acc: 0.8299\n",
      "Epoch 5/5\n",
      "782/782 [==============================] - 58s 74ms/step - loss: 0.0511 - acc: 0.9825\n"
     ]
    },
    {
     "data": {
      "text/plain": [
       "<tensorflow.python.keras.callbacks.History at 0x287a0cf11c0>"
      ]
     },
     "execution_count": 16,
     "metadata": {},
     "output_type": "execute_result"
    }
   ],
   "source": [
    "m = Sequential()\n",
    "m.add(Embedding(총단어수,임베딩길이,input_length=최고문장길이))\n",
    "m.add(Bidirectional(LSTM(뉴런수,return_sequences=True)))\n",
    "m.add(Bidirectional(LSTM(뉴런수//2)))\n",
    "m.add(Dropout(0.5))\n",
    "m.add(Dense(1,activation='sigmoid'))\n",
    "m.compile(optimizer=Adam(lr), loss=tf.losses.BinaryCrossentropy(), metrics=['acc'])\n",
    "m.fit(t_x,t_y,epochs=ec, validation_data=(tt_x,tt_y), validation_freq=2)"
   ]
  }
 ],
 "metadata": {
  "kernelspec": {
   "display_name": "Python 3 (ipykernel)",
   "language": "python",
   "name": "python3"
  },
  "language_info": {
   "codemirror_mode": {
    "name": "ipython",
    "version": 3
   },
   "file_extension": ".py",
   "mimetype": "text/x-python",
   "name": "python",
   "nbconvert_exporter": "python",
   "pygments_lexer": "ipython3",
   "version": "3.9.7"
  }
 },
 "nbformat": 4,
 "nbformat_minor": 5
}
