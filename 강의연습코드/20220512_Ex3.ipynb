{
 "cells": [
  {
   "cell_type": "code",
   "execution_count": 1,
   "id": "8e71dfb9",
   "metadata": {},
   "outputs": [
    {
     "data": {
      "text/plain": [
       "{'신문': 1, '전자': 2, '삼성': 3, '주식': 4, '한화': 5, '기록': 6}"
      ]
     },
     "execution_count": 1,
     "metadata": {},
     "output_type": "execute_result"
    }
   ],
   "source": [
    "from tensorflow.keras.preprocessing.text import Tokenizer\n",
    "t_data = ['신문 전자 삼성 전자 주식 신문','삼성 신문','한화 신문','기록 신문']\n",
    "tk = Tokenizer()\n",
    "tk.fit_on_texts(t_data)\n",
    "tk.word_index"
   ]
  },
  {
   "cell_type": "code",
   "execution_count": 2,
   "id": "3ce065b5",
   "metadata": {},
   "outputs": [
    {
     "data": {
      "text/plain": [
       "array([[0., 1., 1., 1., 1., 0., 0.],\n",
       "       [0., 1., 0., 1., 0., 0., 0.],\n",
       "       [0., 1., 0., 0., 0., 1., 0.],\n",
       "       [0., 1., 0., 0., 0., 0., 1.]])"
      ]
     },
     "execution_count": 2,
     "metadata": {},
     "output_type": "execute_result"
    }
   ],
   "source": [
    "tk.texts_to_matrix(t_data) # 데이터의 유무를 확인."
   ]
  },
  {
   "cell_type": "code",
   "execution_count": 3,
   "id": "fa124008",
   "metadata": {},
   "outputs": [
    {
     "data": {
      "text/plain": [
       "array([[0., 2., 2., 1., 1., 0., 0.],\n",
       "       [0., 1., 0., 1., 0., 0., 0.],\n",
       "       [0., 1., 0., 0., 0., 1., 0.],\n",
       "       [0., 1., 0., 0., 0., 0., 1.]])"
      ]
     },
     "execution_count": 3,
     "metadata": {},
     "output_type": "execute_result"
    }
   ],
   "source": [
    "tk.texts_to_matrix(t_data,mode='count') # 횟수를 표현"
   ]
  },
  {
   "cell_type": "code",
   "execution_count": 4,
   "id": "3fa1707e",
   "metadata": {},
   "outputs": [
    {
     "data": {
      "text/plain": [
       "array([[0.        , 0.99520933, 1.8601123 , 0.84729786, 1.09861229,\n",
       "        0.        , 0.        ],\n",
       "       [0.        , 0.58778666, 0.        , 0.84729786, 0.        ,\n",
       "        0.        , 0.        ],\n",
       "       [0.        , 0.58778666, 0.        , 0.        , 0.        ,\n",
       "        1.09861229, 0.        ],\n",
       "       [0.        , 0.58778666, 0.        , 0.        , 0.        ,\n",
       "        0.        , 1.09861229]])"
      ]
     },
     "execution_count": 4,
     "metadata": {},
     "output_type": "execute_result"
    }
   ],
   "source": [
    "tk.texts_to_matrix(t_data,mode='tfidf')"
   ]
  },
  {
   "cell_type": "markdown",
   "id": "36b9d492",
   "metadata": {},
   "source": [
    "뉴스정보 연습"
   ]
  },
  {
   "cell_type": "code",
   "execution_count": 5,
   "id": "e8cf959b",
   "metadata": {},
   "outputs": [],
   "source": [
    "from sklearn.datasets import fetch_20newsgroups\n",
    "import pandas as pd\n",
    "from tensorflow.keras.preprocessing.text import Tokenizer\n",
    "from tensorflow.keras.utils import to_categorical\n",
    "import matplotlib.pyplot as plt"
   ]
  },
  {
   "cell_type": "code",
   "execution_count": 6,
   "id": "669b673b",
   "metadata": {},
   "outputs": [
    {
     "name": "stdout",
     "output_type": "stream",
     "text": [
      "dict_keys(['data', 'filenames', 'target_names', 'target', 'DESCR'])\n"
     ]
    }
   ],
   "source": [
    "w_data = fetch_20newsgroups()\n",
    "print(w_data.keys())\n",
    "data = w_data.data"
   ]
  },
  {
   "cell_type": "code",
   "execution_count": 7,
   "id": "ebdc26e3",
   "metadata": {},
   "outputs": [
    {
     "data": {
      "text/plain": [
       "(11314, 11314)"
      ]
     },
     "execution_count": 7,
     "metadata": {},
     "output_type": "execute_result"
    }
   ],
   "source": [
    "len(data),len(w_data.target)"
   ]
  },
  {
   "cell_type": "code",
   "execution_count": 8,
   "id": "0002897e",
   "metadata": {},
   "outputs": [],
   "source": [
    "X_data = w_data.data\n",
    "Y_data = w_data.target"
   ]
  },
  {
   "cell_type": "code",
   "execution_count": 9,
   "id": "4c7383e7",
   "metadata": {},
   "outputs": [],
   "source": [
    "import numpy as np"
   ]
  },
  {
   "cell_type": "code",
   "execution_count": 10,
   "id": "52686669",
   "metadata": {},
   "outputs": [
    {
     "data": {
      "text/plain": [
       "array([ 0,  1,  2,  3,  4,  5,  6,  7,  8,  9, 10, 11, 12, 13, 14, 15, 16,\n",
       "       17, 18, 19])"
      ]
     },
     "execution_count": 10,
     "metadata": {},
     "output_type": "execute_result"
    }
   ],
   "source": [
    "np.unique(Y_data) # 20개"
   ]
  },
  {
   "cell_type": "code",
   "execution_count": 11,
   "id": "d8f58de2",
   "metadata": {},
   "outputs": [
    {
     "data": {
      "text/plain": [
       "11314"
      ]
     },
     "execution_count": 11,
     "metadata": {},
     "output_type": "execute_result"
    }
   ],
   "source": [
    "len(np.unique(X_data))"
   ]
  },
  {
   "cell_type": "code",
   "execution_count": 12,
   "id": "79118d47",
   "metadata": {},
   "outputs": [
    {
     "data": {
      "text/html": [
       "<div>\n",
       "<style scoped>\n",
       "    .dataframe tbody tr th:only-of-type {\n",
       "        vertical-align: middle;\n",
       "    }\n",
       "\n",
       "    .dataframe tbody tr th {\n",
       "        vertical-align: top;\n",
       "    }\n",
       "\n",
       "    .dataframe thead th {\n",
       "        text-align: right;\n",
       "    }\n",
       "</style>\n",
       "<table border=\"1\" class=\"dataframe\">\n",
       "  <thead>\n",
       "    <tr style=\"text-align: right;\">\n",
       "      <th></th>\n",
       "      <th>X</th>\n",
       "      <th>Y</th>\n",
       "    </tr>\n",
       "  </thead>\n",
       "  <tbody>\n",
       "    <tr>\n",
       "      <th>0</th>\n",
       "      <td>From: lerxst@wam.umd.edu (where's my thing)\\nS...</td>\n",
       "      <td>7</td>\n",
       "    </tr>\n",
       "    <tr>\n",
       "      <th>1</th>\n",
       "      <td>From: guykuo@carson.u.washington.edu (Guy Kuo)...</td>\n",
       "      <td>4</td>\n",
       "    </tr>\n",
       "    <tr>\n",
       "      <th>2</th>\n",
       "      <td>From: twillis@ec.ecn.purdue.edu (Thomas E Will...</td>\n",
       "      <td>4</td>\n",
       "    </tr>\n",
       "    <tr>\n",
       "      <th>3</th>\n",
       "      <td>From: jgreen@amber (Joe Green)\\nSubject: Re: W...</td>\n",
       "      <td>1</td>\n",
       "    </tr>\n",
       "    <tr>\n",
       "      <th>4</th>\n",
       "      <td>From: jcm@head-cfa.harvard.edu (Jonathan McDow...</td>\n",
       "      <td>14</td>\n",
       "    </tr>\n",
       "    <tr>\n",
       "      <th>...</th>\n",
       "      <td>...</td>\n",
       "      <td>...</td>\n",
       "    </tr>\n",
       "    <tr>\n",
       "      <th>11309</th>\n",
       "      <td>From: jim.zisfein@factory.com (Jim Zisfein) \\n...</td>\n",
       "      <td>13</td>\n",
       "    </tr>\n",
       "    <tr>\n",
       "      <th>11310</th>\n",
       "      <td>From: ebodin@pearl.tufts.edu\\nSubject: Screen ...</td>\n",
       "      <td>4</td>\n",
       "    </tr>\n",
       "    <tr>\n",
       "      <th>11311</th>\n",
       "      <td>From: westes@netcom.com (Will Estes)\\nSubject:...</td>\n",
       "      <td>3</td>\n",
       "    </tr>\n",
       "    <tr>\n",
       "      <th>11312</th>\n",
       "      <td>From: steve@hcrlgw (Steven Collins)\\nSubject: ...</td>\n",
       "      <td>1</td>\n",
       "    </tr>\n",
       "    <tr>\n",
       "      <th>11313</th>\n",
       "      <td>From: gunning@cco.caltech.edu (Kevin J. Gunnin...</td>\n",
       "      <td>8</td>\n",
       "    </tr>\n",
       "  </tbody>\n",
       "</table>\n",
       "<p>11314 rows × 2 columns</p>\n",
       "</div>"
      ],
      "text/plain": [
       "                                                       X   Y\n",
       "0      From: lerxst@wam.umd.edu (where's my thing)\\nS...   7\n",
       "1      From: guykuo@carson.u.washington.edu (Guy Kuo)...   4\n",
       "2      From: twillis@ec.ecn.purdue.edu (Thomas E Will...   4\n",
       "3      From: jgreen@amber (Joe Green)\\nSubject: Re: W...   1\n",
       "4      From: jcm@head-cfa.harvard.edu (Jonathan McDow...  14\n",
       "...                                                  ...  ..\n",
       "11309  From: jim.zisfein@factory.com (Jim Zisfein) \\n...  13\n",
       "11310  From: ebodin@pearl.tufts.edu\\nSubject: Screen ...   4\n",
       "11311  From: westes@netcom.com (Will Estes)\\nSubject:...   3\n",
       "11312  From: steve@hcrlgw (Steven Collins)\\nSubject: ...   1\n",
       "11313  From: gunning@cco.caltech.edu (Kevin J. Gunnin...   8\n",
       "\n",
       "[11314 rows x 2 columns]"
      ]
     },
     "execution_count": 12,
     "metadata": {},
     "output_type": "execute_result"
    }
   ],
   "source": [
    "all_data = pd.DataFrame()\n",
    "all_data['X'] = X_data\n",
    "all_data['Y'] = Y_data\n",
    "all_data"
   ]
  },
  {
   "cell_type": "code",
   "execution_count": 13,
   "id": "99e8f5df",
   "metadata": {},
   "outputs": [
    {
     "data": {
      "text/plain": [
       "(75154, 125)"
      ]
     },
     "execution_count": 13,
     "metadata": {},
     "output_type": "execute_result"
    }
   ],
   "source": [
    "n_l=[]\n",
    "for i in X_data:\n",
    "    n = len(i)\n",
    "    n_l.append(n)\n",
    "max(n_l),min(n_l)"
   ]
  },
  {
   "cell_type": "code",
   "execution_count": 14,
   "id": "9c1b4f80",
   "metadata": {},
   "outputs": [
    {
     "data": {
      "text/plain": [
       "str"
      ]
     },
     "execution_count": 14,
     "metadata": {},
     "output_type": "execute_result"
    }
   ],
   "source": [
    "type(X_data[0])"
   ]
  },
  {
   "cell_type": "code",
   "execution_count": 15,
   "id": "8a7cc8f7",
   "metadata": {},
   "outputs": [
    {
     "data": {
      "text/plain": [
       "array([[0., 1., 1., ..., 0., 0., 0.],\n",
       "       [0., 1., 1., ..., 0., 0., 0.],\n",
       "       [0., 1., 1., ..., 0., 0., 0.],\n",
       "       ...,\n",
       "       [0., 1., 1., ..., 0., 0., 0.],\n",
       "       [0., 1., 1., ..., 0., 0., 0.],\n",
       "       [0., 0., 0., ..., 0., 0., 0.]])"
      ]
     },
     "execution_count": 15,
     "metadata": {},
     "output_type": "execute_result"
    }
   ],
   "source": [
    "tk = Tokenizer(num_words=10000)\n",
    "tk.fit_on_texts(X_data)\n",
    "\n",
    "#len(tk.word_index)\n",
    "#type(tk.word_index.keys())\n",
    "#list(tk.word_index.items())[:100]\n",
    "\n",
    "t_x_data = tk.texts_to_matrix(X_data)\n",
    "t_x_data"
   ]
  },
  {
   "cell_type": "code",
   "execution_count": 16,
   "id": "9b27cc1f",
   "metadata": {},
   "outputs": [
    {
     "data": {
      "text/plain": [
       "array([[ 0.,  6.,  2., ...,  0.,  0.,  0.],\n",
       "       [ 0.,  4.,  1., ...,  0.,  0.,  0.],\n",
       "       [ 0., 21.,  6., ...,  0.,  0.,  0.],\n",
       "       ...,\n",
       "       [ 0., 12.,  1., ...,  0.,  0.,  0.],\n",
       "       [ 0.,  3.,  2., ...,  0.,  0.,  0.],\n",
       "       [ 0.,  0.,  0., ...,  0.,  0.,  0.]])"
      ]
     },
     "execution_count": 16,
     "metadata": {},
     "output_type": "execute_result"
    }
   ],
   "source": [
    "t1_x_data = tk.texts_to_matrix(X_data,mode='count')\n",
    "t1_x_data"
   ]
  },
  {
   "cell_type": "code",
   "execution_count": 17,
   "id": "dee3e6c3",
   "metadata": {},
   "outputs": [
    {
     "data": {
      "text/plain": [
       "array([[0.        , 2.03303026, 1.26800369, ..., 0.        , 0.        ,\n",
       "        0.        ],\n",
       "       [0.        , 1.73776026, 0.74890341, ..., 0.        , 0.        ,\n",
       "        0.        ],\n",
       "       [0.        , 2.94532413, 2.09075818, ..., 0.        , 0.        ,\n",
       "        0.        ],\n",
       "       ...,\n",
       "       [0.        , 2.53779767, 0.74890341, ..., 0.        , 0.        ,\n",
       "        0.        ],\n",
       "       [0.        , 1.52826285, 1.26800369, ..., 0.        , 0.        ,\n",
       "        0.        ],\n",
       "       [0.        , 0.        , 0.        , ..., 0.        , 0.        ,\n",
       "        0.        ]])"
      ]
     },
     "execution_count": 17,
     "metadata": {},
     "output_type": "execute_result"
    }
   ],
   "source": [
    "t2_x_data = tk.texts_to_matrix(X_data,mode='tfidf')\n",
    "t2_x_data"
   ]
  },
  {
   "cell_type": "code",
   "execution_count": 18,
   "id": "da61b285",
   "metadata": {},
   "outputs": [
    {
     "data": {
      "text/plain": [
       "array([[0., 0., 0., ..., 0., 0., 0.],\n",
       "       [0., 0., 0., ..., 0., 0., 0.],\n",
       "       [0., 0., 0., ..., 0., 0., 0.],\n",
       "       ...,\n",
       "       [0., 0., 0., ..., 0., 0., 0.],\n",
       "       [0., 1., 0., ..., 0., 0., 0.],\n",
       "       [0., 0., 0., ..., 0., 0., 0.]], dtype=float32)"
      ]
     },
     "execution_count": 18,
     "metadata": {},
     "output_type": "execute_result"
    }
   ],
   "source": [
    "Y_data = to_categorical(Y_data)\n",
    "Y_data"
   ]
  },
  {
   "cell_type": "code",
   "execution_count": 19,
   "id": "253b365a",
   "metadata": {},
   "outputs": [
    {
     "data": {
      "text/plain": [
       "20"
      ]
     },
     "execution_count": 19,
     "metadata": {},
     "output_type": "execute_result"
    }
   ],
   "source": [
    "len(Y_data[0])"
   ]
  },
  {
   "cell_type": "code",
   "execution_count": 20,
   "id": "536b4271",
   "metadata": {},
   "outputs": [
    {
     "data": {
      "text/plain": [
       "array([[0., 0., 0., ..., 0., 0., 0.],\n",
       "       [0., 0., 0., ..., 0., 0., 0.],\n",
       "       [0., 0., 0., ..., 0., 0., 0.],\n",
       "       ...,\n",
       "       [0., 0., 0., ..., 0., 0., 0.],\n",
       "       [0., 1., 0., ..., 0., 0., 0.],\n",
       "       [0., 0., 0., ..., 0., 0., 0.]], dtype=float32)"
      ]
     },
     "execution_count": 20,
     "metadata": {},
     "output_type": "execute_result"
    }
   ],
   "source": [
    "X_data1 = t_x_data\n",
    "X_data2 = t1_x_data\n",
    "X_data3 = t2_x_data\n",
    "Y_data"
   ]
  },
  {
   "cell_type": "code",
   "execution_count": 21,
   "id": "54a65957",
   "metadata": {},
   "outputs": [
    {
     "data": {
      "text/plain": [
       "(8485, 2829, 8485, 2829)"
      ]
     },
     "execution_count": 21,
     "metadata": {},
     "output_type": "execute_result"
    }
   ],
   "source": [
    "from sklearn.model_selection import train_test_split\n",
    "t_x,tt_x,t_y,tt_y = train_test_split(X_data1,Y_data,random_state=1)\n",
    "len(t_x),len(tt_x),len(t_y),len(tt_y)"
   ]
  },
  {
   "cell_type": "code",
   "execution_count": 22,
   "id": "009c2f07",
   "metadata": {},
   "outputs": [],
   "source": [
    "# 단어의 유무 특징을 갖는 data\n",
    "t_x_1,tt_x_1,t_y_1,tt_y_1 = train_test_split(X_data1,Y_data,random_state=1)"
   ]
  },
  {
   "cell_type": "code",
   "execution_count": 23,
   "id": "801fada8",
   "metadata": {},
   "outputs": [],
   "source": [
    "# 단어 빈도수를 특징으로 갖는 data\n",
    "t_x_2,tt_x_2,t_y_2,tt_y_2 = train_test_split(X_data2,Y_data,random_state=1)"
   ]
  },
  {
   "cell_type": "code",
   "execution_count": 24,
   "id": "846f3554",
   "metadata": {},
   "outputs": [],
   "source": [
    "# 단어 가중치 특징을 갖는 data\n",
    "t_x_3,tt_x_3,t_y_3,tt_y_3 = train_test_split(X_data3,Y_data,random_state=1)"
   ]
  },
  {
   "cell_type": "code",
   "execution_count": 25,
   "id": "e400a402",
   "metadata": {},
   "outputs": [],
   "source": [
    "Y = w_data.target"
   ]
  },
  {
   "cell_type": "code",
   "execution_count": 26,
   "id": "ef5efe3f",
   "metadata": {},
   "outputs": [
    {
     "data": {
      "text/html": [
       "<div>\n",
       "<style scoped>\n",
       "    .dataframe tbody tr th:only-of-type {\n",
       "        vertical-align: middle;\n",
       "    }\n",
       "\n",
       "    .dataframe tbody tr th {\n",
       "        vertical-align: top;\n",
       "    }\n",
       "\n",
       "    .dataframe thead th {\n",
       "        text-align: right;\n",
       "    }\n",
       "</style>\n",
       "<table border=\"1\" class=\"dataframe\">\n",
       "  <thead>\n",
       "    <tr style=\"text-align: right;\">\n",
       "      <th></th>\n",
       "      <th>0</th>\n",
       "      <th>1</th>\n",
       "      <th>2</th>\n",
       "      <th>3</th>\n",
       "      <th>4</th>\n",
       "      <th>5</th>\n",
       "      <th>6</th>\n",
       "      <th>7</th>\n",
       "      <th>8</th>\n",
       "      <th>9</th>\n",
       "      <th>...</th>\n",
       "      <th>9991</th>\n",
       "      <th>9992</th>\n",
       "      <th>9993</th>\n",
       "      <th>9994</th>\n",
       "      <th>9995</th>\n",
       "      <th>9996</th>\n",
       "      <th>9997</th>\n",
       "      <th>9998</th>\n",
       "      <th>9999</th>\n",
       "      <th>Y</th>\n",
       "    </tr>\n",
       "  </thead>\n",
       "  <tbody>\n",
       "    <tr>\n",
       "      <th>0</th>\n",
       "      <td>0.0</td>\n",
       "      <td>2.033030</td>\n",
       "      <td>1.268004</td>\n",
       "      <td>1.600426</td>\n",
       "      <td>1.595462</td>\n",
       "      <td>0.0</td>\n",
       "      <td>0.000000</td>\n",
       "      <td>0.782792</td>\n",
       "      <td>1.687681</td>\n",
       "      <td>1.762122</td>\n",
       "      <td>...</td>\n",
       "      <td>0.0</td>\n",
       "      <td>0.0</td>\n",
       "      <td>0.0</td>\n",
       "      <td>0.0</td>\n",
       "      <td>0.0</td>\n",
       "      <td>0.0</td>\n",
       "      <td>0.0</td>\n",
       "      <td>0.0</td>\n",
       "      <td>0.0</td>\n",
       "      <td>7</td>\n",
       "    </tr>\n",
       "    <tr>\n",
       "      <th>1</th>\n",
       "      <td>0.0</td>\n",
       "      <td>1.737760</td>\n",
       "      <td>0.748903</td>\n",
       "      <td>1.600426</td>\n",
       "      <td>1.287208</td>\n",
       "      <td>0.0</td>\n",
       "      <td>1.657382</td>\n",
       "      <td>0.782792</td>\n",
       "      <td>1.361610</td>\n",
       "      <td>0.000000</td>\n",
       "      <td>...</td>\n",
       "      <td>0.0</td>\n",
       "      <td>0.0</td>\n",
       "      <td>0.0</td>\n",
       "      <td>0.0</td>\n",
       "      <td>0.0</td>\n",
       "      <td>0.0</td>\n",
       "      <td>0.0</td>\n",
       "      <td>0.0</td>\n",
       "      <td>0.0</td>\n",
       "      <td>4</td>\n",
       "    </tr>\n",
       "    <tr>\n",
       "      <th>2</th>\n",
       "      <td>0.0</td>\n",
       "      <td>2.945324</td>\n",
       "      <td>2.090758</td>\n",
       "      <td>2.129029</td>\n",
       "      <td>2.649386</td>\n",
       "      <td>0.0</td>\n",
       "      <td>2.060808</td>\n",
       "      <td>2.042648</td>\n",
       "      <td>2.476453</td>\n",
       "      <td>2.191043</td>\n",
       "      <td>...</td>\n",
       "      <td>0.0</td>\n",
       "      <td>0.0</td>\n",
       "      <td>0.0</td>\n",
       "      <td>0.0</td>\n",
       "      <td>0.0</td>\n",
       "      <td>0.0</td>\n",
       "      <td>0.0</td>\n",
       "      <td>0.0</td>\n",
       "      <td>0.0</td>\n",
       "      <td>4</td>\n",
       "    </tr>\n",
       "    <tr>\n",
       "      <th>3</th>\n",
       "      <td>0.0</td>\n",
       "      <td>1.737760</td>\n",
       "      <td>0.748903</td>\n",
       "      <td>0.762612</td>\n",
       "      <td>0.760246</td>\n",
       "      <td>0.0</td>\n",
       "      <td>0.000000</td>\n",
       "      <td>0.782792</td>\n",
       "      <td>0.000000</td>\n",
       "      <td>0.839661</td>\n",
       "      <td>...</td>\n",
       "      <td>0.0</td>\n",
       "      <td>0.0</td>\n",
       "      <td>0.0</td>\n",
       "      <td>0.0</td>\n",
       "      <td>0.0</td>\n",
       "      <td>0.0</td>\n",
       "      <td>0.0</td>\n",
       "      <td>0.0</td>\n",
       "      <td>0.0</td>\n",
       "      <td>1</td>\n",
       "    </tr>\n",
       "    <tr>\n",
       "      <th>4</th>\n",
       "      <td>0.0</td>\n",
       "      <td>2.145287</td>\n",
       "      <td>0.748903</td>\n",
       "      <td>0.762612</td>\n",
       "      <td>1.595462</td>\n",
       "      <td>0.0</td>\n",
       "      <td>1.337166</td>\n",
       "      <td>1.867973</td>\n",
       "      <td>0.804189</td>\n",
       "      <td>2.003678</td>\n",
       "      <td>...</td>\n",
       "      <td>0.0</td>\n",
       "      <td>0.0</td>\n",
       "      <td>0.0</td>\n",
       "      <td>0.0</td>\n",
       "      <td>0.0</td>\n",
       "      <td>0.0</td>\n",
       "      <td>0.0</td>\n",
       "      <td>0.0</td>\n",
       "      <td>0.0</td>\n",
       "      <td>14</td>\n",
       "    </tr>\n",
       "    <tr>\n",
       "      <th>...</th>\n",
       "      <td>...</td>\n",
       "      <td>...</td>\n",
       "      <td>...</td>\n",
       "      <td>...</td>\n",
       "      <td>...</td>\n",
       "      <td>...</td>\n",
       "      <td>...</td>\n",
       "      <td>...</td>\n",
       "      <td>...</td>\n",
       "      <td>...</td>\n",
       "      <td>...</td>\n",
       "      <td>...</td>\n",
       "      <td>...</td>\n",
       "      <td>...</td>\n",
       "      <td>...</td>\n",
       "      <td>...</td>\n",
       "      <td>...</td>\n",
       "      <td>...</td>\n",
       "      <td>...</td>\n",
       "      <td>...</td>\n",
       "      <td>...</td>\n",
       "    </tr>\n",
       "    <tr>\n",
       "      <th>11309</th>\n",
       "      <td>0.0</td>\n",
       "      <td>2.474434</td>\n",
       "      <td>2.306204</td>\n",
       "      <td>1.600426</td>\n",
       "      <td>2.710238</td>\n",
       "      <td>0.0</td>\n",
       "      <td>2.431994</td>\n",
       "      <td>1.642778</td>\n",
       "      <td>2.245102</td>\n",
       "      <td>2.191043</td>\n",
       "      <td>...</td>\n",
       "      <td>0.0</td>\n",
       "      <td>0.0</td>\n",
       "      <td>0.0</td>\n",
       "      <td>0.0</td>\n",
       "      <td>0.0</td>\n",
       "      <td>0.0</td>\n",
       "      <td>0.0</td>\n",
       "      <td>0.0</td>\n",
       "      <td>0.0</td>\n",
       "      <td>13</td>\n",
       "    </tr>\n",
       "    <tr>\n",
       "      <th>11310</th>\n",
       "      <td>0.0</td>\n",
       "      <td>2.242528</td>\n",
       "      <td>0.748903</td>\n",
       "      <td>0.762612</td>\n",
       "      <td>2.341133</td>\n",
       "      <td>0.0</td>\n",
       "      <td>1.337166</td>\n",
       "      <td>0.782792</td>\n",
       "      <td>1.919032</td>\n",
       "      <td>0.000000</td>\n",
       "      <td>...</td>\n",
       "      <td>0.0</td>\n",
       "      <td>0.0</td>\n",
       "      <td>0.0</td>\n",
       "      <td>0.0</td>\n",
       "      <td>0.0</td>\n",
       "      <td>0.0</td>\n",
       "      <td>0.0</td>\n",
       "      <td>0.0</td>\n",
       "      <td>0.0</td>\n",
       "      <td>4</td>\n",
       "    </tr>\n",
       "    <tr>\n",
       "      <th>11311</th>\n",
       "      <td>0.0</td>\n",
       "      <td>2.537798</td>\n",
       "      <td>0.748903</td>\n",
       "      <td>1.600426</td>\n",
       "      <td>1.983815</td>\n",
       "      <td>0.0</td>\n",
       "      <td>1.657382</td>\n",
       "      <td>1.642778</td>\n",
       "      <td>1.361610</td>\n",
       "      <td>0.000000</td>\n",
       "      <td>...</td>\n",
       "      <td>0.0</td>\n",
       "      <td>0.0</td>\n",
       "      <td>0.0</td>\n",
       "      <td>0.0</td>\n",
       "      <td>0.0</td>\n",
       "      <td>0.0</td>\n",
       "      <td>0.0</td>\n",
       "      <td>0.0</td>\n",
       "      <td>0.0</td>\n",
       "      <td>3</td>\n",
       "    </tr>\n",
       "    <tr>\n",
       "      <th>11312</th>\n",
       "      <td>0.0</td>\n",
       "      <td>1.528263</td>\n",
       "      <td>1.268004</td>\n",
       "      <td>0.000000</td>\n",
       "      <td>2.122424</td>\n",
       "      <td>0.0</td>\n",
       "      <td>1.884580</td>\n",
       "      <td>1.867973</td>\n",
       "      <td>1.919032</td>\n",
       "      <td>2.003678</td>\n",
       "      <td>...</td>\n",
       "      <td>0.0</td>\n",
       "      <td>0.0</td>\n",
       "      <td>0.0</td>\n",
       "      <td>0.0</td>\n",
       "      <td>0.0</td>\n",
       "      <td>0.0</td>\n",
       "      <td>0.0</td>\n",
       "      <td>0.0</td>\n",
       "      <td>0.0</td>\n",
       "      <td>1</td>\n",
       "    </tr>\n",
       "    <tr>\n",
       "      <th>11313</th>\n",
       "      <td>0.0</td>\n",
       "      <td>0.000000</td>\n",
       "      <td>0.000000</td>\n",
       "      <td>0.762612</td>\n",
       "      <td>0.000000</td>\n",
       "      <td>0.0</td>\n",
       "      <td>1.337166</td>\n",
       "      <td>0.000000</td>\n",
       "      <td>0.000000</td>\n",
       "      <td>0.000000</td>\n",
       "      <td>...</td>\n",
       "      <td>0.0</td>\n",
       "      <td>0.0</td>\n",
       "      <td>0.0</td>\n",
       "      <td>0.0</td>\n",
       "      <td>0.0</td>\n",
       "      <td>0.0</td>\n",
       "      <td>0.0</td>\n",
       "      <td>0.0</td>\n",
       "      <td>0.0</td>\n",
       "      <td>8</td>\n",
       "    </tr>\n",
       "  </tbody>\n",
       "</table>\n",
       "<p>11314 rows × 10001 columns</p>\n",
       "</div>"
      ],
      "text/plain": [
       "         0         1         2         3         4    5         6         7  \\\n",
       "0      0.0  2.033030  1.268004  1.600426  1.595462  0.0  0.000000  0.782792   \n",
       "1      0.0  1.737760  0.748903  1.600426  1.287208  0.0  1.657382  0.782792   \n",
       "2      0.0  2.945324  2.090758  2.129029  2.649386  0.0  2.060808  2.042648   \n",
       "3      0.0  1.737760  0.748903  0.762612  0.760246  0.0  0.000000  0.782792   \n",
       "4      0.0  2.145287  0.748903  0.762612  1.595462  0.0  1.337166  1.867973   \n",
       "...    ...       ...       ...       ...       ...  ...       ...       ...   \n",
       "11309  0.0  2.474434  2.306204  1.600426  2.710238  0.0  2.431994  1.642778   \n",
       "11310  0.0  2.242528  0.748903  0.762612  2.341133  0.0  1.337166  0.782792   \n",
       "11311  0.0  2.537798  0.748903  1.600426  1.983815  0.0  1.657382  1.642778   \n",
       "11312  0.0  1.528263  1.268004  0.000000  2.122424  0.0  1.884580  1.867973   \n",
       "11313  0.0  0.000000  0.000000  0.762612  0.000000  0.0  1.337166  0.000000   \n",
       "\n",
       "              8         9  ...  9991  9992  9993  9994  9995  9996  9997  \\\n",
       "0      1.687681  1.762122  ...   0.0   0.0   0.0   0.0   0.0   0.0   0.0   \n",
       "1      1.361610  0.000000  ...   0.0   0.0   0.0   0.0   0.0   0.0   0.0   \n",
       "2      2.476453  2.191043  ...   0.0   0.0   0.0   0.0   0.0   0.0   0.0   \n",
       "3      0.000000  0.839661  ...   0.0   0.0   0.0   0.0   0.0   0.0   0.0   \n",
       "4      0.804189  2.003678  ...   0.0   0.0   0.0   0.0   0.0   0.0   0.0   \n",
       "...         ...       ...  ...   ...   ...   ...   ...   ...   ...   ...   \n",
       "11309  2.245102  2.191043  ...   0.0   0.0   0.0   0.0   0.0   0.0   0.0   \n",
       "11310  1.919032  0.000000  ...   0.0   0.0   0.0   0.0   0.0   0.0   0.0   \n",
       "11311  1.361610  0.000000  ...   0.0   0.0   0.0   0.0   0.0   0.0   0.0   \n",
       "11312  1.919032  2.003678  ...   0.0   0.0   0.0   0.0   0.0   0.0   0.0   \n",
       "11313  0.000000  0.000000  ...   0.0   0.0   0.0   0.0   0.0   0.0   0.0   \n",
       "\n",
       "       9998  9999   Y  \n",
       "0       0.0   0.0   7  \n",
       "1       0.0   0.0   4  \n",
       "2       0.0   0.0   4  \n",
       "3       0.0   0.0   1  \n",
       "4       0.0   0.0  14  \n",
       "...     ...   ...  ..  \n",
       "11309   0.0   0.0  13  \n",
       "11310   0.0   0.0   4  \n",
       "11311   0.0   0.0   3  \n",
       "11312   0.0   0.0   1  \n",
       "11313   0.0   0.0   8  \n",
       "\n",
       "[11314 rows x 10001 columns]"
      ]
     },
     "execution_count": 26,
     "metadata": {},
     "output_type": "execute_result"
    }
   ],
   "source": [
    "w_all_data = pd.DataFrame(X_data3)\n",
    "w_all_data['Y'] = Y\n",
    "w_all_data"
   ]
  },
  {
   "cell_type": "code",
   "execution_count": 27,
   "id": "1b9856a0",
   "metadata": {},
   "outputs": [],
   "source": [
    "from tensorflow.keras.models import Sequential\n",
    "from tensorflow.keras.layers import Dense, Dropout"
   ]
  },
  {
   "cell_type": "code",
   "execution_count": 28,
   "id": "51228497",
   "metadata": {},
   "outputs": [
    {
     "data": {
      "text/plain": [
       "(10000,)"
      ]
     },
     "execution_count": 28,
     "metadata": {},
     "output_type": "execute_result"
    }
   ],
   "source": [
    "t_x_1[0].shape"
   ]
  },
  {
   "cell_type": "code",
   "execution_count": 29,
   "id": "42a97689",
   "metadata": {},
   "outputs": [
    {
     "name": "stdout",
     "output_type": "stream",
     "text": [
      "Epoch 1/10\n",
      "266/266 [==============================] - 4s 14ms/step - loss: 1.9743 - accuracy: 0.4235 - val_loss: 0.6867 - val_accuracy: 0.8572\n",
      "Epoch 2/10\n",
      "266/266 [==============================] - 3s 13ms/step - loss: 0.6572 - accuracy: 0.8128 - val_loss: 0.4238 - val_accuracy: 0.8869\n",
      "Epoch 3/10\n",
      "266/266 [==============================] - 3s 13ms/step - loss: 0.3222 - accuracy: 0.9071 - val_loss: 0.3669 - val_accuracy: 0.9007\n",
      "Epoch 4/10\n",
      "266/266 [==============================] - 3s 12ms/step - loss: 0.1990 - accuracy: 0.9494 - val_loss: 0.3657 - val_accuracy: 0.9003\n",
      "Epoch 5/10\n",
      "266/266 [==============================] - 3s 12ms/step - loss: 0.1391 - accuracy: 0.9655 - val_loss: 0.3751 - val_accuracy: 0.9039\n",
      "Epoch 6/10\n",
      "266/266 [==============================] - 3s 12ms/step - loss: 0.1013 - accuracy: 0.9778 - val_loss: 0.4114 - val_accuracy: 0.8925\n",
      "Epoch 7/10\n",
      "266/266 [==============================] - 3s 12ms/step - loss: 0.0932 - accuracy: 0.9768 - val_loss: 0.3780 - val_accuracy: 0.9053\n",
      "Epoch 8/10\n",
      "266/266 [==============================] - 3s 12ms/step - loss: 0.0723 - accuracy: 0.9823 - val_loss: 0.4040 - val_accuracy: 0.8978\n",
      "Epoch 9/10\n",
      "266/266 [==============================] - 3s 12ms/step - loss: 0.0823 - accuracy: 0.9809 - val_loss: 0.4456 - val_accuracy: 0.8968\n",
      "Epoch 10/10\n",
      "266/266 [==============================] - 3s 12ms/step - loss: 0.0697 - accuracy: 0.9844 - val_loss: 0.4628 - val_accuracy: 0.8964\n"
     ]
    }
   ],
   "source": [
    "m = Sequential()\n",
    "m.add(Dense(256,input_shape=(10000,),activation='relu'))\n",
    "m.add(Dropout(0.5))\n",
    "m.add(Dense(128,activation='relu'))\n",
    "m.add(Dropout(0.5))\n",
    "m.add(Dense(20,activation='softmax')) # 다중분류 =>softmax\n",
    "m.compile(optimizer='adam',loss='categorical_crossentropy',metrics=['accuracy'])\n",
    "hy = m.fit(t_x_1,t_y_1,epochs=10,validation_data=(tt_x_1,tt_y_1))"
   ]
  },
  {
   "cell_type": "code",
   "execution_count": 30,
   "id": "795ac4fe",
   "metadata": {},
   "outputs": [
    {
     "data": {
      "text/plain": [
       "[<matplotlib.lines.Line2D at 0x20a1bdecdf0>]"
      ]
     },
     "execution_count": 30,
     "metadata": {},
     "output_type": "execute_result"
    },
    {
     "data": {
      "image/png": "[encoded data removed]",
      "text/plain": [
       "<Figure size 432x288 with 1 Axes>"
      ]
     },
     "metadata": {
      "needs_background": "light"
     },
     "output_type": "display_data"
    }
   ],
   "source": [
    "import matplotlib.pyplot as plt\n",
    "ec = range(1,len(hy.history['accuracy'])+1)\n",
    "plt.plot(ec,hy.history['loss'])\n",
    "plt.plot(ec,hy.history['val_loss'])"
   ]
  },
  {
   "cell_type": "code",
   "execution_count": 31,
   "id": "ff4ec18a",
   "metadata": {},
   "outputs": [],
   "source": [
    "from sklearn.datasets import fetch_20newsgroups\n",
    "import pandas as pd\n",
    "from tensorflow.keras.preprocessing.text import Tokenizer\n",
    "from tensorflow.keras.utils import to_categorical\n",
    "from sklearn.model_selection import train_test_split\n",
    "import matplotlib.pyplot as plt"
   ]
  },
  {
   "cell_type": "markdown",
   "id": "5903a63d",
   "metadata": {},
   "source": [
    "data 수집"
   ]
  },
  {
   "cell_type": "code",
   "execution_count": 32,
   "id": "bf702ffc",
   "metadata": {},
   "outputs": [],
   "source": [
    "data = fetch_20newsgroups()\n",
    "X_data = data.data\n",
    "Y_data = data.target"
   ]
  },
  {
   "cell_type": "markdown",
   "id": "c72d5136",
   "metadata": {},
   "source": [
    "data전처리"
   ]
  },
  {
   "cell_type": "code",
   "execution_count": 33,
   "id": "e30b8436",
   "metadata": {},
   "outputs": [],
   "source": [
    "def 텍스트_전처리기(X_data,Y_data,mode):\n",
    "    tk = Tokenizer(num_words=10000)\n",
    "    tk.fit_on_texts(X_data)\n",
    "    X=tk.texts_to_matrix(X_data,mode=mode)\n",
    "    Y=to_categorical(Y_data)\n",
    "    t_x,tt_x,t_y,tt_y=train_test_split(X,Y)\n",
    "    return t_x,tt_x,t_y,tt_y"
   ]
  },
  {
   "cell_type": "markdown",
   "id": "485ba04a",
   "metadata": {},
   "source": [
    "모델 생성 및 학습"
   ]
  },
  {
   "cell_type": "code",
   "execution_count": 34,
   "id": "19c71d4a",
   "metadata": {},
   "outputs": [],
   "source": [
    "def 텍스트_분류기(t_all):\n",
    "    m = Sequential()\n",
    "    m.add(Dense(256,input_shape=(10000,),activation='relu'))\n",
    "    m.add(Dropout(0.5))\n",
    "    m.add(Dense(128,activation='relu'))\n",
    "    m.add(Dropout(0.5))\n",
    "    m.add(Dense(20,activation='softmax'))\n",
    "    m.compile(optimizer='adam',loss='categorical_crossentropy',metrics=['accuracy'])\n",
    "    hy = m.fit(t_all[0],t_all[2],epochs=10,validation_data=(t_all[1],t_all[3]))\n",
    "    return hy"
   ]
  },
  {
   "cell_type": "code",
   "execution_count": 35,
   "id": "933662c5",
   "metadata": {},
   "outputs": [
    {
     "name": "stdout",
     "output_type": "stream",
     "text": [
      "Epoch 1/10\n",
      "266/266 [==============================] - 4s 13ms/step - loss: 1.9959 - accuracy: 0.4359 - val_loss: 0.6984 - val_accuracy: 0.8537\n",
      "Epoch 2/10\n",
      "266/266 [==============================] - 3s 13ms/step - loss: 0.7148 - accuracy: 0.8118 - val_loss: 0.5278 - val_accuracy: 0.8858\n",
      "Epoch 3/10\n",
      "266/266 [==============================] - 3s 13ms/step - loss: 0.4614 - accuracy: 0.8867 - val_loss: 0.5016 - val_accuracy: 0.8883\n",
      "Epoch 4/10\n",
      "266/266 [==============================] - 3s 13ms/step - loss: 0.2779 - accuracy: 0.9287 - val_loss: 0.5579 - val_accuracy: 0.8883\n",
      "Epoch 5/10\n",
      "266/266 [==============================] - 3s 12ms/step - loss: 0.2006 - accuracy: 0.9533 - val_loss: 0.5409 - val_accuracy: 0.8950\n",
      "Epoch 6/10\n",
      "266/266 [==============================] - 3s 12ms/step - loss: 0.2298 - accuracy: 0.9540 - val_loss: 0.6226 - val_accuracy: 0.8947\n",
      "Epoch 7/10\n",
      "266/266 [==============================] - 3s 12ms/step - loss: 0.1762 - accuracy: 0.9629 - val_loss: 0.6195 - val_accuracy: 0.8971\n",
      "Epoch 8/10\n",
      "266/266 [==============================] - 3s 13ms/step - loss: 0.1776 - accuracy: 0.9670 - val_loss: 0.7074 - val_accuracy: 0.8901\n",
      "Epoch 9/10\n",
      "266/266 [==============================] - 3s 13ms/step - loss: 0.1477 - accuracy: 0.9728 - val_loss: 0.7193 - val_accuracy: 0.8925\n",
      "Epoch 10/10\n",
      "266/266 [==============================] - 3s 12ms/step - loss: 0.1299 - accuracy: 0.9738 - val_loss: 0.7602 - val_accuracy: 0.8929\n"
     ]
    }
   ],
   "source": [
    "t_all = 텍스트_전처리기(X_data,Y_data,mode='tfidf')\n",
    "hy = 텍스트_분류기(t_all)"
   ]
  },
  {
   "cell_type": "code",
   "execution_count": 36,
   "id": "270a6cb1",
   "metadata": {},
   "outputs": [
    {
     "data": {
      "text/plain": [
       "[<matplotlib.lines.Line2D at 0x20a1dba7190>]"
      ]
     },
     "execution_count": 36,
     "metadata": {},
     "output_type": "execute_result"
    },
    {
     "data": {
      "image/png": "[encoded data removed]",
      "text/plain": [
       "<Figure size 432x288 with 1 Axes>"
      ]
     },
     "metadata": {
      "needs_background": "light"
     },
     "output_type": "display_data"
    }
   ],
   "source": [
    "ec = range(1,len(hy.history['accuracy'])+1)\n",
    "plt.plot(ec,hy.history['loss'])\n",
    "plt.plot(ec,hy.history['val_loss'])"
   ]
  },
  {
   "cell_type": "code",
   "execution_count": null,
   "id": "c094ba19",
   "metadata": {},
   "outputs": [],
   "source": []
  }
 ],
 "metadata": {
  "kernelspec": {
   "display_name": "Python 3 (ipykernel)",
   "language": "python",
   "name": "python3"
  },
  "language_info": {
   "codemirror_mode": {
    "name": "ipython",
    "version": 3
   },
   "file_extension": ".py",
   "mimetype": "text/x-python",
   "name": "python",
   "nbconvert_exporter": "python",
   "pygments_lexer": "ipython3",
   "version": "3.9.7"
  }
 },
 "nbformat": 4,
 "nbformat_minor": 5
}
