{
 "cells": [
  {
   "cell_type": "code",
   "execution_count": 1,
   "id": "a9c4e6de",
   "metadata": {},
   "outputs": [
    {
     "data": {
      "text/plain": [
       "(28, 28)"
      ]
     },
     "execution_count": 1,
     "metadata": {},
     "output_type": "execute_result"
    }
   ],
   "source": [
    "import tensorflow as tf\n",
    "from tensorflow import keras\n",
    "import numpy as np\n",
    "import pandas as pd\n",
    "import matplotlib.pyplot as plt\n",
    "(t_x,t_y),(tt_x,tt_y) = keras.datasets.fashion_mnist.load_data()\n",
    "s_t_x= t_x/255.0\n",
    "s_tt_x=tt_x/255.0\n",
    "from sklearn.model_selection import train_test_split\n",
    "t_x,v_x,t_y,v_y=train_test_split(s_t_x,t_y,test_size=0.2,random_state=42)\n",
    "t_x.shape[1:]"
   ]
  },
  {
   "cell_type": "code",
   "execution_count": 2,
   "id": "53422aea",
   "metadata": {},
   "outputs": [],
   "source": [
    "def s_my_m(l=None): # * 튜플화 매개변수\n",
    "    m = keras.Sequential()\n",
    "    m.add(keras.layers.Flatten(input_shape=(28, 28)))\n",
    "    if l:\n",
    "        for i in l:\n",
    "            m.add(i)\n",
    "    m.add(keras.layers.Dense(10,activation='softmax'))\n",
    "    m.compile(loss='sparse_categorical_crossentropy',optimizer='adam',metrics='accuracy')\n",
    "    return m"
   ]
  },
  {
   "cell_type": "code",
   "execution_count": 10,
   "id": "02442570",
   "metadata": {},
   "outputs": [
    {
     "name": "stdout",
     "output_type": "stream",
     "text": [
      "Epoch 1/20\n",
      "1467/1500 [============================>.] - ETA: 0s - loss: 0.5987 - accuracy: 0.7913INFO:tensorflow:Assets written to: best_m.h\\assets\n",
      "1500/1500 [==============================] - 3s 2ms/step - loss: 0.5961 - accuracy: 0.7922 - val_loss: 0.4405 - val_accuracy: 0.8363\n",
      "Epoch 2/20\n",
      "1499/1500 [============================>.] - ETA: 0s - loss: 0.4388 - accuracy: 0.8428INFO:tensorflow:Assets written to: best_m.h\\assets\n",
      "1500/1500 [==============================] - 3s 2ms/step - loss: 0.4388 - accuracy: 0.8428 - val_loss: 0.3859 - val_accuracy: 0.8604\n",
      "Epoch 3/20\n",
      "1492/1500 [============================>.] - ETA: 0s - loss: 0.4009 - accuracy: 0.8542INFO:tensorflow:Assets written to: best_m.h\\assets\n",
      "1500/1500 [==============================] - 2s 2ms/step - loss: 0.4010 - accuracy: 0.8542 - val_loss: 0.3628 - val_accuracy: 0.8681\n",
      "Epoch 4/20\n",
      "1500/1500 [==============================] - 2s 1ms/step - loss: 0.3817 - accuracy: 0.8620 - val_loss: 0.3647 - val_accuracy: 0.8673\n",
      "Epoch 5/20\n",
      "1476/1500 [============================>.] - ETA: 0s - loss: 0.3675 - accuracy: 0.8654INFO:tensorflow:Assets written to: best_m.h\\assets\n",
      "1500/1500 [==============================] - 2s 2ms/step - loss: 0.3676 - accuracy: 0.8655 - val_loss: 0.3502 - val_accuracy: 0.8744\n",
      "Epoch 6/20\n",
      "1500/1500 [==============================] - 2s 1ms/step - loss: 0.3528 - accuracy: 0.8706 - val_loss: 0.3561 - val_accuracy: 0.8678\n",
      "Epoch 7/20\n",
      "1477/1500 [============================>.] - ETA: 0s - loss: 0.3443 - accuracy: 0.8740INFO:tensorflow:Assets written to: best_m.h\\assets\n",
      "1500/1500 [==============================] - 2s 2ms/step - loss: 0.3438 - accuracy: 0.8741 - val_loss: 0.3366 - val_accuracy: 0.8777\n",
      "Epoch 8/20\n",
      "1500/1500 [==============================] - 2s 1ms/step - loss: 0.3332 - accuracy: 0.8780 - val_loss: 0.3524 - val_accuracy: 0.8746\n",
      "Epoch 9/20\n",
      "1484/1500 [============================>.] - ETA: 0s - loss: 0.3311 - accuracy: 0.8782INFO:tensorflow:Assets written to: best_m.h\\assets\n",
      "1500/1500 [==============================] - 2s 2ms/step - loss: 0.3311 - accuracy: 0.8781 - val_loss: 0.3360 - val_accuracy: 0.8758\n",
      "Epoch 10/20\n",
      "1500/1500 [==============================] - ETA: 0s - loss: 0.3172 - accuracy: 0.8827INFO:tensorflow:Assets written to: best_m.h\\assets\n",
      "1500/1500 [==============================] - 2s 2ms/step - loss: 0.3172 - accuracy: 0.8827 - val_loss: 0.3333 - val_accuracy: 0.8763\n",
      "Epoch 11/20\n",
      "1500/1500 [==============================] - 2s 1ms/step - loss: 0.3136 - accuracy: 0.8830 - val_loss: 0.3335 - val_accuracy: 0.8780\n",
      "Epoch 12/20\n",
      "1485/1500 [============================>.] - ETA: 0s - loss: 0.3125 - accuracy: 0.8845INFO:tensorflow:Assets written to: best_m.h\\assets\n",
      "1500/1500 [==============================] - 2s 2ms/step - loss: 0.3122 - accuracy: 0.8846 - val_loss: 0.3263 - val_accuracy: 0.8809\n",
      "Epoch 13/20\n",
      "1500/1500 [==============================] - 2s 1ms/step - loss: 0.3022 - accuracy: 0.8875 - val_loss: 0.3279 - val_accuracy: 0.8829\n",
      "Epoch 14/20\n",
      "1500/1500 [==============================] - 2s 1ms/step - loss: 0.2984 - accuracy: 0.8892 - val_loss: 0.3366 - val_accuracy: 0.8808\n",
      "Epoch 15/20\n",
      "1500/1500 [==============================] - 2s 1ms/step - loss: 0.2961 - accuracy: 0.8887 - val_loss: 0.3309 - val_accuracy: 0.8816\n",
      "Epoch 16/20\n",
      "1486/1500 [============================>.] - ETA: 0s - loss: 0.2924 - accuracy: 0.8913INFO:tensorflow:Assets written to: best_m.h\\assets\n",
      "1500/1500 [==============================] - 2s 2ms/step - loss: 0.2924 - accuracy: 0.8913 - val_loss: 0.3184 - val_accuracy: 0.8838\n",
      "Epoch 17/20\n",
      "1483/1500 [============================>.] - ETA: 0s - loss: 0.2848 - accuracy: 0.8935INFO:tensorflow:Assets written to: best_m.h\\assets\n",
      "1500/1500 [==============================] - 3s 2ms/step - loss: 0.2850 - accuracy: 0.8933 - val_loss: 0.3178 - val_accuracy: 0.8881\n",
      "Epoch 18/20\n",
      "1500/1500 [==============================] - 2s 1ms/step - loss: 0.2821 - accuracy: 0.8947 - val_loss: 0.3204 - val_accuracy: 0.8849\n",
      "Epoch 19/20\n",
      "1470/1500 [============================>.] - ETA: 0s - loss: 0.2804 - accuracy: 0.8962INFO:tensorflow:Assets written to: best_m.h\\assets\n",
      "1500/1500 [==============================] - 2s 2ms/step - loss: 0.2802 - accuracy: 0.8962 - val_loss: 0.3173 - val_accuracy: 0.8874\n",
      "Epoch 20/20\n",
      "1500/1500 [==============================] - 2s 1ms/step - loss: 0.2771 - accuracy: 0.8979 - val_loss: 0.3233 - val_accuracy: 0.8863\n"
     ]
    },
    {
     "data": {
      "text/plain": [
       "[<matplotlib.lines.Line2D at 0x13f08307490>]"
      ]
     },
     "execution_count": 10,
     "metadata": {},
     "output_type": "execute_result"
    },
    {
     "data": {
      "image/png": "[encoded data removed]",
      "text/plain": [
       "<Figure size 432x288 with 1 Axes>"
      ]
     },
     "metadata": {
      "needs_background": "light"
     },
     "output_type": "display_data"
    }
   ],
   "source": [
    "m = keras.Sequential()\n",
    "m.add(keras.layers.Flatten(input_shape=(28, 28)))\n",
    "m.add(keras.layers.Dense(100,activation='relu'))\n",
    "m.add(keras.layers.Dropout(0.3)) #100에대해서 dropout\n",
    "m.add(keras.layers.Dense(10,activation='softmax'))\n",
    "# 신경망 구축\n",
    "m.compile(loss='sparse_categorical_crossentropy',optimizer='adam',metrics='accuracy')   \n",
    "# 콜백\n",
    "ck_p = keras.callbacks.ModelCheckpoint('best_m.h',save_best_only=True)\n",
    "hy = m.fit(t_x,t_y,epochs=20,validation_data=(v_x,v_y),callbacks=[ck_p])\n",
    "plt.plot(hy.history['loss'])\n",
    "plt.plot(hy.history['val_loss'])"
   ]
  },
  {
   "cell_type": "code",
   "execution_count": 11,
   "id": "e2ee8673",
   "metadata": {},
   "outputs": [
    {
     "name": "stdout",
     "output_type": "stream",
     "text": [
      "375/375 [==============================] - 0s 933us/step - loss: 0.3233 - accuracy: 0.8863\n"
     ]
    },
    {
     "data": {
      "text/plain": [
       "[0.3233468234539032, 0.8863333463668823]"
      ]
     },
     "execution_count": 11,
     "metadata": {},
     "output_type": "execute_result"
    }
   ],
   "source": [
    "m2 =keras.models.load_model('best_m.h') #다시실행해보기\n",
    "m.evaluate(v_x,v_y)"
   ]
  },
  {
   "cell_type": "code",
   "execution_count": 13,
   "id": "368a868b",
   "metadata": {},
   "outputs": [
    {
     "name": "stdout",
     "output_type": "stream",
     "text": [
      "375/375 [==============================] - 0s 963us/step - loss: 0.3173 - accuracy: 0.8874\n"
     ]
    },
    {
     "data": {
      "text/plain": [
       "[0.3172866106033325, 0.887416660785675]"
      ]
     },
     "execution_count": 13,
     "metadata": {},
     "output_type": "execute_result"
    }
   ],
   "source": [
    "m2.evaluate(v_x,v_y)"
   ]
  },
  {
   "cell_type": "code",
   "execution_count": 6,
   "id": "1d866856",
   "metadata": {},
   "outputs": [
    {
     "name": "stdout",
     "output_type": "stream",
     "text": [
      "Epoch 1/20\n",
      "1500/1500 [==============================] - 2s 1ms/step - loss: 0.5916 - accuracy: 0.7930 - val_loss: 0.4371 - val_accuracy: 0.8388\n",
      "Epoch 2/20\n",
      "1500/1500 [==============================] - 2s 1ms/step - loss: 0.4387 - accuracy: 0.8423 - val_loss: 0.4102 - val_accuracy: 0.8465\n",
      "Epoch 3/20\n",
      "1500/1500 [==============================] - 2s 1ms/step - loss: 0.4037 - accuracy: 0.8534 - val_loss: 0.3667 - val_accuracy: 0.8661\n",
      "Epoch 4/20\n",
      "1500/1500 [==============================] - 2s 1ms/step - loss: 0.3791 - accuracy: 0.8601 - val_loss: 0.3555 - val_accuracy: 0.8692\n",
      "Epoch 5/20\n",
      "1500/1500 [==============================] - 2s 1ms/step - loss: 0.3661 - accuracy: 0.8671 - val_loss: 0.3528 - val_accuracy: 0.8687\n",
      "Epoch 6/20\n",
      "1500/1500 [==============================] - 2s 1ms/step - loss: 0.3536 - accuracy: 0.8699 - val_loss: 0.3557 - val_accuracy: 0.8740\n",
      "Epoch 7/20\n",
      "1500/1500 [==============================] - 2s 1ms/step - loss: 0.3445 - accuracy: 0.8740 - val_loss: 0.3376 - val_accuracy: 0.8770\n",
      "Epoch 8/20\n",
      "1500/1500 [==============================] - 2s 1ms/step - loss: 0.3371 - accuracy: 0.8772 - val_loss: 0.3256 - val_accuracy: 0.8805\n",
      "Epoch 9/20\n",
      "1500/1500 [==============================] - 2s 1ms/step - loss: 0.3284 - accuracy: 0.8780 - val_loss: 0.3293 - val_accuracy: 0.8773\n",
      "Epoch 10/20\n",
      "1500/1500 [==============================] - 2s 1ms/step - loss: 0.3169 - accuracy: 0.8832 - val_loss: 0.3270 - val_accuracy: 0.8777\n"
     ]
    },
    {
     "data": {
      "text/plain": [
       "<keras.callbacks.History at 0x13f05f5fdc0>"
      ]
     },
     "execution_count": 6,
     "metadata": {},
     "output_type": "execute_result"
    }
   ],
   "source": [
    "m1 = keras.Sequential()\n",
    "m1.add(keras.layers.Flatten(input_shape=(28,28)))\n",
    "m1.add(keras.layers.Dense(100,activation='relu'))\n",
    "m1.add(keras.layers.Dropout(0.3))\n",
    "m1.add(keras.layers.Dense(10,activation='softmax'))\n",
    "m1.compile(loss='sparse_categorical_crossentropy',optimizer='adam',metrics='accuracy')\n",
    "ck_p = keras.callbacks.ModelCheckpoint('best1_m.h5',save_best_only=True)\n",
    "e_st = keras.callbacks.EarlyStopping(patience=2,restore_best_weights=True)\n",
    "m1.fit(t_x,t_y,epochs=20,validation_data=(v_x,v_y),callbacks=[ck_p,e_st])"
   ]
  },
  {
   "cell_type": "code",
   "execution_count": 7,
   "id": "21422e71",
   "metadata": {},
   "outputs": [
    {
     "name": "stdout",
     "output_type": "stream",
     "text": [
      "375/375 [==============================] - 0s 957us/step - loss: 0.3256 - accuracy: 0.8805\n"
     ]
    },
    {
     "data": {
      "text/plain": [
       "[0.325613796710968, 0.8805000185966492]"
      ]
     },
     "execution_count": 7,
     "metadata": {},
     "output_type": "execute_result"
    }
   ],
   "source": [
    "m1.evaluate(v_x,v_y)"
   ]
  },
  {
   "cell_type": "code",
   "execution_count": 14,
   "id": "0af76504",
   "metadata": {},
   "outputs": [
    {
     "name": "stdout",
     "output_type": "stream",
     "text": [
      "375/375 [==============================] - 0s 920us/step - loss: 0.3256 - accuracy: 0.8805\n"
     ]
    },
    {
     "data": {
      "text/plain": [
       "[0.325613796710968, 0.8805000185966492]"
      ]
     },
     "execution_count": 14,
     "metadata": {},
     "output_type": "execute_result"
    }
   ],
   "source": [
    "m2 =keras.models.load_model('best1_m.h5') #다시실행해보기\n",
    "m2.evaluate(v_x,v_y)"
   ]
  },
  {
   "cell_type": "code",
   "execution_count": 17,
   "id": "fe685314",
   "metadata": {},
   "outputs": [],
   "source": [
    "def sig(x):\n",
    "    return 1/(1+np.exp(-x))"
   ]
  },
  {
   "cell_type": "code",
   "execution_count": 22,
   "id": "7614f201",
   "metadata": {},
   "outputs": [
    {
     "data": {
      "text/plain": [
       "(-5.0, 5.0, -0.2, 1.2)"
      ]
     },
     "execution_count": 22,
     "metadata": {},
     "output_type": "execute_result"
    },
    {
     "data": {
      "image/png": "[encoded data removed]",
      "text/plain": [
       "<Figure size 432x288 with 1 Axes>"
      ]
     },
     "metadata": {
      "needs_background": "light"
     },
     "output_type": "display_data"
    }
   ],
   "source": [
    "x = np.linspace(-5,5,200)\n",
    "plt.plot([-5,5],[0,0])\n",
    "plt.plot([-5,5],[1,1])\n",
    "plt.plot([0,0],[-0.2,1.2])\n",
    "plt.plot([-5,5],[-3/4,7/4])\n",
    "plt.plot(x,sig(x))\n",
    "plt.grid(True)\n",
    "plt.axis([-5,5,-0.2,1.2])"
   ]
  },
  {
   "cell_type": "code",
   "execution_count": null,
   "id": "6e2875da",
   "metadata": {},
   "outputs": [],
   "source": []
  }
 ],
 "metadata": {
  "kernelspec": {
   "display_name": "Python 3 (ipykernel)",
   "language": "python",
   "name": "python3"
  },
  "language_info": {
   "codemirror_mode": {
    "name": "ipython",
    "version": 3
   },
   "file_extension": ".py",
   "mimetype": "text/x-python",
   "name": "python",
   "nbconvert_exporter": "python",
   "pygments_lexer": "ipython3",
   "version": "3.9.7"
  }
 },
 "nbformat": 4,
 "nbformat_minor": 5
}
