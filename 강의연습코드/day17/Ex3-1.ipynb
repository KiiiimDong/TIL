{
 "cells": [
  {
   "cell_type": "code",
   "execution_count": 1,
   "id": "92e66ae7",
   "metadata": {},
   "outputs": [],
   "source": [
    "import tensorflow as tf\n",
    "from tensorflow import keras\n",
    "import numpy as np\n",
    "import pandas as pd\n",
    "import matplotlib.pyplot as plt\n",
    "(t_x,t_y),(tt_x,tt_y) = keras.datasets.fashion_mnist.load_data()\n",
    "s_t_x= t_x/255.0\n",
    "s_tt_x=tt_x/255.0\n",
    "from sklearn.model_selection import train_test_split\n",
    "t_x,v_x,t_y,v_y=train_test_split(s_t_x,t_y,test_size=0.2,random_state=42)"
   ]
  },
  {
   "cell_type": "code",
   "execution_count": 2,
   "id": "c0b18b94",
   "metadata": {},
   "outputs": [],
   "source": [
    "m=keras.Sequential()\n",
    "m.add(keras.layers.Flatten(input_shape=t_x.shape[1:]))#784\n",
    "m.add(keras.layers.Dense(100,activation='relu'))#100\n",
    "m.add(keras.layers.Dense(300,activation='relu'))#300\n",
    "m.add(keras.layers.Dense(10,activation='softmax'))\n",
    "m.compile(optimizer='sgd',loss='sparse_categorical_crossentropy',metrics='accuracy')"
   ]
  },
  {
   "cell_type": "code",
   "execution_count": 3,
   "id": "af6c625d",
   "metadata": {},
   "outputs": [
    {
     "name": "stdout",
     "output_type": "stream",
     "text": [
      "Epoch 1/20\n",
      "1500/1500 [==============================] - 3s 2ms/step - loss: 0.8130 - accuracy: 0.7325 - val_loss: 0.5645 - val_accuracy: 0.8091\n",
      "Epoch 2/20\n",
      "1500/1500 [==============================] - 2s 2ms/step - loss: 0.5225 - accuracy: 0.8179 - val_loss: 0.4903 - val_accuracy: 0.8293\n",
      "Epoch 3/20\n",
      "1500/1500 [==============================] - 2s 2ms/step - loss: 0.4721 - accuracy: 0.8346 - val_loss: 0.4582 - val_accuracy: 0.8408\n",
      "Epoch 4/20\n",
      "1500/1500 [==============================] - 2s 2ms/step - loss: 0.4431 - accuracy: 0.8444 - val_loss: 0.4538 - val_accuracy: 0.8393\n",
      "Epoch 5/20\n",
      "1500/1500 [==============================] - 2s 2ms/step - loss: 0.4228 - accuracy: 0.8514 - val_loss: 0.4336 - val_accuracy: 0.8458\n",
      "Epoch 6/20\n",
      "1500/1500 [==============================] - 2s 2ms/step - loss: 0.4061 - accuracy: 0.8571 - val_loss: 0.4244 - val_accuracy: 0.8505\n",
      "Epoch 7/20\n",
      "1500/1500 [==============================] - 2s 2ms/step - loss: 0.3930 - accuracy: 0.8618 - val_loss: 0.4160 - val_accuracy: 0.8572\n",
      "Epoch 8/20\n",
      "1500/1500 [==============================] - 2s 2ms/step - loss: 0.3815 - accuracy: 0.8656 - val_loss: 0.3932 - val_accuracy: 0.8620\n",
      "Epoch 9/20\n",
      "1500/1500 [==============================] - 2s 2ms/step - loss: 0.3694 - accuracy: 0.8690 - val_loss: 0.3807 - val_accuracy: 0.8658\n",
      "Epoch 10/20\n",
      "1500/1500 [==============================] - 2s 2ms/step - loss: 0.3614 - accuracy: 0.8735 - val_loss: 0.3904 - val_accuracy: 0.8629\n",
      "Epoch 11/20\n",
      "1500/1500 [==============================] - 2s 2ms/step - loss: 0.3527 - accuracy: 0.8756 - val_loss: 0.3777 - val_accuracy: 0.8675\n",
      "Epoch 12/20\n",
      "1500/1500 [==============================] - 2s 2ms/step - loss: 0.3445 - accuracy: 0.8775 - val_loss: 0.3601 - val_accuracy: 0.8734\n",
      "Epoch 13/20\n",
      "1500/1500 [==============================] - 2s 2ms/step - loss: 0.3367 - accuracy: 0.8807 - val_loss: 0.3615 - val_accuracy: 0.8727\n",
      "Epoch 14/20\n",
      "1500/1500 [==============================] - 2s 2ms/step - loss: 0.3301 - accuracy: 0.8832 - val_loss: 0.3600 - val_accuracy: 0.8715\n",
      "Epoch 15/20\n",
      "1500/1500 [==============================] - 2s 2ms/step - loss: 0.3233 - accuracy: 0.8846 - val_loss: 0.3490 - val_accuracy: 0.8777\n",
      "Epoch 16/20\n",
      "1500/1500 [==============================] - 2s 2ms/step - loss: 0.3175 - accuracy: 0.8857 - val_loss: 0.3533 - val_accuracy: 0.8748\n",
      "Epoch 17/20\n",
      "1500/1500 [==============================] - 2s 2ms/step - loss: 0.3119 - accuracy: 0.8886 - val_loss: 0.3447 - val_accuracy: 0.8773\n",
      "Epoch 18/20\n",
      "1500/1500 [==============================] - 2s 2ms/step - loss: 0.3066 - accuracy: 0.8907 - val_loss: 0.3360 - val_accuracy: 0.8807\n",
      "Epoch 19/20\n",
      "1500/1500 [==============================] - 2s 2ms/step - loss: 0.3011 - accuracy: 0.8919 - val_loss: 0.3523 - val_accuracy: 0.8726\n",
      "Epoch 20/20\n",
      "1500/1500 [==============================] - 2s 2ms/step - loss: 0.2963 - accuracy: 0.8940 - val_loss: 0.3566 - val_accuracy: 0.8718\n"
     ]
    }
   ],
   "source": [
    "hy = m.fit(t_x,t_y,epochs=20,validation_data=(v_x,v_y))"
   ]
  },
  {
   "cell_type": "code",
   "execution_count": 4,
   "id": "5923767f",
   "metadata": {},
   "outputs": [
    {
     "data": {
      "text/plain": [
       "[<matplotlib.lines.Line2D at 0x248ab79dbe0>]"
      ]
     },
     "execution_count": 4,
     "metadata": {},
     "output_type": "execute_result"
    },
    {
     "data": {
      "image/png": "[encoded data removed]",
      "text/plain": [
       "<Figure size 432x288 with 1 Axes>"
      ]
     },
     "metadata": {
      "needs_background": "light"
     },
     "output_type": "display_data"
    }
   ],
   "source": [
    "plt.plot(hy.history['loss'])\n",
    "plt.plot(hy.history['val_loss'])"
   ]
  },
  {
   "cell_type": "code",
   "execution_count": 5,
   "id": "b6979468",
   "metadata": {},
   "outputs": [
    {
     "name": "stdout",
     "output_type": "stream",
     "text": [
      "Epoch 1/20\n",
      "1500/1500 [==============================] - 3s 2ms/step - loss: 0.4979 - accuracy: 0.8206 - val_loss: 0.4129 - val_accuracy: 0.8492\n",
      "Epoch 2/20\n",
      "1500/1500 [==============================] - 2s 2ms/step - loss: 0.3685 - accuracy: 0.8644 - val_loss: 0.4191 - val_accuracy: 0.8486\n",
      "Epoch 3/20\n",
      "1500/1500 [==============================] - 2s 2ms/step - loss: 0.3321 - accuracy: 0.8769 - val_loss: 0.3380 - val_accuracy: 0.8792\n",
      "Epoch 4/20\n",
      "1500/1500 [==============================] - 3s 2ms/step - loss: 0.3096 - accuracy: 0.8852 - val_loss: 0.3504 - val_accuracy: 0.8749\n",
      "Epoch 5/20\n",
      "1500/1500 [==============================] - 2s 2ms/step - loss: 0.2897 - accuracy: 0.8903 - val_loss: 0.3272 - val_accuracy: 0.8820\n",
      "Epoch 6/20\n",
      "1500/1500 [==============================] - 2s 2ms/step - loss: 0.2762 - accuracy: 0.8963 - val_loss: 0.3263 - val_accuracy: 0.8823\n",
      "Epoch 7/20\n",
      "1500/1500 [==============================] - 2s 2ms/step - loss: 0.2612 - accuracy: 0.9012 - val_loss: 0.3309 - val_accuracy: 0.8820\n",
      "Epoch 8/20\n",
      "1500/1500 [==============================] - 3s 2ms/step - loss: 0.2501 - accuracy: 0.9049 - val_loss: 0.3280 - val_accuracy: 0.8838\n",
      "Epoch 9/20\n",
      "1500/1500 [==============================] - 3s 2ms/step - loss: 0.2395 - accuracy: 0.9081 - val_loss: 0.3508 - val_accuracy: 0.8754\n",
      "Epoch 10/20\n",
      "1500/1500 [==============================] - 2s 2ms/step - loss: 0.2302 - accuracy: 0.9119 - val_loss: 0.3392 - val_accuracy: 0.8895\n",
      "Epoch 11/20\n",
      "1500/1500 [==============================] - 3s 2ms/step - loss: 0.2194 - accuracy: 0.9150 - val_loss: 0.3340 - val_accuracy: 0.8868\n",
      "Epoch 12/20\n",
      "1500/1500 [==============================] - 3s 2ms/step - loss: 0.2162 - accuracy: 0.9170 - val_loss: 0.3318 - val_accuracy: 0.8905\n",
      "Epoch 13/20\n",
      "1500/1500 [==============================] - 3s 2ms/step - loss: 0.2046 - accuracy: 0.9210 - val_loss: 0.3251 - val_accuracy: 0.8886\n",
      "Epoch 14/20\n",
      "1500/1500 [==============================] - 3s 2ms/step - loss: 0.2014 - accuracy: 0.9229 - val_loss: 0.3288 - val_accuracy: 0.8900\n",
      "Epoch 15/20\n",
      "1500/1500 [==============================] - 3s 2ms/step - loss: 0.1934 - accuracy: 0.9262 - val_loss: 0.3347 - val_accuracy: 0.8885\n",
      "Epoch 16/20\n",
      "1500/1500 [==============================] - 2s 2ms/step - loss: 0.1860 - accuracy: 0.9284 - val_loss: 0.3490 - val_accuracy: 0.8872\n",
      "Epoch 17/20\n",
      "1500/1500 [==============================] - 2s 2ms/step - loss: 0.1777 - accuracy: 0.9317 - val_loss: 0.3642 - val_accuracy: 0.8895\n",
      "Epoch 18/20\n",
      "1500/1500 [==============================] - 2s 2ms/step - loss: 0.1776 - accuracy: 0.9329 - val_loss: 0.3791 - val_accuracy: 0.8843\n",
      "Epoch 19/20\n",
      "1500/1500 [==============================] - 2s 2ms/step - loss: 0.1660 - accuracy: 0.9354 - val_loss: 0.3756 - val_accuracy: 0.8917\n",
      "Epoch 20/20\n",
      "1500/1500 [==============================] - 3s 2ms/step - loss: 0.1627 - accuracy: 0.9367 - val_loss: 0.3744 - val_accuracy: 0.8913\n"
     ]
    },
    {
     "data": {
      "text/plain": [
       "[<matplotlib.lines.Line2D at 0x248aa4ed6a0>]"
      ]
     },
     "execution_count": 5,
     "metadata": {},
     "output_type": "execute_result"
    },
    {
     "data": {
      "image/png": "[encoded data removed]",
      "text/plain": [
       "<Figure size 432x288 with 1 Axes>"
      ]
     },
     "metadata": {
      "needs_background": "light"
     },
     "output_type": "display_data"
    }
   ],
   "source": [
    "m=keras.Sequential()\n",
    "m.add(keras.layers.Flatten(input_shape=t_x.shape[1:]))\n",
    "m.add(keras.layers.Dense(100,activation='relu'))\n",
    "m.add(keras.layers.Dense(300,activation='relu'))\n",
    "m.add(keras.layers.Dense(10,activation='softmax'))\n",
    "m.compile(optimizer='adam',loss='sparse_categorical_crossentropy',metrics='accuracy')\n",
    "hy = m.fit(t_x,t_y,epochs=20,validation_data=(v_x,v_y))\n",
    "plt.plot(hy.history['loss'])\n",
    "plt.plot(hy.history['val_loss'])"
   ]
  },
  {
   "cell_type": "code",
   "execution_count": 6,
   "id": "b6477202",
   "metadata": {},
   "outputs": [
    {
     "name": "stdout",
     "output_type": "stream",
     "text": [
      "Epoch 1/20\n",
      "1500/1500 [==============================] - 3s 2ms/step - loss: 0.5792 - accuracy: 0.7887 - val_loss: 0.4275 - val_accuracy: 0.8377\n",
      "Epoch 2/20\n",
      "1500/1500 [==============================] - 2s 2ms/step - loss: 0.4449 - accuracy: 0.8355 - val_loss: 0.4066 - val_accuracy: 0.8509\n",
      "Epoch 3/20\n",
      "1500/1500 [==============================] - 3s 2ms/step - loss: 0.4056 - accuracy: 0.8511 - val_loss: 0.3584 - val_accuracy: 0.8693\n",
      "Epoch 4/20\n",
      "1500/1500 [==============================] - 2s 2ms/step - loss: 0.3808 - accuracy: 0.8607 - val_loss: 0.3508 - val_accuracy: 0.8689\n",
      "Epoch 5/20\n",
      "1500/1500 [==============================] - 3s 2ms/step - loss: 0.3679 - accuracy: 0.8627 - val_loss: 0.3511 - val_accuracy: 0.8735\n",
      "Epoch 6/20\n",
      "1500/1500 [==============================] - 2s 2ms/step - loss: 0.3530 - accuracy: 0.8685 - val_loss: 0.3386 - val_accuracy: 0.8753\n",
      "Epoch 7/20\n",
      "1500/1500 [==============================] - 3s 2ms/step - loss: 0.3429 - accuracy: 0.8717 - val_loss: 0.3608 - val_accuracy: 0.8669\n",
      "Epoch 8/20\n",
      "1500/1500 [==============================] - 3s 2ms/step - loss: 0.3383 - accuracy: 0.8735 - val_loss: 0.3356 - val_accuracy: 0.8763\n",
      "Epoch 9/20\n",
      "1500/1500 [==============================] - 2s 2ms/step - loss: 0.3277 - accuracy: 0.8785 - val_loss: 0.3423 - val_accuracy: 0.8727\n",
      "Epoch 10/20\n",
      "1500/1500 [==============================] - 3s 2ms/step - loss: 0.3214 - accuracy: 0.8801 - val_loss: 0.3266 - val_accuracy: 0.8802\n",
      "Epoch 11/20\n",
      "1500/1500 [==============================] - 2s 2ms/step - loss: 0.3154 - accuracy: 0.8830 - val_loss: 0.3327 - val_accuracy: 0.8793\n",
      "Epoch 12/20\n",
      "1500/1500 [==============================] - 3s 2ms/step - loss: 0.3061 - accuracy: 0.8858 - val_loss: 0.3325 - val_accuracy: 0.8803\n",
      "Epoch 13/20\n",
      "1500/1500 [==============================] - 3s 2ms/step - loss: 0.3055 - accuracy: 0.8866 - val_loss: 0.3200 - val_accuracy: 0.8843\n",
      "Epoch 14/20\n",
      "1500/1500 [==============================] - 3s 2ms/step - loss: 0.2993 - accuracy: 0.8876 - val_loss: 0.3166 - val_accuracy: 0.8844\n",
      "Epoch 15/20\n",
      "1500/1500 [==============================] - 3s 2ms/step - loss: 0.2942 - accuracy: 0.8895 - val_loss: 0.3218 - val_accuracy: 0.8835\n",
      "Epoch 16/20\n",
      "1500/1500 [==============================] - 2s 2ms/step - loss: 0.2889 - accuracy: 0.8911 - val_loss: 0.3175 - val_accuracy: 0.8839\n",
      "Epoch 17/20\n",
      "1500/1500 [==============================] - 2s 2ms/step - loss: 0.2852 - accuracy: 0.8926 - val_loss: 0.3130 - val_accuracy: 0.8861\n",
      "Epoch 18/20\n",
      "1500/1500 [==============================] - 3s 2ms/step - loss: 0.2845 - accuracy: 0.8940 - val_loss: 0.3083 - val_accuracy: 0.8869\n",
      "Epoch 19/20\n",
      "1500/1500 [==============================] - 3s 2ms/step - loss: 0.2836 - accuracy: 0.8948 - val_loss: 0.3070 - val_accuracy: 0.8854\n",
      "Epoch 20/20\n",
      "1500/1500 [==============================] - 3s 2ms/step - loss: 0.2774 - accuracy: 0.8965 - val_loss: 0.3117 - val_accuracy: 0.8901\n"
     ]
    },
    {
     "data": {
      "text/plain": [
       "[<matplotlib.lines.Line2D at 0x248e8ef6df0>]"
      ]
     },
     "execution_count": 6,
     "metadata": {},
     "output_type": "execute_result"
    },
    {
     "data": {
      "image/png": "[encoded data removed]",
      "text/plain": [
       "<Figure size 432x288 with 1 Axes>"
      ]
     },
     "metadata": {
      "needs_background": "light"
     },
     "output_type": "display_data"
    }
   ],
   "source": [
    "m=keras.Sequential()\n",
    "m.add(keras.layers.Flatten(input_shape=t_x.shape[1:]))\n",
    "m.add(keras.layers.Dense(100,activation='relu'))\n",
    "m.add(keras.layers.Dropout(0.3))\n",
    "m.add(keras.layers.Dense(300,activation='relu'))\n",
    "m.add(keras.layers.Dense(10,activation='softmax'))\n",
    "m.compile(optimizer='adam',loss='sparse_categorical_crossentropy',metrics='accuracy')\n",
    "hy = m.fit(t_x,t_y,epochs=20,validation_data=(v_x,v_y))\n",
    "plt.plot(hy.history['loss'])\n",
    "plt.plot(hy.history['val_loss'])"
   ]
  },
  {
   "cell_type": "code",
   "execution_count": 10,
   "id": "1d51a0fc",
   "metadata": {},
   "outputs": [
    {
     "name": "stdout",
     "output_type": "stream",
     "text": [
      "1500/1500 [==============================] - 2s 1ms/step - loss: 0.2248 - accuracy: 0.9166\n"
     ]
    },
    {
     "data": {
      "text/plain": [
       "[0.22480466961860657, 0.9166458249092102]"
      ]
     },
     "execution_count": 10,
     "metadata": {},
     "output_type": "execute_result"
    }
   ],
   "source": [
    "m.evaluate(t_x,t_y)"
   ]
  },
  {
   "cell_type": "markdown",
   "id": "244cf33f",
   "metadata": {},
   "source": [
    "m.weights"
   ]
  },
  {
   "cell_type": "code",
   "execution_count": 7,
   "id": "cf12a202",
   "metadata": {},
   "outputs": [],
   "source": [
    "m.save_weights('m_1_w.h5') # h5 확장자명"
   ]
  },
  {
   "cell_type": "code",
   "execution_count": 8,
   "id": "3ddf7615",
   "metadata": {},
   "outputs": [],
   "source": [
    "m.save('m1.h5')"
   ]
  },
  {
   "cell_type": "code",
   "execution_count": 11,
   "id": "4535519f",
   "metadata": {},
   "outputs": [
    {
     "name": "stdout",
     "output_type": "stream",
     "text": [
      "1500/1500 [==============================] - 2s 990us/step - loss: 2.4083 - accuracy: 0.0907\n"
     ]
    },
    {
     "data": {
      "text/plain": [
       "[2.408282995223999, 0.09072916954755783]"
      ]
     },
     "execution_count": 11,
     "metadata": {},
     "output_type": "execute_result"
    }
   ],
   "source": [
    "m1=keras.Sequential()\n",
    "m1.add(keras.layers.Flatten(input_shape=t_x.shape[1:]))\n",
    "m1.add(keras.layers.Dense(100,activation='relu'))\n",
    "m1.add(keras.layers.Dropout(0.3))\n",
    "m1.add(keras.layers.Dense(300,activation='relu'))\n",
    "m1.add(keras.layers.Dense(10,activation='softmax'))\n",
    "m1.compile(optimizer='adam',loss='sparse_categorical_crossentropy',metrics='accuracy')\n",
    "m1.evaluate(t_x,t_y)"
   ]
  },
  {
   "cell_type": "code",
   "execution_count": 12,
   "id": "d6cd419f",
   "metadata": {},
   "outputs": [],
   "source": [
    "m1.load_weights('m_1_w.h5')"
   ]
  },
  {
   "cell_type": "code",
   "execution_count": 13,
   "id": "179bf4bd",
   "metadata": {},
   "outputs": [
    {
     "name": "stdout",
     "output_type": "stream",
     "text": [
      "1500/1500 [==============================] - 1s 974us/step - loss: 0.2248 - accuracy: 0.9166\n"
     ]
    },
    {
     "data": {
      "text/plain": [
       "[0.22480466961860657, 0.9166458249092102]"
      ]
     },
     "execution_count": 13,
     "metadata": {},
     "output_type": "execute_result"
    }
   ],
   "source": [
    "m1.evaluate(t_x,t_y)"
   ]
  },
  {
   "cell_type": "code",
   "execution_count": 14,
   "id": "d0a7c117",
   "metadata": {},
   "outputs": [],
   "source": [
    "m2 = keras.models.load_model('m1.h5')"
   ]
  },
  {
   "cell_type": "code",
   "execution_count": 15,
   "id": "638a0cd5",
   "metadata": {},
   "outputs": [
    {
     "name": "stdout",
     "output_type": "stream",
     "text": [
      "1500/1500 [==============================] - 2s 958us/step - loss: 0.2248 - accuracy: 0.9166\n"
     ]
    },
    {
     "data": {
      "text/plain": [
       "[0.22480466961860657, 0.9166458249092102]"
      ]
     },
     "execution_count": 15,
     "metadata": {},
     "output_type": "execute_result"
    }
   ],
   "source": [
    "m2.evaluate(t_x,t_y)"
   ]
  },
  {
   "cell_type": "code",
   "execution_count": null,
   "id": "a320c793",
   "metadata": {},
   "outputs": [],
   "source": []
  }
 ],
 "metadata": {
  "kernelspec": {
   "display_name": "Python 3 (ipykernel)",
   "language": "python",
   "name": "python3"
  },
  "language_info": {
   "codemirror_mode": {
    "name": "ipython",
    "version": 3
   },
   "file_extension": ".py",
   "mimetype": "text/x-python",
   "name": "python",
   "nbconvert_exporter": "python",
   "pygments_lexer": "ipython3",
   "version": "3.9.7"
  }
 },
 "nbformat": 4,
 "nbformat_minor": 5
}
