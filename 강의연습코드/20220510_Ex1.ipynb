{
 "cells": [
  {
   "cell_type": "code",
   "execution_count": 1,
   "id": "2dbd977a",
   "metadata": {},
   "outputs": [
    {
     "data": {
      "text/plain": [
       "([('I', 'am'), ('am', 'a'), ('a', 'boy')],\n",
       " [('I', 'am', 'a'), ('am', 'a', 'boy')])"
      ]
     },
     "execution_count": 1,
     "metadata": {},
     "output_type": "execute_result"
    }
   ],
   "source": [
    "from nltk import bigrams, word_tokenize\n",
    "from nltk.util import ngrams\n",
    "t='I am a boy'\n",
    "tk = word_tokenize(t)\n",
    "bg = bigrams(tk) # 직전의 단어\n",
    "ng = ngrams(tk, 3) # 특정영역\n",
    "list(bg),list(ng)"
   ]
  },
  {
   "cell_type": "markdown",
   "id": "9285ad3d",
   "metadata": {},
   "source": [
    "SS<문장>SE : 문장의 시작과 끝 표현"
   ]
  },
  {
   "cell_type": "code",
   "execution_count": 2,
   "id": "6b456525",
   "metadata": {},
   "outputs": [
    {
     "data": {
      "text/plain": [
       "[('SS', 'I'), ('I', 'am'), ('am', 'a'), ('a', 'boy'), ('boy', 'SE')]"
      ]
     },
     "execution_count": 2,
     "metadata": {},
     "output_type": "execute_result"
    }
   ],
   "source": [
    "data2 = ngrams(tk,2,pad_left=True, pad_right=True,left_pad_symbol=\"SS\",right_pad_symbol=\"SE\")\n",
    "list(data2) # 인덱스로 바로 접근할 수 없다."
   ]
  },
  {
   "cell_type": "code",
   "execution_count": 3,
   "id": "ad502578",
   "metadata": {},
   "outputs": [],
   "source": [
    "from nltk import ConditionalFreqDist\n",
    "t = 'I am a boy'\n",
    "t2 = 'you are a boy'\n",
    "tk = word_tokenize(t)\n",
    "ng2 = ngrams(tk,2,pad_left=True, pad_right=True,left_pad_symbol=\"SS\",right_pad_symbol=\"SE\")\n",
    "fd = ConditionalFreqDist([(i[0],i[1])for i in ng2])\n"
   ]
  },
  {
   "cell_type": "code",
   "execution_count": 4,
   "id": "ccd9404d",
   "metadata": {},
   "outputs": [
    {
     "data": {
      "text/plain": [
       "['SS', 'I', 'am', 'a', 'boy']"
      ]
     },
     "execution_count": 4,
     "metadata": {},
     "output_type": "execute_result"
    }
   ],
   "source": [
    "fd.conditions() # 정답 접근 정보"
   ]
  },
  {
   "cell_type": "code",
   "execution_count": 5,
   "id": "67c764e8",
   "metadata": {},
   "outputs": [
    {
     "data": {
      "text/plain": [
       "FreqDist({'I': 1})"
      ]
     },
     "execution_count": 5,
     "metadata": {},
     "output_type": "execute_result"
    }
   ],
   "source": [
    "fd['SS']"
   ]
  },
  {
   "cell_type": "code",
   "execution_count": 6,
   "id": "d3e4c043",
   "metadata": {},
   "outputs": [
    {
     "name": "stderr",
     "output_type": "stream",
     "text": [
      "[nltk_data] Downloading package movie_reviews to\n",
      "[nltk_data]     C:\\Users\\82105\\AppData\\Roaming\\nltk_data...\n",
      "[nltk_data]   Package movie_reviews is already up-to-date!\n",
      "[nltk_data] Downloading package punkt to\n",
      "[nltk_data]     C:\\Users\\82105\\AppData\\Roaming\\nltk_data...\n",
      "[nltk_data]   Package punkt is already up-to-date!\n"
     ]
    },
    {
     "data": {
      "text/plain": [
       "True"
      ]
     },
     "execution_count": 6,
     "metadata": {},
     "output_type": "execute_result"
    }
   ],
   "source": [
    "import nltk\n",
    "nltk.download('movie_reviews')\n",
    "nltk.download('punkt')"
   ]
  },
  {
   "cell_type": "code",
   "execution_count": 7,
   "id": "b4af865e",
   "metadata": {},
   "outputs": [],
   "source": [
    "from nltk.corpus import movie_reviews\n",
    "data_l = []\n",
    "n = 0\n",
    "for i in movie_reviews.sents():\n",
    "    bg2 = ngrams(i,2,pad_left=True, pad_right=True,left_pad_symbol=\"SS\",right_pad_symbol=\"SE\")\n",
    "    data_l+=[t for t in bg2]\n",
    "    n+=1\n",
    "cfd = ConditionalFreqDist(data_l)\n",
    "#print(n)\n",
    "#len(data_l)"
   ]
  },
  {
   "cell_type": "code",
   "execution_count": 8,
   "id": "2556b865",
   "metadata": {},
   "outputs": [
    {
     "data": {
      "text/plain": [
       "[('the', 8071),\n",
       " ('.', 3173),\n",
       " ('it', 3136),\n",
       " ('i', 2471),\n",
       " ('but', 1814),\n",
       " ('and', 1735),\n",
       " ('he', 1672),\n",
       " ('in', 1659),\n",
       " ('this', 1651),\n",
       " ('there', 1298)]"
      ]
     },
     "execution_count": 8,
     "metadata": {},
     "output_type": "execute_result"
    }
   ],
   "source": [
    "cfd[\"SS\"].most_common(10)"
   ]
  },
  {
   "cell_type": "code",
   "execution_count": 9,
   "id": "790eeee4",
   "metadata": {},
   "outputs": [
    {
     "data": {
      "text/plain": [
       "[('film', 4542),\n",
       " ('movie', 2147),\n",
       " ('story', 985),\n",
       " ('most', 945),\n",
       " ('first', 902),\n",
       " ('same', 774),\n",
       " ('only', 665),\n",
       " ('end', 664),\n",
       " ('best', 642),\n",
       " ('audience', 620)]"
      ]
     },
     "execution_count": 9,
     "metadata": {},
     "output_type": "execute_result"
    }
   ],
   "source": [
    "cfd[\"the\"].most_common(10)"
   ]
  },
  {
   "cell_type": "code",
   "execution_count": 10,
   "id": "91d5d303",
   "metadata": {},
   "outputs": [
    {
     "data": {
      "text/plain": [
       "[('.', 802),\n",
       " (',', 659),\n",
       " ('is', 469),\n",
       " (\"'\", 234),\n",
       " ('that', 210),\n",
       " ('was', 123),\n",
       " ('and', 105),\n",
       " ('with', 87),\n",
       " ('to', 72),\n",
       " ('has', 69)]"
      ]
     },
     "execution_count": 10,
     "metadata": {},
     "output_type": "execute_result"
    }
   ],
   "source": [
    "cfd[\"movie\"].most_common(10)"
   ]
  },
  {
   "cell_type": "code",
   "execution_count": 11,
   "id": "dd7787da",
   "metadata": {},
   "outputs": [
    {
     "data": {
      "text/plain": [
       "[('SE', 63404), ('\"', 1854), (')', 535), (\"'\", 70), (']', 10), (\"''\", 3)]"
      ]
     },
     "execution_count": 11,
     "metadata": {},
     "output_type": "execute_result"
    }
   ],
   "source": [
    "cfd[\".\"].most_common(10)"
   ]
  },
  {
   "cell_type": "code",
   "execution_count": 12,
   "id": "249db1df",
   "metadata": {},
   "outputs": [],
   "source": [
    "from nltk.probability import ConditionalProbDist, MLEProbDist\n",
    "cpd = ConditionalProbDist(cfd, MLEProbDist)"
   ]
  },
  {
   "cell_type": "code",
   "execution_count": 13,
   "id": "f2ac7a4a",
   "metadata": {},
   "outputs": [
    {
     "data": {
      "text/plain": [
       "0.0280547243528597"
      ]
     },
     "execution_count": 13,
     "metadata": {},
     "output_type": "execute_result"
    }
   ],
   "source": [
    "cpd['the'].prob('movie')"
   ]
  },
  {
   "cell_type": "code",
   "execution_count": 14,
   "id": "c11a2ad6",
   "metadata": {},
   "outputs": [
    {
     "data": {
      "text/plain": [
       "0.13897071564720154"
      ]
     },
     "execution_count": 14,
     "metadata": {},
     "output_type": "execute_result"
    }
   ],
   "source": [
    "cpd['movie'].prob('.')"
   ]
  },
  {
   "cell_type": "code",
   "execution_count": 15,
   "id": "deaf2601",
   "metadata": {},
   "outputs": [
    {
     "data": {
      "text/plain": [
       "0.0"
      ]
     },
     "execution_count": 15,
     "metadata": {},
     "output_type": "execute_result"
    }
   ],
   "source": [
    "cpd['.'].prob('the')"
   ]
  },
  {
   "cell_type": "code",
   "execution_count": 16,
   "id": "e869a2b6",
   "metadata": {},
   "outputs": [],
   "source": [
    "import numpy as np\n",
    "def s_sc_f(x): # 바이그램 언어 모형의 확률 연산 함수\n",
    "    p = 0.0\n",
    "    for i in range(len(x)-1):\n",
    "        c = x[i]\n",
    "        w = x[i+1]\n",
    "        p+=np.log(cpd[c].prob(w) + np.finfo(float).eps)\n",
    "    return np.exp(p)"
   ]
  },
  {
   "cell_type": "code",
   "execution_count": 17,
   "id": "daaee1ed",
   "metadata": {},
   "outputs": [
    {
     "data": {
      "text/plain": [
       "0.003898785120601922"
      ]
     },
     "execution_count": 17,
     "metadata": {},
     "output_type": "execute_result"
    }
   ],
   "source": [
    "test_data = ['the','movie','.'] # 실현 가능문장\n",
    "s_sc_f(test_data)"
   ]
  },
  {
   "cell_type": "code",
   "execution_count": 18,
   "id": "012dc92f",
   "metadata": {},
   "outputs": [
    {
     "data": {
      "text/plain": [
       "3.085769765203191e-17"
      ]
     },
     "execution_count": 18,
     "metadata": {},
     "output_type": "execute_result"
    }
   ],
   "source": [
    "test_data2 = ['movie','.','the'] # 실현 불가능문장\n",
    "s_sc_f(test_data2) # e-17 => 0.00000000000 .....~~~~거의 0에 가깝다."
   ]
  },
  {
   "cell_type": "code",
   "execution_count": 19,
   "id": "ca64bf26",
   "metadata": {},
   "outputs": [
    {
     "data": {
      "text/plain": [
       "'she'"
      ]
     },
     "execution_count": 19,
     "metadata": {},
     "output_type": "execute_result"
    }
   ],
   "source": [
    "import random\n",
    "random.seed(10)\n",
    "cpd['SS'].generate() # 임의의 값을 만들어낸다."
   ]
  },
  {
   "cell_type": "code",
   "execution_count": 20,
   "id": "c8ce92fd",
   "metadata": {},
   "outputs": [
    {
     "data": {
      "text/plain": [
       "'and'"
      ]
     },
     "execution_count": 20,
     "metadata": {},
     "output_type": "execute_result"
    }
   ],
   "source": [
    "cpd['she'].generate()"
   ]
  },
  {
   "cell_type": "code",
   "execution_count": 21,
   "id": "84f5a175",
   "metadata": {},
   "outputs": [
    {
     "data": {
      "text/plain": [
       "'fine'"
      ]
     },
     "execution_count": 21,
     "metadata": {},
     "output_type": "execute_result"
    }
   ],
   "source": [
    "cpd['and'].generate()"
   ]
  },
  {
   "cell_type": "code",
   "execution_count": 22,
   "id": "c943fbe5",
   "metadata": {},
   "outputs": [
    {
     "data": {
      "text/plain": [
       "'effect'"
      ]
     },
     "execution_count": 22,
     "metadata": {},
     "output_type": "execute_result"
    }
   ],
   "source": [
    "cpd['fine'].generate()"
   ]
  },
  {
   "cell_type": "code",
   "execution_count": 23,
   "id": "9f060dd5",
   "metadata": {},
   "outputs": [
    {
     "data": {
      "text/plain": [
       "';'"
      ]
     },
     "execution_count": 23,
     "metadata": {},
     "output_type": "execute_result"
    }
   ],
   "source": [
    "cpd['effect'].generate()"
   ]
  },
  {
   "cell_type": "markdown",
   "id": "e55b9b3e",
   "metadata": {},
   "source": [
    "data = ''\n",
    "data += 문자열\n",
    "''.join([]) # 연결연산"
   ]
  },
  {
   "cell_type": "markdown",
   "id": "736d82b5",
   "metadata": {},
   "source": [
    "문장의 생성 (조건부 확률을 기반한 바이그램 언어 모델)"
   ]
  },
  {
   "cell_type": "code",
   "execution_count": 24,
   "id": "24415e0a",
   "metadata": {},
   "outputs": [
    {
     "data": {
      "text/plain": [
       "\"she wasn ' s first part of these guys catch a hard 2 is . \""
      ]
     },
     "execution_count": 24,
     "metadata": {},
     "output_type": "execute_result"
    }
   ],
   "source": [
    "st = 'SS'\n",
    "all_str = []\n",
    "while True: # 언제끝날지 모르고 조건을 알때\n",
    "    import random\n",
    "    random.seed(10)\n",
    "    st = cpd[st].generate()\n",
    "    all_str.append(st+' ')\n",
    "    if st=='SE':\n",
    "        all_str.pop()\n",
    "        break\n",
    "''.join(all_str)"
   ]
  },
  {
   "cell_type": "code",
   "execution_count": 25,
   "id": "e661d627",
   "metadata": {},
   "outputs": [],
   "source": [
    "from nltk.util import ngrams # 앞단어와 뒷단어를 갖고 있는 data생성용\n",
    "from nltk import ConditionalFreqDist # 문맥별 단어 빈도수 측정 클래스\n",
    "from nltk.probability import ConditionalProbDist # 조건부 확률 추정 클래스\n",
    "from nltk.probability import MLEProbDist # 최대 우도 추정값 클래스"
   ]
  },
  {
   "cell_type": "markdown",
   "id": "c6ae78c6",
   "metadata": {},
   "source": [
    "MLEProbDist().generate # 샘플추출 (임의의 값을 추출)"
   ]
  },
  {
   "cell_type": "markdown",
   "id": "3d8ccfec",
   "metadata": {},
   "source": [
    "1. 데이터 수집"
   ]
  },
  {
   "cell_type": "code",
   "execution_count": 26,
   "id": "5154f7cf",
   "metadata": {},
   "outputs": [],
   "source": [
    "from nltk.corpus import movie_reviews\n",
    "data = movie_reviews.sents() # 단어별 토큰화 된 문장들"
   ]
  },
  {
   "cell_type": "markdown",
   "id": "99a30d6b",
   "metadata": {},
   "source": [
    "2. 데이터 전처리\n",
    "    - 토큰화\n",
    "    - 정형화\n",
    "    - 정규화"
   ]
  },
  {
   "cell_type": "code",
   "execution_count": 27,
   "id": "3399f212",
   "metadata": {},
   "outputs": [],
   "source": [
    "data_l=[] # 토큰화된 단어 조합.\n",
    "for 문장 in data:\n",
    "    bg = ngrams(문장,2,pad_left=True, pad_right=True,left_pad_symbol=\"SS\",right_pad_symbol=\"SE\")\n",
    "    data_l+=[t for t in bg]"
   ]
  },
  {
   "cell_type": "markdown",
   "id": "b53bbdf9",
   "metadata": {},
   "source": [
    "3. 모델 학습"
   ]
  },
  {
   "cell_type": "code",
   "execution_count": 28,
   "id": "78e7b2a6",
   "metadata": {},
   "outputs": [],
   "source": [
    "cfd = ConditionalFreqDist(data_l)\n",
    "cpd = ConditionalProbDist(cfd, MLEProbDist)"
   ]
  },
  {
   "cell_type": "markdown",
   "id": "a5567001",
   "metadata": {},
   "source": [
    "4. 검증(생략)"
   ]
  },
  {
   "cell_type": "markdown",
   "id": "8e045950",
   "metadata": {},
   "source": [
    "5. 최종동작\n",
    "    - data별 추가적 처리가 필요하다\n",
    "    - 자동 랜덤 문장 생성기"
   ]
  },
  {
   "cell_type": "code",
   "execution_count": 29,
   "id": "80676af4",
   "metadata": {},
   "outputs": [],
   "source": [
    "st = 'SS'\n",
    "all_str = []\n",
    "import random\n",
    "random.seed(10) # 시드고정으로 인한 데이터고정\n",
    "while True: # 언제끝날지 모르고 조건을 알때\n",
    "    st = cpd[st].generate() # 임의로 샘플 추출\n",
    "    all_str.append(st+' ') # 리스트로 기록\n",
    "    if st=='SE':\n",
    "        all_str.pop()\n",
    "        break\n",
    "생성된_data = ''.join(all_str) # 리스트의 내용을 이용하여 하나의 문자열로 정리"
   ]
  },
  {
   "cell_type": "code",
   "execution_count": 30,
   "id": "149d4d24",
   "metadata": {},
   "outputs": [
    {
     "data": {
      "text/plain": [
       "'she and fine effect ; frankly , and doing his son becomes shockingly lazy shortcut to her mother of \" story \" '"
      ]
     },
     "execution_count": 30,
     "metadata": {},
     "output_type": "execute_result"
    }
   ],
   "source": [
    "생성된_data"
   ]
  },
  {
   "cell_type": "code",
   "execution_count": null,
   "id": "b0de00ad",
   "metadata": {},
   "outputs": [],
   "source": []
  }
 ],
 "metadata": {
  "kernelspec": {
   "display_name": "Python 3 (ipykernel)",
   "language": "python",
   "name": "python3"
  },
  "language_info": {
   "codemirror_mode": {
    "name": "ipython",
    "version": 3
   },
   "file_extension": ".py",
   "mimetype": "text/x-python",
   "name": "python",
   "nbconvert_exporter": "python",
   "pygments_lexer": "ipython3",
   "version": "3.9.7"
  }
 },
 "nbformat": 4,
 "nbformat_minor": 5
}
