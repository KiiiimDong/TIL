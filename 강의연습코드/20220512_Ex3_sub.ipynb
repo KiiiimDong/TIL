{
 "cells": [
  {
   "cell_type": "markdown",
   "id": "014001f5",
   "metadata": {},
   "source": [
    "## 텍스트 기반의 다중 분류"
   ]
  },
  {
   "cell_type": "markdown",
   "id": "17a26772",
   "metadata": {},
   "source": [
    "환경로드"
   ]
  },
  {
   "cell_type": "code",
   "execution_count": 1,
   "id": "1543fffe",
   "metadata": {},
   "outputs": [],
   "source": [
    "from sklearn.datasets import fetch_20newsgroups # 데이터로드\n",
    "import pandas as pd\n",
    "from tensorflow.keras.preprocessing.text import Tokenizer # 토큰\n",
    "from tensorflow.keras.utils import to_categorical # 원핫인코딩 (정수형 범주를 입력해야한다.)\n",
    "from sklearn.model_selection import train_test_split\n",
    "import matplotlib.pyplot as plt\n",
    "from tensorflow.keras.models import Sequential\n",
    "from tensorflow.keras.layers import Dense, Dropout"
   ]
  },
  {
   "cell_type": "markdown",
   "id": "2db49f8c",
   "metadata": {},
   "source": [
    "data로드"
   ]
  },
  {
   "cell_type": "code",
   "execution_count": 2,
   "id": "a21c6318",
   "metadata": {},
   "outputs": [],
   "source": [
    "data = fetch_20newsgroups()\n",
    "X_data = data.data\n",
    "Y_data = data.target"
   ]
  },
  {
   "cell_type": "markdown",
   "id": "ffb58e97",
   "metadata": {},
   "source": [
    "data전처리"
   ]
  },
  {
   "cell_type": "code",
   "execution_count": 4,
   "id": "dcce4bf8",
   "metadata": {},
   "outputs": [],
   "source": [
    "tk = Tokenizer(num_words=10000)\n",
    "tk.fit_on_texts(X_data)\n",
    "X=tk.texts_to_matrix(X_data,mode='tfidf') # mode = [binary, count, tfidf]\n",
    "Y=to_categorical(Y_data)\n",
    "t_x,tt_x,t_y,tt_y=train_test_split(X,Y)"
   ]
  },
  {
   "cell_type": "markdown",
   "id": "0d757583",
   "metadata": {},
   "source": [
    "모델 생성 및 학습"
   ]
  },
  {
   "cell_type": "code",
   "execution_count": 5,
   "id": "6437d489",
   "metadata": {},
   "outputs": [
    {
     "name": "stdout",
     "output_type": "stream",
     "text": [
      "Epoch 1/10\n",
      "266/266 [==============================] - 5s 14ms/step - loss: 1.9516 - accuracy: 0.4469 - val_loss: 0.6172 - val_accuracy: 0.8586\n",
      "Epoch 2/10\n",
      "266/266 [==============================] - 3s 13ms/step - loss: 0.7615 - accuracy: 0.8075 - val_loss: 0.4445 - val_accuracy: 0.8904\n",
      "Epoch 3/10\n",
      "266/266 [==============================] - 3s 13ms/step - loss: 0.5588 - accuracy: 0.8899 - val_loss: 0.4184 - val_accuracy: 0.8894\n",
      "Epoch 4/10\n",
      "266/266 [==============================] - 3s 13ms/step - loss: 0.3381 - accuracy: 0.9305 - val_loss: 0.4183 - val_accuracy: 0.8982\n",
      "Epoch 5/10\n",
      "266/266 [==============================] - 3s 13ms/step - loss: 0.2550 - accuracy: 0.9454 - val_loss: 0.4334 - val_accuracy: 0.9017\n",
      "Epoch 6/10\n",
      "266/266 [==============================] - 3s 12ms/step - loss: 0.2231 - accuracy: 0.9610 - val_loss: 0.4232 - val_accuracy: 0.9060\n",
      "Epoch 7/10\n",
      "266/266 [==============================] - 3s 12ms/step - loss: 0.2027 - accuracy: 0.9617 - val_loss: 0.4513 - val_accuracy: 0.9003\n",
      "Epoch 8/10\n",
      "266/266 [==============================] - 3s 12ms/step - loss: 0.1613 - accuracy: 0.9694 - val_loss: 0.4769 - val_accuracy: 0.8954\n",
      "Epoch 9/10\n",
      "266/266 [==============================] - 3s 12ms/step - loss: 0.1537 - accuracy: 0.9705 - val_loss: 0.4606 - val_accuracy: 0.8978\n",
      "Epoch 10/10\n",
      "266/266 [==============================] - 3s 13ms/step - loss: 0.1438 - accuracy: 0.9754 - val_loss: 0.4918 - val_accuracy: 0.8996\n"
     ]
    }
   ],
   "source": [
    "m = Sequential()\n",
    "m.add(Dense(256,input_shape=(10000,),activation='relu'))\n",
    "m.add(Dropout(0.5))\n",
    "m.add(Dense(128,activation='relu'))\n",
    "m.add(Dropout(0.5))\n",
    "m.add(Dense(20,activation='softmax'))\n",
    "m.compile(optimizer='adam',loss='categorical_crossentropy',metrics=['accuracy'])\n",
    "hy = m.fit(t_x,t_y,epochs=10,validation_data=(tt_x,tt_y))"
   ]
  },
  {
   "cell_type": "markdown",
   "id": "76631209",
   "metadata": {},
   "source": [
    "결과 확인"
   ]
  },
  {
   "cell_type": "code",
   "execution_count": 6,
   "id": "0a6522a2",
   "metadata": {},
   "outputs": [
    {
     "data": {
      "text/plain": [
       "[<matplotlib.lines.Line2D at 0x1b01910fa60>]"
      ]
     },
     "execution_count": 6,
     "metadata": {},
     "output_type": "execute_result"
    },
    {
     "data": {
      "image/png": "[encoded data removed]",
      "text/plain": [
       "<Figure size 432x288 with 1 Axes>"
      ]
     },
     "metadata": {
      "needs_background": "light"
     },
     "output_type": "display_data"
    }
   ],
   "source": [
    "ec = range(1,len(hy.history['accuracy'])+1)\n",
    "plt.plot(ec,hy.history['loss'])\n",
    "plt.plot(ec,hy.history['val_loss'])"
   ]
  }
 ],
 "metadata": {
  "kernelspec": {
   "display_name": "Python 3 (ipykernel)",
   "language": "python",
   "name": "python3"
  },
  "language_info": {
   "codemirror_mode": {
    "name": "ipython",
    "version": 3
   },
   "file_extension": ".py",
   "mimetype": "text/x-python",
   "name": "python",
   "nbconvert_exporter": "python",
   "pygments_lexer": "ipython3",
   "version": "3.9.7"
  }
 },
 "nbformat": 4,
 "nbformat_minor": 5
}
