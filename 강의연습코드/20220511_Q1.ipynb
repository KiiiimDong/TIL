{
 "cells": [
  {
   "cell_type": "markdown",
   "id": "57d1e327",
   "metadata": {},
   "source": [
    "1. data로드를 통한 데이터 프레임 완성\n",
    "2. 한글에 맞게 형태소분석기를 이용한 단어 토큰화 작업후 TF-IDF를 계산\n",
    "3. 코사인 유사도 기반을 통한 영화 3종 추천"
   ]
  },
  {
   "cell_type": "markdown",
   "id": "8dcc1262",
   "metadata": {},
   "source": [
    "데이터 로드"
   ]
  },
  {
   "cell_type": "code",
   "execution_count": 1,
   "id": "4aa97056",
   "metadata": {},
   "outputs": [
    {
     "data": {
      "text/html": [
       "<div>\n",
       "<style scoped>\n",
       "    .dataframe tbody tr th:only-of-type {\n",
       "        vertical-align: middle;\n",
       "    }\n",
       "\n",
       "    .dataframe tbody tr th {\n",
       "        vertical-align: top;\n",
       "    }\n",
       "\n",
       "    .dataframe thead th {\n",
       "        text-align: right;\n",
       "    }\n",
       "</style>\n",
       "<table border=\"1\" class=\"dataframe\">\n",
       "  <thead>\n",
       "    <tr style=\"text-align: right;\">\n",
       "      <th></th>\n",
       "      <th>name</th>\n",
       "      <th>genre</th>\n",
       "      <th>content</th>\n",
       "    </tr>\n",
       "  </thead>\n",
       "  <tbody>\n",
       "    <tr>\n",
       "      <th>0</th>\n",
       "      <td>올드보이</td>\n",
       "      <td>스릴러</td>\n",
       "      <td>술 좋아하고 떠들기 좋아하는 오.대.수. 본인의 이름풀이를 오늘만 대충 수습하며 살...</td>\n",
       "    </tr>\n",
       "    <tr>\n",
       "      <th>1</th>\n",
       "      <td>노트북</td>\n",
       "      <td>로맨스</td>\n",
       "      <td>17살, ‘노아’는 밝고 순수한 ‘앨리’를 보고 첫눈에 반한다. 빠른 속도로 서로에...</td>\n",
       "    </tr>\n",
       "    <tr>\n",
       "      <th>2</th>\n",
       "      <td>미션임파서블</td>\n",
       "      <td>액션</td>\n",
       "      <td>도난당한 핵무기를 되찾아 오는 위험천만한 작전 중, 에단 헌트(톰 크루즈)는 임무를...</td>\n",
       "    </tr>\n",
       "    <tr>\n",
       "      <th>3</th>\n",
       "      <td>니모를찾아서</td>\n",
       "      <td>애니메이션</td>\n",
       "      <td>“디즈니`픽사 최고의 애니메이션이 3D로 다시 찾아온다!” 호기심 가득한 아기 물고...</td>\n",
       "    </tr>\n",
       "    <tr>\n",
       "      <th>4</th>\n",
       "      <td>탑건</td>\n",
       "      <td>액션</td>\n",
       "      <td>해군 최신 전투기 F-14기를 모는 젊은 조종사 매버릭 대위(톰 크루즈)는 최고의 ...</td>\n",
       "    </tr>\n",
       "    <tr>\n",
       "      <th>5</th>\n",
       "      <td>친절한금자씨</td>\n",
       "      <td>스릴러</td>\n",
       "      <td>주변 사람들의 시선을 단번에 사로잡을 만큼 뛰어난 미모의 소유자인 금자(이영애)는 ...</td>\n",
       "    </tr>\n",
       "    <tr>\n",
       "      <th>6</th>\n",
       "      <td>반지의제왕</td>\n",
       "      <td>판타지</td>\n",
       "      <td>모든 힘을 지배할 악의 군주 ‘사우론’의 절대반지가 깨어나고 악의 세력이 세상을 지...</td>\n",
       "    </tr>\n",
       "    <tr>\n",
       "      <th>7</th>\n",
       "      <td>신세계</td>\n",
       "      <td>범죄</td>\n",
       "      <td>경찰청 수사 기획과 강과장(최민식)은 국내 최대 범죄 조직인 '골드문'이 기업형 조...</td>\n",
       "    </tr>\n",
       "    <tr>\n",
       "      <th>8</th>\n",
       "      <td>아저씨</td>\n",
       "      <td>NaN</td>\n",
       "      <td>불행한 사건으로 아내를 잃고 세상을 등진 채 전당포를 꾸려가며 외롭게 살아가는 전직...</td>\n",
       "    </tr>\n",
       "    <tr>\n",
       "      <th>9</th>\n",
       "      <td>해리포터</td>\n",
       "      <td>NaN</td>\n",
       "      <td>해리 포터(다니엘 래드클리프 분)는 위압적인 버논 숙부(리챠드 그리피스 분)와 냉담...</td>\n",
       "    </tr>\n",
       "    <tr>\n",
       "      <th>10</th>\n",
       "      <td>장고</td>\n",
       "      <td>NaN</td>\n",
       "      <td>아내를 구해야 하는 분노의 로맨티스트 ‘장고’ 그를 돕는 정의의 바운티 헌터 ‘닥터...</td>\n",
       "    </tr>\n",
       "    <tr>\n",
       "      <th>11</th>\n",
       "      <td>어바웃 타임</td>\n",
       "      <td>NaN</td>\n",
       "      <td>모태솔로 팀(돔놀 글리슨)은 성인이 된 날, 아버지(빌 나이)로부터 놀랄만한 가문의...</td>\n",
       "    </tr>\n",
       "    <tr>\n",
       "      <th>12</th>\n",
       "      <td>스타트렉</td>\n",
       "      <td>NaN</td>\n",
       "      <td>위험한 미션들을 무사히 수행한 후 평화롭게 우주를 항해하던 거대 함선 엔터프라이즈호...</td>\n",
       "    </tr>\n",
       "    <tr>\n",
       "      <th>13</th>\n",
       "      <td>트랜스포머</td>\n",
       "      <td>NaN</td>\n",
       "      <td>옵티머스 프라임은 더 이상 인간의 편이 아니다. 트랜스포머의 고향 사이버트론의 재건...</td>\n",
       "    </tr>\n",
       "    <tr>\n",
       "      <th>14</th>\n",
       "      <td>지금만나러갑니다</td>\n",
       "      <td>NaN</td>\n",
       "      <td>비가 오는 날 다시 돌아오겠다는 믿기 힘든 약속을 남기고 세상을 떠난 ‘수아’. 그...</td>\n",
       "    </tr>\n",
       "    <tr>\n",
       "      <th>15</th>\n",
       "      <td>007 노타임투다이</td>\n",
       "      <td>액션</td>\n",
       "      <td>MI6를 떠난 이후 ‘매들린’(레아 세이두)과 평화로운 일상을 즐기던 ‘제임스 본드...</td>\n",
       "    </tr>\n",
       "    <tr>\n",
       "      <th>16</th>\n",
       "      <td>인터스텔라</td>\n",
       "      <td>NaN</td>\n",
       "      <td>세계 각국의 정부와 경제가 완전히 붕괴된 미래가 다가온다. 지난 20세기에 범한 잘...</td>\n",
       "    </tr>\n",
       "    <tr>\n",
       "      <th>17</th>\n",
       "      <td>스타워즈</td>\n",
       "      <td>NaN</td>\n",
       "      <td>더욱 강력해진 포스로 돌아온 ‘레이’는 전 우주를 어둠의 힘으로 지배하려는 ‘카일로...</td>\n",
       "    </tr>\n",
       "  </tbody>\n",
       "</table>\n",
       "</div>"
      ],
      "text/plain": [
       "          name  genre                                            content\n",
       "0         올드보이    스릴러  술 좋아하고 떠들기 좋아하는 오.대.수. 본인의 이름풀이를 오늘만 대충 수습하며 살...\n",
       "1          노트북    로맨스  17살, ‘노아’는 밝고 순수한 ‘앨리’를 보고 첫눈에 반한다. 빠른 속도로 서로에...\n",
       "2       미션임파서블     액션  도난당한 핵무기를 되찾아 오는 위험천만한 작전 중, 에단 헌트(톰 크루즈)는 임무를...\n",
       "3       니모를찾아서  애니메이션  “디즈니`픽사 최고의 애니메이션이 3D로 다시 찾아온다!” 호기심 가득한 아기 물고...\n",
       "4           탑건     액션  해군 최신 전투기 F-14기를 모는 젊은 조종사 매버릭 대위(톰 크루즈)는 최고의 ...\n",
       "5       친절한금자씨    스릴러  주변 사람들의 시선을 단번에 사로잡을 만큼 뛰어난 미모의 소유자인 금자(이영애)는 ...\n",
       "6        반지의제왕    판타지  모든 힘을 지배할 악의 군주 ‘사우론’의 절대반지가 깨어나고 악의 세력이 세상을 지...\n",
       "7          신세계     범죄  경찰청 수사 기획과 강과장(최민식)은 국내 최대 범죄 조직인 '골드문'이 기업형 조...\n",
       "8          아저씨    NaN  불행한 사건으로 아내를 잃고 세상을 등진 채 전당포를 꾸려가며 외롭게 살아가는 전직...\n",
       "9         해리포터    NaN  해리 포터(다니엘 래드클리프 분)는 위압적인 버논 숙부(리챠드 그리피스 분)와 냉담...\n",
       "10          장고    NaN  아내를 구해야 하는 분노의 로맨티스트 ‘장고’ 그를 돕는 정의의 바운티 헌터 ‘닥터...\n",
       "11      어바웃 타임    NaN  모태솔로 팀(돔놀 글리슨)은 성인이 된 날, 아버지(빌 나이)로부터 놀랄만한 가문의...\n",
       "12        스타트렉    NaN  위험한 미션들을 무사히 수행한 후 평화롭게 우주를 항해하던 거대 함선 엔터프라이즈호...\n",
       "13       트랜스포머    NaN  옵티머스 프라임은 더 이상 인간의 편이 아니다. 트랜스포머의 고향 사이버트론의 재건...\n",
       "14    지금만나러갑니다    NaN  비가 오는 날 다시 돌아오겠다는 믿기 힘든 약속을 남기고 세상을 떠난 ‘수아’. 그...\n",
       "15  007 노타임투다이     액션  MI6를 떠난 이후 ‘매들린’(레아 세이두)과 평화로운 일상을 즐기던 ‘제임스 본드...\n",
       "16       인터스텔라    NaN  세계 각국의 정부와 경제가 완전히 붕괴된 미래가 다가온다. 지난 20세기에 범한 잘...\n",
       "17        스타워즈    NaN  더욱 강력해진 포스로 돌아온 ‘레이’는 전 우주를 어둠의 힘으로 지배하려는 ‘카일로..."
      ]
     },
     "execution_count": 1,
     "metadata": {},
     "output_type": "execute_result"
    }
   ],
   "source": [
    "import pandas as pd\n",
    "data = pd.read_csv('20220511_data2.csv',low_memory=False)\n",
    "data"
   ]
  },
  {
   "cell_type": "markdown",
   "id": "a834ab1e",
   "metadata": {},
   "source": [
    "형태소분석기 이용"
   ]
  },
  {
   "cell_type": "code",
   "execution_count": 2,
   "id": "795c9aef",
   "metadata": {},
   "outputs": [
    {
     "data": {
      "text/plain": [
       "str"
      ]
     },
     "execution_count": 2,
     "metadata": {},
     "output_type": "execute_result"
    }
   ],
   "source": [
    "from konlpy.tag import Okt\n",
    "tw = Okt()\n",
    "data_l = [''.join(tw.morphs(i)) for i in data['content']]\n",
    "type(data_l[0])"
   ]
  },
  {
   "cell_type": "markdown",
   "id": "fd37bfea",
   "metadata": {},
   "source": [
    "TF-IDF"
   ]
  },
  {
   "cell_type": "code",
   "execution_count": 3,
   "id": "58b3aa03",
   "metadata": {},
   "outputs": [
    {
     "data": {
      "text/plain": [
       "{'올드보이': 0,\n",
       " '노트북': 1,\n",
       " '미션임파서블': 2,\n",
       " '니모를찾아서': 3,\n",
       " '탑건': 4,\n",
       " '친절한금자씨': 5,\n",
       " '반지의제왕': 6,\n",
       " '신세계': 7,\n",
       " '아저씨': 8,\n",
       " '해리포터': 9,\n",
       " '장고': 10,\n",
       " '어바웃 타임': 11,\n",
       " '스타트렉': 12,\n",
       " '트랜스포머': 13,\n",
       " '지금만나러갑니다': 14,\n",
       " '007 노타임투다이': 15,\n",
       " '인터스텔라': 16,\n",
       " '스타워즈': 17}"
      ]
     },
     "execution_count": 3,
     "metadata": {},
     "output_type": "execute_result"
    }
   ],
   "source": [
    "from sklearn.feature_extraction.text import TfidfVectorizer\n",
    "tfidf = TfidfVectorizer()\n",
    "tfidf_t = tfidf.fit_transform(data_l)\n",
    "t_idx = dict(zip(data['name'],data.index))\n",
    "t_idx"
   ]
  },
  {
   "cell_type": "markdown",
   "id": "8e05862c",
   "metadata": {},
   "source": [
    "코사인 유사도, 맨하튼 거리, 유클리드 거리"
   ]
  },
  {
   "cell_type": "code",
   "execution_count": 4,
   "id": "babb4ec4",
   "metadata": {},
   "outputs": [],
   "source": [
    "from sklearn.metrics.pairwise import cosine_similarity\n",
    "from sklearn.metrics.pairwise import manhattan_distances\n",
    "from sklearn.metrics import euclidean_distances\n",
    "cos = cosine_similarity(tfidf_t,tfidf_t) # 숫자(점수)가 높으면 유사도도 높다.\n",
    "c1=manhattan_distances(tfidf_t,tfidf_t)# 숫자(거리)가 높으면 유사도는 낮다\n",
    "c2=euclidean_distances(tfidf_t,tfidf_t)"
   ]
  },
  {
   "cell_type": "code",
   "execution_count": 5,
   "id": "379818c6",
   "metadata": {},
   "outputs": [],
   "source": [
    "t_idx=dict(zip(data['name'],data.index))\n",
    "def ck_s_t(t,cosine_sim=cos,k=0):\n",
    "    idx=t_idx[t]\n",
    "    c_sc=list(enumerate(cosine_sim[idx]))\n",
    "    if k==0:\n",
    "        c_sc=sorted(c_sc,key=lambda x:x[1],reverse=True)#내림차순 정렬\n",
    "    else:\n",
    "        c_sc=sorted(c_sc,key=lambda x:x[1])\n",
    "    m_i=c_sc[1:4]\n",
    "    m_idx=[i[0] for i in m_i]\n",
    "    return data['name'].iloc[m_idx]"
   ]
  },
  {
   "cell_type": "code",
   "execution_count": 6,
   "id": "4698adc5",
   "metadata": {},
   "outputs": [
    {
     "data": {
      "text/plain": [
       "6     반지의제왕\n",
       "1       노트북\n",
       "2    미션임파서블\n",
       "Name: name, dtype: object"
      ]
     },
     "execution_count": 6,
     "metadata": {},
     "output_type": "execute_result"
    }
   ],
   "source": [
    "ck_s_t('올드보이',k=0) "
   ]
  },
  {
   "cell_type": "code",
   "execution_count": 7,
   "id": "0011016c",
   "metadata": {},
   "outputs": [
    {
     "data": {
      "text/plain": [
       "13    트랜스포머\n",
       "8       아저씨\n",
       "16    인터스텔라\n",
       "Name: name, dtype: object"
      ]
     },
     "execution_count": 7,
     "metadata": {},
     "output_type": "execute_result"
    }
   ],
   "source": [
    "ck_s_t('올드보이',c1,k=1)"
   ]
  },
  {
   "cell_type": "code",
   "execution_count": 8,
   "id": "9dd892ef",
   "metadata": {},
   "outputs": [
    {
     "data": {
      "text/plain": [
       "6     반지의제왕\n",
       "7       신세계\n",
       "3    니모를찾아서\n",
       "Name: name, dtype: object"
      ]
     },
     "execution_count": 8,
     "metadata": {},
     "output_type": "execute_result"
    }
   ],
   "source": [
    "ck_s_t('올드보이',c2,k=1) "
   ]
  }
 ],
 "metadata": {
  "kernelspec": {
   "display_name": "Python 3 (ipykernel)",
   "language": "python",
   "name": "python3"
  },
  "language_info": {
   "codemirror_mode": {
    "name": "ipython",
    "version": 3
   },
   "file_extension": ".py",
   "mimetype": "text/x-python",
   "name": "python",
   "nbconvert_exporter": "python",
   "pygments_lexer": "ipython3",
   "version": "3.9.7"
  }
 },
 "nbformat": 4,
 "nbformat_minor": 5
}
