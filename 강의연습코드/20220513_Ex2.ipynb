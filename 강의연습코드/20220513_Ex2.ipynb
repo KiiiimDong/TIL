{
 "cells": [
  {
   "cell_type": "code",
   "execution_count": 11,
   "id": "94a97cb2",
   "metadata": {},
   "outputs": [],
   "source": [
    "#d = open('k_stop_w.txt','r',encoding='utf-8').read()\n",
    "#d.split('\\n')"
   ]
  },
  {
   "cell_type": "code",
   "execution_count": 2,
   "id": "724b5663",
   "metadata": {},
   "outputs": [
    {
     "data": {
      "text/plain": [
       "['id', 'document', 'label']"
      ]
     },
     "execution_count": 2,
     "metadata": {},
     "output_type": "execute_result"
    }
   ],
   "source": [
    "import codecs\n",
    "import pandas as pd\n",
    "with codecs.open('ratings_test.txt',encoding='utf-8') as f:\n",
    "    data = [i.split('\\t') for i in f.read().splitlines()]\n",
    "    m = data[0]\n",
    "    data = data[1:]\n",
    "#data\n",
    "m"
   ]
  },
  {
   "cell_type": "code",
   "execution_count": 3,
   "id": "f4d8b397",
   "metadata": {},
   "outputs": [],
   "source": [
    "#str_data = ['안 녕 하 세 요1023'].str.replace('[^ㄱ-ㅎ ㅏ-ㅣ 가-힣]','') # 가-힣 까지가 한글.\n",
    "#w.replace('[^]')\n",
    "#str_data"
   ]
  },
  {
   "cell_type": "code",
   "execution_count": 4,
   "id": "bf93b063",
   "metadata": {},
   "outputs": [
    {
     "data": {
      "text/html": [
       "<div>\n",
       "<style scoped>\n",
       "    .dataframe tbody tr th:only-of-type {\n",
       "        vertical-align: middle;\n",
       "    }\n",
       "\n",
       "    .dataframe tbody tr th {\n",
       "        vertical-align: top;\n",
       "    }\n",
       "\n",
       "    .dataframe thead th {\n",
       "        text-align: right;\n",
       "    }\n",
       "</style>\n",
       "<table border=\"1\" class=\"dataframe\">\n",
       "  <thead>\n",
       "    <tr style=\"text-align: right;\">\n",
       "      <th></th>\n",
       "      <th>id</th>\n",
       "      <th>document</th>\n",
       "      <th>label</th>\n",
       "    </tr>\n",
       "  </thead>\n",
       "  <tbody>\n",
       "    <tr>\n",
       "      <th>0</th>\n",
       "      <td>6270596</td>\n",
       "      <td>굳 ㅋ</td>\n",
       "      <td>1</td>\n",
       "    </tr>\n",
       "    <tr>\n",
       "      <th>1</th>\n",
       "      <td>9274899</td>\n",
       "      <td>GDNTOPCLASSINTHECLUB</td>\n",
       "      <td>0</td>\n",
       "    </tr>\n",
       "    <tr>\n",
       "      <th>2</th>\n",
       "      <td>8544678</td>\n",
       "      <td>뭐야 이 평점들은.... 나쁘진 않지만 10점 짜리는 더더욱 아니잖아</td>\n",
       "      <td>0</td>\n",
       "    </tr>\n",
       "    <tr>\n",
       "      <th>3</th>\n",
       "      <td>6825595</td>\n",
       "      <td>지루하지는 않은데 완전 막장임... 돈주고 보기에는....</td>\n",
       "      <td>0</td>\n",
       "    </tr>\n",
       "    <tr>\n",
       "      <th>4</th>\n",
       "      <td>6723715</td>\n",
       "      <td>3D만 아니었어도 별 다섯 개 줬을텐데.. 왜 3D로 나와서 제 심기를 불편하게 하죠??</td>\n",
       "      <td>0</td>\n",
       "    </tr>\n",
       "    <tr>\n",
       "      <th>...</th>\n",
       "      <td>...</td>\n",
       "      <td>...</td>\n",
       "      <td>...</td>\n",
       "    </tr>\n",
       "    <tr>\n",
       "      <th>49995</th>\n",
       "      <td>4608761</td>\n",
       "      <td>오랜만에 평점 로긴했네ㅋㅋ 킹왕짱 쌈뽕한 영화를 만났습니다 강렬하게 육쾌함</td>\n",
       "      <td>1</td>\n",
       "    </tr>\n",
       "    <tr>\n",
       "      <th>49996</th>\n",
       "      <td>5308387</td>\n",
       "      <td>의지 박약들이나 하는거다 탈영은 일단 주인공 김대희 닮았고 이등병 찐따 OOOO</td>\n",
       "      <td>0</td>\n",
       "    </tr>\n",
       "    <tr>\n",
       "      <th>49997</th>\n",
       "      <td>9072549</td>\n",
       "      <td>그림도 좋고 완성도도 높았지만... 보는 내내 불안하게 만든다</td>\n",
       "      <td>0</td>\n",
       "    </tr>\n",
       "    <tr>\n",
       "      <th>49998</th>\n",
       "      <td>5802125</td>\n",
       "      <td>절대 봐서는 안 될 영화.. 재미도 없고 기분만 잡치고.. 한 세트장에서 다 해먹네</td>\n",
       "      <td>0</td>\n",
       "    </tr>\n",
       "    <tr>\n",
       "      <th>49999</th>\n",
       "      <td>6070594</td>\n",
       "      <td>마무리는 또 왜이래</td>\n",
       "      <td>0</td>\n",
       "    </tr>\n",
       "  </tbody>\n",
       "</table>\n",
       "<p>50000 rows × 3 columns</p>\n",
       "</div>"
      ],
      "text/plain": [
       "            id                                           document label\n",
       "0      6270596                                                굳 ㅋ     1\n",
       "1      9274899                               GDNTOPCLASSINTHECLUB     0\n",
       "2      8544678             뭐야 이 평점들은.... 나쁘진 않지만 10점 짜리는 더더욱 아니잖아     0\n",
       "3      6825595                   지루하지는 않은데 완전 막장임... 돈주고 보기에는....     0\n",
       "4      6723715  3D만 아니었어도 별 다섯 개 줬을텐데.. 왜 3D로 나와서 제 심기를 불편하게 하죠??     0\n",
       "...        ...                                                ...   ...\n",
       "49995  4608761          오랜만에 평점 로긴했네ㅋㅋ 킹왕짱 쌈뽕한 영화를 만났습니다 강렬하게 육쾌함     1\n",
       "49996  5308387       의지 박약들이나 하는거다 탈영은 일단 주인공 김대희 닮았고 이등병 찐따 OOOO     0\n",
       "49997  9072549                 그림도 좋고 완성도도 높았지만... 보는 내내 불안하게 만든다     0\n",
       "49998  5802125     절대 봐서는 안 될 영화.. 재미도 없고 기분만 잡치고.. 한 세트장에서 다 해먹네     0\n",
       "49999  6070594                                         마무리는 또 왜이래     0\n",
       "\n",
       "[50000 rows x 3 columns]"
      ]
     },
     "execution_count": 4,
     "metadata": {},
     "output_type": "execute_result"
    }
   ],
   "source": [
    "p_data = pd.DataFrame(data,columns=m)\n",
    "p_data"
   ]
  },
  {
   "cell_type": "markdown",
   "id": "7bff477c",
   "metadata": {},
   "source": [
    "1. 토큰화(이 데이터는 한줄이라 단어토큰화 하면된다.) (피처정리)\n",
    "2. 데이터 전처리\n",
    "3. 모델 생성 및 학습\n",
    "4. 그래프 표현"
   ]
  },
  {
   "cell_type": "code",
   "execution_count": 5,
   "id": "c0654aa4",
   "metadata": {},
   "outputs": [],
   "source": [
    "from tensorflow.keras.preprocessing.text import Tokenizer # 토큰\n",
    "from sklearn.model_selection import train_test_split\n",
    "import matplotlib.pyplot as plt\n",
    "from tensorflow.keras.models import Sequential\n",
    "from tensorflow.keras.layers import Dense, Dropout\n",
    "from tensorflow.keras.utils import to_categorical"
   ]
  },
  {
   "cell_type": "code",
   "execution_count": 6,
   "id": "64514175",
   "metadata": {},
   "outputs": [
    {
     "data": {
      "text/plain": [
       "(array(['굳 ㅋ', 'GDNTOPCLASSINTHECLUB',\n",
       "        '뭐야 이 평점들은.... 나쁘진 않지만 10점 짜리는 더더욱 아니잖아', ...,\n",
       "        '그림도 좋고 완성도도 높았지만... 보는 내내 불안하게 만든다',\n",
       "        '절대 봐서는 안 될 영화.. 재미도 없고 기분만 잡치고.. 한 세트장에서 다 해먹네', '마무리는 또 왜이래'],\n",
       "       dtype=object),\n",
       " array(['1', '0', '0', ..., '0', '0', '0'], dtype=object))"
      ]
     },
     "execution_count": 6,
     "metadata": {},
     "output_type": "execute_result"
    }
   ],
   "source": [
    "X_data = p_data['document'].values\n",
    "Y_data = p_data['label'].values\n",
    "X_data,Y_data"
   ]
  },
  {
   "cell_type": "code",
   "execution_count": 7,
   "id": "f3ec299c",
   "metadata": {},
   "outputs": [],
   "source": [
    "from konlpy.tag import Okt\n",
    "okt = Okt()\n",
    "data_l = [''.join(okt.morphs(i)) for i in X_data]"
   ]
  },
  {
   "cell_type": "code",
   "execution_count": 8,
   "id": "35fcdd94",
   "metadata": {},
   "outputs": [
    {
     "data": {
      "text/plain": [
       "((50000, 5000), (50000, 2))"
      ]
     },
     "execution_count": 8,
     "metadata": {},
     "output_type": "execute_result"
    }
   ],
   "source": [
    "tk = Tokenizer(num_words=5000)\n",
    "tk.fit_on_texts(data_l)\n",
    "X=tk.texts_to_matrix(data_l,mode='tfidf') # mode = [binary, count, tfidf]\n",
    "Y=to_categorical(Y_data)\n",
    "t_x,tt_x,t_y,tt_y=train_test_split(X,Y)\n",
    "X.shape,Y.shape"
   ]
  },
  {
   "cell_type": "code",
   "execution_count": 9,
   "id": "464a1f8f",
   "metadata": {},
   "outputs": [
    {
     "name": "stdout",
     "output_type": "stream",
     "text": [
      "Epoch 1/10\n",
      "1172/1172 [==============================] - 9s 8ms/step - loss: 0.6637 - accuracy: 0.5428 - val_loss: 0.6421 - val_accuracy: 0.5602\n",
      "Epoch 2/10\n",
      "1172/1172 [==============================] - 8s 7ms/step - loss: 0.6091 - accuracy: 0.5829 - val_loss: 0.6435 - val_accuracy: 0.5643\n",
      "Epoch 3/10\n",
      "1172/1172 [==============================] - 8s 7ms/step - loss: 0.5920 - accuracy: 0.5892 - val_loss: 0.6465 - val_accuracy: 0.5618\n",
      "Epoch 4/10\n",
      "1172/1172 [==============================] - 8s 7ms/step - loss: 0.5873 - accuracy: 0.5875 - val_loss: 0.6484 - val_accuracy: 0.5606\n",
      "Epoch 5/10\n",
      "1172/1172 [==============================] - 8s 7ms/step - loss: 0.5827 - accuracy: 0.5920 - val_loss: 0.6559 - val_accuracy: 0.5654\n",
      "Epoch 6/10\n",
      "1172/1172 [==============================] - 8s 7ms/step - loss: 0.5808 - accuracy: 0.5939 - val_loss: 0.6522 - val_accuracy: 0.5604\n",
      "Epoch 7/10\n",
      "1172/1172 [==============================] - 8s 7ms/step - loss: 0.5810 - accuracy: 0.5930 - val_loss: 0.6600 - val_accuracy: 0.5648\n",
      "Epoch 8/10\n",
      "1172/1172 [==============================] - 8s 7ms/step - loss: 0.5791 - accuracy: 0.5951 - val_loss: 0.6584 - val_accuracy: 0.5663\n",
      "Epoch 9/10\n",
      "1172/1172 [==============================] - 8s 7ms/step - loss: 0.5782 - accuracy: 0.5904 - val_loss: 0.6646 - val_accuracy: 0.5662\n",
      "Epoch 10/10\n",
      "1172/1172 [==============================] - 8s 7ms/step - loss: 0.5778 - accuracy: 0.5932 - val_loss: 0.6670 - val_accuracy: 0.5634\n"
     ]
    }
   ],
   "source": [
    "m = Sequential()\n",
    "m.add(Dense(256,input_shape=(5000,),activation='relu'))\n",
    "m.add(Dropout(0.5))\n",
    "m.add(Dense(128,activation='relu'))\n",
    "m.add(Dropout(0.5))\n",
    "m.add(Dense(2,activation='sigmoid'))\n",
    "m.compile(optimizer='adam',loss='binary_crossentropy',metrics=['accuracy'])\n",
    "hy = m.fit(t_x,t_y,epochs=10,validation_data=(tt_x,tt_y))"
   ]
  },
  {
   "cell_type": "code",
   "execution_count": 10,
   "id": "c46baff4",
   "metadata": {},
   "outputs": [
    {
     "data": {
      "text/plain": [
       "[<matplotlib.lines.Line2D at 0x1bd3f60a6a0>]"
      ]
     },
     "execution_count": 10,
     "metadata": {},
     "output_type": "execute_result"
    },
    {
     "data": {
      "image/png": "[encoded data removed]",
      "text/plain": [
       "<Figure size 432x288 with 1 Axes>"
      ]
     },
     "metadata": {
      "needs_background": "light"
     },
     "output_type": "display_data"
    }
   ],
   "source": [
    "ec = range(1,len(hy.history['accuracy'])+1)\n",
    "plt.plot(ec,hy.history['loss'])\n",
    "plt.plot(ec,hy.history['val_loss'])"
   ]
  }
 ],
 "metadata": {
  "kernelspec": {
   "display_name": "Python 3 (ipykernel)",
   "language": "python",
   "name": "python3"
  },
  "language_info": {
   "codemirror_mode": {
    "name": "ipython",
    "version": 3
   },
   "file_extension": ".py",
   "mimetype": "text/x-python",
   "name": "python",
   "nbconvert_exporter": "python",
   "pygments_lexer": "ipython3",
   "version": "3.9.7"
  }
 },
 "nbformat": 4,
 "nbformat_minor": 5
}
