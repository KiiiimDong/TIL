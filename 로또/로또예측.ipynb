{
 "cells": [
  {
   "cell_type": "code",
   "execution_count": 55,
   "id": "188162e2",
   "metadata": {},
   "outputs": [],
   "source": [
    "import pandas as pd"
   ]
  },
  {
   "cell_type": "code",
   "execution_count": 56,
   "id": "635079c5",
   "metadata": {},
   "outputs": [],
   "source": [
    "data = pd.read_excel('lotto_data.xlsx')"
   ]
  },
  {
   "cell_type": "code",
   "execution_count": 57,
   "id": "81f5051d",
   "metadata": {},
   "outputs": [
    {
     "data": {
      "text/html": [
       "<div>\n",
       "<style scoped>\n",
       "    .dataframe tbody tr th:only-of-type {\n",
       "        vertical-align: middle;\n",
       "    }\n",
       "\n",
       "    .dataframe tbody tr th {\n",
       "        vertical-align: top;\n",
       "    }\n",
       "\n",
       "    .dataframe thead th {\n",
       "        text-align: right;\n",
       "    }\n",
       "</style>\n",
       "<table border=\"1\" class=\"dataframe\">\n",
       "  <thead>\n",
       "    <tr style=\"text-align: right;\">\n",
       "      <th></th>\n",
       "      <th>번호1</th>\n",
       "      <th>번호2</th>\n",
       "      <th>번호3</th>\n",
       "      <th>번호4</th>\n",
       "      <th>번호5</th>\n",
       "      <th>번호6</th>\n",
       "    </tr>\n",
       "  </thead>\n",
       "  <tbody>\n",
       "    <tr>\n",
       "      <th>0</th>\n",
       "      <td>12</td>\n",
       "      <td>30</td>\n",
       "      <td>32</td>\n",
       "      <td>37</td>\n",
       "      <td>39</td>\n",
       "      <td>41</td>\n",
       "    </tr>\n",
       "    <tr>\n",
       "      <th>1</th>\n",
       "      <td>5</td>\n",
       "      <td>7</td>\n",
       "      <td>12</td>\n",
       "      <td>13</td>\n",
       "      <td>18</td>\n",
       "      <td>35</td>\n",
       "    </tr>\n",
       "    <tr>\n",
       "      <th>2</th>\n",
       "      <td>14</td>\n",
       "      <td>16</td>\n",
       "      <td>27</td>\n",
       "      <td>35</td>\n",
       "      <td>39</td>\n",
       "      <td>45</td>\n",
       "    </tr>\n",
       "    <tr>\n",
       "      <th>3</th>\n",
       "      <td>5</td>\n",
       "      <td>12</td>\n",
       "      <td>13</td>\n",
       "      <td>31</td>\n",
       "      <td>32</td>\n",
       "      <td>41</td>\n",
       "    </tr>\n",
       "    <tr>\n",
       "      <th>4</th>\n",
       "      <td>8</td>\n",
       "      <td>9</td>\n",
       "      <td>20</td>\n",
       "      <td>25</td>\n",
       "      <td>29</td>\n",
       "      <td>33</td>\n",
       "    </tr>\n",
       "    <tr>\n",
       "      <th>5</th>\n",
       "      <td>9</td>\n",
       "      <td>18</td>\n",
       "      <td>20</td>\n",
       "      <td>22</td>\n",
       "      <td>38</td>\n",
       "      <td>44</td>\n",
       "    </tr>\n",
       "    <tr>\n",
       "      <th>6</th>\n",
       "      <td>10</td>\n",
       "      <td>14</td>\n",
       "      <td>16</td>\n",
       "      <td>18</td>\n",
       "      <td>29</td>\n",
       "      <td>35</td>\n",
       "    </tr>\n",
       "    <tr>\n",
       "      <th>7</th>\n",
       "      <td>5</td>\n",
       "      <td>6</td>\n",
       "      <td>11</td>\n",
       "      <td>29</td>\n",
       "      <td>42</td>\n",
       "      <td>45</td>\n",
       "    </tr>\n",
       "    <tr>\n",
       "      <th>8</th>\n",
       "      <td>12</td>\n",
       "      <td>15</td>\n",
       "      <td>17</td>\n",
       "      <td>24</td>\n",
       "      <td>29</td>\n",
       "      <td>45</td>\n",
       "    </tr>\n",
       "    <tr>\n",
       "      <th>9</th>\n",
       "      <td>12</td>\n",
       "      <td>27</td>\n",
       "      <td>29</td>\n",
       "      <td>38</td>\n",
       "      <td>41</td>\n",
       "      <td>45</td>\n",
       "    </tr>\n",
       "  </tbody>\n",
       "</table>\n",
       "</div>"
      ],
      "text/plain": [
       "   번호1  번호2  번호3  번호4  번호5  번호6\n",
       "0   12   30   32   37   39   41\n",
       "1    5    7   12   13   18   35\n",
       "2   14   16   27   35   39   45\n",
       "3    5   12   13   31   32   41\n",
       "4    8    9   20   25   29   33\n",
       "5    9   18   20   22   38   44\n",
       "6   10   14   16   18   29   35\n",
       "7    5    6   11   29   42   45\n",
       "8   12   15   17   24   29   45\n",
       "9   12   27   29   38   41   45"
      ]
     },
     "execution_count": 57,
     "metadata": {},
     "output_type": "execute_result"
    }
   ],
   "source": [
    "data"
   ]
  },
  {
   "cell_type": "code",
   "execution_count": 58,
   "id": "331783e7",
   "metadata": {},
   "outputs": [
    {
     "data": {
      "text/plain": [
       "60"
      ]
     },
     "execution_count": 58,
     "metadata": {},
     "output_type": "execute_result"
    }
   ],
   "source": [
    "lotto_list = []\n",
    "for i in range(1,7):\n",
    "    for  j in range(0,10):\n",
    "        lotto_list.append(data[f'번호{i}'][j])\n",
    "len(lotto_list)"
   ]
  },
  {
   "cell_type": "code",
   "execution_count": 59,
   "id": "4acb6c2c",
   "metadata": {},
   "outputs": [
    {
     "data": {
      "text/plain": [
       "[12, 30, 32, 37, 39, 41]"
      ]
     },
     "execution_count": 59,
     "metadata": {},
     "output_type": "execute_result"
    }
   ],
   "source": [
    "previous_list = []\n",
    "for i in range(1,7):\n",
    "    previous_list.append(data[f'번호{i}'][0])\n",
    "previous_list"
   ]
  },
  {
   "cell_type": "code",
   "execution_count": 60,
   "id": "f9d76466",
   "metadata": {},
   "outputs": [
    {
     "data": {
      "text/plain": [
       "[(12, 5), (29, 5), (45, 4), (5, 3), (18, 3), (35, 3)]"
      ]
     },
     "execution_count": 60,
     "metadata": {},
     "output_type": "execute_result"
    }
   ],
   "source": [
    "from collections import Counter\n",
    "cnt = Counter(lotto_list)\n",
    "cnt.most_common()[0:6]"
   ]
  },
  {
   "cell_type": "code",
   "execution_count": 61,
   "id": "b9ef5d94",
   "metadata": {},
   "outputs": [
    {
     "data": {
      "text/plain": [
       "(29, 12, 45, 5, 18, 35)"
      ]
     },
     "execution_count": 61,
     "metadata": {},
     "output_type": "execute_result"
    }
   ],
   "source": [
    "29,12,45,5,18,35"
   ]
  },
  {
   "cell_type": "code",
   "execution_count": 62,
   "id": "537793c4",
   "metadata": {},
   "outputs": [
    {
     "data": {
      "text/plain": [
       "[5, 1, 2, 1, 2, 3]"
      ]
     },
     "execution_count": 62,
     "metadata": {},
     "output_type": "execute_result"
    }
   ],
   "source": [
    "previous_consider=[]\n",
    "count = [0]*6\n",
    "for i in range(0,6):\n",
    "    for j in range(len(lotto_list)):\n",
    "        if previous_list[i] == lotto_list[j]:\n",
    "            count[i] += 1\n",
    "count"
   ]
  },
  {
   "cell_type": "code",
   "execution_count": 63,
   "id": "5b97cc1c",
   "metadata": {},
   "outputs": [
    {
     "data": {
      "text/plain": [
       "(12, 30, 32, 37, 39, 41)"
      ]
     },
     "execution_count": 63,
     "metadata": {},
     "output_type": "execute_result"
    }
   ],
   "source": [
    "12,30,32,37,39,41"
   ]
  },
  {
   "cell_type": "code",
   "execution_count": 64,
   "id": "58331fc1",
   "metadata": {},
   "outputs": [
    {
     "data": {
      "text/plain": [
       "[(12, 5),\n",
       " (29, 5),\n",
       " (45, 4),\n",
       " (5, 3),\n",
       " (18, 3),\n",
       " (35, 3),\n",
       " (41, 3),\n",
       " (14, 2),\n",
       " (9, 2),\n",
       " (16, 2),\n",
       " (27, 2),\n",
       " (32, 2),\n",
       " (13, 2),\n",
       " (20, 2),\n",
       " (38, 2),\n",
       " (39, 2),\n",
       " (8, 1),\n",
       " (10, 1),\n",
       " (30, 1),\n",
       " (7, 1),\n",
       " (6, 1),\n",
       " (15, 1),\n",
       " (11, 1),\n",
       " (17, 1),\n",
       " (37, 1),\n",
       " (31, 1),\n",
       " (25, 1),\n",
       " (22, 1),\n",
       " (24, 1),\n",
       " (42, 1),\n",
       " (33, 1),\n",
       " (44, 1)]"
      ]
     },
     "execution_count": 64,
     "metadata": {},
     "output_type": "execute_result"
    }
   ],
   "source": [
    "cnt.most_common()"
   ]
  },
  {
   "cell_type": "code",
   "execution_count": null,
   "id": "e27f4759",
   "metadata": {},
   "outputs": [],
   "source": []
  },
  {
   "cell_type": "code",
   "execution_count": null,
   "id": "4872b4a2",
   "metadata": {},
   "outputs": [],
   "source": []
  }
 ],
 "metadata": {
  "kernelspec": {
   "display_name": "Python 3",
   "language": "python",
   "name": "python3"
  },
  "language_info": {
   "codemirror_mode": {
    "name": "ipython",
    "version": 3
   },
   "file_extension": ".py",
   "mimetype": "text/x-python",
   "name": "python",
   "nbconvert_exporter": "python",
   "pygments_lexer": "ipython3",
   "version": "3.9.7"
  }
 },
 "nbformat": 4,
 "nbformat_minor": 5
}
