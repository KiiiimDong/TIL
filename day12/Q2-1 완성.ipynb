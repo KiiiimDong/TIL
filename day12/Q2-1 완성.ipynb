{
 "cells": [
  {
   "cell_type": "code",
   "execution_count": 1,
   "id": "f6fd49a8",
   "metadata": {},
   "outputs": [],
   "source": [
    "import numpy as np #data계산을 위한 모듈\n",
    "import pandas as pd #data 로드를 위한 모듈\n",
    "from sklearn.model_selection import train_test_split #학습 data와 태스트 data 분할 모듈\n",
    "from sklearn.preprocessing import PolynomialFeatures #피처 증가를 위한 모듈\n",
    "from sklearn.linear_model import LinearRegression ,Lasso, Ridge,SGDRegressor #선형 회기 모델 모듈\n",
    "from sklearn.preprocessing import StandardScaler #data 전처리 (중복 정보 정리)-> 밸런싱 작업\n",
    "import matplotlib.pyplot as plt #시각화 모듈\n",
    "from sklearn.datasets import load_boston\n",
    "from sklearn.preprocessing import MinMaxScaler\n",
    "from sklearn.metrics import r2_score\n",
    "from sklearn.metrics import mean_absolute_error\n",
    "from sklearn.metrics import mean_squared_error\n",
    "b_data=load_boston()\n",
    "X=b_data.data\n",
    "Y=b_data.target\n",
    "y_data=Y\n",
    "mm_m=MinMaxScaler(feature_range=(0,5)).fit(X)\n",
    "sc_x_data=mm_m.transform(X)"
   ]
  },
  {
   "cell_type": "markdown",
   "id": "e4a550f6",
   "metadata": {},
   "source": [
    "테스트,트레이닝 데이터 분할"
   ]
  },
  {
   "cell_type": "code",
   "execution_count": 2,
   "id": "32918a5c",
   "metadata": {},
   "outputs": [],
   "source": [
    "t_x, tt_x, t_y, tt_y = train_test_split(sc_x_data, y_data, test_size=0.3,random_state=10)"
   ]
  },
  {
   "cell_type": "markdown",
   "id": "d842c824",
   "metadata": {},
   "source": [
    "모델생성 및 학습"
   ]
  },
  {
   "cell_type": "code",
   "execution_count": 3,
   "id": "32ca5abc",
   "metadata": {},
   "outputs": [
    {
     "data": {
      "text/plain": [
       "(LinearRegression(), Lasso(), Ridge(alpha=0.01), SGDRegressor())"
      ]
     },
     "execution_count": 3,
     "metadata": {},
     "output_type": "execute_result"
    }
   ],
   "source": [
    "regr = LinearRegression(fit_intercept=True,normalize=False)\n",
    "lasso_regr = Lasso(fit_intercept=True,normalize=False)\n",
    "ridge_regr = Ridge(fit_intercept=True,normalize=False,alpha=0.01)\n",
    "SGD__regr = SGDRegressor(fit_intercept=True)\n",
    "regr.fit(t_x, t_y),lasso_regr.fit(t_x, t_y),ridge_regr.fit(t_x, t_y),SGD__regr.fit(t_x, t_y)"
   ]
  },
  {
   "cell_type": "markdown",
   "id": "32285b48",
   "metadata": {},
   "source": [
    "에러"
   ]
  },
  {
   "cell_type": "code",
   "execution_count": 4,
   "id": "a3f843cb",
   "metadata": {},
   "outputs": [
    {
     "data": {
      "text/plain": [
       "(0.6996255772983111, 3.7071271372718115, 29.326596526123275)"
      ]
     },
     "execution_count": 4,
     "metadata": {},
     "output_type": "execute_result"
    }
   ],
   "source": [
    "y_true = tt_y.copy()\n",
    "y_hat = regr.predict(tt_x)\n",
    "r2_score(y_true, y_hat), mean_absolute_error(y_true, y_hat), mean_squared_error(y_true, y_hat)"
   ]
  },
  {
   "cell_type": "code",
   "execution_count": 5,
   "id": "fa7569cf",
   "metadata": {},
   "outputs": [
    {
     "data": {
      "text/plain": [
       "(0.6192939837289689, 4.213744760928959, 37.169648580020315)"
      ]
     },
     "execution_count": 5,
     "metadata": {},
     "output_type": "execute_result"
    }
   ],
   "source": [
    "y_true = tt_y.copy()\n",
    "y_hat = lasso_regr.predict(tt_x)\n",
    "r2_score(y_true, y_hat), mean_absolute_error(y_true, y_hat), mean_squared_error(y_true, y_hat)"
   ]
  },
  {
   "cell_type": "code",
   "execution_count": 6,
   "id": "992fff7a",
   "metadata": {},
   "outputs": [
    {
     "data": {
      "text/plain": [
       "(0.6996302031790849, 3.7070744375887323, 29.326144885341723)"
      ]
     },
     "execution_count": 6,
     "metadata": {},
     "output_type": "execute_result"
    }
   ],
   "source": [
    "y_true = tt_y.copy()\n",
    "y_hat = ridge_regr.predict(tt_x)\n",
    "r2_score(y_true, y_hat), mean_absolute_error(y_true, y_hat), mean_squared_error(y_true, y_hat)"
   ]
  },
  {
   "cell_type": "code",
   "execution_count": 7,
   "id": "1301114e",
   "metadata": {},
   "outputs": [
    {
     "data": {
      "text/plain": [
       "(0.6437177408431476, 3.9519053719213275, 34.785072476312266)"
      ]
     },
     "execution_count": 7,
     "metadata": {},
     "output_type": "execute_result"
    }
   ],
   "source": [
    "y_true = tt_y.copy()\n",
    "y_hat = SGD__regr.predict(tt_x)\n",
    "r2_score(y_true, y_hat), mean_absolute_error(y_true, y_hat), mean_squared_error(y_true, y_hat)"
   ]
  },
  {
   "cell_type": "markdown",
   "id": "8a31d460",
   "metadata": {},
   "source": [
    "시각화"
   ]
  },
  {
   "cell_type": "code",
   "execution_count": 8,
   "id": "baf2b6ae",
   "metadata": {},
   "outputs": [
    {
     "data": {
      "text/plain": [
       "<matplotlib.collections.PathCollection at 0x1759e5d4370>"
      ]
     },
     "execution_count": 8,
     "metadata": {},
     "output_type": "execute_result"
    },
    {
     "data": {
      "image/png": "[encoded data removed]",
      "text/plain": [
       "<Figure size 432x288 with 1 Axes>"
      ]
     },
     "metadata": {
      "needs_background": "light"
     },
     "output_type": "display_data"
    }
   ],
   "source": [
    "plt.scatter(y_true, y_hat)"
   ]
  }
 ],
 "metadata": {
  "kernelspec": {
   "display_name": "Python 3 (ipykernel)",
   "language": "python",
   "name": "python3"
  },
  "language_info": {
   "codemirror_mode": {
    "name": "ipython",
    "version": 3
   },
   "file_extension": ".py",
   "mimetype": "text/x-python",
   "name": "python",
   "nbconvert_exporter": "python",
   "pygments_lexer": "ipython3",
   "version": "3.9.7"
  }
 },
 "nbformat": 4,
 "nbformat_minor": 5
}
