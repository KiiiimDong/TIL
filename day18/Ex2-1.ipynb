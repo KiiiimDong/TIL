{
 "cells": [
  {
   "cell_type": "markdown",
   "id": "b198efa3",
   "metadata": {},
   "source": [
    "RNN->순차데이터기반(텍스트,시계열), Transfer"
   ]
  },
  {
   "cell_type": "code",
   "execution_count": 1,
   "id": "8805e8d1",
   "metadata": {},
   "outputs": [
    {
     "name": "stdout",
     "output_type": "stream",
     "text": [
      "Downloading data from https://storage.googleapis.com/tensorflow/tf-keras-datasets/imdb.npz\n",
      "17465344/17464789 [==============================] - 2s 0us/step\n",
      "17473536/17464789 [==============================] - 2s 0us/step\n"
     ]
    },
    {
     "data": {
      "text/plain": [
       "(25000,)"
      ]
     },
     "execution_count": 1,
     "metadata": {},
     "output_type": "execute_result"
    }
   ],
   "source": [
    "from tensorflow.keras.datasets.imdb import load_data\n",
    "(x_data,y_data),(tt_x,tt_y) = load_data(num_words = 500) # 단어종류가 500개\n",
    "x_data.shape"
   ]
  },
  {
   "cell_type": "code",
   "execution_count": 3,
   "id": "e947b58b",
   "metadata": {},
   "outputs": [
    {
     "data": {
      "text/plain": [
       "(218, 189)"
      ]
     },
     "execution_count": 3,
     "metadata": {},
     "output_type": "execute_result"
    }
   ],
   "source": [
    "len(x_data[0]),len(x_data[1])"
   ]
  },
  {
   "cell_type": "code",
   "execution_count": 4,
   "id": "417a37e7",
   "metadata": {},
   "outputs": [
    {
     "data": {
      "text/plain": [
       "array([1, 0, 0, 1, 0], dtype=int64)"
      ]
     },
     "execution_count": 4,
     "metadata": {},
     "output_type": "execute_result"
    }
   ],
   "source": [
    "y_data[:5]"
   ]
  },
  {
   "cell_type": "code",
   "execution_count": 5,
   "id": "49f44e97",
   "metadata": {},
   "outputs": [],
   "source": [
    "from sklearn.model_selection import train_test_split\n",
    "t_x,v_x,t_y,v_y = train_test_split(x_data,y_data,test_size=0.2, random_state=42)#validation 일반적으로 8:2"
   ]
  },
  {
   "cell_type": "code",
   "execution_count": 6,
   "id": "a9d4f254",
   "metadata": {},
   "outputs": [
    {
     "data": {
      "text/plain": [
       "array([259, 520, 290, ..., 300,  70,  77])"
      ]
     },
     "execution_count": 6,
     "metadata": {},
     "output_type": "execute_result"
    }
   ],
   "source": [
    "import numpy as np\n",
    "l = np.array([len(i) for i in t_x])\n",
    "l"
   ]
  },
  {
   "cell_type": "code",
   "execution_count": 7,
   "id": "45c137c8",
   "metadata": {},
   "outputs": [
    {
     "data": {
      "text/plain": [
       "(array([1.1149e+04, 5.7490e+03, 1.8590e+03, 7.3200e+02, 3.0600e+02,\n",
       "        1.8800e+02, 6.0000e+00, 4.0000e+00, 4.0000e+00, 3.0000e+00]),\n",
       " array([  11. ,  195.3,  379.6,  563.9,  748.2,  932.5, 1116.8, 1301.1,\n",
       "        1485.4, 1669.7, 1854. ]),\n",
       " <BarContainer object of 10 artists>)"
      ]
     },
     "execution_count": 7,
     "metadata": {},
     "output_type": "execute_result"
    },
    {
     "data": {
      "image/png": "[encoded data removed]",
      "text/plain": [
       "<Figure size 432x288 with 1 Axes>"
      ]
     },
     "metadata": {
      "needs_background": "light"
     },
     "output_type": "display_data"
    }
   ],
   "source": [
    "import matplotlib.pyplot as plt\n",
    "plt.hist(l)"
   ]
  },
  {
   "cell_type": "code",
   "execution_count": 8,
   "id": "61e2fc7b",
   "metadata": {},
   "outputs": [
    {
     "data": {
      "text/plain": [
       "178.0"
      ]
     },
     "execution_count": 8,
     "metadata": {},
     "output_type": "execute_result"
    }
   ],
   "source": [
    "np.median(l)"
   ]
  },
  {
   "cell_type": "code",
   "execution_count": 9,
   "id": "6247ecfe",
   "metadata": {},
   "outputs": [],
   "source": [
    "from tensorflow.keras.preprocessing.sequence import pad_sequences\n",
    "s_t_x = pad_sequences(t_x, maxlen = 100)    "
   ]
  },
  {
   "cell_type": "code",
   "execution_count": 10,
   "id": "082a2075",
   "metadata": {},
   "outputs": [
    {
     "data": {
      "text/plain": [
       "(20000, 100)"
      ]
     },
     "execution_count": 10,
     "metadata": {},
     "output_type": "execute_result"
    }
   ],
   "source": [
    "s_t_x.shape # 20000 100"
   ]
  },
  {
   "cell_type": "code",
   "execution_count": 12,
   "id": "858a5d3c",
   "metadata": {},
   "outputs": [
    {
     "data": {
      "text/plain": [
       "array([ 10,   4,  20,   9,   2, 364, 352,   5,  45,   6,   2,   2,  33,\n",
       "       269,   8,   2, 142,   2,   5,   2,  17,  73,  17, 204,   5,   2,\n",
       "        19,  55,   2,   2,  92,  66, 104,  14,  20,  93,  76,   2, 151,\n",
       "        33,   4,  58,  12, 188,   2, 151,  12, 215,  69, 224, 142,  73,\n",
       "       237,   6,   2,   7,   2,   2, 188,   2, 103,  14,  31,  10,  10,\n",
       "       451,   7,   2,   5,   2,  80,  91,   2,  30,   2,  34,  14,  20,\n",
       "       151,  50,  26, 131,  49,   2,  84,  46,  50,  37,  80,  79,   6,\n",
       "         2,  46,   7,  14,  20,  10,  10, 470, 158])"
      ]
     },
     "execution_count": 12,
     "metadata": {},
     "output_type": "execute_result"
    }
   ],
   "source": [
    "s_t_x[0]"
   ]
  },
  {
   "cell_type": "code",
   "execution_count": 13,
   "id": "4484ac98",
   "metadata": {},
   "outputs": [
    {
     "data": {
      "text/plain": [
       "[1,\n",
       " 73,\n",
       " 89,\n",
       " 81,\n",
       " 25,\n",
       " 60,\n",
       " 2,\n",
       " 6,\n",
       " 20,\n",
       " 141,\n",
       " 17,\n",
       " 14,\n",
       " 31,\n",
       " 127,\n",
       " 12,\n",
       " 60,\n",
       " 28,\n",
       " 2,\n",
       " 2,\n",
       " 66,\n",
       " 45,\n",
       " 6,\n",
       " 20,\n",
       " 15,\n",
       " 497,\n",
       " 8,\n",
       " 79,\n",
       " 17,\n",
       " 491,\n",
       " 8,\n",
       " 112,\n",
       " 6,\n",
       " 2,\n",
       " 20,\n",
       " 17,\n",
       " 2,\n",
       " 2,\n",
       " 4,\n",
       " 436,\n",
       " 20,\n",
       " 9,\n",
       " 2,\n",
       " 6,\n",
       " 2,\n",
       " 7,\n",
       " 493,\n",
       " 2,\n",
       " 6,\n",
       " 185,\n",
       " 250,\n",
       " 24,\n",
       " 55,\n",
       " 2,\n",
       " 5,\n",
       " 23,\n",
       " 350,\n",
       " 7,\n",
       " 15,\n",
       " 82,\n",
       " 24,\n",
       " 15,\n",
       " 2,\n",
       " 66,\n",
       " 10,\n",
       " 10,\n",
       " 45,\n",
       " 2,\n",
       " 15,\n",
       " 4,\n",
       " 20,\n",
       " 2,\n",
       " 8,\n",
       " 30,\n",
       " 17,\n",
       " 2,\n",
       " 5,\n",
       " 2,\n",
       " 17,\n",
       " 2,\n",
       " 190,\n",
       " 4,\n",
       " 20,\n",
       " 9,\n",
       " 43,\n",
       " 32,\n",
       " 99,\n",
       " 2,\n",
       " 18,\n",
       " 15,\n",
       " 8,\n",
       " 157,\n",
       " 46,\n",
       " 17,\n",
       " 2,\n",
       " 4,\n",
       " 2,\n",
       " 5,\n",
       " 2,\n",
       " 9,\n",
       " 32,\n",
       " 2,\n",
       " 5,\n",
       " 2,\n",
       " 267,\n",
       " 17,\n",
       " 73,\n",
       " 17,\n",
       " 2,\n",
       " 36,\n",
       " 26,\n",
       " 400,\n",
       " 43,\n",
       " 2,\n",
       " 83,\n",
       " 4,\n",
       " 2,\n",
       " 247,\n",
       " 74,\n",
       " 83,\n",
       " 4,\n",
       " 250,\n",
       " 2,\n",
       " 82,\n",
       " 4,\n",
       " 96,\n",
       " 4,\n",
       " 250,\n",
       " 2,\n",
       " 8,\n",
       " 32,\n",
       " 4,\n",
       " 2,\n",
       " 9,\n",
       " 184,\n",
       " 2,\n",
       " 13,\n",
       " 384,\n",
       " 48,\n",
       " 14,\n",
       " 16,\n",
       " 147,\n",
       " 2,\n",
       " 59,\n",
       " 62,\n",
       " 69,\n",
       " 2,\n",
       " 12,\n",
       " 46,\n",
       " 50,\n",
       " 9,\n",
       " 53,\n",
       " 2,\n",
       " 74,\n",
       " 2,\n",
       " 11,\n",
       " 14,\n",
       " 31,\n",
       " 151,\n",
       " 10,\n",
       " 10,\n",
       " 4,\n",
       " 20,\n",
       " 9,\n",
       " 2,\n",
       " 364,\n",
       " 352,\n",
       " 5,\n",
       " 45,\n",
       " 6,\n",
       " 2,\n",
       " 2,\n",
       " 33,\n",
       " 269,\n",
       " 8,\n",
       " 2,\n",
       " 142,\n",
       " 2,\n",
       " 5,\n",
       " 2,\n",
       " 17,\n",
       " 73,\n",
       " 17,\n",
       " 204,\n",
       " 5,\n",
       " 2,\n",
       " 19,\n",
       " 55,\n",
       " 2,\n",
       " 2,\n",
       " 92,\n",
       " 66,\n",
       " 104,\n",
       " 14,\n",
       " 20,\n",
       " 93,\n",
       " 76,\n",
       " 2,\n",
       " 151,\n",
       " 33,\n",
       " 4,\n",
       " 58,\n",
       " 12,\n",
       " 188,\n",
       " 2,\n",
       " 151,\n",
       " 12,\n",
       " 215,\n",
       " 69,\n",
       " 224,\n",
       " 142,\n",
       " 73,\n",
       " 237,\n",
       " 6,\n",
       " 2,\n",
       " 7,\n",
       " 2,\n",
       " 2,\n",
       " 188,\n",
       " 2,\n",
       " 103,\n",
       " 14,\n",
       " 31,\n",
       " 10,\n",
       " 10,\n",
       " 451,\n",
       " 7,\n",
       " 2,\n",
       " 5,\n",
       " 2,\n",
       " 80,\n",
       " 91,\n",
       " 2,\n",
       " 30,\n",
       " 2,\n",
       " 34,\n",
       " 14,\n",
       " 20,\n",
       " 151,\n",
       " 50,\n",
       " 26,\n",
       " 131,\n",
       " 49,\n",
       " 2,\n",
       " 84,\n",
       " 46,\n",
       " 50,\n",
       " 37,\n",
       " 80,\n",
       " 79,\n",
       " 6,\n",
       " 2,\n",
       " 46,\n",
       " 7,\n",
       " 14,\n",
       " 20,\n",
       " 10,\n",
       " 10,\n",
       " 470,\n",
       " 158]"
      ]
     },
     "execution_count": 13,
     "metadata": {},
     "output_type": "execute_result"
    }
   ],
   "source": [
    "t_x[0]"
   ]
  },
  {
   "cell_type": "code",
   "execution_count": 14,
   "id": "8df5f98f",
   "metadata": {},
   "outputs": [],
   "source": [
    "s_v_x = pad_sequences(v_x, maxlen = 100)"
   ]
  },
  {
   "cell_type": "code",
   "execution_count": 17,
   "id": "7110b090",
   "metadata": {},
   "outputs": [],
   "source": [
    "from tensorflow import keras\n",
    "m = keras.Sequential()"
   ]
  },
  {
   "cell_type": "code",
   "execution_count": 18,
   "id": "ae1ef633",
   "metadata": {},
   "outputs": [],
   "source": [
    "m.add(keras.layers.SimpleRNN(8, input_shape=(100,500)))\n",
    "m.add(keras.layers.Dense(1, activation='sigmoid')) # 이진분류 하나로분류 0,1이어도 하나로 표현."
   ]
  },
  {
   "cell_type": "code",
   "execution_count": 19,
   "id": "cc83896f",
   "metadata": {},
   "outputs": [],
   "source": [
    "t_ho = keras.utils.to_categorical(s_t_x) # 원리공부"
   ]
  },
  {
   "cell_type": "code",
   "execution_count": 21,
   "id": "7b4f587b",
   "metadata": {},
   "outputs": [
    {
     "data": {
      "text/plain": [
       "(20000, 100, 500)"
      ]
     },
     "execution_count": 21,
     "metadata": {},
     "output_type": "execute_result"
    }
   ],
   "source": [
    "t_ho.shape"
   ]
  },
  {
   "cell_type": "code",
   "execution_count": 22,
   "id": "2a6c1c6c",
   "metadata": {},
   "outputs": [],
   "source": [
    "v_ho = keras.utils.to_categorical(s_v_x)"
   ]
  },
  {
   "cell_type": "code",
   "execution_count": 23,
   "id": "11c12bdf",
   "metadata": {},
   "outputs": [
    {
     "name": "stdout",
     "output_type": "stream",
     "text": [
      "Model: \"sequential\"\n",
      "_________________________________________________________________\n",
      " Layer (type)                Output Shape              Param #   \n",
      "=================================================================\n",
      " simple_rnn (SimpleRNN)      (None, 8)                 4072      \n",
      "                                                                 \n",
      " dense (Dense)               (None, 1)                 9         \n",
      "                                                                 \n",
      "=================================================================\n",
      "Total params: 4,081\n",
      "Trainable params: 4,081\n",
      "Non-trainable params: 0\n",
      "_________________________________________________________________\n"
     ]
    }
   ],
   "source": [
    "m.summary()"
   ]
  },
  {
   "cell_type": "code",
   "execution_count": 24,
   "id": "94999ea2",
   "metadata": {},
   "outputs": [
    {
     "name": "stdout",
     "output_type": "stream",
     "text": [
      "Epoch 1/100\n",
      "313/313 [==============================] - 15s 43ms/step - loss: 0.6947 - accuracy: 0.5087 - val_loss: 0.6908 - val_accuracy: 0.5292\n",
      "Epoch 2/100\n",
      "313/313 [==============================] - 11s 35ms/step - loss: 0.6826 - accuracy: 0.5520 - val_loss: 0.6612 - val_accuracy: 0.6070\n",
      "Epoch 3/100\n",
      "313/313 [==============================] - 11s 37ms/step - loss: 0.6478 - accuracy: 0.6284 - val_loss: 0.6308 - val_accuracy: 0.6554\n",
      "Epoch 4/100\n",
      "313/313 [==============================] - 11s 36ms/step - loss: 0.6189 - accuracy: 0.6701 - val_loss: 0.6057 - val_accuracy: 0.6908\n",
      "Epoch 5/100\n",
      "313/313 [==============================] - 11s 35ms/step - loss: 0.5955 - accuracy: 0.6981 - val_loss: 0.5857 - val_accuracy: 0.7080\n",
      "Epoch 6/100\n",
      "313/313 [==============================] - 11s 35ms/step - loss: 0.5757 - accuracy: 0.7182 - val_loss: 0.5667 - val_accuracy: 0.7318\n",
      "Epoch 7/100\n",
      "313/313 [==============================] - 11s 35ms/step - loss: 0.5575 - accuracy: 0.7355 - val_loss: 0.5513 - val_accuracy: 0.7426\n",
      "Epoch 8/100\n",
      "313/313 [==============================] - 11s 36ms/step - loss: 0.5422 - accuracy: 0.7480 - val_loss: 0.5402 - val_accuracy: 0.7516\n",
      "Epoch 9/100\n",
      "313/313 [==============================] - 11s 35ms/step - loss: 0.5284 - accuracy: 0.7556 - val_loss: 0.5263 - val_accuracy: 0.7552\n",
      "Epoch 10/100\n",
      "313/313 [==============================] - 10s 33ms/step - loss: 0.5164 - accuracy: 0.7617 - val_loss: 0.5142 - val_accuracy: 0.7662\n",
      "Epoch 11/100\n",
      "313/313 [==============================] - 11s 34ms/step - loss: 0.5050 - accuracy: 0.7709 - val_loss: 0.5072 - val_accuracy: 0.7632\n",
      "Epoch 12/100\n",
      "313/313 [==============================] - 11s 35ms/step - loss: 0.4960 - accuracy: 0.7737 - val_loss: 0.4978 - val_accuracy: 0.7740\n",
      "Epoch 13/100\n",
      "313/313 [==============================] - 10s 33ms/step - loss: 0.4870 - accuracy: 0.7796 - val_loss: 0.4909 - val_accuracy: 0.7730\n",
      "Epoch 14/100\n",
      "313/313 [==============================] - 11s 36ms/step - loss: 0.4791 - accuracy: 0.7817 - val_loss: 0.4848 - val_accuracy: 0.7780\n",
      "Epoch 15/100\n",
      "313/313 [==============================] - 11s 35ms/step - loss: 0.4722 - accuracy: 0.7868 - val_loss: 0.4803 - val_accuracy: 0.7766\n",
      "Epoch 16/100\n",
      "313/313 [==============================] - 11s 34ms/step - loss: 0.4660 - accuracy: 0.7888 - val_loss: 0.4811 - val_accuracy: 0.7834\n",
      "Epoch 17/100\n",
      "313/313 [==============================] - 11s 35ms/step - loss: 0.4610 - accuracy: 0.7884 - val_loss: 0.4697 - val_accuracy: 0.7860\n",
      "Epoch 18/100\n",
      "313/313 [==============================] - 11s 34ms/step - loss: 0.4561 - accuracy: 0.7930 - val_loss: 0.4669 - val_accuracy: 0.7840\n",
      "Epoch 19/100\n",
      "313/313 [==============================] - 10s 33ms/step - loss: 0.4515 - accuracy: 0.7943 - val_loss: 0.4625 - val_accuracy: 0.7916\n",
      "Epoch 20/100\n",
      "313/313 [==============================] - 10s 33ms/step - loss: 0.4471 - accuracy: 0.7972 - val_loss: 0.4604 - val_accuracy: 0.7906\n",
      "Epoch 21/100\n",
      "313/313 [==============================] - 10s 33ms/step - loss: 0.4437 - accuracy: 0.7972 - val_loss: 0.4590 - val_accuracy: 0.7910\n",
      "Epoch 22/100\n",
      "313/313 [==============================] - 10s 33ms/step - loss: 0.4409 - accuracy: 0.7983 - val_loss: 0.4561 - val_accuracy: 0.7894\n",
      "Epoch 23/100\n",
      "313/313 [==============================] - 11s 34ms/step - loss: 0.4375 - accuracy: 0.8031 - val_loss: 0.4536 - val_accuracy: 0.7910\n",
      "Epoch 24/100\n",
      "313/313 [==============================] - 10s 33ms/step - loss: 0.4345 - accuracy: 0.8038 - val_loss: 0.4516 - val_accuracy: 0.7958\n",
      "Epoch 25/100\n",
      "313/313 [==============================] - 11s 34ms/step - loss: 0.4322 - accuracy: 0.8054 - val_loss: 0.4559 - val_accuracy: 0.7914\n",
      "Epoch 26/100\n",
      "313/313 [==============================] - 10s 32ms/step - loss: 0.4298 - accuracy: 0.8062 - val_loss: 0.4592 - val_accuracy: 0.7854\n",
      "Epoch 27/100\n",
      "313/313 [==============================] - 10s 31ms/step - loss: 0.4280 - accuracy: 0.8066 - val_loss: 0.4506 - val_accuracy: 0.7934\n",
      "Epoch 28/100\n",
      "313/313 [==============================] - 10s 31ms/step - loss: 0.4261 - accuracy: 0.8080 - val_loss: 0.4483 - val_accuracy: 0.7930\n",
      "Epoch 29/100\n",
      "313/313 [==============================] - 10s 33ms/step - loss: 0.4239 - accuracy: 0.8079 - val_loss: 0.4520 - val_accuracy: 0.7922\n",
      "Epoch 30/100\n",
      "313/313 [==============================] - 10s 31ms/step - loss: 0.4224 - accuracy: 0.8113 - val_loss: 0.4476 - val_accuracy: 0.7944\n",
      "Epoch 31/100\n",
      "313/313 [==============================] - 11s 34ms/step - loss: 0.4207 - accuracy: 0.8118 - val_loss: 0.4473 - val_accuracy: 0.7956\n",
      "Epoch 32/100\n",
      "313/313 [==============================] - 10s 32ms/step - loss: 0.4195 - accuracy: 0.8115 - val_loss: 0.4465 - val_accuracy: 0.7938\n",
      "Epoch 33/100\n",
      "313/313 [==============================] - 10s 32ms/step - loss: 0.4175 - accuracy: 0.8133 - val_loss: 0.4470 - val_accuracy: 0.7932\n",
      "Epoch 34/100\n",
      "313/313 [==============================] - 10s 31ms/step - loss: 0.4162 - accuracy: 0.8133 - val_loss: 0.4471 - val_accuracy: 0.7928\n",
      "Epoch 35/100\n",
      "313/313 [==============================] - 11s 35ms/step - loss: 0.4146 - accuracy: 0.8142 - val_loss: 0.4478 - val_accuracy: 0.7942\n"
     ]
    }
   ],
   "source": [
    "ot = keras.optimizers.RMSprop(learning_rate=1e-4) #1e-4?\n",
    "m.compile(optimizer=ot, loss='binary_crossentropy', metrics='accuracy')\n",
    "ck_p = keras.callbacks.ModelCheckpoint('Ex2.h5',\n",
    "                                       save_best_only=True)\n",
    "e_stopping = keras.callbacks.EarlyStopping(patience=3,\n",
    "                                           restore_best_weights=True)\n",
    "hy = m.fit(t_ho,t_y,epochs=100, batch_size=64, validation_data=(v_ho,v_y), \n",
    "           callbacks=[ck_p, e_stopping])"
   ]
  },
  {
   "cell_type": "code",
   "execution_count": 25,
   "id": "2381258b",
   "metadata": {},
   "outputs": [
    {
     "data": {
      "text/plain": [
       "[<matplotlib.lines.Line2D at 0x1ac8eb35d00>]"
      ]
     },
     "execution_count": 25,
     "metadata": {},
     "output_type": "execute_result"
    },
    {
     "data": {
      "image/png": "[encoded data removed]",
      "text/plain": [
       "<Figure size 432x288 with 1 Axes>"
      ]
     },
     "metadata": {
      "needs_background": "light"
     },
     "output_type": "display_data"
    }
   ],
   "source": [
    "plt.plot(hy.history['loss'])\n",
    "plt.plot(hy.history['val_loss'])"
   ]
  },
  {
   "cell_type": "code",
   "execution_count": 27,
   "id": "b80ae6f8",
   "metadata": {},
   "outputs": [
    {
     "name": "stdout",
     "output_type": "stream",
     "text": [
      "Epoch 1/100\n",
      "313/313 [==============================] - 4s 12ms/step - loss: 0.6644 - accuracy: 0.5996 - val_loss: 0.6326 - val_accuracy: 0.6544\n",
      "Epoch 2/100\n",
      "313/313 [==============================] - 4s 11ms/step - loss: 0.6041 - accuracy: 0.7012 - val_loss: 0.5881 - val_accuracy: 0.7182\n",
      "Epoch 3/100\n",
      "313/313 [==============================] - 4s 12ms/step - loss: 0.5727 - accuracy: 0.7379 - val_loss: 0.5667 - val_accuracy: 0.7536\n",
      "Epoch 4/100\n",
      "313/313 [==============================] - 4s 12ms/step - loss: 0.5536 - accuracy: 0.7550 - val_loss: 0.5520 - val_accuracy: 0.7530\n",
      "Epoch 5/100\n",
      "313/313 [==============================] - 4s 12ms/step - loss: 0.5395 - accuracy: 0.7632 - val_loss: 0.5416 - val_accuracy: 0.7540\n",
      "Epoch 6/100\n",
      "313/313 [==============================] - 4s 12ms/step - loss: 0.5265 - accuracy: 0.7738 - val_loss: 0.5294 - val_accuracy: 0.7722\n",
      "Epoch 7/100\n",
      "313/313 [==============================] - 4s 12ms/step - loss: 0.5140 - accuracy: 0.7799 - val_loss: 0.5333 - val_accuracy: 0.7510\n",
      "Epoch 8/100\n",
      "313/313 [==============================] - 4s 12ms/step - loss: 0.5033 - accuracy: 0.7864 - val_loss: 0.5131 - val_accuracy: 0.7726\n",
      "Epoch 9/100\n",
      "313/313 [==============================] - 4s 12ms/step - loss: 0.4932 - accuracy: 0.7901 - val_loss: 0.5058 - val_accuracy: 0.7786\n",
      "Epoch 10/100\n",
      "313/313 [==============================] - 4s 12ms/step - loss: 0.4840 - accuracy: 0.7947 - val_loss: 0.5092 - val_accuracy: 0.7622\n",
      "Epoch 11/100\n",
      "313/313 [==============================] - 4s 12ms/step - loss: 0.4755 - accuracy: 0.7983 - val_loss: 0.4941 - val_accuracy: 0.7764\n",
      "Epoch 12/100\n",
      "313/313 [==============================] - 4s 12ms/step - loss: 0.4674 - accuracy: 0.8008 - val_loss: 0.4848 - val_accuracy: 0.7826\n",
      "Epoch 13/100\n",
      "313/313 [==============================] - 4s 12ms/step - loss: 0.4598 - accuracy: 0.8039 - val_loss: 0.4796 - val_accuracy: 0.7838\n",
      "Epoch 14/100\n",
      "313/313 [==============================] - 4s 12ms/step - loss: 0.4532 - accuracy: 0.8060 - val_loss: 0.4761 - val_accuracy: 0.7840\n",
      "Epoch 15/100\n",
      "313/313 [==============================] - 4s 12ms/step - loss: 0.4461 - accuracy: 0.8105 - val_loss: 0.4706 - val_accuracy: 0.7886\n",
      "Epoch 16/100\n",
      "313/313 [==============================] - 4s 11ms/step - loss: 0.4404 - accuracy: 0.8123 - val_loss: 0.4739 - val_accuracy: 0.7866\n",
      "Epoch 17/100\n",
      "313/313 [==============================] - 4s 12ms/step - loss: 0.4364 - accuracy: 0.8130 - val_loss: 0.4646 - val_accuracy: 0.7904\n",
      "Epoch 18/100\n",
      "313/313 [==============================] - 4s 11ms/step - loss: 0.4315 - accuracy: 0.8143 - val_loss: 0.4647 - val_accuracy: 0.7852\n",
      "Epoch 19/100\n",
      "313/313 [==============================] - 4s 12ms/step - loss: 0.4276 - accuracy: 0.8170 - val_loss: 0.4626 - val_accuracy: 0.7870\n",
      "Epoch 20/100\n",
      "313/313 [==============================] - 4s 12ms/step - loss: 0.4236 - accuracy: 0.8187 - val_loss: 0.4645 - val_accuracy: 0.7884\n",
      "Epoch 21/100\n",
      "313/313 [==============================] - 4s 12ms/step - loss: 0.4203 - accuracy: 0.8202 - val_loss: 0.4588 - val_accuracy: 0.7906\n",
      "Epoch 22/100\n",
      "313/313 [==============================] - 4s 12ms/step - loss: 0.4169 - accuracy: 0.8202 - val_loss: 0.4604 - val_accuracy: 0.7862\n",
      "Epoch 23/100\n",
      "313/313 [==============================] - 4s 11ms/step - loss: 0.4140 - accuracy: 0.8227 - val_loss: 0.4615 - val_accuracy: 0.7886\n",
      "Epoch 24/100\n",
      "313/313 [==============================] - 4s 12ms/step - loss: 0.4111 - accuracy: 0.8224 - val_loss: 0.4628 - val_accuracy: 0.7828\n"
     ]
    }
   ],
   "source": [
    "m1 = keras.Sequential()\n",
    "m1.add(keras.layers.Embedding(500, 16, input_length=(100))) # 길이정보제시\n",
    "m1.add(keras.layers.SimpleRNN(8))\n",
    "m1.add(keras.layers.Dense(1, activation='sigmoid'))\n",
    "ot = keras.optimizers.RMSprop(learning_rate=1e-4) #1e-4?\n",
    "m1.compile(optimizer=ot, loss='binary_crossentropy', metrics='accuracy')\n",
    "ck_p = keras.callbacks.ModelCheckpoint('Ex2_emd.h5',\n",
    "                                       save_best_only=True)\n",
    "e_stopping = keras.callbacks.EarlyStopping(patience=3,\n",
    "                                           restore_best_weights=True)\n",
    "hy1 = m1.fit(s_t_x,t_y,epochs=100, batch_size=64, validation_data=(s_v_x,v_y), \n",
    "           callbacks=[ck_p, e_stopping])"
   ]
  },
  {
   "cell_type": "code",
   "execution_count": 28,
   "id": "ce617f2f",
   "metadata": {},
   "outputs": [
    {
     "data": {
      "text/plain": [
       "[<matplotlib.lines.Line2D at 0x1accaadd2e0>]"
      ]
     },
     "execution_count": 28,
     "metadata": {},
     "output_type": "execute_result"
    },
    {
     "data": {
      "image/png": "[encoded data removed]",
      "text/plain": [
       "<Figure size 432x288 with 1 Axes>"
      ]
     },
     "metadata": {
      "needs_background": "light"
     },
     "output_type": "display_data"
    }
   ],
   "source": [
    "plt.plot(hy1.history['loss'])\n",
    "plt.plot(hy1.history['val_loss'])"
   ]
  },
  {
   "cell_type": "code",
   "execution_count": 29,
   "id": "cc026a89",
   "metadata": {},
   "outputs": [],
   "source": [
    "(x_data,y_data),(tt_x,tt_y) = load_data(num_words = 500)\n",
    "t_x,v_x,t_y,v_y = train_test_split(x_data,y_data,test_size=0.2, random_state=42)"
   ]
  },
  {
   "cell_type": "code",
   "execution_count": 30,
   "id": "a0e226e0",
   "metadata": {},
   "outputs": [],
   "source": [
    "s_t_x = pad_sequences(t_x, maxlen = 100)\n",
    "s_v_x = pad_sequences(v_x, maxlen = 100)"
   ]
  },
  {
   "cell_type": "code",
   "execution_count": 31,
   "id": "e65b45fd",
   "metadata": {},
   "outputs": [
    {
     "name": "stdout",
     "output_type": "stream",
     "text": [
      "Epoch 1/100\n",
      "313/313 [==============================] - 9s 23ms/step - loss: 0.6927 - accuracy: 0.5224 - val_loss: 0.6920 - val_accuracy: 0.5546\n",
      "Epoch 2/100\n",
      "313/313 [==============================] - 7s 22ms/step - loss: 0.6904 - accuracy: 0.5861 - val_loss: 0.6889 - val_accuracy: 0.6024\n",
      "Epoch 3/100\n",
      "313/313 [==============================] - 7s 22ms/step - loss: 0.6854 - accuracy: 0.6319 - val_loss: 0.6816 - val_accuracy: 0.6406\n",
      "Epoch 4/100\n",
      "313/313 [==============================] - 7s 22ms/step - loss: 0.6674 - accuracy: 0.6374 - val_loss: 0.6427 - val_accuracy: 0.6690\n",
      "Epoch 5/100\n",
      "313/313 [==============================] - 7s 22ms/step - loss: 0.6072 - accuracy: 0.7174 - val_loss: 0.5897 - val_accuracy: 0.7398\n",
      "Epoch 6/100\n",
      "313/313 [==============================] - 7s 22ms/step - loss: 0.5765 - accuracy: 0.7437 - val_loss: 0.5681 - val_accuracy: 0.7484\n",
      "Epoch 7/100\n",
      "313/313 [==============================] - 7s 22ms/step - loss: 0.5599 - accuracy: 0.7549 - val_loss: 0.5504 - val_accuracy: 0.7586\n",
      "Epoch 8/100\n",
      "313/313 [==============================] - 7s 22ms/step - loss: 0.5412 - accuracy: 0.7630 - val_loss: 0.5339 - val_accuracy: 0.7674\n",
      "Epoch 9/100\n",
      "313/313 [==============================] - 7s 22ms/step - loss: 0.5271 - accuracy: 0.7672 - val_loss: 0.5179 - val_accuracy: 0.7754\n",
      "Epoch 10/100\n",
      "313/313 [==============================] - 7s 22ms/step - loss: 0.5120 - accuracy: 0.7727 - val_loss: 0.5050 - val_accuracy: 0.7796\n",
      "Epoch 11/100\n",
      "313/313 [==============================] - 8s 25ms/step - loss: 0.4962 - accuracy: 0.7809 - val_loss: 0.4925 - val_accuracy: 0.7792\n",
      "Epoch 12/100\n",
      "313/313 [==============================] - 8s 25ms/step - loss: 0.4874 - accuracy: 0.7822 - val_loss: 0.4834 - val_accuracy: 0.7838\n",
      "Epoch 13/100\n",
      "313/313 [==============================] - 7s 23ms/step - loss: 0.4784 - accuracy: 0.7854 - val_loss: 0.4740 - val_accuracy: 0.7870\n",
      "Epoch 14/100\n",
      "313/313 [==============================] - 7s 21ms/step - loss: 0.4695 - accuracy: 0.7893 - val_loss: 0.4671 - val_accuracy: 0.7902\n",
      "Epoch 15/100\n",
      "313/313 [==============================] - 7s 21ms/step - loss: 0.4639 - accuracy: 0.7907 - val_loss: 0.4644 - val_accuracy: 0.7872\n",
      "Epoch 16/100\n",
      "313/313 [==============================] - 7s 21ms/step - loss: 0.4572 - accuracy: 0.7928 - val_loss: 0.4592 - val_accuracy: 0.7898\n",
      "Epoch 17/100\n",
      "313/313 [==============================] - 7s 21ms/step - loss: 0.4513 - accuracy: 0.7954 - val_loss: 0.4582 - val_accuracy: 0.7874\n",
      "Epoch 18/100\n",
      "313/313 [==============================] - 7s 21ms/step - loss: 0.4477 - accuracy: 0.7962 - val_loss: 0.4528 - val_accuracy: 0.7946\n",
      "Epoch 19/100\n",
      "313/313 [==============================] - 7s 21ms/step - loss: 0.4452 - accuracy: 0.7972 - val_loss: 0.4509 - val_accuracy: 0.7936\n",
      "Epoch 20/100\n",
      "313/313 [==============================] - 6s 21ms/step - loss: 0.4395 - accuracy: 0.8024 - val_loss: 0.4477 - val_accuracy: 0.7954\n",
      "Epoch 21/100\n",
      "313/313 [==============================] - 7s 21ms/step - loss: 0.4396 - accuracy: 0.8013 - val_loss: 0.4487 - val_accuracy: 0.7912\n",
      "Epoch 22/100\n",
      "313/313 [==============================] - 7s 22ms/step - loss: 0.4357 - accuracy: 0.8038 - val_loss: 0.4506 - val_accuracy: 0.7970\n",
      "Epoch 23/100\n",
      "313/313 [==============================] - 7s 21ms/step - loss: 0.4342 - accuracy: 0.8059 - val_loss: 0.4453 - val_accuracy: 0.7940\n",
      "Epoch 24/100\n",
      "313/313 [==============================] - 7s 21ms/step - loss: 0.4322 - accuracy: 0.8054 - val_loss: 0.4411 - val_accuracy: 0.7956\n",
      "Epoch 25/100\n",
      "313/313 [==============================] - 7s 22ms/step - loss: 0.4301 - accuracy: 0.8047 - val_loss: 0.4399 - val_accuracy: 0.7972\n",
      "Epoch 26/100\n",
      "313/313 [==============================] - 7s 21ms/step - loss: 0.4280 - accuracy: 0.8055 - val_loss: 0.4397 - val_accuracy: 0.7946\n",
      "Epoch 27/100\n",
      "313/313 [==============================] - 7s 21ms/step - loss: 0.4278 - accuracy: 0.8044 - val_loss: 0.4391 - val_accuracy: 0.7986\n",
      "Epoch 28/100\n",
      "313/313 [==============================] - 7s 21ms/step - loss: 0.4242 - accuracy: 0.8081 - val_loss: 0.4390 - val_accuracy: 0.7930\n",
      "Epoch 29/100\n",
      "313/313 [==============================] - 7s 21ms/step - loss: 0.4245 - accuracy: 0.8078 - val_loss: 0.4358 - val_accuracy: 0.7986\n",
      "Epoch 30/100\n",
      "313/313 [==============================] - 7s 21ms/step - loss: 0.4255 - accuracy: 0.8053 - val_loss: 0.4360 - val_accuracy: 0.8018\n",
      "Epoch 31/100\n",
      "313/313 [==============================] - 7s 22ms/step - loss: 0.4230 - accuracy: 0.8092 - val_loss: 0.4354 - val_accuracy: 0.7932\n",
      "Epoch 32/100\n",
      "313/313 [==============================] - 7s 22ms/step - loss: 0.4202 - accuracy: 0.8078 - val_loss: 0.4342 - val_accuracy: 0.8016\n",
      "Epoch 33/100\n",
      "313/313 [==============================] - 7s 21ms/step - loss: 0.4206 - accuracy: 0.8083 - val_loss: 0.4365 - val_accuracy: 0.7990\n",
      "Epoch 34/100\n",
      "313/313 [==============================] - 7s 21ms/step - loss: 0.4201 - accuracy: 0.8083 - val_loss: 0.4347 - val_accuracy: 0.8020\n",
      "Epoch 35/100\n",
      "313/313 [==============================] - 7s 22ms/step - loss: 0.4190 - accuracy: 0.8084 - val_loss: 0.4323 - val_accuracy: 0.8020\n",
      "Epoch 36/100\n",
      "313/313 [==============================] - 7s 21ms/step - loss: 0.4177 - accuracy: 0.8100 - val_loss: 0.4325 - val_accuracy: 0.8006\n",
      "Epoch 37/100\n",
      "313/313 [==============================] - 7s 22ms/step - loss: 0.4170 - accuracy: 0.8095 - val_loss: 0.4435 - val_accuracy: 0.7978\n",
      "Epoch 38/100\n",
      "313/313 [==============================] - 7s 22ms/step - loss: 0.4157 - accuracy: 0.8095 - val_loss: 0.4352 - val_accuracy: 0.7954\n"
     ]
    }
   ],
   "source": [
    "m2 = keras.Sequential()\n",
    "m2.add(keras.layers.Embedding(500, 16, input_length=100)) # 전처리층\n",
    "m2.add(keras.layers.LSTM(8,dropout=0.3)) # 학습층 일반적으로 30퍼센트 드롭\n",
    "m2.add(keras.layers.Dense(1, activation='sigmoid'))\n",
    "ot = keras.optimizers.RMSprop(learning_rate=1e-4) #1e-4?\n",
    "m2.compile(optimizer=ot, loss='binary_crossentropy', metrics='accuracy')\n",
    "ck_p = keras.callbacks.ModelCheckpoint('Ex2_LSTM.h5',\n",
    "                                       save_best_only=True)\n",
    "e_stopping = keras.callbacks.EarlyStopping(patience=3,\n",
    "                                           restore_best_weights=True)\n",
    "hy2 = m2.fit(s_t_x,t_y,epochs=100, batch_size=64, validation_data=(s_v_x,v_y), \n",
    "           callbacks=[ck_p, e_stopping])"
   ]
  },
  {
   "cell_type": "code",
   "execution_count": 32,
   "id": "6133e3b8",
   "metadata": {},
   "outputs": [
    {
     "data": {
      "text/plain": [
       "[<matplotlib.lines.Line2D at 0x1acca6e6190>]"
      ]
     },
     "execution_count": 32,
     "metadata": {},
     "output_type": "execute_result"
    },
    {
     "data": {
      "image/png": "[encoded data removed]",
      "text/plain": [
       "<Figure size 432x288 with 1 Axes>"
      ]
     },
     "metadata": {
      "needs_background": "light"
     },
     "output_type": "display_data"
    }
   ],
   "source": [
    "plt.plot(hy2.history['loss'])\n",
    "plt.plot(hy2.history['val_loss'])"
   ]
  },
  {
   "cell_type": "code",
   "execution_count": null,
   "id": "31a31a9c",
   "metadata": {},
   "outputs": [],
   "source": [
    "m3 = keras.Sequential()\n",
    "m3.add(keras.layers.Embedding(500, 16, input_length=100)) # 전처리층\n",
    "m3.add(keras.layers.LSTM(8,dropout=0.3,return_sequences=True)) # 시퀀시얼 하게 보낸다.\n",
    "m3.add(keras.layers.LSTM(8,dropout=0.3))\n",
    "m3.add(keras.layers.Dense(1, activation='sigmoid'))\n",
    "ot = keras.optimizers.RMSprop(learning_rate=1e-4) #1e-4?\n",
    "m3.compile(optimizer=ot, loss='binary_crossentropy', metrics='accuracy')\n",
    "ck_p = keras.callbacks.ModelCheckpoint('Ex2_LSTM_2.h5',\n",
    "                                       save_best_only=True)\n",
    "e_stopping = keras.callbacks.EarlyStopping(patience=3,\n",
    "                                           restore_best_weights=True)\n",
    "hy3 = m3.fit(s_t_x,t_y,epochs=100, batch_size=64, validation_data=(s_v_x,v_y), \n",
    "           callbacks=[ck_p, e_stopping])"
   ]
  },
  {
   "cell_type": "code",
   "execution_count": null,
   "id": "3a7c5d40",
   "metadata": {},
   "outputs": [],
   "source": [
    "m4 = keras.Sequential()\n",
    "m4.add(keras.layers.Embedding(500, 16, input_length=100)) # 전처리층\n",
    "m4.add(keras.layers.GRU(8,dropout=0.3))\n",
    "m4.add(keras.layers.Dense(1, activation='sigmoid'))"
   ]
  }
 ],
 "metadata": {
  "kernelspec": {
   "display_name": "Python 3 (ipykernel)",
   "language": "python",
   "name": "python3"
  },
  "language_info": {
   "codemirror_mode": {
    "name": "ipython",
    "version": 3
   },
   "file_extension": ".py",
   "mimetype": "text/x-python",
   "name": "python",
   "nbconvert_exporter": "python",
   "pygments_lexer": "ipython3",
   "version": "3.9.7"
  }
 },
 "nbformat": 4,
 "nbformat_minor": 5
}
