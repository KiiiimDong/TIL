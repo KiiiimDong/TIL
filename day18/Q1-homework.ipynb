{
 "cells": [
  {
   "cell_type": "code",
   "execution_count": 1,
   "id": "3c5be9d6",
   "metadata": {},
   "outputs": [],
   "source": [
    "import numpy as np\n",
    "import tensorflow as tf\n",
    "np.random.seed(42)\n",
    "tf.random.set_seed(42)"
   ]
  },
  {
   "cell_type": "code",
   "execution_count": 2,
   "id": "30f322d8",
   "metadata": {},
   "outputs": [],
   "source": [
    "from tensorflow import keras\n",
    "from sklearn.model_selection import train_test_split\n",
    "from keras.datasets.fashion_mnist import load_data\n",
    "import matplotlib.pyplot as plt\n",
    "(x_data,y_data),(t_x_data,t_y_data) = load_data()\n",
    "x_data=x_data.reshape(-1,28,28,1)/255.0\n",
    "t_x,tt_x,t_y,tt_y = train_test_split(x_data,y_data,test_size=0.2,random_state=42)"
   ]
  },
  {
   "cell_type": "code",
   "execution_count": 3,
   "id": "26f1463d",
   "metadata": {},
   "outputs": [],
   "source": [
    "m=keras.Sequential()\n",
    "m.add(keras.layers.Conv2D(32,kernel_size=3,activation='relu',padding='same'\n",
    "                          ,input_shape=(28,28,1)))\n",
    "m.add(keras.layers.MaxPooling2D(2))\n",
    "m.add(keras.layers.Conv2D(64,kernel_size=(3,3),activation='relu',padding='same'))\n",
    "m.add(keras.layers.MaxPooling2D(2))"
   ]
  },
  {
   "cell_type": "code",
   "execution_count": 4,
   "id": "105423a3",
   "metadata": {},
   "outputs": [
    {
     "name": "stdout",
     "output_type": "stream",
     "text": [
      "Model: \"sequential\"\n",
      "_________________________________________________________________\n",
      " Layer (type)                Output Shape              Param #   \n",
      "=================================================================\n",
      " conv2d (Conv2D)             (None, 28, 28, 32)        320       \n",
      "                                                                 \n",
      " max_pooling2d (MaxPooling2D  (None, 14, 14, 32)       0         \n",
      " )                                                               \n",
      "                                                                 \n",
      " conv2d_1 (Conv2D)           (None, 14, 14, 64)        18496     \n",
      "                                                                 \n",
      " max_pooling2d_1 (MaxPooling  (None, 7, 7, 64)         0         \n",
      " 2D)                                                             \n",
      "                                                                 \n",
      " flatten (Flatten)           (None, 3136)              0         \n",
      "                                                                 \n",
      " dense (Dense)               (None, 100)               313700    \n",
      "                                                                 \n",
      " dropout (Dropout)           (None, 100)               0         \n",
      "                                                                 \n",
      " dense_1 (Dense)             (None, 10)                1010      \n",
      "                                                                 \n",
      "=================================================================\n",
      "Total params: 333,526\n",
      "Trainable params: 333,526\n",
      "Non-trainable params: 0\n",
      "_________________________________________________________________\n"
     ]
    }
   ],
   "source": [
    "m.add(keras.layers.Flatten())\n",
    "m.add(keras.layers.Dense(100,activation='relu'))\n",
    "m.add(keras.layers.Dropout(0.4))\n",
    "m.add(keras.layers.Dense(10,activation='softmax'))\n",
    "m.compile(optimizer='adam', loss='sparse_categorical_crossentropy', \n",
    "              metrics='accuracy')\n",
    "m.summary()"
   ]
  },
  {
   "cell_type": "code",
   "execution_count": 5,
   "id": "7f59d03d",
   "metadata": {},
   "outputs": [
    {
     "name": "stdout",
     "output_type": "stream",
     "text": [
      "Epoch 1/20\n",
      "1500/1500 [==============================] - 27s 18ms/step - loss: 0.5394 - accuracy: 0.8067 - val_loss: 0.3351 - val_accuracy: 0.8762\n",
      "Epoch 2/20\n",
      "1500/1500 [==============================] - 27s 18ms/step - loss: 0.3576 - accuracy: 0.8706 - val_loss: 0.2797 - val_accuracy: 0.8970\n",
      "Epoch 3/20\n",
      "1500/1500 [==============================] - 27s 18ms/step - loss: 0.3079 - accuracy: 0.8894 - val_loss: 0.2629 - val_accuracy: 0.9026\n",
      "Epoch 4/20\n",
      "1500/1500 [==============================] - 26s 18ms/step - loss: 0.2735 - accuracy: 0.9008 - val_loss: 0.2406 - val_accuracy: 0.9089\n",
      "Epoch 5/20\n",
      "1500/1500 [==============================] - 27s 18ms/step - loss: 0.2466 - accuracy: 0.9090 - val_loss: 0.2509 - val_accuracy: 0.9078\n",
      "Epoch 6/20\n",
      "1500/1500 [==============================] - 27s 18ms/step - loss: 0.2297 - accuracy: 0.9168 - val_loss: 0.2245 - val_accuracy: 0.9161\n",
      "Epoch 7/20\n",
      "1500/1500 [==============================] - 27s 18ms/step - loss: 0.2122 - accuracy: 0.9206 - val_loss: 0.2209 - val_accuracy: 0.9197\n",
      "Epoch 8/20\n",
      "1500/1500 [==============================] - 33s 22ms/step - loss: 0.1948 - accuracy: 0.9276 - val_loss: 0.2191 - val_accuracy: 0.9231\n",
      "Epoch 9/20\n",
      "1500/1500 [==============================] - 44s 29ms/step - loss: 0.1804 - accuracy: 0.9331 - val_loss: 0.2210 - val_accuracy: 0.9209\n",
      "Epoch 10/20\n",
      "1500/1500 [==============================] - 45s 30ms/step - loss: 0.1688 - accuracy: 0.9367 - val_loss: 0.2264 - val_accuracy: 0.9238\n"
     ]
    }
   ],
   "source": [
    "ck_p = keras.callbacks.ModelCheckpoint('best-cnn-model.h5', \n",
    "                                                save_best_only=True)\n",
    "e_stopping= keras.callbacks.EarlyStopping(patience=2,\n",
    "                                                  restore_best_weights=True)\n",
    "history = m.fit(t_x, t_y, epochs=20,\n",
    "                    validation_data=(tt_x, tt_y),\n",
    "                    callbacks=[ck_p, e_stopping])"
   ]
  },
  {
   "cell_type": "code",
   "execution_count": 6,
   "id": "51acfb00",
   "metadata": {},
   "outputs": [
    {
     "data": {
      "image/png": "[encoded data removed]",
      "text/plain": [
       "<Figure size 432x288 with 1 Axes>"
      ]
     },
     "metadata": {
      "needs_background": "light"
     },
     "output_type": "display_data"
    }
   ],
   "source": [
    "plt.plot(history.history['loss'])\n",
    "plt.plot(history.history['val_loss'])\n",
    "plt.xlabel('epoch')\n",
    "plt.ylabel('loss')\n",
    "plt.legend(['train', 'val'])\n",
    "plt.show()"
   ]
  },
  {
   "cell_type": "code",
   "execution_count": 7,
   "id": "3be6afd5",
   "metadata": {},
   "outputs": [
    {
     "name": "stdout",
     "output_type": "stream",
     "text": [
      "375/375 [==============================] - 4s 9ms/step - loss: 0.2191 - accuracy: 0.9231\n"
     ]
    },
    {
     "data": {
      "text/plain": [
       "[0.219148188829422, 0.9230833053588867]"
      ]
     },
     "execution_count": 7,
     "metadata": {},
     "output_type": "execute_result"
    }
   ],
   "source": [
    "m.evaluate(tt_x, tt_y)"
   ]
  },
  {
   "cell_type": "code",
   "execution_count": 8,
   "id": "a7936206",
   "metadata": {},
   "outputs": [
    {
     "data": {
      "image/png": "[encoded data removed]",
      "text/plain": [
       "<Figure size 432x288 with 1 Axes>"
      ]
     },
     "metadata": {
      "needs_background": "light"
     },
     "output_type": "display_data"
    }
   ],
   "source": [
    "plt.imshow(tt_x[0].reshape(28,28),cmap='gray_r')\n",
    "plt.show()"
   ]
  },
  {
   "cell_type": "code",
   "execution_count": 9,
   "id": "36e8a313",
   "metadata": {},
   "outputs": [],
   "source": [
    "ck_data=m.predict(tt_x[0:1])"
   ]
  },
  {
   "cell_type": "code",
   "execution_count": 10,
   "id": "e7edb6a3",
   "metadata": {},
   "outputs": [
    {
     "data": {
      "text/plain": [
       "<BarContainer object of 10 artists>"
      ]
     },
     "execution_count": 10,
     "metadata": {},
     "output_type": "execute_result"
    },
    {
     "data": {
      "image/png": "[encoded data removed]",
      "text/plain": [
       "<Figure size 432x288 with 1 Axes>"
      ]
     },
     "metadata": {
      "needs_background": "light"
     },
     "output_type": "display_data"
    }
   ],
   "source": [
    "plt.bar(range(1,11),ck_data[0])"
   ]
  }
 ],
 "metadata": {
  "kernelspec": {
   "display_name": "Python 3 (ipykernel)",
   "language": "python",
   "name": "python3"
  },
  "language_info": {
   "codemirror_mode": {
    "name": "ipython",
    "version": 3
   },
   "file_extension": ".py",
   "mimetype": "text/x-python",
   "name": "python",
   "nbconvert_exporter": "python",
   "pygments_lexer": "ipython3",
   "version": "3.9.7"
  }
 },
 "nbformat": 4,
 "nbformat_minor": 5
}
