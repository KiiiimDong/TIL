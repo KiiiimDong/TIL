{
 "cells": [
  {
   "cell_type": "code",
   "execution_count": 1,
   "id": "9a2abe38",
   "metadata": {},
   "outputs": [],
   "source": [
    "import pandas as pd\n",
    "import numpy as np\n",
    "train_df = pd.read_csv(\"train.csv\")\n",
    "test_df = pd.read_csv(\"test.csv\")\n",
    "\n",
    "train_id = train_df[\"PassengerId\"].values\n",
    "test_id = test_df[\"PassengerId\"].values\n",
    "\n",
    "all_df = train_df.append(test_df).set_index('PassengerId')\n",
    "all_df[\"Sex\"] = all_df[\"Sex\"].replace({\"male\":0,\"female\":1})\n",
    "\n",
    "all_df[\"Age\"].fillna(\n",
    "    all_df.groupby(\"Pclass\")[\"Age\"].transform(\"mean\"), inplace=True)\n",
    "all_df[\"cabin_count\"] = all_df[\"Cabin\"].map(\n",
    "         lambda x : len(x.split()) if type(x) == str else 0)\n",
    "def transform_status(x):\n",
    "    if \"Mrs\" in x or \"Ms\" in x:\n",
    "        return \"Mrs\"\n",
    "    elif \"Mr\" in x:\n",
    "        return \"Mr\"\n",
    "    elif \"Miss\" in x:\n",
    "        return \"Miss\"\n",
    "    elif \"Master\" in x:\n",
    "        return \"Master\"\n",
    "    elif \"Dr\" in x:\n",
    "        return \"Dr\"\n",
    "    elif \"Rev\" in x:\n",
    "        return \"Rev\"\n",
    "    elif \"Col\" in x:\n",
    "        return \"Col\"\n",
    "    else:\n",
    "        return \"0\"\n",
    "\n",
    "all_df[\"social_status\"] = all_df[\"Name\"].map(lambda x : transform_status(x))\n",
    "all_df[\"social_status\"].value_counts()\n",
    "#all_df[all_df[\"Embarked\"].isnull()]\n",
    "all_df = all_df.drop([62,830])\n",
    "train_id =np.delete(train_id, [62-1,830-1])\n",
    "#all_df[all_df[\"Fare\"].isnull()]\n",
    "all_df.groupby([\"Pclass\",\"Sex\"])[\"Fare\"].mean()\n",
    "all_df.loc[all_df[\"Fare\"].isnull(), \"Fare\"] = 12.415462\n",
    "all_df[\"cabin_type\"] = all_df[\"Cabin\"].map(lambda x : x[0] if type(x) == str else \"99\")\n",
    "del all_df[\"Cabin\"]\n",
    "del all_df[\"Name\"]\n",
    "del all_df[\"Ticket\"]\n",
    "y = all_df.loc[train_id, \"Survived\"].values\n",
    "del all_df[\"Survived\"]\n",
    "X_df = pd.get_dummies(all_df)\n",
    "X = X_df.values\n",
    "from sklearn.preprocessing import MinMaxScaler\n",
    "mm = MinMaxScaler()\n",
    "X = mm.fit_transform(X)"
   ]
  },
  {
   "cell_type": "code",
   "execution_count": 3,
   "id": "ffdeb06e",
   "metadata": {},
   "outputs": [
    {
     "data": {
      "text/plain": [
       "((889,), (1307, 27))"
      ]
     },
     "execution_count": 3,
     "metadata": {},
     "output_type": "execute_result"
    }
   ],
   "source": [
    "y.shape,X.shape"
   ]
  },
  {
   "cell_type": "code",
   "execution_count": 4,
   "id": "93358942",
   "metadata": {},
   "outputs": [],
   "source": [
    "t_x = X[:len(train_id)]\n",
    "tt_x = X[len(train_id):]"
   ]
  },
  {
   "cell_type": "code",
   "execution_count": 6,
   "id": "52cb2d0e",
   "metadata": {},
   "outputs": [],
   "source": [
    "from sklearn.tree import DecisionTreeClassifier\n",
    "from sklearn.model_selection import cross_val_score\n",
    "from sklearn.metrics import accuracy_score\n",
    "t_l = []\n",
    "tt_l = []\n",
    "for i in range(3,20):\n",
    "    dt = DecisionTreeClassifier(min_samples_leaf=i)\n",
    "    acc = cross_val_score(dt, t_x, y, scoring='accuracy', cv=5).mean()\n",
    "    t_l.append(accuracy_score(dt.fit(t_x,y).predict(t_x),y))\n",
    "    tt_l.append(acc)\n",
    "r = pd.DataFrame(t_l, index=range(3,20),columns=['train'])\n",
    "r['test']=tt_l\n",
    "r.plot()"
   ]
  },
  {
   "cell_type": "code",
   "execution_count": null,
   "id": "660ef386",
   "metadata": {},
   "outputs": [],
   "source": []
  }
 ],
 "metadata": {
  "kernelspec": {
   "display_name": "Python 3 (ipykernel)",
   "language": "python",
   "name": "python3"
  },
  "language_info": {
   "codemirror_mode": {
    "name": "ipython",
    "version": 3
   },
   "file_extension": ".py",
   "mimetype": "text/x-python",
   "name": "python",
   "nbconvert_exporter": "python",
   "pygments_lexer": "ipython3",
   "version": "3.9.7"
  }
 },
 "nbformat": 4,
 "nbformat_minor": 5
}
