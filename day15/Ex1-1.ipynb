{
 "cells": [
  {
   "cell_type": "code",
   "execution_count": 1,
   "id": "244c176c",
   "metadata": {},
   "outputs": [],
   "source": [
    "import numpy as np\n",
    "from sklearn.linear_model import LogisticRegression\n",
    "from sklearn.tree import DecisionTreeClassifier\n",
    "from sklearn.naive_bayes import GaussianNB\n",
    "from sklearn.ensemble import VotingClassifier"
   ]
  },
  {
   "cell_type": "code",
   "execution_count": 2,
   "id": "e110201b",
   "metadata": {},
   "outputs": [],
   "source": [
    "X = np.load('day7_data2_X.npy')\n",
    "y = np.load('day7_data2_y.npy')"
   ]
  },
  {
   "cell_type": "code",
   "execution_count": 3,
   "id": "7d75a261",
   "metadata": {},
   "outputs": [],
   "source": [
    "c1 = LogisticRegression(random_state=1)\n",
    "c2 = DecisionTreeClassifier(random_state=1, max_depth=4)\n",
    "c3 = GaussianNB()\n",
    "ec = VotingClassifier(estimators=[('lr',c1),('rf',c2),('gnb',c3)],voting='hard')"
   ]
  },
  {
   "cell_type": "code",
   "execution_count": 4,
   "id": "6e126987",
   "metadata": {},
   "outputs": [
    {
     "data": {
      "text/plain": [
       "0.8222941661905668"
      ]
     },
     "execution_count": 4,
     "metadata": {},
     "output_type": "execute_result"
    }
   ],
   "source": [
    "from sklearn.model_selection import cross_val_score\n",
    "cross_val_score(ec, X, y, cv=5).mean()"
   ]
  },
  {
   "cell_type": "code",
   "execution_count": 5,
   "id": "04944a02",
   "metadata": {},
   "outputs": [
    {
     "data": {
      "text/plain": [
       "0.8290420872214816"
      ]
     },
     "execution_count": 5,
     "metadata": {},
     "output_type": "execute_result"
    }
   ],
   "source": [
    "cross_val_score(c1, X, y, cv=5).mean()"
   ]
  },
  {
   "cell_type": "code",
   "execution_count": 6,
   "id": "7d3a9bf2",
   "metadata": {},
   "outputs": [
    {
     "data": {
      "text/plain": [
       "0.8223068621849807"
      ]
     },
     "execution_count": 6,
     "metadata": {},
     "output_type": "execute_result"
    }
   ],
   "source": [
    "cross_val_score(c2, X, y, cv=5).mean()"
   ]
  },
  {
   "cell_type": "code",
   "execution_count": 7,
   "id": "2dfe3c83",
   "metadata": {},
   "outputs": [
    {
     "data": {
      "text/plain": [
       "0.4600139655938551"
      ]
     },
     "execution_count": 7,
     "metadata": {},
     "output_type": "execute_result"
    }
   ],
   "source": [
    "cross_val_score(c3, X, y, cv=5).mean()"
   ]
  },
  {
   "cell_type": "code",
   "execution_count": 8,
   "id": "1471c5f6",
   "metadata": {},
   "outputs": [
    {
     "data": {
      "text/plain": [
       "0.8222687742017394"
      ]
     },
     "execution_count": 8,
     "metadata": {},
     "output_type": "execute_result"
    }
   ],
   "source": [
    "c1 = LogisticRegression(random_state=1)\n",
    "c2 = DecisionTreeClassifier(random_state=1)\n",
    "ec1 = VotingClassifier(estimators=[('lr',c1),('dt',c2)],voting='hard')\n",
    "cross_val_score(ec1, X, y, cv=5).mean()"
   ]
  },
  {
   "cell_type": "code",
   "execution_count": 9,
   "id": "3e770f76",
   "metadata": {},
   "outputs": [],
   "source": [
    "#LogisticRegression(C=,penalty=,solver=,)\n",
    "#DecisionTreeClassifier(min_samples_leaf=max_depth=criterion=)\n",
    "c_params = [0.1, 5.0, 7.0, 10.0, 15.0, 20.0, 100.0]\n",
    "\n",
    "params = {\n",
    "    'lr__solver':['liblinear'], # extend라 구조로 전달\n",
    "    'lr__penalty':['l2'],\n",
    "    'lr__C':c_params,\n",
    "    'dt__criterion':['gini', 'entropy'],\n",
    "    'dt__max_depth':[10,8,7,6,5,4,3,2],\n",
    "    'dt__min_samples_leaf':[1,2,3,4,5,6,7,8,9],\n",
    "}"
   ]
  },
  {
   "cell_type": "code",
   "execution_count": 10,
   "id": "6ab32ef4",
   "metadata": {},
   "outputs": [
    {
     "data": {
      "text/plain": [
       "0.8425569732749316"
      ]
     },
     "execution_count": 10,
     "metadata": {},
     "output_type": "execute_result"
    }
   ],
   "source": [
    "from sklearn.model_selection import GridSearchCV\n",
    "g = GridSearchCV(estimator=ec1, param_grid=params, cv=5)\n",
    "g.fit(X,y)\n",
    "g.best_score_ # 다소 시간이 걸린다."
   ]
  },
  {
   "cell_type": "code",
   "execution_count": 11,
   "id": "206c7f62",
   "metadata": {},
   "outputs": [
    {
     "data": {
      "text/plain": [
       "{'dt__criterion': 'gini',\n",
       " 'dt__max_depth': 10,\n",
       " 'dt__min_samples_leaf': 5,\n",
       " 'lr__C': 5.0,\n",
       " 'lr__penalty': 'l2',\n",
       " 'lr__solver': 'liblinear'}"
      ]
     },
     "execution_count": 11,
     "metadata": {},
     "output_type": "execute_result"
    }
   ],
   "source": [
    "g.best_params_"
   ]
  },
  {
   "cell_type": "code",
   "execution_count": 12,
   "id": "a73ccacd",
   "metadata": {},
   "outputs": [],
   "source": [
    "ec2 = VotingClassifier(estimators=[('A',c1),('B',c2)],voting='hard')\n",
    "params = {'B__criterion': ['gini'],\n",
    " 'B__max_depth': [10],\n",
    " 'B__min_samples_leaf': [5],\n",
    " 'A__C': [5.0],\n",
    " 'A__penalty': ['l2'],\n",
    " 'A__solver': ['liblinear']}\n",
    "g1 = GridSearchCV(estimator=ec2, param_grid=params, cv=5)\n",
    "#g.best_score_ 단일이라 안나옴."
   ]
  },
  {
   "cell_type": "code",
   "execution_count": 13,
   "id": "928bdad3",
   "metadata": {},
   "outputs": [
    {
     "data": {
      "text/plain": [
       "0.8425569732749316"
      ]
     },
     "execution_count": 13,
     "metadata": {},
     "output_type": "execute_result"
    }
   ],
   "source": [
    "c1 = LogisticRegression(solver='liblinear',penalty='l2',C=5.0, random_state=1)\n",
    "c2 = DecisionTreeClassifier(criterion='gini',max_depth=10,min_samples_leaf=5,random_state=1)\n",
    "\n",
    "ec3 = VotingClassifier(estimators=[('A',c1),('B',c2)],voting='hard')\n",
    "cross_val_score(ec3,X,y,cv=5).mean()"
   ]
  },
  {
   "cell_type": "markdown",
   "id": "97dfb305",
   "metadata": {},
   "source": [
    "앙상블에서 그냥  best score를 적용하는 것 보다 best parameter를 찾아서 모델에 직접 입력해준다음 교차검증 하는 것이 성능적인 측면에서 뛰어나다."
   ]
  },
  {
   "cell_type": "markdown",
   "id": "d59a16aa",
   "metadata": {},
   "source": [
    "정리 조합"
   ]
  },
  {
   "cell_type": "code",
   "execution_count": 14,
   "id": "6261f45b",
   "metadata": {},
   "outputs": [
    {
     "data": {
      "text/plain": [
       "0.8425569732749316"
      ]
     },
     "execution_count": 14,
     "metadata": {},
     "output_type": "execute_result"
    }
   ],
   "source": [
    "import numpy as np # 파일로드\n",
    "from sklearn.linear_model import LogisticRegression # 모델1\n",
    "from sklearn.tree import DecisionTreeClassifier # 모델2\n",
    "from sklearn.ensemble import VotingClassifier #모델조합\n",
    "from sklearn.model_selection import cross_val_score # 성능평가\n",
    "\n",
    "# data로드\n",
    "X = np.load('day7_data2_X.npy')\n",
    "y = np.load('day7_data2_y.npy')\n",
    "# 모델생성(최적의 파라미터)\n",
    "c1 = LogisticRegression(solver='liblinear',penalty='l2',C=5.0, random_state=1)\n",
    "c2 = DecisionTreeClassifier(criterion='gini',max_depth=10,min_samples_leaf=5,random_state=1)\n",
    "# 앙상블 모델 생성\n",
    "ec3 = VotingClassifier(estimators=[('c1',c1),('c2',c2)],voting='hard')\n",
    "# 검증\n",
    "cross_val_score(ec3,X,y,cv=5).mean()"
   ]
  }
 ],
 "metadata": {
  "kernelspec": {
   "display_name": "Python 3 (ipykernel)",
   "language": "python",
   "name": "python3"
  },
  "language_info": {
   "codemirror_mode": {
    "name": "ipython",
    "version": 3
   },
   "file_extension": ".py",
   "mimetype": "text/x-python",
   "name": "python",
   "nbconvert_exporter": "python",
   "pygments_lexer": "ipython3",
   "version": "3.9.7"
  }
 },
 "nbformat": 4,
 "nbformat_minor": 5
}
