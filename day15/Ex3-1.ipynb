{
 "cells": [
  {
   "cell_type": "code",
   "execution_count": 1,
   "id": "63ba36db",
   "metadata": {},
   "outputs": [],
   "source": [
    "import numpy as np \n",
    "from sklearn.tree import DecisionTreeClassifier \n",
    "from sklearn.model_selection import cross_val_score \n",
    "\n",
    "X = np.load('day7_data2_X.npy')\n",
    "y = np.load('day7_data2_y.npy')"
   ]
  },
  {
   "cell_type": "code",
   "execution_count": 2,
   "id": "905f0be1",
   "metadata": {},
   "outputs": [],
   "source": [
    "from sklearn.ensemble import AdaBoostClassifier , RandomForestClassifier\n",
    "aec = AdaBoostClassifier(base_estimator=DecisionTreeClassifier(max_depth=2),\n",
    "                        n_estimators=500)"
   ]
  },
  {
   "cell_type": "code",
   "execution_count": 3,
   "id": "dee2f06b",
   "metadata": {},
   "outputs": [
    {
     "data": {
      "text/plain": [
       "0.788567257030407"
      ]
     },
     "execution_count": 3,
     "metadata": {},
     "output_type": "execute_result"
    }
   ],
   "source": [
    "cross_val_score(aec,X,y,cv=5).mean()"
   ]
  },
  {
   "cell_type": "code",
   "execution_count": 4,
   "id": "0d5637d1",
   "metadata": {},
   "outputs": [
    {
     "data": {
      "text/plain": [
       "0.8020694470894434"
      ]
     },
     "execution_count": 4,
     "metadata": {},
     "output_type": "execute_result"
    }
   ],
   "source": [
    "ck1 = RandomForestClassifier(n_estimators=500)\n",
    "cross_val_score(ck1,X,y,cv=5).mean()"
   ]
  },
  {
   "cell_type": "code",
   "execution_count": 5,
   "id": "002d233b",
   "metadata": {},
   "outputs": [
    {
     "data": {
      "text/plain": [
       "0.8335745572271949"
      ]
     },
     "execution_count": 5,
     "metadata": {},
     "output_type": "execute_result"
    }
   ],
   "source": [
    "#DecisionTreeClassifier(max_features=criterion=)\n",
    "aec1 = AdaBoostClassifier(base_estimator=DecisionTreeClassifier(max_depth=2),\n",
    "                        n_estimators=500)\n",
    "params = {\n",
    "    'n_estimators':[20,22,23,24,25],\n",
    "    'learning_rate':[0.4,0.45,0.5,0.55,0.6],\n",
    "    'base_estimator__criterion':['gini','entropy'],\n",
    "    'base_estimator__max_features':[7,8],\n",
    "    'base_estimator__max_depth':[1,2],\n",
    "}\n",
    "from sklearn.model_selection import GridSearchCV\n",
    "g = GridSearchCV(estimator=aec1,param_grid=params,cv=5,n_jobs=-1)\n",
    "g.fit(X,y)\n",
    "g.best_score_"
   ]
  },
  {
   "cell_type": "code",
   "execution_count": 6,
   "id": "a00ec338",
   "metadata": {},
   "outputs": [
    {
     "data": {
      "text/plain": [
       "{'base_estimator__criterion': 'gini',\n",
       " 'base_estimator__max_depth': 2,\n",
       " 'base_estimator__max_features': 7,\n",
       " 'learning_rate': 0.5,\n",
       " 'n_estimators': 22}"
      ]
     },
     "execution_count": 6,
     "metadata": {},
     "output_type": "execute_result"
    }
   ],
   "source": [
    "g.best_params_"
   ]
  },
  {
   "cell_type": "markdown",
   "id": "f67d5560",
   "metadata": {},
   "source": [
    "여기까지가 지도학습, 머신러닝 베이스로 회귀와 분류 "
   ]
  },
  {
   "cell_type": "code",
   "execution_count": null,
   "id": "1cd93373",
   "metadata": {},
   "outputs": [],
   "source": []
  }
 ],
 "metadata": {
  "kernelspec": {
   "display_name": "Python 3 (ipykernel)",
   "language": "python",
   "name": "python3"
  },
  "language_info": {
   "codemirror_mode": {
    "name": "ipython",
    "version": 3
   },
   "file_extension": ".py",
   "mimetype": "text/x-python",
   "name": "python",
   "nbconvert_exporter": "python",
   "pygments_lexer": "ipython3",
   "version": "3.9.7"
  }
 },
 "nbformat": 4,
 "nbformat_minor": 5
}
