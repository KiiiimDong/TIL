{
 "cells": [
  {
   "cell_type": "code",
   "execution_count": 1,
   "id": "708fffb3",
   "metadata": {},
   "outputs": [
    {
     "data": {
      "text/plain": [
       "(48000, 28, 28)"
      ]
     },
     "execution_count": 1,
     "metadata": {},
     "output_type": "execute_result"
    }
   ],
   "source": [
    "from tensorflow import keras\n",
    "import numpy as np\n",
    "import tensorflow as tf\n",
    "(t_x,t_y),(tt_x,tt_y) = keras.datasets.fashion_mnist.load_data()\n",
    "s_t_x = t_x/255.0\n",
    "s_tt_x = tt_x/255.0\n",
    "from sklearn.model_selection import train_test_split\n",
    "t_x,v_x,t_y,v_y = train_test_split(s_t_x,t_y,test_size=0.2,random_state=42)\n",
    "t_x.shape"
   ]
  },
  {
   "cell_type": "code",
   "execution_count": 2,
   "id": "24384e67",
   "metadata": {},
   "outputs": [
    {
     "name": "stdout",
     "output_type": "stream",
     "text": [
      "Model: \"sequential\"\n",
      "_________________________________________________________________\n",
      " Layer (type)                Output Shape              Param #   \n",
      "=================================================================\n",
      " flatten (Flatten)           (None, 784)               0         \n",
      "                                                                 \n",
      " hidden (Dense)              (None, 100)               78500     \n",
      "                                                                 \n",
      " output (Dense)              (None, 10)                1010      \n",
      "                                                                 \n",
      "=================================================================\n",
      "Total params: 79,510\n",
      "Trainable params: 79,510\n",
      "Non-trainable params: 0\n",
      "_________________________________________________________________\n",
      "Epoch 1/5\n",
      "1500/1500 [==============================] - 2s 1ms/step - loss: 0.5316 - accuracy: 0.8137\n",
      "Epoch 2/5\n",
      "1500/1500 [==============================] - 2s 1ms/step - loss: 0.3940 - accuracy: 0.8593\n",
      "Epoch 3/5\n",
      "1500/1500 [==============================] - 2s 1ms/step - loss: 0.3547 - accuracy: 0.8724\n",
      "Epoch 4/5\n",
      "1500/1500 [==============================] - 2s 1ms/step - loss: 0.3361 - accuracy: 0.8802\n",
      "Epoch 5/5\n",
      "1500/1500 [==============================] - 2s 1ms/step - loss: 0.3206 - accuracy: 0.8853\n"
     ]
    },
    {
     "data": {
      "text/plain": [
       "<keras.callbacks.History at 0x1f5692cf910>"
      ]
     },
     "execution_count": 2,
     "metadata": {},
     "output_type": "execute_result"
    }
   ],
   "source": [
    "model = keras.Sequential()\n",
    "model.add(keras.layers.Flatten(input_shape=(28,28)))\n",
    "model.add(keras.layers.Dense(100,activation='relu',name = 'hidden'))\n",
    "model.add(keras.layers.Dense(10,activation='softmax',name = 'output'))\n",
    "model.summary()\n",
    "model.compile(loss='sparse_categorical_crossentropy',metrics='accuracy')\n",
    "model.fit(t_x,t_y,epochs=5)"
   ]
  },
  {
   "cell_type": "code",
   "execution_count": 3,
   "id": "9eaca4ef",
   "metadata": {},
   "outputs": [
    {
     "name": "stdout",
     "output_type": "stream",
     "text": [
      "375/375 [==============================] - 1s 891us/step - loss: 0.3886 - accuracy: 0.8715\n"
     ]
    },
    {
     "data": {
      "text/plain": [
       "[0.38858240842819214, 0.8715000152587891]"
      ]
     },
     "execution_count": 3,
     "metadata": {},
     "output_type": "execute_result"
    }
   ],
   "source": [
    "model.evaluate(v_x,v_y)"
   ]
  },
  {
   "cell_type": "code",
   "execution_count": 4,
   "id": "9da896cd",
   "metadata": {},
   "outputs": [],
   "source": [
    "model.compile(optimizer='sgd',loss='sparse_categorical_crossentropy',metrics='accuracy')\n",
    "# 미리 있는 sgd불러와서 사용."
   ]
  },
  {
   "cell_type": "code",
   "execution_count": 5,
   "id": "34628516",
   "metadata": {},
   "outputs": [],
   "source": [
    "sgd = keras.optimizers.SGD(learning_rate=0.1) # 원하는 방식으로 객체 생성가능.\n",
    "model.compile(optimizer=sgd,loss='sparse_categorical_crossentropy',metrics='accuracy') # 그 객체를 넣으면 된다. "
   ]
  },
  {
   "cell_type": "code",
   "execution_count": 6,
   "id": "5f1ba7ce",
   "metadata": {},
   "outputs": [],
   "source": [
    "sgd = keras.optimizers.SGD(momentum=0.9,nesterov=True) # 모멘텀,네스테로프모멘텀"
   ]
  },
  {
   "cell_type": "code",
   "execution_count": 7,
   "id": "53890704",
   "metadata": {},
   "outputs": [
    {
     "data": {
      "text/plain": [
       "keras.optimizer_v2.rmsprop.RMSprop"
      ]
     },
     "execution_count": 7,
     "metadata": {},
     "output_type": "execute_result"
    }
   ],
   "source": [
    "keras.optimizers.RMSprop"
   ]
  },
  {
   "cell_type": "code",
   "execution_count": 8,
   "id": "93b79e65",
   "metadata": {},
   "outputs": [
    {
     "data": {
      "text/plain": [
       "keras.optimizer_v2.adagrad.Adagrad"
      ]
     },
     "execution_count": 8,
     "metadata": {},
     "output_type": "execute_result"
    }
   ],
   "source": [
    "keras.optimizers.Adagrad # 가장많이 활용되는 모델"
   ]
  },
  {
   "cell_type": "code",
   "execution_count": 9,
   "id": "8410b293",
   "metadata": {},
   "outputs": [
    {
     "name": "stdout",
     "output_type": "stream",
     "text": [
      "Model: \"sequential_1\"\n",
      "_________________________________________________________________\n",
      " Layer (type)                Output Shape              Param #   \n",
      "=================================================================\n",
      " flatten_1 (Flatten)         (None, 784)               0         \n",
      "                                                                 \n",
      " hidden (Dense)              (None, 100)               78500     \n",
      "                                                                 \n",
      " output (Dense)              (None, 10)                1010      \n",
      "                                                                 \n",
      "=================================================================\n",
      "Total params: 79,510\n",
      "Trainable params: 79,510\n",
      "Non-trainable params: 0\n",
      "_________________________________________________________________\n"
     ]
    }
   ],
   "source": [
    "model1 = keras.Sequential()\n",
    "model1.add(keras.layers.Flatten(input_shape=(28,28)))\n",
    "model1.add(keras.layers.Dense(100,activation='relu',name = 'hidden'))\n",
    "model1.add(keras.layers.Dense(10,activation='softmax',name = 'output'))\n",
    "model1.summary()"
   ]
  },
  {
   "cell_type": "code",
   "execution_count": 10,
   "id": "5d6f8259",
   "metadata": {},
   "outputs": [
    {
     "name": "stdout",
     "output_type": "stream",
     "text": [
      "Epoch 1/5\n",
      "1500/1500 [==============================] - 2s 1ms/step - loss: 0.5281 - accuracy: 0.8150\n",
      "Epoch 2/5\n",
      "1500/1500 [==============================] - 2s 1ms/step - loss: 0.3989 - accuracy: 0.8571\n",
      "Epoch 3/5\n",
      "1500/1500 [==============================] - 2s 1ms/step - loss: 0.3549 - accuracy: 0.8719\n",
      "Epoch 4/5\n",
      "1500/1500 [==============================] - 2s 1ms/step - loss: 0.3300 - accuracy: 0.8796\n",
      "Epoch 5/5\n",
      "1500/1500 [==============================] - 2s 1ms/step - loss: 0.3123 - accuracy: 0.8848\n"
     ]
    },
    {
     "data": {
      "text/plain": [
       "<keras.callbacks.History at 0x1f56926a910>"
      ]
     },
     "execution_count": 10,
     "metadata": {},
     "output_type": "execute_result"
    }
   ],
   "source": [
    "model1.compile(optimizer='adam',loss='sparse_categorical_crossentropy',metrics='accuracy')\n",
    "model1.fit(t_x,t_y,epochs=5)"
   ]
  },
  {
   "cell_type": "code",
   "execution_count": 11,
   "id": "04d6eb5b",
   "metadata": {},
   "outputs": [
    {
     "name": "stdout",
     "output_type": "stream",
     "text": [
      "375/375 [==============================] - 0s 899us/step - loss: 0.3886 - accuracy: 0.8715\n",
      "375/375 [==============================] - 0s 896us/step - loss: 0.3470 - accuracy: 0.8736\n"
     ]
    },
    {
     "data": {
      "text/plain": [
       "([0.38858240842819214, 0.8715000152587891],\n",
       " [0.3469923436641693, 0.8735833168029785])"
      ]
     },
     "execution_count": 11,
     "metadata": {},
     "output_type": "execute_result"
    }
   ],
   "source": [
    "model.evaluate(v_x,v_y),model1.evaluate(v_x,v_y)"
   ]
  },
  {
   "cell_type": "markdown",
   "id": "0109d2c5",
   "metadata": {},
   "source": [
    "data 확인"
   ]
  },
  {
   "cell_type": "code",
   "execution_count": 12,
   "id": "27812dca",
   "metadata": {},
   "outputs": [
    {
     "data": {
      "text/plain": [
       "(48000, 28, 28)"
      ]
     },
     "execution_count": 12,
     "metadata": {},
     "output_type": "execute_result"
    }
   ],
   "source": [
    "t_x.shape"
   ]
  },
  {
   "cell_type": "markdown",
   "id": "4836ec6d",
   "metadata": {},
   "source": [
    "모델생성"
   ]
  },
  {
   "cell_type": "code",
   "execution_count": 13,
   "id": "4271d51d",
   "metadata": {},
   "outputs": [
    {
     "name": "stdout",
     "output_type": "stream",
     "text": [
      "Model: \"sequential_2\"\n",
      "_________________________________________________________________\n",
      " Layer (type)                Output Shape              Param #   \n",
      "=================================================================\n",
      " flatten_2 (Flatten)         (None, 784)               0         \n",
      "                                                                 \n",
      " dense (Dense)               (None, 100)               78500     \n",
      "                                                                 \n",
      " dense_1 (Dense)             (None, 300)               30300     \n",
      "                                                                 \n",
      " dense_2 (Dense)             (None, 10)                3010      \n",
      "                                                                 \n",
      "=================================================================\n",
      "Total params: 111,810\n",
      "Trainable params: 111,810\n",
      "Non-trainable params: 0\n",
      "_________________________________________________________________\n"
     ]
    }
   ],
   "source": [
    "m1 = keras.Sequential()\n",
    "m1.add(keras.layers.Flatten(input_shape=(28,28)))\n",
    "m1.add(keras.layers.Dense(100,activation='relu'))\n",
    "m1.add(keras.layers.Dense(300,activation='relu'))\n",
    "m1.add(keras.layers.Dense(10,activation='softmax'))\n",
    "m1.summary()"
   ]
  },
  {
   "cell_type": "code",
   "execution_count": 14,
   "id": "ec0086b3",
   "metadata": {},
   "outputs": [
    {
     "name": "stdout",
     "output_type": "stream",
     "text": [
      "Epoch 1/30\n",
      "1500/1500 [==============================] - 3s 2ms/step - loss: 0.4985 - accuracy: 0.8201 - val_loss: 0.3975 - val_accuracy: 0.8568\n",
      "Epoch 2/30\n",
      "1500/1500 [==============================] - 3s 2ms/step - loss: 0.3729 - accuracy: 0.8641 - val_loss: 0.3922 - val_accuracy: 0.8539\n",
      "Epoch 3/30\n",
      "1500/1500 [==============================] - 3s 2ms/step - loss: 0.3373 - accuracy: 0.8771 - val_loss: 0.3527 - val_accuracy: 0.8708\n",
      "Epoch 4/30\n",
      "1500/1500 [==============================] - 2s 2ms/step - loss: 0.3134 - accuracy: 0.8829 - val_loss: 0.3651 - val_accuracy: 0.8666\n",
      "Epoch 5/30\n",
      "1500/1500 [==============================] - 3s 2ms/step - loss: 0.2906 - accuracy: 0.8916 - val_loss: 0.3455 - val_accuracy: 0.8744\n",
      "Epoch 6/30\n",
      "1500/1500 [==============================] - 3s 2ms/step - loss: 0.2790 - accuracy: 0.8950 - val_loss: 0.3528 - val_accuracy: 0.8760\n",
      "Epoch 7/30\n",
      "1500/1500 [==============================] - 2s 2ms/step - loss: 0.2646 - accuracy: 0.8991 - val_loss: 0.3360 - val_accuracy: 0.8803\n",
      "Epoch 8/30\n",
      "1500/1500 [==============================] - 3s 2ms/step - loss: 0.2482 - accuracy: 0.9052 - val_loss: 0.3368 - val_accuracy: 0.8857\n",
      "Epoch 9/30\n",
      "1500/1500 [==============================] - 3s 2ms/step - loss: 0.2421 - accuracy: 0.9077 - val_loss: 0.3346 - val_accuracy: 0.8850\n",
      "Epoch 10/30\n",
      "1500/1500 [==============================] - 2s 2ms/step - loss: 0.2331 - accuracy: 0.9114 - val_loss: 0.3474 - val_accuracy: 0.8803\n",
      "Epoch 11/30\n",
      "1500/1500 [==============================] - 3s 2ms/step - loss: 0.2244 - accuracy: 0.9142 - val_loss: 0.3483 - val_accuracy: 0.8857\n",
      "Epoch 12/30\n",
      "1500/1500 [==============================] - 2s 2ms/step - loss: 0.2126 - accuracy: 0.9193 - val_loss: 0.3310 - val_accuracy: 0.8871\n",
      "Epoch 13/30\n",
      "1500/1500 [==============================] - 3s 2ms/step - loss: 0.2065 - accuracy: 0.9214 - val_loss: 0.3557 - val_accuracy: 0.8856\n",
      "Epoch 14/30\n",
      "1500/1500 [==============================] - 3s 2ms/step - loss: 0.1992 - accuracy: 0.9225 - val_loss: 0.3408 - val_accuracy: 0.8876\n",
      "Epoch 15/30\n",
      "1500/1500 [==============================] - 2s 2ms/step - loss: 0.1947 - accuracy: 0.9254 - val_loss: 0.3582 - val_accuracy: 0.8851\n",
      "Epoch 16/30\n",
      "1500/1500 [==============================] - 2s 2ms/step - loss: 0.1873 - accuracy: 0.9279 - val_loss: 0.3476 - val_accuracy: 0.8918\n",
      "Epoch 17/30\n",
      "1500/1500 [==============================] - 2s 2ms/step - loss: 0.1772 - accuracy: 0.9329 - val_loss: 0.3703 - val_accuracy: 0.8852\n",
      "Epoch 18/30\n",
      "1500/1500 [==============================] - 2s 2ms/step - loss: 0.1749 - accuracy: 0.9331 - val_loss: 0.3782 - val_accuracy: 0.8878\n",
      "Epoch 19/30\n",
      "1500/1500 [==============================] - 2s 2ms/step - loss: 0.1684 - accuracy: 0.9346 - val_loss: 0.3755 - val_accuracy: 0.8938\n",
      "Epoch 20/30\n",
      "1500/1500 [==============================] - 2s 2ms/step - loss: 0.1604 - accuracy: 0.9379 - val_loss: 0.3789 - val_accuracy: 0.8913\n",
      "Epoch 21/30\n",
      "1500/1500 [==============================] - 3s 2ms/step - loss: 0.1543 - accuracy: 0.9403 - val_loss: 0.4041 - val_accuracy: 0.8885\n",
      "Epoch 22/30\n",
      "1500/1500 [==============================] - 2s 2ms/step - loss: 0.1531 - accuracy: 0.9412 - val_loss: 0.3881 - val_accuracy: 0.8917\n",
      "Epoch 23/30\n",
      "1500/1500 [==============================] - 2s 2ms/step - loss: 0.1458 - accuracy: 0.9433 - val_loss: 0.4134 - val_accuracy: 0.8852\n",
      "Epoch 24/30\n",
      "1500/1500 [==============================] - 2s 2ms/step - loss: 0.1428 - accuracy: 0.9453 - val_loss: 0.4017 - val_accuracy: 0.8916\n",
      "Epoch 25/30\n",
      "1500/1500 [==============================] - 2s 2ms/step - loss: 0.1409 - accuracy: 0.9453 - val_loss: 0.4223 - val_accuracy: 0.8909\n",
      "Epoch 26/30\n",
      "1500/1500 [==============================] - 2s 2ms/step - loss: 0.1337 - accuracy: 0.9490 - val_loss: 0.4263 - val_accuracy: 0.8899\n",
      "Epoch 27/30\n",
      "1500/1500 [==============================] - 2s 2ms/step - loss: 0.1303 - accuracy: 0.9506 - val_loss: 0.4371 - val_accuracy: 0.8901\n",
      "Epoch 28/30\n",
      "1500/1500 [==============================] - 2s 2ms/step - loss: 0.1294 - accuracy: 0.9508 - val_loss: 0.4266 - val_accuracy: 0.8932\n",
      "Epoch 29/30\n",
      "1500/1500 [==============================] - 3s 2ms/step - loss: 0.1211 - accuracy: 0.9535 - val_loss: 0.4309 - val_accuracy: 0.8946\n",
      "Epoch 30/30\n",
      "1500/1500 [==============================] - 2s 2ms/step - loss: 0.1201 - accuracy: 0.9542 - val_loss: 0.4389 - val_accuracy: 0.8916\n"
     ]
    }
   ],
   "source": [
    "m1.compile(optimizer='adam',loss='sparse_categorical_crossentropy',metrics='accuracy')\n",
    "history=m1.fit(t_x,t_y,epochs=30,validation_data=(v_x,v_y))"
   ]
  },
  {
   "cell_type": "code",
   "execution_count": 15,
   "id": "1f7e542d",
   "metadata": {},
   "outputs": [
    {
     "data": {
      "text/plain": [
       "{'verbose': 1, 'epochs': 30, 'steps': 1500}"
      ]
     },
     "execution_count": 15,
     "metadata": {},
     "output_type": "execute_result"
    }
   ],
   "source": [
    "history.params"
   ]
  },
  {
   "cell_type": "code",
   "execution_count": 16,
   "id": "7d2fa5a2",
   "metadata": {},
   "outputs": [
    {
     "data": {
      "text/plain": [
       "dict_keys(['loss', 'accuracy', 'val_loss', 'val_accuracy'])"
      ]
     },
     "execution_count": 16,
     "metadata": {},
     "output_type": "execute_result"
    }
   ],
   "source": [
    "history.history.keys()"
   ]
  },
  {
   "cell_type": "code",
   "execution_count": 17,
   "id": "32f77012",
   "metadata": {},
   "outputs": [
    {
     "data": {
      "text/plain": [
       "(0.0, 1.0)"
      ]
     },
     "execution_count": 17,
     "metadata": {},
     "output_type": "execute_result"
    },
    {
     "data": {
      "image/png": "[encoded data removed]",
      "text/plain": [
       "<Figure size 576x360 with 1 Axes>"
      ]
     },
     "metadata": {
      "needs_background": "light"
     },
     "output_type": "display_data"
    }
   ],
   "source": [
    "import pandas as pd\n",
    "import matplotlib.pyplot as plt\n",
    "pd.DataFrame(history.history).plot(figsize=(8,5))\n",
    "plt.grid(True)\n",
    "plt.gca().set_ylim(0,1)"
   ]
  },
  {
   "cell_type": "code",
   "execution_count": 18,
   "id": "635db832",
   "metadata": {},
   "outputs": [
    {
     "name": "stdout",
     "output_type": "stream",
     "text": [
      "Model: \"sequential_3\"\n",
      "_________________________________________________________________\n",
      " Layer (type)                Output Shape              Param #   \n",
      "=================================================================\n",
      " flatten_3 (Flatten)         (None, 784)               0         \n",
      "                                                                 \n",
      " dense_3 (Dense)             (None, 300)               235500    \n",
      "                                                                 \n",
      " dense_4 (Dense)             (None, 100)               30100     \n",
      "                                                                 \n",
      " dense_5 (Dense)             (None, 10)                1010      \n",
      "                                                                 \n",
      "=================================================================\n",
      "Total params: 266,610\n",
      "Trainable params: 266,610\n",
      "Non-trainable params: 0\n",
      "_________________________________________________________________\n"
     ]
    }
   ],
   "source": [
    "m2 = keras.Sequential()\n",
    "m2.add(keras.layers.Flatten(input_shape=(28,28)))\n",
    "m2.add(keras.layers.Dense(300,activation='relu'))\n",
    "m2.add(keras.layers.Dense(100,activation='relu'))\n",
    "m2.add(keras.layers.Dense(10,activation='softmax'))\n",
    "m2.summary()"
   ]
  },
  {
   "cell_type": "code",
   "execution_count": 19,
   "id": "e958144c",
   "metadata": {},
   "outputs": [
    {
     "name": "stdout",
     "output_type": "stream",
     "text": [
      "Epoch 1/20\n",
      "1500/1500 [==============================] - 4s 2ms/step - loss: 0.4971 - accuracy: 0.8228 - val_loss: 0.4174 - val_accuracy: 0.8504\n",
      "Epoch 2/20\n",
      "1500/1500 [==============================] - 3s 2ms/step - loss: 0.3709 - accuracy: 0.8630 - val_loss: 0.3519 - val_accuracy: 0.8767\n",
      "Epoch 3/20\n",
      "1500/1500 [==============================] - 3s 2ms/step - loss: 0.3327 - accuracy: 0.8765 - val_loss: 0.3442 - val_accuracy: 0.8743\n",
      "Epoch 4/20\n",
      "1500/1500 [==============================] - 3s 2ms/step - loss: 0.3082 - accuracy: 0.8857 - val_loss: 0.3429 - val_accuracy: 0.8747\n",
      "Epoch 5/20\n",
      "1500/1500 [==============================] - 3s 2ms/step - loss: 0.2874 - accuracy: 0.8927 - val_loss: 0.3543 - val_accuracy: 0.8673\n",
      "Epoch 6/20\n",
      "1500/1500 [==============================] - 3s 2ms/step - loss: 0.2724 - accuracy: 0.8976 - val_loss: 0.3324 - val_accuracy: 0.8808\n",
      "Epoch 7/20\n",
      "1500/1500 [==============================] - 3s 2ms/step - loss: 0.2590 - accuracy: 0.9020 - val_loss: 0.3571 - val_accuracy: 0.8758\n",
      "Epoch 8/20\n",
      "1500/1500 [==============================] - 3s 2ms/step - loss: 0.2479 - accuracy: 0.9070 - val_loss: 0.3088 - val_accuracy: 0.8897\n",
      "Epoch 9/20\n",
      "1500/1500 [==============================] - 3s 2ms/step - loss: 0.2386 - accuracy: 0.9085 - val_loss: 0.3201 - val_accuracy: 0.8867\n",
      "Epoch 10/20\n",
      "1500/1500 [==============================] - 3s 2ms/step - loss: 0.2266 - accuracy: 0.9133 - val_loss: 0.3456 - val_accuracy: 0.8888\n",
      "Epoch 11/20\n",
      "1500/1500 [==============================] - 3s 2ms/step - loss: 0.2208 - accuracy: 0.9157 - val_loss: 0.3250 - val_accuracy: 0.8886\n",
      "Epoch 12/20\n",
      "1500/1500 [==============================] - 3s 2ms/step - loss: 0.2116 - accuracy: 0.9198 - val_loss: 0.3286 - val_accuracy: 0.8927\n",
      "Epoch 13/20\n",
      "1500/1500 [==============================] - 3s 2ms/step - loss: 0.2047 - accuracy: 0.9224 - val_loss: 0.3253 - val_accuracy: 0.8907\n",
      "Epoch 14/20\n",
      "1500/1500 [==============================] - 3s 2ms/step - loss: 0.1967 - accuracy: 0.9259 - val_loss: 0.3237 - val_accuracy: 0.8946\n",
      "Epoch 15/20\n",
      "1500/1500 [==============================] - 3s 2ms/step - loss: 0.1877 - accuracy: 0.9283 - val_loss: 0.3292 - val_accuracy: 0.8923\n",
      "Epoch 16/20\n",
      "1500/1500 [==============================] - 3s 2ms/step - loss: 0.1842 - accuracy: 0.9277 - val_loss: 0.3488 - val_accuracy: 0.8919\n",
      "Epoch 17/20\n",
      "1500/1500 [==============================] - 3s 2ms/step - loss: 0.1773 - accuracy: 0.9326 - val_loss: 0.3451 - val_accuracy: 0.8922\n",
      "Epoch 18/20\n",
      "1500/1500 [==============================] - 3s 2ms/step - loss: 0.1711 - accuracy: 0.9343 - val_loss: 0.3445 - val_accuracy: 0.8967\n",
      "Epoch 19/20\n",
      "1500/1500 [==============================] - 3s 2ms/step - loss: 0.1654 - accuracy: 0.9364 - val_loss: 0.3515 - val_accuracy: 0.8939\n",
      "Epoch 20/20\n",
      "1500/1500 [==============================] - 3s 2ms/step - loss: 0.1634 - accuracy: 0.9380 - val_loss: 0.3512 - val_accuracy: 0.8926\n"
     ]
    }
   ],
   "source": [
    "m2.compile(optimizer='adam',loss='sparse_categorical_crossentropy',metrics='accuracy')\n",
    "history1=m2.fit(t_x,t_y,epochs=20,validation_data=(v_x,v_y))"
   ]
  },
  {
   "cell_type": "code",
   "execution_count": 20,
   "id": "9912f484",
   "metadata": {},
   "outputs": [
    {
     "data": {
      "text/plain": [
       "(0.0, 1.0)"
      ]
     },
     "execution_count": 20,
     "metadata": {},
     "output_type": "execute_result"
    },
    {
     "data": {
      "image/png": "[encoded data removed]",
      "text/plain": [
       "<Figure size 576x360 with 1 Axes>"
      ]
     },
     "metadata": {
      "needs_background": "light"
     },
     "output_type": "display_data"
    }
   ],
   "source": [
    "pd.DataFrame(history1.history).plot(figsize=(8,5))\n",
    "plt.gca().set_ylim(0,1)"
   ]
  },
  {
   "cell_type": "code",
   "execution_count": 21,
   "id": "0454665a",
   "metadata": {},
   "outputs": [
    {
     "name": "stdout",
     "output_type": "stream",
     "text": [
      "Model: \"sequential_4\"\n",
      "_________________________________________________________________\n",
      " Layer (type)                Output Shape              Param #   \n",
      "=================================================================\n",
      " flatten_4 (Flatten)         (None, 784)               0         \n",
      "                                                                 \n",
      " dense_6 (Dense)             (None, 300)               235500    \n",
      "                                                                 \n",
      " dense_7 (Dense)             (None, 100)               30100     \n",
      "                                                                 \n",
      " dense_8 (Dense)             (None, 10)                1010      \n",
      "                                                                 \n",
      "=================================================================\n",
      "Total params: 266,610\n",
      "Trainable params: 266,610\n",
      "Non-trainable params: 0\n",
      "_________________________________________________________________\n"
     ]
    }
   ],
   "source": [
    "m3 = keras.Sequential()\n",
    "m3.add(keras.layers.Flatten(input_shape=(28,28)))\n",
    "m3.add(keras.layers.Dense(300,activation='relu'))\n",
    "m3.add(keras.layers.Dense(100,activation='relu'))\n",
    "m3.add(keras.layers.Dense(10,activation='softmax'))\n",
    "m3.summary()"
   ]
  },
  {
   "cell_type": "code",
   "execution_count": 22,
   "id": "5c640d03",
   "metadata": {},
   "outputs": [
    {
     "name": "stdout",
     "output_type": "stream",
     "text": [
      "Epoch 1/20\n",
      "1500/1500 [==============================] - 3s 2ms/step - loss: 0.7532 - accuracy: 0.7501 - val_loss: 0.5462 - val_accuracy: 0.8125\n",
      "Epoch 2/20\n",
      "1500/1500 [==============================] - 3s 2ms/step - loss: 0.4965 - accuracy: 0.8277 - val_loss: 0.4958 - val_accuracy: 0.8254\n",
      "Epoch 3/20\n",
      "1500/1500 [==============================] - 3s 2ms/step - loss: 0.4505 - accuracy: 0.8414 - val_loss: 0.4613 - val_accuracy: 0.8353\n",
      "Epoch 4/20\n",
      "1500/1500 [==============================] - 3s 2ms/step - loss: 0.4213 - accuracy: 0.8504 - val_loss: 0.4123 - val_accuracy: 0.8563\n",
      "Epoch 5/20\n",
      "1500/1500 [==============================] - 3s 2ms/step - loss: 0.4022 - accuracy: 0.8575 - val_loss: 0.4145 - val_accuracy: 0.8554\n",
      "Epoch 6/20\n",
      "1500/1500 [==============================] - 3s 2ms/step - loss: 0.3861 - accuracy: 0.8643 - val_loss: 0.4034 - val_accuracy: 0.8562\n",
      "Epoch 7/20\n",
      "1500/1500 [==============================] - 3s 2ms/step - loss: 0.3726 - accuracy: 0.8671 - val_loss: 0.3932 - val_accuracy: 0.8628\n",
      "Epoch 8/20\n",
      "1500/1500 [==============================] - 3s 2ms/step - loss: 0.3605 - accuracy: 0.8718 - val_loss: 0.3742 - val_accuracy: 0.8703\n",
      "Epoch 9/20\n",
      "1500/1500 [==============================] - 3s 2ms/step - loss: 0.3509 - accuracy: 0.8743 - val_loss: 0.3742 - val_accuracy: 0.8682\n",
      "Epoch 10/20\n",
      "1500/1500 [==============================] - 3s 2ms/step - loss: 0.3403 - accuracy: 0.8789 - val_loss: 0.3594 - val_accuracy: 0.8723\n",
      "Epoch 11/20\n",
      "1500/1500 [==============================] - 3s 2ms/step - loss: 0.3330 - accuracy: 0.8811 - val_loss: 0.3537 - val_accuracy: 0.8757\n",
      "Epoch 12/20\n",
      "1500/1500 [==============================] - 3s 2ms/step - loss: 0.3244 - accuracy: 0.8830 - val_loss: 0.3472 - val_accuracy: 0.8774\n",
      "Epoch 13/20\n",
      "1500/1500 [==============================] - 3s 2ms/step - loss: 0.3184 - accuracy: 0.8860 - val_loss: 0.3485 - val_accuracy: 0.8761\n",
      "Epoch 14/20\n",
      "1500/1500 [==============================] - 3s 2ms/step - loss: 0.3104 - accuracy: 0.8885 - val_loss: 0.3625 - val_accuracy: 0.8717\n",
      "Epoch 15/20\n",
      "1500/1500 [==============================] - 3s 2ms/step - loss: 0.3039 - accuracy: 0.8899 - val_loss: 0.3383 - val_accuracy: 0.8787\n",
      "Epoch 16/20\n",
      "1500/1500 [==============================] - 3s 2ms/step - loss: 0.2986 - accuracy: 0.8923 - val_loss: 0.3384 - val_accuracy: 0.8803\n",
      "Epoch 17/20\n",
      "1500/1500 [==============================] - 3s 2ms/step - loss: 0.2920 - accuracy: 0.8947 - val_loss: 0.3433 - val_accuracy: 0.8770\n",
      "Epoch 18/20\n",
      "1500/1500 [==============================] - 3s 2ms/step - loss: 0.2864 - accuracy: 0.8968 - val_loss: 0.3317 - val_accuracy: 0.8813\n",
      "Epoch 19/20\n",
      "1500/1500 [==============================] - 3s 2ms/step - loss: 0.2807 - accuracy: 0.8994 - val_loss: 0.3296 - val_accuracy: 0.8811\n",
      "Epoch 20/20\n",
      "1500/1500 [==============================] - 3s 2ms/step - loss: 0.2765 - accuracy: 0.9012 - val_loss: 0.3317 - val_accuracy: 0.8817\n"
     ]
    }
   ],
   "source": [
    "m3.compile(optimizer='sgd',loss='sparse_categorical_crossentropy',metrics='accuracy')\n",
    "history2=m3.fit(t_x,t_y,epochs=20,validation_data=(v_x,v_y))"
   ]
  },
  {
   "cell_type": "code",
   "execution_count": 23,
   "id": "625081c4",
   "metadata": {},
   "outputs": [
    {
     "data": {
      "text/plain": [
       "(0.0, 1.0)"
      ]
     },
     "execution_count": 23,
     "metadata": {},
     "output_type": "execute_result"
    },
    {
     "data": {
      "image/png": "[encoded data removed]",
      "text/plain": [
       "<Figure size 576x360 with 1 Axes>"
      ]
     },
     "metadata": {
      "needs_background": "light"
     },
     "output_type": "display_data"
    }
   ],
   "source": [
    "pd.DataFrame(history2.history).plot(figsize=(8,5))\n",
    "plt.gca().set_ylim(0,1)"
   ]
  },
  {
   "cell_type": "code",
   "execution_count": 24,
   "id": "50f53088",
   "metadata": {},
   "outputs": [
    {
     "name": "stdout",
     "output_type": "stream",
     "text": [
      "313/313 [==============================] - 1s 2ms/step - loss: 0.3574 - accuracy: 0.8723\n"
     ]
    },
    {
     "data": {
      "text/plain": [
       "[0.3574104309082031, 0.8723000288009644]"
      ]
     },
     "execution_count": 24,
     "metadata": {},
     "output_type": "execute_result"
    }
   ],
   "source": [
    "m3.evaluate(s_tt_x,tt_y)"
   ]
  },
  {
   "cell_type": "code",
   "execution_count": 25,
   "id": "4b13f567",
   "metadata": {},
   "outputs": [
    {
     "name": "stdout",
     "output_type": "stream",
     "text": [
      "313/313 [==============================] - 1s 2ms/step - loss: 0.3870 - accuracy: 0.8890\n"
     ]
    },
    {
     "data": {
      "text/plain": [
       "[0.38698235154151917, 0.8889999985694885]"
      ]
     },
     "execution_count": 25,
     "metadata": {},
     "output_type": "execute_result"
    }
   ],
   "source": [
    "m2.evaluate(s_tt_x,tt_y)"
   ]
  },
  {
   "cell_type": "code",
   "execution_count": 26,
   "id": "e5b153ab",
   "metadata": {},
   "outputs": [
    {
     "name": "stdout",
     "output_type": "stream",
     "text": [
      "313/313 [==============================] - 1s 1ms/step - loss: 0.4676 - accuracy: 0.8834\n"
     ]
    },
    {
     "data": {
      "text/plain": [
       "[0.4676257371902466, 0.883400022983551]"
      ]
     },
     "execution_count": 26,
     "metadata": {},
     "output_type": "execute_result"
    }
   ],
   "source": [
    "m1.evaluate(s_tt_x,tt_y)"
   ]
  },
  {
   "cell_type": "code",
   "execution_count": null,
   "id": "2a25ff74",
   "metadata": {},
   "outputs": [],
   "source": []
  }
 ],
 "metadata": {
  "kernelspec": {
   "display_name": "Python 3 (ipykernel)",
   "language": "python",
   "name": "python3"
  },
  "language_info": {
   "codemirror_mode": {
    "name": "ipython",
    "version": 3
   },
   "file_extension": ".py",
   "mimetype": "text/x-python",
   "name": "python",
   "nbconvert_exporter": "python",
   "pygments_lexer": "ipython3",
   "version": "3.9.7"
  }
 },
 "nbformat": 4,
 "nbformat_minor": 5
}
