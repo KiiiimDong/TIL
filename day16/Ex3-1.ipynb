{
 "cells": [
  {
   "cell_type": "code",
   "execution_count": 1,
   "id": "1d8d4fe1",
   "metadata": {},
   "outputs": [
    {
     "data": {
      "text/plain": [
       "((4, 3), (3, 6), (4, 6), (6, 1), (4, 1))"
      ]
     },
     "execution_count": 1,
     "metadata": {},
     "output_type": "execute_result"
    }
   ],
   "source": [
    "import numpy as np\n",
    "def actf(x):\n",
    "    return 1/(1+np.exp(-x))\n",
    "def d_actf(x):\n",
    "    return x*(1-x) # 수학적으로 걍 미분해보면 된다.\n",
    "X = np.array([[0,0,1],[0,1,1],[1,0,1],[1,1,1]])\n",
    "y = np.array([[0],[1],[1],[0]])\n",
    "in_n = 3 \n",
    "h_n = 6 \n",
    "out_n = 1 \n",
    "np.random.seed(5)\n",
    "#-1~1\n",
    "w0 = 2*np.random.random((in_n,h_n)) -1 \n",
    "w1 = 2*np.random.random((h_n,out_n)) -1\n",
    "X.shape,w0.shape, X.dot(w0).shape , w1.shape, X.dot(w0).dot(w1).shape"
   ]
  },
  {
   "cell_type": "code",
   "execution_count": 6,
   "id": "fad16d07",
   "metadata": {},
   "outputs": [
    {
     "data": {
      "text/plain": [
       "((4, 1), (1, 6), (4, 6))"
      ]
     },
     "execution_count": 6,
     "metadata": {},
     "output_type": "execute_result"
    }
   ],
   "source": [
    "end = X.dot(w0).dot(w1)\n",
    "(end-y).shape , w1.T.shape, (end-y).dot(w1.T).shape"
   ]
  }
 ],
 "metadata": {
  "kernelspec": {
   "display_name": "Python 3 (ipykernel)",
   "language": "python",
   "name": "python3"
  },
  "language_info": {
   "codemirror_mode": {
    "name": "ipython",
    "version": 3
   },
   "file_extension": ".py",
   "mimetype": "text/x-python",
   "name": "python",
   "nbconvert_exporter": "python",
   "pygments_lexer": "ipython3",
   "version": "3.9.7"
  }
 },
 "nbformat": 4,
 "nbformat_minor": 5
}
