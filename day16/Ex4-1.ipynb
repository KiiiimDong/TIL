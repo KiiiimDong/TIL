{
 "cells": [
  {
   "cell_type": "code",
   "execution_count": 1,
   "id": "d9db4f01",
   "metadata": {},
   "outputs": [],
   "source": [
    "from tensorflow import keras\n",
    "import numpy as np"
   ]
  },
  {
   "cell_type": "code",
   "execution_count": 2,
   "id": "67be4895",
   "metadata": {},
   "outputs": [],
   "source": [
    "(t_x,t_y),(tt_x,tt_y) = keras.datasets.fashion_mnist.load_data()"
   ]
  },
  {
   "cell_type": "code",
   "execution_count": 3,
   "id": "1a5cc809",
   "metadata": {},
   "outputs": [
    {
     "data": {
      "text/plain": [
       "(60000, 28, 28)"
      ]
     },
     "execution_count": 3,
     "metadata": {},
     "output_type": "execute_result"
    }
   ],
   "source": [
    "t_x.shape"
   ]
  },
  {
   "cell_type": "code",
   "execution_count": 4,
   "id": "0a77d028",
   "metadata": {},
   "outputs": [
    {
     "data": {
      "text/plain": [
       "(60000, 784)"
      ]
     },
     "execution_count": 4,
     "metadata": {},
     "output_type": "execute_result"
    }
   ],
   "source": [
    "s_t_x = t_x/255.0\n",
    "s_t_x = s_t_x.reshape(-1,28*28)\n",
    "s_t_x.shape"
   ]
  },
  {
   "cell_type": "code",
   "execution_count": 5,
   "id": "d5ae5079",
   "metadata": {},
   "outputs": [
    {
     "name": "stderr",
     "output_type": "stream",
     "text": [
      "C:\\ProgramData\\Anaconda3\\lib\\site-packages\\sklearn\\linear_model\\_stochastic_gradient.py:574: ConvergenceWarning: Maximum number of iteration reached before convergence. Consider increasing max_iter to improve the fit.\n",
      "  warnings.warn(\"Maximum number of iteration reached before \"\n",
      "C:\\ProgramData\\Anaconda3\\lib\\site-packages\\sklearn\\linear_model\\_stochastic_gradient.py:574: ConvergenceWarning: Maximum number of iteration reached before convergence. Consider increasing max_iter to improve the fit.\n",
      "  warnings.warn(\"Maximum number of iteration reached before \"\n",
      "C:\\ProgramData\\Anaconda3\\lib\\site-packages\\sklearn\\linear_model\\_stochastic_gradient.py:574: ConvergenceWarning: Maximum number of iteration reached before convergence. Consider increasing max_iter to improve the fit.\n",
      "  warnings.warn(\"Maximum number of iteration reached before \"\n",
      "C:\\ProgramData\\Anaconda3\\lib\\site-packages\\sklearn\\linear_model\\_stochastic_gradient.py:574: ConvergenceWarning: Maximum number of iteration reached before convergence. Consider increasing max_iter to improve the fit.\n",
      "  warnings.warn(\"Maximum number of iteration reached before \"\n",
      "C:\\ProgramData\\Anaconda3\\lib\\site-packages\\sklearn\\linear_model\\_stochastic_gradient.py:574: ConvergenceWarning: Maximum number of iteration reached before convergence. Consider increasing max_iter to improve the fit.\n",
      "  warnings.warn(\"Maximum number of iteration reached before \"\n"
     ]
    },
    {
     "data": {
      "text/plain": [
       "0.8192833333333333"
      ]
     },
     "execution_count": 5,
     "metadata": {},
     "output_type": "execute_result"
    }
   ],
   "source": [
    "from sklearn.linear_model import SGDClassifier\n",
    "from sklearn.model_selection import cross_validate\n",
    "sc = SGDClassifier(loss='log',max_iter=5,random_state=42)\n",
    "scr = cross_validate(sc, s_t_x, t_y)\n",
    "np.mean(scr['test_score'])"
   ]
  },
  {
   "cell_type": "code",
   "execution_count": 6,
   "id": "f01e12e1",
   "metadata": {},
   "outputs": [],
   "source": [
    "import tensorflow as tf"
   ]
  },
  {
   "cell_type": "code",
   "execution_count": 7,
   "id": "36eaefcd",
   "metadata": {},
   "outputs": [
    {
     "data": {
      "text/plain": [
       "(48000,)"
      ]
     },
     "execution_count": 7,
     "metadata": {},
     "output_type": "execute_result"
    }
   ],
   "source": [
    "from sklearn.model_selection import train_test_split\n",
    "t_x,v_x,t_y,v_y = train_test_split(s_t_x,t_y,test_size=0.2,random_state=42)\n",
    "t_y.shape"
   ]
  },
  {
   "cell_type": "code",
   "execution_count": 8,
   "id": "efd302ce",
   "metadata": {},
   "outputs": [],
   "source": [
    "dense = keras.layers.Dense(10,activation='softmax',input_shape=(784,))"
   ]
  },
  {
   "cell_type": "code",
   "execution_count": 9,
   "id": "73433bbe",
   "metadata": {},
   "outputs": [],
   "source": [
    "model = keras.Sequential(dense)\n",
    "model.compile(loss='sparse_categorical_crossentropy',metrics='accuracy') # 다중분류 loss값 sparse는 정수"
   ]
  },
  {
   "cell_type": "code",
   "execution_count": 13,
   "id": "76590596",
   "metadata": {},
   "outputs": [
    {
     "name": "stdout",
     "output_type": "stream",
     "text": [
      "Epoch 1/10\n",
      "1500/1500 [==============================] - 1s 719us/step - loss: 0.4327 - accuracy: 0.8570\n",
      "Epoch 2/10\n",
      "1500/1500 [==============================] - 1s 711us/step - loss: 0.4273 - accuracy: 0.8590\n",
      "Epoch 3/10\n",
      "1500/1500 [==============================] - 1s 728us/step - loss: 0.4242 - accuracy: 0.8602\n",
      "Epoch 4/10\n",
      "1500/1500 [==============================] - 1s 747us/step - loss: 0.4214 - accuracy: 0.8615\n",
      "Epoch 5/10\n",
      "1500/1500 [==============================] - 1s 747us/step - loss: 0.4198 - accuracy: 0.8625\n",
      "Epoch 6/10\n",
      "1500/1500 [==============================] - 1s 742us/step - loss: 0.4184 - accuracy: 0.8624\n",
      "Epoch 7/10\n",
      "1500/1500 [==============================] - 1s 718us/step - loss: 0.4161 - accuracy: 0.8642\n",
      "Epoch 8/10\n",
      "1500/1500 [==============================] - 1s 707us/step - loss: 0.4155 - accuracy: 0.8633\n",
      "Epoch 9/10\n",
      "1500/1500 [==============================] - 1s 719us/step - loss: 0.4142 - accuracy: 0.8656\n",
      "Epoch 10/10\n",
      "1500/1500 [==============================] - 1s 706us/step - loss: 0.4131 - accuracy: 0.8658\n"
     ]
    },
    {
     "data": {
      "text/plain": [
       "<keras.callbacks.History at 0x156939d5c70>"
      ]
     },
     "execution_count": 13,
     "metadata": {},
     "output_type": "execute_result"
    }
   ],
   "source": [
    "model.fit(t_x,t_y,epochs=10)"
   ]
  },
  {
   "cell_type": "code",
   "execution_count": 14,
   "id": "383411e7",
   "metadata": {},
   "outputs": [
    {
     "name": "stdout",
     "output_type": "stream",
     "text": [
      "375/375 [==============================] - 0s 589us/step - loss: 0.4552 - accuracy: 0.8500\n"
     ]
    },
    {
     "data": {
      "text/plain": [
       "[0.45518046617507935, 0.8500000238418579]"
      ]
     },
     "execution_count": 14,
     "metadata": {},
     "output_type": "execute_result"
    }
   ],
   "source": [
    "model.evaluate(v_x,v_y)"
   ]
  },
  {
   "cell_type": "code",
   "execution_count": null,
   "id": "b49d0676",
   "metadata": {},
   "outputs": [],
   "source": []
  }
 ],
 "metadata": {
  "kernelspec": {
   "display_name": "Python 3 (ipykernel)",
   "language": "python",
   "name": "python3"
  },
  "language_info": {
   "codemirror_mode": {
    "name": "ipython",
    "version": 3
   },
   "file_extension": ".py",
   "mimetype": "text/x-python",
   "name": "python",
   "nbconvert_exporter": "python",
   "pygments_lexer": "ipython3",
   "version": "3.9.7"
  }
 },
 "nbformat": 4,
 "nbformat_minor": 5
}
