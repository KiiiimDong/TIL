{
 "cells": [
  {
   "cell_type": "code",
   "execution_count": 1,
   "id": "9d14a31a",
   "metadata": {},
   "outputs": [
    {
     "data": {
      "text/plain": [
       "array([0, 0, 0, 1])"
      ]
     },
     "execution_count": 1,
     "metadata": {},
     "output_type": "execute_result"
    }
   ],
   "source": [
    "from sklearn.linear_model import Perceptron\n",
    "X = [[0,0],[0,1],[1,0],[1,1]]\n",
    "y = [0,0,0,1]\n",
    "p = Perceptron(tol=1e-3, random_state=10)\n",
    "p.fit(X,y)\n",
    "p.predict(X)"
   ]
  },
  {
   "cell_type": "code",
   "execution_count": 2,
   "id": "ada1767a",
   "metadata": {},
   "outputs": [],
   "source": [
    "# y = wx+b\n",
    "# 뉴런의 계단 함수\n",
    "def n_f(in_data):\n",
    "    global w\n",
    "    global b\n",
    "    at_f = b\n",
    "    for i in range(2):\n",
    "        at_f += w[i]*in_data[i]\n",
    "    if at_f >= 0.0:\n",
    "        return 1\n",
    "    else:\n",
    "        return 0"
   ]
  },
  {
   "cell_type": "code",
   "execution_count": 3,
   "id": "cb77a8c0",
   "metadata": {},
   "outputs": [
    {
     "data": {
      "text/plain": [
       "(1, 1, 1, 1)"
      ]
     },
     "execution_count": 3,
     "metadata": {},
     "output_type": "execute_result"
    }
   ],
   "source": [
    "X = [[0,0],[0,1],[1,0],[1,1]]\n",
    "y = [0,0,0,1]\n",
    "w = [0,0,0,0] # 가중치\n",
    "b = 0.0 \n",
    "n_f(X[0]),n_f(X[1]),n_f(X[2]),n_f(X[3])"
   ]
  },
  {
   "cell_type": "code",
   "execution_count": 4,
   "id": "4fdc4cab",
   "metadata": {},
   "outputs": [
    {
     "name": "stdout",
     "output_type": "stream",
     "text": [
      "[0.0, 0.0, 0, 0] -0.1\n",
      "[0.0, 0.1, 0, 0] 0.0\n",
      "[0.0, 0.1, 0, 0] 0.0\n",
      "[0.0, 0.1, 0, 0] 0.0\n",
      "에포크=0 학습률=0.1 에러=2.0\n",
      "[0.0, 0.1, 0, 0] -0.1\n",
      "[0.0, 0.1, 0, 0] -0.1\n",
      "[0.1, 0.1, 0, 0] 0.0\n",
      "[0.1, 0.1, 0, 0] 0.0\n",
      "에포크=1 학습률=0.1 에러=2.0\n",
      "[0.1, 0.1, 0, 0] -0.1\n",
      "[0.1, 0.1, 0, 0] -0.1\n",
      "[0.1, 0.1, 0, 0] -0.1\n",
      "[0.1, 0.1, 0, 0] -0.1\n",
      "에포크=2 학습률=0.1 에러=1.0\n",
      "[0.1, 0.1, 0, 0] -0.1\n",
      "[0.1, 0.1, 0, 0] -0.1\n",
      "[0.1, 0.1, 0, 0] -0.1\n",
      "[0.1, 0.1, 0, 0] -0.1\n",
      "에포크=3 학습률=0.1 에러=0.0\n",
      "[0.1, 0.1, 0, 0] -0.1\n",
      "[0.1, 0.1, 0, 0] -0.1\n",
      "[0.1, 0.1, 0, 0] -0.1\n",
      "[0.1, 0.1, 0, 0] -0.1\n",
      "에포크=4 학습률=0.1 에러=0.0\n"
     ]
    }
   ],
   "source": [
    "def t_f(X,y,l_r,epch):\n",
    "    global w\n",
    "    global b\n",
    "    for en in range(epch):\n",
    "        sum_e = 0.0\n",
    "        for r,t in zip(X,y):\n",
    "            at = n_f(r) # 예측값\n",
    "            err = t - at # 오차계산\n",
    "            b = b + l_r*err\n",
    "            sum_e += err**2\n",
    "            for i in range(2):\n",
    "                w[i] = w[i]+l_r*err*r[i]\n",
    "            print(w,b)\n",
    "        print(f'에포크={en} 학습률={l_r} 에러={sum_e}')\n",
    "    return w\n",
    "# data준비\n",
    "X = [[0,0],[0,1],[1,0],[1,1]]\n",
    "y = [0,1,1,1] # 0 1 1 1 은 or gate\n",
    "w = [0,0,0,0] # 가중치\n",
    "b = 0.0 # 임계값(w0)\n",
    "l_r = 0.1 # 학습률\n",
    "e = 5 # 반복수\n",
    "w = t_f(X,y,l_r,e)\n"
   ]
  },
  {
   "cell_type": "code",
   "execution_count": 5,
   "id": "de166aaa",
   "metadata": {},
   "outputs": [
    {
     "data": {
      "text/plain": [
       "(0, 1, 1, 1)"
      ]
     },
     "execution_count": 5,
     "metadata": {},
     "output_type": "execute_result"
    }
   ],
   "source": [
    "# y = w0x0+w1x1+b\n",
    "# y = 0.2*0+0.1*1+0.20000000000000004\n",
    "n_f(X[0]),n_f(X[1]),n_f(X[2]),n_f(X[3])"
   ]
  },
  {
   "cell_type": "code",
   "execution_count": 6,
   "id": "2c33a928",
   "metadata": {},
   "outputs": [],
   "source": [
    "X = [[0,0],[0,1],[1,0],[1,1]]"
   ]
  },
  {
   "cell_type": "code",
   "execution_count": 7,
   "id": "89c081dd",
   "metadata": {},
   "outputs": [],
   "source": [
    "def AND(X):\n",
    "    and_w = [0.2, 0.1]\n",
    "    and_b = -0.20000000000000004\n",
    "    at_f = and_b\n",
    "    for i in range(2):\n",
    "        at_f += and_w[i]*X[i]\n",
    "    if at_f >= 0.0:\n",
    "        return 1\n",
    "    else:\n",
    "        return 0"
   ]
  },
  {
   "cell_type": "code",
   "execution_count": 8,
   "id": "81c3ca79",
   "metadata": {},
   "outputs": [
    {
     "data": {
      "text/plain": [
       "(0, 0, 0, 1)"
      ]
     },
     "execution_count": 8,
     "metadata": {},
     "output_type": "execute_result"
    }
   ],
   "source": [
    "AND(X[0]),AND(X[1]),AND(X[2]),AND(X[3])"
   ]
  },
  {
   "cell_type": "code",
   "execution_count": 9,
   "id": "6fb6023f",
   "metadata": {},
   "outputs": [],
   "source": [
    "def OR(X):\n",
    "    or_w = [0.1, 0.1]\n",
    "    or_b =-0.1\n",
    "    at_f = or_b\n",
    "    for i in range(2):\n",
    "        at_f += or_w[i]*X[i]\n",
    "    if at_f >= 0.0:\n",
    "        return 1\n",
    "    else:\n",
    "        return 0"
   ]
  },
  {
   "cell_type": "code",
   "execution_count": 10,
   "id": "2dac9d17",
   "metadata": {},
   "outputs": [
    {
     "data": {
      "text/plain": [
       "(0, 1, 1, 1)"
      ]
     },
     "execution_count": 10,
     "metadata": {},
     "output_type": "execute_result"
    }
   ],
   "source": [
    "OR(X[0]),OR(X[1]),OR(X[2]),OR(X[3])"
   ]
  },
  {
   "cell_type": "code",
   "execution_count": 11,
   "id": "e6403921",
   "metadata": {},
   "outputs": [
    {
     "data": {
      "text/plain": [
       "(0, 1, 1, 0)"
      ]
     },
     "execution_count": 11,
     "metadata": {},
     "output_type": "execute_result"
    }
   ],
   "source": [
    "def XOR(X):\n",
    "    o_1 = not AND(X)    \n",
    "    o_2 = OR(X)\n",
    "    return AND([o_1,o_2])\n",
    "\n",
    "XOR(X[0]),XOR(X[1]),XOR(X[2]),XOR(X[3])"
   ]
  },
  {
   "cell_type": "code",
   "execution_count": null,
   "id": "ce6c4e87",
   "metadata": {},
   "outputs": [],
   "source": []
  }
 ],
 "metadata": {
  "kernelspec": {
   "display_name": "Python 3 (ipykernel)",
   "language": "python",
   "name": "python3"
  },
  "language_info": {
   "codemirror_mode": {
    "name": "ipython",
    "version": 3
   },
   "file_extension": ".py",
   "mimetype": "text/x-python",
   "name": "python",
   "nbconvert_exporter": "python",
   "pygments_lexer": "ipython3",
   "version": "3.9.7"
  }
 },
 "nbformat": 4,
 "nbformat_minor": 5
}
