{
 "cells": [
  {
   "cell_type": "markdown",
   "id": "35a76014",
   "metadata": {},
   "source": [
    "## 벡터와 행렬연산(텐서)"
   ]
  },
  {
   "cell_type": "code",
   "execution_count": 1,
   "id": "f736d0f6",
   "metadata": {},
   "outputs": [],
   "source": [
    "import numpy as np"
   ]
  },
  {
   "cell_type": "code",
   "execution_count": 2,
   "id": "914ea915",
   "metadata": {},
   "outputs": [
    {
     "name": "stdout",
     "output_type": "stream",
     "text": [
      "5\n",
      "텐서의 차원 : 0\n",
      "텐서의 크기(shape) : ()\n"
     ]
    }
   ],
   "source": [
    "d = np.array(5)\n",
    "print(d)\n",
    "print('텐서의 차원 :',d.ndim)\n",
    "print('텐서의 크기(shape) :',d.shape)"
   ]
  },
  {
   "cell_type": "code",
   "execution_count": 3,
   "id": "261b4a0f",
   "metadata": {},
   "outputs": [
    {
     "name": "stdout",
     "output_type": "stream",
     "text": [
      "[1 2 3 4]\n",
      "텐서의 차원 : 1\n",
      "텐서의 크기(shape) : (4,)\n"
     ]
    }
   ],
   "source": [
    "d = np.array([1, 2, 3, 4])\n",
    "print(d)\n",
    "print('텐서의 차원 :',d.ndim)\n",
    "print('텐서의 크기(shape) :',d.shape)"
   ]
  },
  {
   "cell_type": "code",
   "execution_count": 4,
   "id": "385020a1",
   "metadata": {},
   "outputs": [
    {
     "name": "stdout",
     "output_type": "stream",
     "text": [
      "[[ 1  2  3  4]\n",
      " [ 5  6  7  8]\n",
      " [ 9 10 11 12]]\n",
      "텐서의 차원 : 2\n",
      "텐서의 크기(shape) : (3, 4)\n"
     ]
    }
   ],
   "source": [
    "# 3행 4열의 행렬\n",
    "d = np.array([[1, 2, 3, 4], [5, 6, 7, 8], [9, 10, 11, 12]])\n",
    "print(d)\n",
    "print('텐서의 차원 :',d.ndim)\n",
    "print('텐서의 크기(shape) :',d.shape)"
   ]
  },
  {
   "cell_type": "code",
   "execution_count": 5,
   "id": "d8b88179",
   "metadata": {},
   "outputs": [
    {
     "name": "stdout",
     "output_type": "stream",
     "text": [
      "[[[ 1  2  3  4  5]\n",
      "  [ 6  7  8  9 10]\n",
      "  [10 11 12 13 14]]\n",
      "\n",
      " [[15 16 17 18 19]\n",
      "  [19 20 21 22 23]\n",
      "  [23 24 25 26 27]]]\n",
      "텐서의 차원 : 3\n",
      "텐서의 크기(shape) : (2, 3, 5)\n"
     ]
    }
   ],
   "source": [
    "d = np.array([\n",
    "            [[1, 2, 3, 4, 5], [6, 7, 8, 9, 10], [10, 11, 12, 13, 14]],\n",
    "            [[15, 16, 17, 18, 19], [19, 20, 21, 22, 23], [23, 24, 25, 26, 27]]\n",
    "            ])\n",
    "print(d)\n",
    "print('텐서의 차원 :',d.ndim)\n",
    "print('텐서의 크기(shape) :',d.shape)\n",
    "# 3,5인 행렬이 두개가 모였다로 해석해도 된다."
   ]
  },
  {
   "cell_type": "markdown",
   "id": "7bd63cb5",
   "metadata": {},
   "source": [
    "## 행렬의 내적 (dot product)"
   ]
  },
  {
   "cell_type": "code",
   "execution_count": 7,
   "id": "44780a21",
   "metadata": {},
   "outputs": [
    {
     "name": "stdout",
     "output_type": "stream",
     "text": [
      "두 행렬의 행렬곱 :\n",
      "[[23 31]\n",
      " [34 46]]\n"
     ]
    }
   ],
   "source": [
    "A = np.array([[1, 3],[2, 4]])\n",
    "B = np.array([[5, 7],[6, 8]])\n",
    "print('두 행렬의 행렬곱 :')\n",
    "print(np.matmul(A, B))"
   ]
  },
  {
   "cell_type": "code",
   "execution_count": null,
   "id": "400fd23a",
   "metadata": {},
   "outputs": [],
   "source": []
  }
 ],
 "metadata": {
  "kernelspec": {
   "display_name": "Python 3 (ipykernel)",
   "language": "python",
   "name": "python3"
  },
  "language_info": {
   "codemirror_mode": {
    "name": "ipython",
    "version": 3
   },
   "file_extension": ".py",
   "mimetype": "text/x-python",
   "name": "python",
   "nbconvert_exporter": "python",
   "pygments_lexer": "ipython3",
   "version": "3.9.7"
  }
 },
 "nbformat": 4,
 "nbformat_minor": 5
}
